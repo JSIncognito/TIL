{
 "cells": [
  {
   "cell_type": "markdown",
   "id": "88c5809e",
   "metadata": {},
   "source": [
    "...\n",
    "\n",
    "for 영화제목 in [\"본영화\", ]:\n",
    "    if 영화제목 in 영화목록 :\n",
    "...        "
   ]
  },
  {
   "cell_type": "code",
   "execution_count": 1,
   "id": "f09a7714",
   "metadata": {},
   "outputs": [],
   "source": [
    "# function 함수 \n",
    "\n",
    "# \"hello\" -> 메모리 -> cpu연산 -> 출력장치 -> 출력 \n",
    "# 함수는 반복적인 코드를 함수로 정의함으로서 다양한 장점이 있음 (실수 줄임, 코드 짧아짐, 개발시간 단축... 재사용)"
   ]
  },
  {
   "cell_type": "code",
   "execution_count": 2,
   "id": "4483fd64",
   "metadata": {},
   "outputs": [],
   "source": [
    "# 함수 실행 (호출) : 함수명 ()\n",
    "# 함수 정의 : \n",
    "# def 함수명(): #들여쓰기 수준이 같아야 함. \n",
    "#     수행할 코드1\n",
    "#     수행할 코드2\n",
    "#     ... \n",
    "#     수행할 코드 n\n",
    "\n"
   ]
  },
  {
   "cell_type": "code",
   "execution_count": 3,
   "id": "cc9659c0",
   "metadata": {},
   "outputs": [],
   "source": [
    "# 함수 정의\n",
    "def hello(): # def getValue():\n",
    "    print(\"hello world\")"
   ]
  },
  {
   "cell_type": "code",
   "execution_count": 6,
   "id": "17a9c616",
   "metadata": {},
   "outputs": [
    {
     "name": "stdout",
     "output_type": "stream",
     "text": [
      "hello world\n",
      "None\n"
     ]
    }
   ],
   "source": [
    "# 함수 실행 (호출)\n",
    "print(hello())"
   ]
  },
  {
   "cell_type": "code",
   "execution_count": 9,
   "id": "4543e14a",
   "metadata": {},
   "outputs": [
    {
     "name": "stdout",
     "output_type": "stream",
     "text": [
      "hello world\n"
     ]
    }
   ],
   "source": [
    "hello2()"
   ]
  },
  {
   "cell_type": "code",
   "execution_count": 10,
   "id": "c0dd91ea",
   "metadata": {},
   "outputs": [],
   "source": [
    "# 함수 정의\n",
    "def hello2(): # def getValue():\n",
    "    print(\"hello world\")"
   ]
  },
  {
   "cell_type": "code",
   "execution_count": 11,
   "id": "22f6535d",
   "metadata": {},
   "outputs": [],
   "source": [
    "def hello3():\n",
    "    # 아직 구현할 코드를 작성하지 못한 상태 \n",
    "    pass # 일단 넘어가 (나중에 작성할께)"
   ]
  },
  {
   "cell_type": "code",
   "execution_count": 12,
   "id": "837b3cb4",
   "metadata": {},
   "outputs": [
    {
     "name": "stdout",
     "output_type": "stream",
     "text": [
      "\n",
      "안녕\n"
     ]
    }
   ],
   "source": [
    "print()\n",
    "print(\"안녕\") #인수 (argument)"
   ]
  },
  {
   "cell_type": "code",
   "execution_count": 13,
   "id": "2095a574",
   "metadata": {},
   "outputs": [
    {
     "ename": "SyntaxError",
     "evalue": "unexpected EOF while parsing (<ipython-input-13-b0e616864c3f>, line 4)",
     "output_type": "error",
     "traceback": [
      "\u001b[1;36m  File \u001b[1;32m\"<ipython-input-13-b0e616864c3f>\"\u001b[1;36m, line \u001b[1;32m4\u001b[0m\n\u001b[1;33m    #\u001b[0m\n\u001b[1;37m     ^\u001b[0m\n\u001b[1;31mSyntaxError\u001b[0m\u001b[1;31m:\u001b[0m unexpected EOF while parsing\n"
     ]
    }
   ],
   "source": [
    "def print(msg): # 매개변수(parameter)\n",
    "    #\n",
    "    #\n",
    "    #"
   ]
  },
  {
   "cell_type": "code",
   "execution_count": 14,
   "id": "80c3cbdb",
   "metadata": {},
   "outputs": [],
   "source": [
    "def add(x, y):\n",
    "    print(x+y)"
   ]
  },
  {
   "cell_type": "code",
   "execution_count": 15,
   "id": "43449a00",
   "metadata": {},
   "outputs": [
    {
     "name": "stdout",
     "output_type": "stream",
     "text": [
      "3\n"
     ]
    }
   ],
   "source": [
    "add(1, 2) # (실)인수"
   ]
  },
  {
   "cell_type": "code",
   "execution_count": 16,
   "id": "0a1360ce",
   "metadata": {},
   "outputs": [],
   "source": [
    "def calc(x, y, op):\n",
    "    print(x+y)\n",
    "    "
   ]
  },
  {
   "cell_type": "code",
   "execution_count": 18,
   "id": "fd1e6c61",
   "metadata": {},
   "outputs": [
    {
     "ename": "NameError",
     "evalue": "name 'cal' is not defined",
     "output_type": "error",
     "traceback": [
      "\u001b[1;31m---------------------------------------------------------------------------\u001b[0m",
      "\u001b[1;31mNameError\u001b[0m                                 Traceback (most recent call last)",
      "\u001b[1;32m<ipython-input-18-e3c0fa955ba7>\u001b[0m in \u001b[0;36m<module>\u001b[1;34m\u001b[0m\n\u001b[1;32m----> 1\u001b[1;33m \u001b[0mcal\u001b[0m\u001b[1;33m(\u001b[0m\u001b[0ma\u001b[0m\u001b[1;33m,\u001b[0m\u001b[0my\u001b[0m\u001b[1;33m,\u001b[0m\u001b[0mop\u001b[0m\u001b[1;33m)\u001b[0m\u001b[1;33m\u001b[0m\u001b[1;33m\u001b[0m\u001b[0m\n\u001b[0m",
      "\u001b[1;31mNameError\u001b[0m: name 'cal' is not defined"
     ]
    }
   ],
   "source": [
    "cal(a,y,op)"
   ]
  },
  {
   "cell_type": "code",
   "execution_count": 20,
   "id": "ee22c150",
   "metadata": {},
   "outputs": [
    {
     "ename": "SyntaxError",
     "evalue": "invalid syntax (<ipython-input-20-4cfa5fbde568>, line 1)",
     "output_type": "error",
     "traceback": [
      "\u001b[1;36m  File \u001b[1;32m\"<ipython-input-20-4cfa5fbde568>\"\u001b[1;36m, line \u001b[1;32m1\u001b[0m\n\u001b[1;33m    사용 방법 => help (함수명)\u001b[0m\n\u001b[1;37m       ^\u001b[0m\n\u001b[1;31mSyntaxError\u001b[0m\u001b[1;31m:\u001b[0m invalid syntax\n"
     ]
    }
   ],
   "source": [
    "사용 방법 => help (함수명) \n"
   ]
  },
  {
   "cell_type": "code",
   "execution_count": 24,
   "id": "36c5ea02",
   "metadata": {},
   "outputs": [
    {
     "name": "stdout",
     "output_type": "stream",
     "text": [
      "30\n"
     ]
    }
   ],
   "source": [
    "print(add(10,20))\n"
   ]
  },
  {
   "cell_type": "code",
   "execution_count": null,
   "id": "150cc4ea",
   "metadata": {},
   "outputs": [],
   "source": []
  },
  {
   "cell_type": "code",
   "execution_count": 25,
   "id": "1725f7fe",
   "metadata": {},
   "outputs": [],
   "source": [
    "def add(x, y):\n",
    "    return x+y\n"
   ]
  },
  {
   "cell_type": "code",
   "execution_count": 40,
   "id": "f3457785",
   "metadata": {},
   "outputs": [
    {
     "name": "stdout",
     "output_type": "stream",
     "text": [
      "3\n",
      "-1\n",
      "6\n",
      "5.0\n"
     ]
    }
   ],
   "source": [
    "def calc(x, y, op):\n",
    "#     구현\n",
    "    if op == '+':\n",
    "        result = x + y\n",
    "    elif op == '-':\n",
    "        result = x - y\n",
    "    elif op == '*':\n",
    "        result = x * y\n",
    "    elif op == '/':\n",
    "        result = x/y\n",
    "    return result\n",
    "\n",
    "print(calc(1, 2, \"+\"))\n",
    "print(calc(1, 2, \"-\"))\n",
    "print(calc(3, 2, \"*\"))\n",
    "print(calc(10, 2, \"/\"))\n"
   ]
  },
  {
   "cell_type": "code",
   "execution_count": 51,
   "id": "6925b90d",
   "metadata": {},
   "outputs": [
    {
     "name": "stdout",
     "output_type": "stream",
     "text": [
      "3\n"
     ]
    }
   ],
   "source": [
    "def calc(a,b,operater):\n",
    "    return eval(str(a) + operater + str(b)) # eval (\"1+2\")\n",
    "print(calc(1,2, \"+\"))"
   ]
  },
  {
   "cell_type": "code",
   "execution_count": 55,
   "id": "65a1e7c3",
   "metadata": {},
   "outputs": [
    {
     "ename": "SyntaxError",
     "evalue": "invalid syntax (<ipython-input-55-abe5af17e107>, line 2)",
     "output_type": "error",
     "traceback": [
      "\u001b[1;36m  File \u001b[1;32m\"<ipython-input-55-abe5af17e107>\"\u001b[1;36m, line \u001b[1;32m2\u001b[0m\n\u001b[1;33m    def test (x+y):\u001b[0m\n\u001b[1;37m               ^\u001b[0m\n\u001b[1;31mSyntaxError\u001b[0m\u001b[1;31m:\u001b[0m invalid syntax\n"
     ]
    }
   ],
   "source": [
    "\n",
    "## 함수 \n",
    "def test (x+y):\n",
    "    return x + y"
   ]
  },
  {
   "cell_type": "code",
   "execution_count": 53,
   "id": "58f93887",
   "metadata": {},
   "outputs": [
    {
     "ename": "NameError",
     "evalue": "name 'test' is not defined",
     "output_type": "error",
     "traceback": [
      "\u001b[1;31m---------------------------------------------------------------------------\u001b[0m",
      "\u001b[1;31mNameError\u001b[0m                                 Traceback (most recent call last)",
      "\u001b[1;32m<ipython-input-53-ec90a74b9557>\u001b[0m in \u001b[0;36m<module>\u001b[1;34m\u001b[0m\n\u001b[1;32m----> 1\u001b[1;33m \u001b[0mres\u001b[0m \u001b[1;33m=\u001b[0m \u001b[0mtest\u001b[0m\u001b[1;33m(\u001b[0m\u001b[0my\u001b[0m\u001b[1;33m=\u001b[0m\u001b[1;36m2\u001b[0m\u001b[1;33m,\u001b[0m \u001b[0mx\u001b[0m\u001b[1;33m=\u001b[0m\u001b[1;36m5\u001b[0m\u001b[1;33m)\u001b[0m\u001b[1;33m\u001b[0m\u001b[1;33m\u001b[0m\u001b[0m\n\u001b[0m\u001b[0;32m      2\u001b[0m \u001b[1;33m\u001b[0m\u001b[0m\n\u001b[0;32m      3\u001b[0m \u001b[0mtest\u001b[0m\u001b[1;33m(\u001b[0m\u001b[0mres\u001b[0m\u001b[1;33m)\u001b[0m\u001b[1;33m\u001b[0m\u001b[1;33m\u001b[0m\u001b[0m\n",
      "\u001b[1;31mNameError\u001b[0m: name 'test' is not defined"
     ]
    }
   ],
   "source": [
    "res = test(y=2, x=5)\n",
    "\n",
    "test(res)"
   ]
  },
  {
   "cell_type": "code",
   "execution_count": null,
   "id": "b6ba35db",
   "metadata": {},
   "outputs": [],
   "source": []
  },
  {
   "cell_type": "code",
   "execution_count": 57,
   "id": "76766d1e",
   "metadata": {},
   "outputs": [],
   "source": [
    "# 인수의 개수가 정해지지 않았을때, \n",
    "def add (*args):\n",
    "    print(args)\n"
   ]
  },
  {
   "cell_type": "code",
   "execution_count": 59,
   "id": "f3819d33",
   "metadata": {},
   "outputs": [
    {
     "name": "stdout",
     "output_type": "stream",
     "text": [
      "(1, 2, 5, 10)\n"
     ]
    }
   ],
   "source": [
    "\n",
    "add (1, 2, 5, 10) "
   ]
  },
  {
   "cell_type": "code",
   "execution_count": null,
   "id": "95fa778d",
   "metadata": {},
   "outputs": [],
   "source": [
    "\n",
    "\n",
    "# 인수의 개수가 정해지지 않았을때, \n",
    "def add (*args):\n",
    "    sum=0\n",
    "    for i in args:\n",
    "        sum+ = \n",
    "        "
   ]
  },
  {
   "cell_type": "code",
   "execution_count": 98,
   "id": "b3e92e76",
   "metadata": {},
   "outputs": [],
   "source": [
    "def func1(op, *args):\n",
    "    print(args)\n",
    "    if \"multiply\" in op :\n",
    "        result = 1\n",
    "        for i in range(len(args)):\n",
    "            result *= i \n",
    "    elif \"sum\" in op:\n",
    "        result = 0\n",
    "        return sum(args)\n",
    "    return result\n",
    "    \n",
    "#     elif args[0]"
   ]
  },
  {
   "cell_type": "code",
   "execution_count": 99,
   "id": "48a73a75",
   "metadata": {},
   "outputs": [
    {
     "name": "stdout",
     "output_type": "stream",
     "text": [
      "(10, 20, 30)\n",
      "0\n",
      "(5, 10, 15, 20, 30)\n",
      "80\n"
     ]
    }
   ],
   "source": [
    "res = func1(\"multiply\", 10, 20, 30)\n",
    "print(res) # 10, 20, 30 => 600 결과 \n",
    "res = func1(\"sum\", 5, 10, 15, 20, 30)\n",
    "print(res) # 80출력 "
   ]
  },
  {
   "cell_type": "code",
   "execution_count": 101,
   "id": "d7b40ff5",
   "metadata": {},
   "outputs": [],
   "source": [
    "# 리턴 값을 두개 받으려고 할때, \n",
    "def addsub(x, y): # 3, 4\n",
    "    return x + y,  x-y\n"
   ]
  },
  {
   "cell_type": "code",
   "execution_count": 105,
   "id": "39ac8269",
   "metadata": {},
   "outputs": [
    {
     "name": "stdout",
     "output_type": "stream",
     "text": [
      "(7, -1)\n"
     ]
    }
   ],
   "source": [
    "res = addsub(3, 4)\n",
    "print(res)\n"
   ]
  },
  {
   "cell_type": "code",
   "execution_count": 103,
   "id": "ed8ed86e",
   "metadata": {},
   "outputs": [
    {
     "name": "stdout",
     "output_type": "stream",
     "text": [
      "(7, -1)\n",
      "7\n",
      "-1\n"
     ]
    }
   ],
   "source": [
    "print(res)\n",
    "\n",
    "print(res[0])\n",
    "\n",
    "print(res[1])"
   ]
  },
  {
   "cell_type": "code",
   "execution_count": 109,
   "id": "435cd66c",
   "metadata": {},
   "outputs": [
    {
     "name": "stdout",
     "output_type": "stream",
     "text": [
      "7\n",
      "7\n"
     ]
    }
   ],
   "source": [
    "res1, res2 = addsub(3, 4)\n",
    "print(res1)\n",
    "print(res1)\n"
   ]
  },
  {
   "cell_type": "code",
   "execution_count": 112,
   "id": "02b516a1",
   "metadata": {},
   "outputs": [],
   "source": [
    "def intro(n, age, female = True): # 매겨변수 초기화\n",
    "    print(\"이름:\", n)\n",
    "    print(\"나이:\", n)\n",
    "    if female:\n",
    "        print(\"여성\")\n",
    "    else:\n",
    "        print(\"남성\")"
   ]
  },
  {
   "cell_type": "code",
   "execution_count": 113,
   "id": "27aa431e",
   "metadata": {},
   "outputs": [
    {
     "name": "stdout",
     "output_type": "stream",
     "text": [
      "이름: 홍길동\n",
      "나이: 홍길동\n",
      "여성\n"
     ]
    }
   ],
   "source": [
    "intro (\"홍길동\", 25, True)"
   ]
  },
  {
   "cell_type": "code",
   "execution_count": 114,
   "id": "ef7edd60",
   "metadata": {},
   "outputs": [
    {
     "name": "stdout",
     "output_type": "stream",
     "text": [
      "이름: 홍길동\n",
      "나이: 홍길동\n",
      "여성\n"
     ]
    }
   ],
   "source": [
    "intro (\"홍길동\", 25)"
   ]
  },
  {
   "cell_type": "code",
   "execution_count": null,
   "id": "51ba7f9b",
   "metadata": {},
   "outputs": [],
   "source": []
  },
  {
   "cell_type": "code",
   "execution_count": 116,
   "id": "61638640",
   "metadata": {},
   "outputs": [
    {
     "name": "stdout",
     "output_type": "stream",
     "text": [
      "1\n"
     ]
    }
   ],
   "source": [
    "# \n",
    "a=1\n",
    "def test(a): # 함수 정의, 매개변수는 함수 내에서만 사용하는 변수 \n",
    "    a = a+10\n",
    "test(a)\n",
    "\n",
    "print(a) # 함수 호출 "
   ]
  },
  {
   "cell_type": "code",
   "execution_count": 117,
   "id": "ab708f88",
   "metadata": {},
   "outputs": [
    {
     "ename": "NameError",
     "evalue": "name 'x' is not defined",
     "output_type": "error",
     "traceback": [
      "\u001b[1;31m---------------------------------------------------------------------------\u001b[0m",
      "\u001b[1;31mNameError\u001b[0m                                 Traceback (most recent call last)",
      "\u001b[1;32m<ipython-input-117-266cb95c9c86>\u001b[0m in \u001b[0;36m<module>\u001b[1;34m\u001b[0m\n\u001b[0;32m      3\u001b[0m \u001b[1;33m\u001b[0m\u001b[0m\n\u001b[0;32m      4\u001b[0m \u001b[0mtest2\u001b[0m\u001b[1;33m(\u001b[0m\u001b[1;36m10\u001b[0m\u001b[1;33m)\u001b[0m\u001b[1;33m\u001b[0m\u001b[1;33m\u001b[0m\u001b[0m\n\u001b[1;32m----> 5\u001b[1;33m \u001b[0mprint\u001b[0m\u001b[1;33m(\u001b[0m\u001b[0mx\u001b[0m\u001b[1;33m)\u001b[0m\u001b[1;33m\u001b[0m\u001b[1;33m\u001b[0m\u001b[0m\n\u001b[0m",
      "\u001b[1;31mNameError\u001b[0m: name 'x' is not defined"
     ]
    }
   ],
   "source": [
    "\n",
    "def test2(x):\n",
    "    x=x+1\n",
    "    \n",
    "test2(10)\n",
    "print(x)"
   ]
  },
  {
   "cell_type": "code",
   "execution_count": 121,
   "id": "66e5b99e",
   "metadata": {},
   "outputs": [
    {
     "name": "stdout",
     "output_type": "stream",
     "text": [
      "11\n"
     ]
    }
   ],
   "source": [
    "#1. 함수 내부에서 함수 외부에 있는 변수의 값을 변경하는 방법 \n",
    "x= 1\n",
    "\n",
    "def test(x):\n",
    "    x=x+10\n",
    "    return x\n",
    "    \n",
    "x=test(x)\n",
    "print(x)"
   ]
  },
  {
   "cell_type": "code",
   "execution_count": 132,
   "id": "7dc544e6",
   "metadata": {},
   "outputs": [
    {
     "name": "stdout",
     "output_type": "stream",
     "text": [
      "11\n"
     ]
    }
   ],
   "source": [
    "# gloobal : 전역변수 \n",
    "#2. global 전역변수를 이용 \n",
    "\n",
    "x=1\n",
    "def test():\n",
    "    global x # 함수 내부에서 함수 외부에 있는 변수를 사용하고자 한다. \n",
    "    x=x+10\n",
    "    \n",
    "test()\n",
    "print(x)\n"
   ]
  },
  {
   "cell_type": "code",
   "execution_count": 137,
   "id": "71f5444d",
   "metadata": {},
   "outputs": [],
   "source": [
    "def test():\n",
    "    return 1, 2\n",
    "#     return [1, 2]"
   ]
  },
  {
   "cell_type": "code",
   "execution_count": 138,
   "id": "aa017634",
   "metadata": {},
   "outputs": [
    {
     "name": "stdout",
     "output_type": "stream",
     "text": [
      "[1, 2]\n"
     ]
    }
   ],
   "source": [
    "res= test()\n",
    "print(res)"
   ]
  },
  {
   "cell_type": "code",
   "execution_count": 146,
   "id": "3c58f6de",
   "metadata": {},
   "outputs": [
    {
     "name": "stdout",
     "output_type": "stream",
     "text": [
      "3\n",
      "2\n"
     ]
    }
   ],
   "source": [
    "def mul(a, b):\n",
    "    res=a*b\n",
    "    return res\n",
    "\n",
    "def add(xx,yy):\n",
    "    zz=xx+yy\n",
    "    print(zz)\n",
    "    result = mul(xx, 2)\n",
    "    print(result)\n",
    "\n",
    "x=1\n",
    "y=2\n",
    "add(x,y)"
   ]
  },
  {
   "cell_type": "code",
   "execution_count": null,
   "id": "8379a26b",
   "metadata": {},
   "outputs": [],
   "source": []
  },
  {
   "cell_type": "code",
   "execution_count": null,
   "id": "b9bfdfdd",
   "metadata": {},
   "outputs": [],
   "source": []
  },
  {
   "cell_type": "code",
   "execution_count": null,
   "id": "3fd8bcd8",
   "metadata": {},
   "outputs": [],
   "source": []
  },
  {
   "cell_type": "code",
   "execution_count": null,
   "id": "d027d35b",
   "metadata": {},
   "outputs": [],
   "source": []
  },
  {
   "cell_type": "code",
   "execution_count": null,
   "id": "2073009b",
   "metadata": {},
   "outputs": [],
   "source": []
  },
  {
   "cell_type": "code",
   "execution_count": null,
   "id": "5c9a9287",
   "metadata": {},
   "outputs": [],
   "source": []
  },
  {
   "cell_type": "code",
   "execution_count": null,
   "id": "515ac809",
   "metadata": {},
   "outputs": [],
   "source": []
  },
  {
   "cell_type": "code",
   "execution_count": null,
   "id": "b60be6cd",
   "metadata": {},
   "outputs": [],
   "source": []
  },
  {
   "cell_type": "code",
   "execution_count": null,
   "id": "6086d4f9",
   "metadata": {},
   "outputs": [],
   "source": []
  }
 ],
 "metadata": {
  "kernelspec": {
   "display_name": "Python 3",
   "language": "python",
   "name": "python3"
  },
  "language_info": {
   "codemirror_mode": {
    "name": "ipython",
    "version": 3
   },
   "file_extension": ".py",
   "mimetype": "text/x-python",
   "name": "python",
   "nbconvert_exporter": "python",
   "pygments_lexer": "ipython3",
   "version": "3.8.8"
  }
 },
 "nbformat": 4,
 "nbformat_minor": 5
}
