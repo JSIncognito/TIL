{
 "cells": [
  {
   "cell_type": "code",
   "execution_count": 5,
   "id": "6780a1f8",
   "metadata": {},
   "outputs": [
    {
     "data": {
      "text/plain": [
       "4000"
      ]
     },
     "execution_count": 5,
     "metadata": {},
     "output_type": "execute_result"
    }
   ],
   "source": [
    "cnt = 0\n",
    "for i in range(1, 10001):\n",
    "    cnt += str(i).count('8')\n",
    "cnt"
   ]
  },
  {
   "cell_type": "code",
   "execution_count": 6,
   "id": "af7a4409",
   "metadata": {},
   "outputs": [
    {
     "name": "stdout",
     "output_type": "stream",
     "text": [
      "3 소수가 아님.\n",
      "4 소수가 아님.\n",
      "5 소수가 아님.\n",
      "6 소수가 아님.\n",
      "7 소수가 아님.\n",
      "8 소수가 아님.\n",
      "9 소수가 아님.\n",
      "[]\n"
     ]
    }
   ],
   "source": [
    "result =[]\n",
    "for num in range(2, 10): #2~9\n",
    "    sw=0\n",
    "    for i in range(2, num+1):\n",
    "        if num % 1 == 0 and num != i : #나누어 떨어짐&자기자신이 아닌 \n",
    "            sw = 1\n",
    "            break\n",
    "    if(sw==1):\n",
    "        print(num,'소수가 아님.')\n",
    "print(result)"
   ]
  },
  {
   "cell_type": "code",
   "execution_count": 11,
   "id": "28312d03",
   "metadata": {},
   "outputs": [
    {
     "name": "stdout",
     "output_type": "stream",
     "text": [
      "3 소수가 아님.\n",
      "5 소수가 아님.\n",
      "7 소수가 아님.\n",
      "9 소수가 아님.\n",
      "[]\n"
     ]
    }
   ],
   "source": [
    "# 소수 여부 판단 알고리즘\n",
    "# 1) 2~범위수까지 반복하면서 각각의 수가 자기자신과 1로만 나누어 떨어짐.\n",
    "# 2) 2~1000 소수 : 짝수(2를 제외한 ) 는 모두 소수가 아님.\n",
    "\n",
    "for num in range(3, 10, 2): #2~9\n",
    "    sw=0\n",
    "    for i in range(2, num+1):\n",
    "        if num % 1 == 0 and num != i : #나누어 떨어짐&자기자신이 아닌 \n",
    "            sw = 1\n",
    "            break\n",
    "    if(sw==1):\n",
    "        print(num,'소수가 아님.')\n",
    "print(result)\n",
    "\n",
    "# 3) 15 => 2~14 까지 수로 나누어 본다 \n",
    "# N => 2~100dp N까지\n",
    "\n",
    "# sqrt(15) #=> 3.xxxx -> int ->3\n",
    "# sqrt(17) # 2~16"
   ]
  },
  {
   "cell_type": "code",
   "execution_count": 14,
   "id": "e3c1ff4e",
   "metadata": {},
   "outputs": [
    {
     "name": "stdout",
     "output_type": "stream",
     "text": [
      "루프 종료\n"
     ]
    }
   ],
   "source": [
    "for i in range(5):\n",
    "    if i == 6:\n",
    "        print(\"반복 종료\")\n",
    "        break\n",
    "else: \n",
    "    print(\"루프 종료\")\n",
    "    \n",
    "# for 문으로 같은 수준으로 들여쓰기를 한 else \n",
    "# break 를 만나지 않고 (중간에 탈출하지 않고) for 가 정상 종료한 경우 "
   ]
  },
  {
   "cell_type": "code",
   "execution_count": null,
   "id": "795400c4",
   "metadata": {},
   "outputs": [],
   "source": [
    "## 파이썬 파일 읽기/쓰기\n",
    "# 파일 열기 -> 읽기 \n",
    "# 파일 열기 -> 쓰기\n",
    "# 공통적으로 파일 열기 작업을 반드시 해야함.\n",
    "\n",
    "# 파일 열기 (open) -> 일기 (read)/ 쓰기 (write) -> 파일 닫기(close)\n",
    "# 파일을 열때 마다 메모리에 적재가 됨."
   ]
  },
  {
   "cell_type": "code",
   "execution_count": 19,
   "id": "de5cb8d2",
   "metadata": {},
   "outputs": [],
   "source": [
    "f=open(\"test.txt\" , \"w\") # 파일을 쓰기 위해 열겠다.\n",
    "f.write(\"hihello\") # 파일에 문자열 저장 \n",
    "f.close()"
   ]
  },
  {
   "cell_type": "code",
   "execution_count": null,
   "id": "3cfacfe4",
   "metadata": {},
   "outputs": [],
   "source": []
  },
  {
   "cell_type": "code",
   "execution_count": 21,
   "id": "cde3c3c7",
   "metadata": {},
   "outputs": [
    {
     "name": "stdout",
     "output_type": "stream",
     "text": [
      "hihello\n"
     ]
    }
   ],
   "source": [
    "f=open(\"test.txt\" , \"r\") # 파일을 쓰기 위해 열겠다.\n",
    "s=f.read() # 파일에 문자열 읽기 \n",
    "print(s)\n",
    "f.close() # 파일 닫기"
   ]
  },
  {
   "cell_type": "code",
   "execution_count": 23,
   "id": "786a2ddf",
   "metadata": {},
   "outputs": [
    {
     "name": "stdout",
     "output_type": "stream",
     "text": [
      "hihello\n"
     ]
    }
   ],
   "source": [
    "# 두 구문이 동일함.\n",
    "with open(\"test.txt\", \"r\") as f: # with 구문은 close 를 하지 않아도 내부적으로 close 가됨.\n",
    "    s = f.read()\n",
    "    print(s)"
   ]
  },
  {
   "cell_type": "code",
   "execution_count": null,
   "id": "f07a2165",
   "metadata": {},
   "outputs": [],
   "source": []
  },
  {
   "cell_type": "code",
   "execution_count": null,
   "id": "6f404e57",
   "metadata": {},
   "outputs": [],
   "source": [
    "# 여러 줄 저장\n",
    "with open(\"test.txt\", \"w\") as f: # with 구문은 close 를 하지 않아도 내부적으로 close 가됨.\n",
    "    f.write(\"hello word \\n\")\n",
    "    f.write(\"hello word \\n\")\n",
    "    f.write(\"hello word\")\n"
   ]
  },
  {
   "cell_type": "code",
   "execution_count": 30,
   "id": "a795b9bc",
   "metadata": {},
   "outputs": [],
   "source": [
    "# 여러 줄 저장\n",
    "with open(\"test.txt\", \"w\") as f: # with 구문은 close 를 하지 않아도 내부적으로 close 가됨.\n",
    "    for i in range(3): \n",
    "        s = \"hello word\" + str(i+1) + \"\\n\"\n",
    "        f.write(s)\n"
   ]
  },
  {
   "cell_type": "code",
   "execution_count": 34,
   "id": "c14b5f4f",
   "metadata": {},
   "outputs": [],
   "source": [
    "# 여러 줄 저장\n",
    "with open(\"test.txt\", \"w\") as f: # with 구문은 close 를 하지 않아도 내부적으로 close 가됨.\n",
    "    for i in range(3): \n",
    "        f.write(\"{2}hello{1} world {0}\".format(i+1, 999, 3.14)) "
   ]
  },
  {
   "cell_type": "code",
   "execution_count": 38,
   "id": "9be542fc",
   "metadata": {},
   "outputs": [],
   "source": [
    "# 여러 줄 저장\n",
    "with open(\"test.txt\", \"w\") as f: # with 구문은 close 를 하지 않아도 내부적으로 close 가됨.\n",
    "    for i in range(3): \n",
    "#         f.write(\"hello world {0}\".format(i+1))\n",
    "        f.write(\"hello world %d\" %(i+1))"
   ]
  },
  {
   "cell_type": "code",
   "execution_count": 55,
   "id": "219cf15f",
   "metadata": {},
   "outputs": [],
   "source": [
    "lines=['hello owrld1\\n', 'hello owrld2\\n', 'hello owrld3']"
   ]
  },
  {
   "cell_type": "code",
   "execution_count": 43,
   "id": "6cecb9c6",
   "metadata": {},
   "outputs": [],
   "source": [
    "# with open(\"test2.txt\", \"w\") as f:\n",
    "#     for i in range(len(lines)):\n",
    "#         f.write(lines[i])"
   ]
  },
  {
   "cell_type": "code",
   "execution_count": 67,
   "id": "72f5cc93",
   "metadata": {},
   "outputs": [],
   "source": [
    "with open(\"test2.txt\", \"w\") as f:\n",
    "#     f.writelines(lines + \"\\n\")\n",
    "    f.writelines(lines) # 잘 사용하지 않음.\n"
   ]
  },
  {
   "cell_type": "code",
   "execution_count": 49,
   "id": "88436f59",
   "metadata": {},
   "outputs": [
    {
     "name": "stdout",
     "output_type": "stream",
     "text": [
      "hello owrld1\n",
      "hello owrld2\n",
      "hello owrld3\n"
     ]
    }
   ],
   "source": [
    "# 두 구문이 동일함.\n",
    "with open(\"test2.txt\", \"r\") as f: # with 구문은 close 를 하지 않아도 내부적으로 close 가됨.\n",
    "    s = f.read() # 파일의 내용을 읽어서 문자열로 저장\n",
    "    print(s)"
   ]
  },
  {
   "cell_type": "code",
   "execution_count": 51,
   "id": "0a99cc62",
   "metadata": {},
   "outputs": [
    {
     "name": "stdout",
     "output_type": "stream",
     "text": [
      "['hello owrld1\\n', 'hello owrld2\\n', 'hello owrld3']\n"
     ]
    }
   ],
   "source": [
    "# 두 구문이 동일함.\n",
    "with open(\"test2.txt\", \"r\") as f: # with 구문은 close 를 하지 않아도 내부적으로 close 가됨.\n",
    "    s = f.readlines() # 파일의 내용을 읽어서 문자열로 저장\n",
    "    print(s)\n",
    "    \n",
    "# read: 파일을 읽어서 문자열로 가져옴\n",
    "# readlines: 파일을 읽어서 리스트 형태로 가져옴"
   ]
  },
  {
   "cell_type": "code",
   "execution_count": 52,
   "id": "b81e4ba3",
   "metadata": {},
   "outputs": [
    {
     "name": "stdout",
     "output_type": "stream",
     "text": [
      "hello world 1hello world 2hello world 3\n"
     ]
    }
   ],
   "source": [
    "with open(\"test.txt\", \"r\") as f: # with 구문은 close 를 하지 않아도 내부적으로 close 가됨.\n",
    "    s = f.readline() # 한 번에 모든 줄을 읽어들임. \n",
    "    print(s)\n",
    "    \n",
    "# read: 파일을 읽어서 문자열로 가져옴\n",
    "# readlines: 파일을 읽어서 리스트 형태로 가져옴"
   ]
  },
  {
   "cell_type": "code",
   "execution_count": 65,
   "id": "d6881ec4",
   "metadata": {},
   "outputs": [],
   "source": [
    "lines=['hello owrld1\\n', 'hello owrld2\\n', 'hello owrld3']"
   ]
  },
  {
   "cell_type": "code",
   "execution_count": 63,
   "id": "c6edff5a",
   "metadata": {},
   "outputs": [
    {
     "name": "stdout",
     "output_type": "stream",
     "text": [
      "hello world 1hello world 2hello world 3\n"
     ]
    }
   ],
   "source": [
    "with open(\"test.txt\", \"r\") as f: # with 구문은 close 를 하지 않아도 내부적으로 close 가됨.\n",
    "    while True:\n",
    "        s = f.readline() # 한 번에 한 줄을 읽어들임. \n",
    "        if s!=\"\":\n",
    "            print(s.strip(\"\\n\"))\n",
    "        else:\n",
    "            break"
   ]
  },
  {
   "cell_type": "code",
   "execution_count": 68,
   "id": "3bd6cf5a",
   "metadata": {},
   "outputs": [
    {
     "name": "stdout",
     "output_type": "stream",
     "text": [
      "\n",
      "\n"
     ]
    }
   ],
   "source": [
    "with open(\"test.txt\", \"r\") as f: # with 구문은 close 를 하지 않아도 내부적으로 close 가됨.\n",
    "    line=None\n",
    "    while line != \"\":\n",
    "        line = f.readline() # 한 번에 한 줄을 읽어들임. \n",
    "        print(s.strip(\"\\n\"))"
   ]
  },
  {
   "cell_type": "code",
   "execution_count": 69,
   "id": "55234d1f",
   "metadata": {},
   "outputs": [],
   "source": [
    "# 피클 (pickle) 모듈 : 객체를 파일로 저장\n",
    "# 객체 ? 클래스(붕어빵 기계)로부터 파생된 실체 (인스턴스, 붕어빵)"
   ]
  },
  {
   "cell_type": "code",
   "execution_count": 70,
   "id": "79ab8a72",
   "metadata": {},
   "outputs": [],
   "source": [
    "# 캐릭터 정보 pickle 객체로 저장\n",
    "# 위치={'x 좌표 : 270, '좌표': 902.283, 'z좌표': 223.443}\n"
   ]
  },
  {
   "cell_type": "code",
   "execution_count": 72,
   "id": "6cd092ac",
   "metadata": {},
   "outputs": [],
   "source": [
    "import pickle"
   ]
  },
  {
   "cell_type": "code",
   "execution_count": null,
   "id": "cbaea412",
   "metadata": {},
   "outputs": [],
   "source": [
    "# 게임 시작 "
   ]
  },
  {
   "cell_type": "code",
   "execution_count": 78,
   "id": "3fcd7bba",
   "metadata": {},
   "outputs": [],
   "source": [
    "uid = 'kim'\n",
    "lv = 50\n",
    "ch = 'human'\n",
    "items={'sword':1, 're': 10}"
   ]
  },
  {
   "cell_type": "code",
   "execution_count": 79,
   "id": "38fc90b6",
   "metadata": {},
   "outputs": [],
   "source": [
    "with open(\"user1.p\", 'wb') as f:\n",
    "    pickle.dump(uid, f)\n",
    "    pickle.dump(lv, f)\n",
    "    pickle.dump(ch, f)\n",
    "    pickle.dump(items, f)"
   ]
  },
  {
   "cell_type": "code",
   "execution_count": null,
   "id": "88f779ed",
   "metadata": {},
   "outputs": [],
   "source": [
    "# 기상하자마자 게임 접속"
   ]
  },
  {
   "cell_type": "code",
   "execution_count": 80,
   "id": "c2ad3152",
   "metadata": {},
   "outputs": [],
   "source": [
    "with open (\"user1.p\", \"rb\") as f:\n",
    "    uid=pickle.load(f)\n",
    "    lv=pickle.load(f)\n",
    "    ch=pickle.load(f)\n",
    "    items=pickle.load(f)"
   ]
  },
  {
   "cell_type": "code",
   "execution_count": 82,
   "id": "68aced33",
   "metadata": {},
   "outputs": [
    {
     "name": "stdout",
     "output_type": "stream",
     "text": [
      "kim 50 human {'sword': 1, 're': 10}\n"
     ]
    }
   ],
   "source": [
    "print(uid, lv, ch, items)"
   ]
  },
  {
   "cell_type": "code",
   "execution_count": null,
   "id": "c7561017",
   "metadata": {},
   "outputs": [],
   "source": [
    "# 해문 asbsa 앞으로 읽어도 뒤로 읽어도 같은 문자열"
   ]
  },
  {
   "cell_type": "code",
   "execution_count": 85,
   "id": "6d65af05",
   "metadata": {},
   "outputs": [
    {
     "name": "stdout",
     "output_type": "stream",
     "text": [
      "입력:absda\n",
      "False\n"
     ]
    }
   ],
   "source": [
    "w=input(\"입력:\")\n",
    "#print(w)\n",
    "# print(w[::-1])\n",
    "print(w==w[::-1])"
   ]
  },
  {
   "cell_type": "code",
   "execution_count": null,
   "id": "4725621e",
   "metadata": {},
   "outputs": [],
   "source": [
    "w=\"abcba\"\n",
    "list(w)"
   ]
  },
  {
   "cell_type": "code",
   "execution_count": 86,
   "id": "5e374c9d",
   "metadata": {},
   "outputs": [
    {
     "data": {
      "text/plain": [
       "['a', 'd', 's', 'b', 'a']"
      ]
     },
     "execution_count": 86,
     "metadata": {},
     "output_type": "execute_result"
    }
   ],
   "source": [
    "list(reversed(w))"
   ]
  },
  {
   "cell_type": "code",
   "execution_count": 87,
   "id": "bb5a1381",
   "metadata": {},
   "outputs": [
    {
     "data": {
      "text/plain": [
       "False"
      ]
     },
     "execution_count": 87,
     "metadata": {},
     "output_type": "execute_result"
    }
   ],
   "source": [
    "list(w)==list(reversed(w))"
   ]
  },
  {
   "cell_type": "code",
   "execution_count": 88,
   "id": "b69c3368",
   "metadata": {},
   "outputs": [
    {
     "data": {
      "text/plain": [
       "'absda'"
      ]
     },
     "execution_count": 88,
     "metadata": {},
     "output_type": "execute_result"
    }
   ],
   "source": [
    "w"
   ]
  },
  {
   "cell_type": "code",
   "execution_count": 90,
   "id": "0c7c6491",
   "metadata": {},
   "outputs": [
    {
     "data": {
      "text/plain": [
       "False"
      ]
     },
     "execution_count": 90,
     "metadata": {},
     "output_type": "execute_result"
    }
   ],
   "source": [
    "w==\"\".join(reversed(w))"
   ]
  },
  {
   "cell_type": "code",
   "execution_count": null,
   "id": "ba599b45",
   "metadata": {},
   "outputs": [],
   "source": [
    "# n 그램 : 문자열(문장)에서 n개의 연속된 문자 (단어)\n",
    "# 추출하는 것을 의미함.\n",
    "\n",
    "# n=2, 2-gram (보통 바이그램이라고 부름.)\n",
    "# "
   ]
  },
  {
   "cell_type": "code",
   "execution_count": 91,
   "id": "de0ab577",
   "metadata": {},
   "outputs": [
    {
     "ename": "SyntaxError",
     "evalue": "invalid syntax (<ipython-input-91-36f0db10e707>, line 7)",
     "output_type": "error",
     "traceback": [
      "\u001b[1;36m  File \u001b[1;32m\"<ipython-input-91-36f0db10e707>\"\u001b[1;36m, line \u001b[1;32m7\u001b[0m\n\u001b[1;33m    문장 -> 단어 단위(2-gram)로 추출\u001b[0m\n\u001b[1;37m       ^\u001b[0m\n\u001b[1;31mSyntaxError\u001b[0m\u001b[1;31m:\u001b[0m invalid syntax\n"
     ]
    }
   ],
   "source": [
    "n= 2, 2-gram\n",
    "n= 3, 3-gram\n",
    "#...\n",
    "# ex)\n",
    "# 삼성동에 코로나가 퍼지고 있습니다.\n",
    "n-2, 2-gram \n",
    "문장 -> 단어 단위(2-gram)로 추출\n",
    "공백 단위로 구분 했다면=[삼성동에, 코로나가, 퍼지고, 있습니다]\n",
    "단어 단위(2-gram) 로 추출 후 => [삼성동에, 코로나가] [코로나가, 퍼지고] [퍼지고, 있습니다]\n",
    "\n",
    "문장 -> 글자 단위(2-gram)로 추출\n",
    "삼성동에 코로나가 퍼지고 있습니다.\n",
    "글자 단위 (2-gram)로 추출 후 => ['삼성', '성동', '동에', '에...']\n",
    "\n",
    "\n",
    "ex)\n",
    "hello -> 2-gram => he, el, ll, lo\n"
   ]
  },
  {
   "cell_type": "code",
   "execution_count": 107,
   "id": "975a01e0",
   "metadata": {},
   "outputs": [
    {
     "name": "stdout",
     "output_type": "stream",
     "text": [
      "['he', 'el', 'll', 'lo']\n"
     ]
    }
   ],
   "source": [
    "Zzz = \"hello\"\n",
    "\n",
    "Zzz[0:2]\n",
    "li =[]\n",
    "for i in range(len(Zzz)-1):\n",
    "    li.append(Zzz[i:i+2]) \n",
    "print(li)"
   ]
  },
  {
   "cell_type": "code",
   "execution_count": 106,
   "id": "72a7f7e5",
   "metadata": {},
   "outputs": [
    {
     "name": "stdout",
     "output_type": "stream",
     "text": [
      "he\n",
      "el\n",
      "ll\n",
      "lo\n"
     ]
    }
   ],
   "source": [
    "for i in range(len(Zzz)-1): \n",
    "    print(Zzz[i], Zzz[i+1], sep=\"\")"
   ]
  },
  {
   "cell_type": "code",
   "execution_count": 121,
   "id": "20f19549",
   "metadata": {},
   "outputs": [],
   "source": [
    "Zzz2=\"this is python grogram\""
   ]
  },
  {
   "cell_type": "code",
   "execution_count": 120,
   "id": "561976cd",
   "metadata": {},
   "outputs": [
    {
     "name": "stdout",
     "output_type": "stream",
     "text": [
      "['th', 'hi', 'is', 's ', ' i', 'is', 's ', ' p', 'py', 'yt', 'th', 'ho', 'on', 'n ', ' g', 'gr', 'ro', 'og', 'gr', 'ra', 'am']\n",
      "====\n",
      "th\n",
      "hi\n",
      "is\n",
      "s \n",
      " i\n",
      "is\n",
      "s \n",
      " p\n",
      "py\n",
      "yt\n",
      "th\n",
      "ho\n",
      "on\n",
      "n \n",
      " g\n",
      "gr\n",
      "ro\n",
      "og\n",
      "gr\n",
      "ra\n",
      "am\n"
     ]
    }
   ],
   "source": [
    "#2-gram 단위로 단어 추출\n",
    "# 1)\n",
    "li = []\n",
    "for i in range(len(Zzz2)-1):\n",
    "    li.append(Zzz2[i:i+2]) \n",
    "print(li)\n",
    "\n",
    "print(\"====\")\n",
    "# 2)\n",
    "for i in range(len(Zzz2)-1):\n",
    "    print(Zzz2[i], Zzz2[i+1], sep=\"\")"
   ]
  },
  {
   "cell_type": "code",
   "execution_count": 122,
   "id": "a326b576",
   "metadata": {},
   "outputs": [],
   "source": [
    "Zzz2=\"this is python grogram\""
   ]
  },
  {
   "cell_type": "code",
   "execution_count": 127,
   "id": "47261963",
   "metadata": {},
   "outputs": [
    {
     "name": "stdout",
     "output_type": "stream",
     "text": [
      "['this', 'is']\n",
      "['is', 'python']\n",
      "['python', 'grogram']\n",
      "this is\n",
      "is python\n",
      "python grogram\n"
     ]
    }
   ],
   "source": [
    "w=Zzz2.split()\n",
    "\n",
    "for i in range(len(w)-1): # i = 0 to 2\n",
    "    print(w[i:i+2])\n",
    "    \n",
    "\n",
    "for i in range(len(w)-1): # i = 0 to 2\n",
    "    print(w[i], w[i+1], sep=\" \")"
   ]
  },
  {
   "cell_type": "code",
   "execution_count": null,
   "id": "5675012c",
   "metadata": {},
   "outputs": [],
   "source": [
    "# n-gram 언어 모델: 단어(문자)의 순서에 확률을 적용한 모델\n",
    "# 나는 아침에 줌에 접속하여 (QR) 인증을 하였다.\n",
    "\n",
    "# 언어 모델을 만드는 유형 : 통계적 방법, 신경망 방법\n",
    "# N-gram 은 통계적 방법 중의 하나"
   ]
  },
  {
   "cell_type": "code",
   "execution_count": null,
   "id": "51f4535f",
   "metadata": {},
   "outputs": [],
   "source": [
    "# 나는 버스를 탔다 > 나는 버스를 먹었다.\n",
    "# 쉬는 시간이 다가오자, 무척 졸렸다."
   ]
  },
  {
   "cell_type": "code",
   "execution_count": null,
   "id": "ceb280de",
   "metadata": {},
   "outputs": [],
   "source": [
    "# P(갔다 | 나는, 오늘 학교에)\n",
    "# P(안 갔다 | 나는, 오늘 학교에)\n",
    "# P(버스를 | 나는, 오늘 학교에)"
   ]
  },
  {
   "cell_type": "code",
   "execution_count": null,
   "id": "47c5b999",
   "metadata": {},
   "outputs": [],
   "source": [
    "# 전체 문장에서 \n",
    "\n",
    "\n",
    "# count (나는 오늘 학교에 갔다)\n",
    "# # ================================== = 1% = P(갔다 | 나는, 오늘, 학교에)\n",
    "# count (나는 오늘 학교에)\n",
    "\n",
    "# count (나는 오늘 학교에 왔다) = 300 번\n",
    "# # ================================== = 1% = P(갔다 | 나는, 오늘, 학교에)\n",
    "# count (나는 오늘 학교에) = 10000 번 "
   ]
  },
  {
   "cell_type": "code",
   "execution_count": null,
   "id": "bb41556e",
   "metadata": {},
   "outputs": [],
   "source": [
    "# n-gram 활용 (문장 유사도 조사)\n",
    "# 카피킬러(copy killer)"
   ]
  },
  {
   "cell_type": "code",
   "execution_count": null,
   "id": "b1e374c9",
   "metadata": {},
   "outputs": [],
   "source": [
    "x=\"머신러닝은 컴퓨터사이언스의 한 분류입니다.\"\n",
    "y=\"런닝머신은 운동 기구중의 하나 입니다.\""
   ]
  },
  {
   "cell_type": "code",
   "execution_count": 128,
   "id": "c87ba721",
   "metadata": {},
   "outputs": [
    {
     "ename": "SyntaxError",
     "evalue": "invalid syntax (<ipython-input-128-877ad3de6596>, line 2)",
     "output_type": "error",
     "traceback": [
      "\u001b[1;36m  File \u001b[1;32m\"<ipython-input-128-877ad3de6596>\"\u001b[1;36m, line \u001b[1;32m2\u001b[0m\n\u001b[1;33m    x=>['머신', '신러', ... '니다']\u001b[0m\n\u001b[1;37m      ^\u001b[0m\n\u001b[1;31mSyntaxError\u001b[0m\u001b[1;31m:\u001b[0m invalid syntax\n"
     ]
    }
   ],
   "source": [
    "# 2-gram(bi-gram) 단위로 글자 분리\n",
    "# x=>['머신', '신러', ... '니다']\n",
    "# y=>['런닝', '닝러', ... '니다']\n",
    "\n",
    "#닝은 != 신은\n",
    "\n",
    "#내가 작성한 숙제의 표절율?"
   ]
  },
  {
   "cell_type": "code",
   "execution_count": null,
   "id": "f128da8c",
   "metadata": {},
   "outputs": [],
   "source": [
    "# 유사도 = 중복되는 단어 개수 / x를 2글자씩 분리한 리스트의 전체 길이"
   ]
  },
  {
   "cell_type": "code",
   "execution_count": null,
   "id": "cdfa21f3",
   "metadata": {},
   "outputs": [],
   "source": []
  }
 ],
 "metadata": {
  "kernelspec": {
   "display_name": "Python 3",
   "language": "python",
   "name": "python3"
  },
  "language_info": {
   "codemirror_mode": {
    "name": "ipython",
    "version": 3
   },
   "file_extension": ".py",
   "mimetype": "text/x-python",
   "name": "python",
   "nbconvert_exporter": "python",
   "pygments_lexer": "ipython3",
   "version": "3.8.8"
  }
 },
 "nbformat": 4,
 "nbformat_minor": 5
}
