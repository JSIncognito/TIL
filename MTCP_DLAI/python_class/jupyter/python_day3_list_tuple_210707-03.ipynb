{
 "cells": [
  {
   "cell_type": "code",
   "execution_count": 1,
   "id": "927695d2",
   "metadata": {},
   "outputs": [],
   "source": [
    "# 리스트에 요소 삽입 inset \n",
    "# 리스트 요소 추가 append\n",
    "# 리스트 확장 extend"
   ]
  },
  {
   "cell_type": "code",
   "execution_count": 88,
   "id": "51f4354e",
   "metadata": {},
   "outputs": [],
   "source": [
    "# insert함수 : 리스트내의 특정 위치에 데이터를 삽입\n",
    "a=[10,20,30]\n",
    "a.append(100)"
   ]
  },
  {
   "cell_type": "code",
   "execution_count": null,
   "id": "a644bbe2",
   "metadata": {},
   "outputs": [],
   "source": [
    " a"
   ]
  },
  {
   "cell_type": "code",
   "execution_count": null,
   "id": "add1cf6a",
   "metadata": {},
   "outputs": [],
   "source": [
    "# 데이터 추가 insert \n",
    "a.insert(1, 15)"
   ]
  },
  {
   "cell_type": "code",
   "execution_count": null,
   "id": "d11f4b65",
   "metadata": {},
   "outputs": [],
   "source": [
    "a"
   ]
  },
  {
   "cell_type": "code",
   "execution_count": null,
   "id": "59595b81",
   "metadata": {},
   "outputs": [],
   "source": [
    "# 요소 추가\n",
    "a.append([50,60])\n",
    "a"
   ]
  },
  {
   "cell_type": "code",
   "execution_count": null,
   "id": "bde1d811",
   "metadata": {},
   "outputs": [],
   "source": [
    "# 요소 확장\n",
    "a.extend([70,80])\n",
    "a"
   ]
  },
  {
   "cell_type": "code",
   "execution_count": 87,
   "id": "5760ab93",
   "metadata": {},
   "outputs": [],
   "source": [
    "# 튜플 tuple"
   ]
  },
  {
   "cell_type": "code",
   "execution_count": 3,
   "id": "159cb04a",
   "metadata": {},
   "outputs": [],
   "source": [
    "a= [10,20,30]"
   ]
  },
  {
   "cell_type": "code",
   "execution_count": 4,
   "id": "93b91d94",
   "metadata": {},
   "outputs": [],
   "source": [
    "# pop : 가장 마지막 요소를 제거 \n",
    "\n",
    "# a.pop() # 가장 마지막 요소를 꺼낸 다음 제거 \n",
    "\n",
    "data = a.pop()"
   ]
  },
  {
   "cell_type": "code",
   "execution_count": 6,
   "id": "81dc236b",
   "metadata": {},
   "outputs": [
    {
     "data": {
      "text/plain": [
       "30"
      ]
     },
     "execution_count": 6,
     "metadata": {},
     "output_type": "execute_result"
    }
   ],
   "source": [
    "data\n"
   ]
  },
  {
   "cell_type": "code",
   "execution_count": 8,
   "id": "63be5cb4",
   "metadata": {},
   "outputs": [
    {
     "data": {
      "text/plain": [
       "[10, 20]"
      ]
     },
     "execution_count": 8,
     "metadata": {},
     "output_type": "execute_result"
    }
   ],
   "source": [
    "a"
   ]
  },
  {
   "cell_type": "code",
   "execution_count": 10,
   "id": "b4e9bcd6",
   "metadata": {},
   "outputs": [
    {
     "data": {
      "text/plain": [
       "20"
      ]
     },
     "execution_count": 10,
     "metadata": {},
     "output_type": "execute_result"
    }
   ],
   "source": [
    "a=[10,20,30]\n",
    "a.pop(1)"
   ]
  },
  {
   "cell_type": "code",
   "execution_count": 12,
   "id": "286063e9",
   "metadata": {},
   "outputs": [
    {
     "data": {
      "text/plain": [
       "[10, 30]"
      ]
     },
     "execution_count": 12,
     "metadata": {},
     "output_type": "execute_result"
    }
   ],
   "source": [
    "a"
   ]
  },
  {
   "cell_type": "code",
   "execution_count": 13,
   "id": "55f97160",
   "metadata": {},
   "outputs": [],
   "source": [
    "# 튜플? 리스트와 거의 비슷.\n",
    "# 리스트 : [], 튜플 : ()\n",
    "# 리스트는 데이터를 생성,수정, 삭제 등 수행 \n",
    "# 튜플은 데이터를 변경할 수 없음.\n",
    "# - 튜플은 데이터 참조용으로 사용할때 많이 사용되어짐. "
   ]
  },
  {
   "cell_type": "code",
   "execution_count": 24,
   "id": "87ce84c9",
   "metadata": {},
   "outputs": [
    {
     "name": "stdout",
     "output_type": "stream",
     "text": [
      "<class 'tuple'>\n",
      "<class 'int'>\n",
      "<class 'tuple'>\n",
      "(10, 20, 30)\n"
     ]
    },
    {
     "data": {
      "text/plain": [
       "(1, 2)"
      ]
     },
     "execution_count": 24,
     "metadata": {},
     "output_type": "execute_result"
    }
   ],
   "source": [
    "tup1=()\n",
    "tup1\n",
    "print(type(tup1))\n",
    "\n",
    "tup2=(1) # 잘못사용된 예\n",
    "tup2\n",
    "print(type(tup2)) #int\n",
    "\n",
    "tup2=(1,)\n",
    "tup2\n",
    "print(type(tup2))\n",
    "\n",
    "tup3=(10, 20, 30)\n",
    "print(tup3) # 결과가 소괄호로 묶여 있다....? 튜플 \n",
    "\n",
    "tup4=1,2 \n",
    "print(tup4) "
   ]
  },
  {
   "cell_type": "code",
   "execution_count": 26,
   "id": "2ddafeab",
   "metadata": {},
   "outputs": [
    {
     "data": {
      "text/plain": [
       "(1, 2)"
      ]
     },
     "execution_count": 26,
     "metadata": {},
     "output_type": "execute_result"
    }
   ],
   "source": [
    "tup4"
   ]
  },
  {
   "cell_type": "code",
   "execution_count": 29,
   "id": "ba971852",
   "metadata": {},
   "outputs": [
    {
     "ename": "TypeError",
     "evalue": "'tuple' object does not support item assignment",
     "output_type": "error",
     "traceback": [
      "\u001b[1;31m---------------------------------------------------------------------------\u001b[0m",
      "\u001b[1;31mTypeError\u001b[0m                                 Traceback (most recent call last)",
      "\u001b[1;32m<ipython-input-29-2f32fe67af8e>\u001b[0m in \u001b[0;36m<module>\u001b[1;34m\u001b[0m\n\u001b[0;32m      3\u001b[0m \u001b[1;31m# del tup4[0]\u001b[0m\u001b[1;33m\u001b[0m\u001b[1;33m\u001b[0m\u001b[1;33m\u001b[0m\u001b[0m\n\u001b[0;32m      4\u001b[0m \u001b[1;33m\u001b[0m\u001b[0m\n\u001b[1;32m----> 5\u001b[1;33m \u001b[0mtup4\u001b[0m\u001b[1;33m[\u001b[0m\u001b[1;36m1\u001b[0m\u001b[1;33m]\u001b[0m\u001b[1;33m=\u001b[0m \u001b[1;36m3\u001b[0m\u001b[1;33m\u001b[0m\u001b[1;33m\u001b[0m\u001b[0m\n\u001b[0m",
      "\u001b[1;31mTypeError\u001b[0m: 'tuple' object does not support item assignment"
     ]
    }
   ],
   "source": [
    "# 특정요소를 제거\n",
    "# 에러 발생의 경우 \n",
    "# del tup4[0]\n",
    "\n",
    "tup4[1]= 3"
   ]
  },
  {
   "cell_type": "code",
   "execution_count": 31,
   "id": "564705e7",
   "metadata": {},
   "outputs": [
    {
     "data": {
      "text/plain": [
       "(1, 2)"
      ]
     },
     "execution_count": 31,
     "metadata": {},
     "output_type": "execute_result"
    }
   ],
   "source": [
    "tup4"
   ]
  },
  {
   "cell_type": "code",
   "execution_count": 33,
   "id": "85248923",
   "metadata": {},
   "outputs": [],
   "source": [
    "l4 = list(tup4) # 튜플 -> 리스트"
   ]
  },
  {
   "cell_type": "code",
   "execution_count": 35,
   "id": "366f244f",
   "metadata": {},
   "outputs": [
    {
     "data": {
      "text/plain": [
       "[1, 3]"
      ]
     },
     "execution_count": 35,
     "metadata": {},
     "output_type": "execute_result"
    }
   ],
   "source": [
    "l4[1]=3\n",
    "l4"
   ]
  },
  {
   "cell_type": "code",
   "execution_count": 38,
   "id": "a3d9644d",
   "metadata": {},
   "outputs": [],
   "source": [
    "tup4=tuple(l4) # 리스트 -> 튜플"
   ]
  },
  {
   "cell_type": "code",
   "execution_count": 40,
   "id": "934b0ad8",
   "metadata": {},
   "outputs": [
    {
     "data": {
      "text/plain": [
       "(1, 3)"
      ]
     },
     "execution_count": 40,
     "metadata": {},
     "output_type": "execute_result"
    }
   ],
   "source": [
    "tup4"
   ]
  },
  {
   "cell_type": "code",
   "execution_count": 43,
   "id": "46799927",
   "metadata": {},
   "outputs": [
    {
     "data": {
      "text/plain": [
       "(10, 20, '가', '나')"
      ]
     },
     "execution_count": 43,
     "metadata": {},
     "output_type": "execute_result"
    }
   ],
   "source": [
    "tup5 = (10,20, '가','나')\n",
    "tup5"
   ]
  },
  {
   "cell_type": "code",
   "execution_count": 47,
   "id": "b9a1b8f7",
   "metadata": {},
   "outputs": [
    {
     "name": "stdout",
     "output_type": "stream",
     "text": [
      "나\n",
      "('가', '나')\n"
     ]
    }
   ],
   "source": [
    "print(tup5[3])\n",
    "print(tup5[2:])"
   ]
  },
  {
   "cell_type": "code",
   "execution_count": 53,
   "id": "6f773321",
   "metadata": {},
   "outputs": [
    {
     "name": "stdout",
     "output_type": "stream",
     "text": [
      "(10, 20, '가', '나')\n",
      "(10, 20, 30)\n"
     ]
    },
    {
     "data": {
      "text/plain": [
       "(10, 20, '가', '나', 10, 20, 30)"
      ]
     },
     "execution_count": 53,
     "metadata": {},
     "output_type": "execute_result"
    }
   ],
   "source": [
    "print(tup5)\n",
    "print(tup3)\n",
    "tup5+tup3"
   ]
  },
  {
   "cell_type": "code",
   "execution_count": 54,
   "id": "e8695650",
   "metadata": {},
   "outputs": [
    {
     "data": {
      "text/plain": [
       "[1, 2, 3, 4]"
      ]
     },
     "execution_count": 54,
     "metadata": {},
     "output_type": "execute_result"
    }
   ],
   "source": [
    "li1 = [1,2]\n",
    "li2 = [3,4]\n",
    "li1+li2"
   ]
  },
  {
   "cell_type": "code",
   "execution_count": 56,
   "id": "ad3b4f73",
   "metadata": {},
   "outputs": [
    {
     "data": {
      "text/plain": [
       "[1, 2, 1, 2, 1, 2, 1, 2, 1, 2]"
      ]
     },
     "execution_count": 56,
     "metadata": {},
     "output_type": "execute_result"
    }
   ],
   "source": [
    "li1*5"
   ]
  },
  {
   "cell_type": "code",
   "execution_count": 59,
   "id": "d0aee66a",
   "metadata": {},
   "outputs": [
    {
     "data": {
      "text/plain": [
       "(10, 20, '가', '나')"
      ]
     },
     "execution_count": 59,
     "metadata": {},
     "output_type": "execute_result"
    }
   ],
   "source": [
    "tup5"
   ]
  },
  {
   "cell_type": "code",
   "execution_count": 61,
   "id": "18e941ae",
   "metadata": {},
   "outputs": [
    {
     "data": {
      "text/plain": [
       "(10, 20, '가', '나', 10, 20, '가', '나', 10, 20, '가', '나')"
      ]
     },
     "execution_count": 61,
     "metadata": {},
     "output_type": "execute_result"
    }
   ],
   "source": [
    "tup5*3"
   ]
  },
  {
   "cell_type": "code",
   "execution_count": 63,
   "id": "eb01aa75",
   "metadata": {},
   "outputs": [
    {
     "data": {
      "text/plain": [
       "2"
      ]
     },
     "execution_count": 63,
     "metadata": {},
     "output_type": "execute_result"
    }
   ],
   "source": [
    "len(li1)"
   ]
  },
  {
   "cell_type": "code",
   "execution_count": 66,
   "id": "7997bf3e",
   "metadata": {},
   "outputs": [
    {
     "data": {
      "text/plain": [
       "4"
      ]
     },
     "execution_count": 66,
     "metadata": {},
     "output_type": "execute_result"
    }
   ],
   "source": [
    "len(tup5)"
   ]
  },
  {
   "cell_type": "code",
   "execution_count": 68,
   "id": "51bfcfe2",
   "metadata": {},
   "outputs": [
    {
     "data": {
      "text/plain": [
       "range(0, 5)"
      ]
     },
     "execution_count": 68,
     "metadata": {},
     "output_type": "execute_result"
    }
   ],
   "source": [
    "range(5) #0~4"
   ]
  },
  {
   "cell_type": "code",
   "execution_count": 70,
   "id": "438f8cbf",
   "metadata": {},
   "outputs": [
    {
     "data": {
      "text/plain": [
       "(0, 1, 2, 3, 4)"
      ]
     },
     "execution_count": 70,
     "metadata": {},
     "output_type": "execute_result"
    }
   ],
   "source": [
    "tuple(range(5))"
   ]
  },
  {
   "cell_type": "code",
   "execution_count": 72,
   "id": "7c7fcb64",
   "metadata": {},
   "outputs": [
    {
     "data": {
      "text/plain": [
       "[0, 1, 2, 3, 4]"
      ]
     },
     "execution_count": 72,
     "metadata": {},
     "output_type": "execute_result"
    }
   ],
   "source": [
    "list(range(5))"
   ]
  },
  {
   "cell_type": "code",
   "execution_count": 75,
   "id": "7192ef51",
   "metadata": {},
   "outputs": [
    {
     "data": {
      "text/plain": [
       "(10, 11, 12, 13, 14)"
      ]
     },
     "execution_count": 75,
     "metadata": {},
     "output_type": "execute_result"
    }
   ],
   "source": [
    "tuple(range(10, 15))"
   ]
  },
  {
   "cell_type": "code",
   "execution_count": 77,
   "id": "85e0dec1",
   "metadata": {},
   "outputs": [
    {
     "data": {
      "text/plain": [
       "['d', 'a', 't', 'a']"
      ]
     },
     "execution_count": 77,
     "metadata": {},
     "output_type": "execute_result"
    }
   ],
   "source": [
    "list(\"data\") # list 함수를 통해서 문자열을 넣게 되었을때, 문자열 list 가 생성 되어짐"
   ]
  },
  {
   "cell_type": "code",
   "execution_count": 79,
   "id": "4e358466",
   "metadata": {},
   "outputs": [
    {
     "data": {
      "text/plain": [
       "('d', 'a', 't', 'a')"
      ]
     },
     "execution_count": 79,
     "metadata": {},
     "output_type": "execute_result"
    }
   ],
   "source": [
    "tuple(\"data\")"
   ]
  },
  {
   "cell_type": "code",
   "execution_count": 80,
   "id": "39d5b7e3",
   "metadata": {},
   "outputs": [],
   "source": [
    "# set(셋): 파이썬에서 집합을 의미\n",
    "# 중복된 데이터가 없게끔 만들어줌\n",
    "# 중괄호, 컴마 구분"
   ]
  },
  {
   "cell_type": "code",
   "execution_count": 90,
   "id": "189f4145",
   "metadata": {},
   "outputs": [
    {
     "name": "stdout",
     "output_type": "stream",
     "text": [
      "{1, 2, 3, 4}\n",
      "{'hello', 'bye', 'hi'}\n"
     ]
    }
   ],
   "source": [
    "s1={1,2,3,1,2,4}\n",
    "print(s1)\n",
    "s2={'hi', 'hello', 'bye', 'hi'}\n",
    "print(s2) # 자료가 랜덤하게 출력, 저장 순서가 없음 => 대괄호 기호를 사용하여 데이터 참조를 할 수 없음.\n",
    "\n",
    "# ex\n",
    "#s2 = {'a', 3, 'b', 1, 'c', 1, 2, 3} # {1, 2, 3, 'a', 'b', 'c'}\n",
    "#print(s2)"
   ]
  },
  {
   "cell_type": "code",
   "execution_count": 92,
   "id": "610fb29d",
   "metadata": {},
   "outputs": [
    {
     "ename": "TypeError",
     "evalue": "'set' object is not subscriptable",
     "output_type": "error",
     "traceback": [
      "\u001b[1;31m---------------------------------------------------------------------------\u001b[0m",
      "\u001b[1;31mTypeError\u001b[0m                                 Traceback (most recent call last)",
      "\u001b[1;32m<ipython-input-92-1be974d7b035>\u001b[0m in \u001b[0;36m<module>\u001b[1;34m\u001b[0m\n\u001b[0;32m      1\u001b[0m \u001b[1;31m# 리스트나 튜플에서는 데이터 참조시 대괄호([]) 기호를 사용\u001b[0m\u001b[1;33m\u001b[0m\u001b[1;33m\u001b[0m\u001b[1;33m\u001b[0m\u001b[0m\n\u001b[0;32m      2\u001b[0m \u001b[1;31m# 리스트 변수명 [3] : 3번 index 자료 추출\u001b[0m\u001b[1;33m\u001b[0m\u001b[1;33m\u001b[0m\u001b[1;33m\u001b[0m\u001b[0m\n\u001b[1;32m----> 3\u001b[1;33m \u001b[0ms2\u001b[0m\u001b[1;33m[\u001b[0m\u001b[1;36m1\u001b[0m\u001b[1;33m]\u001b[0m\u001b[1;33m\u001b[0m\u001b[1;33m\u001b[0m\u001b[0m\n\u001b[0m",
      "\u001b[1;31mTypeError\u001b[0m: 'set' object is not subscriptable"
     ]
    }
   ],
   "source": [
    "# 리스트나 튜플에서는 데이터 참조시 대괄호([]) 기호를 사용\n",
    "# 리스트 변수명 [3] : 3번 index 자료 추출\n",
    "s2[1]"
   ]
  },
  {
   "cell_type": "code",
   "execution_count": 94,
   "id": "ca1dc5d3",
   "metadata": {},
   "outputs": [
    {
     "data": {
      "text/plain": [
       "{'bye', 'hello', 'hi'}"
      ]
     },
     "execution_count": 94,
     "metadata": {},
     "output_type": "execute_result"
    }
   ],
   "source": [
    "s2={'hi', 'hello', 'bye', 'hi'}\n",
    "s2"
   ]
  },
  {
   "cell_type": "code",
   "execution_count": 96,
   "id": "190ea4e9",
   "metadata": {},
   "outputs": [
    {
     "data": {
      "text/plain": [
       "False"
      ]
     },
     "execution_count": 96,
     "metadata": {},
     "output_type": "execute_result"
    }
   ],
   "source": [
    "# in 연산자\n",
    "'key' in s2\n",
    "'bye' in s2\n",
    "\n",
    "# not in 연산자\n",
    "'bye' not in s2"
   ]
  },
  {
   "cell_type": "code",
   "execution_count": 97,
   "id": "d5b2fa6d",
   "metadata": {},
   "outputs": [],
   "source": [
    "a=set('hello')\n",
    "a "
   ]
  },
  {
   "cell_type": "code",
   "execution_count": 98,
   "id": "64211ea3",
   "metadata": {},
   "outputs": [
    {
     "data": {
      "text/plain": [
       "range(0, 5)"
      ]
     },
     "execution_count": 98,
     "metadata": {},
     "output_type": "execute_result"
    }
   ],
   "source": [
    "range(5) # range 객체 : 0~4 까지 범위를 갖는 값들을 포장해 놓은 포장물(객체)\n",
    "\n",
    "# 객체? 객체지향언어에 등장하는 클래스로부터 파생된 실체 (인스턴스)"
   ]
  },
  {
   "cell_type": "code",
   "execution_count": null,
   "id": "074ec036",
   "metadata": {},
   "outputs": [],
   "source": [
    "list(range(5)) # 포장지를 뜯어성리스트 형태로 만듦\n",
    "tuple(range(5)) # 포장지를 뜯어성 튜플 형태로 만듦\n",
    "set(range(5))   # 포장지를 뜯어성집합 형태로 만듦"
   ]
  },
  {
   "cell_type": "code",
   "execution_count": 99,
   "id": "ebe3f364",
   "metadata": {},
   "outputs": [
    {
     "data": {
      "text/plain": [
       "set()"
      ]
     },
     "execution_count": 99,
     "metadata": {},
     "output_type": "execute_result"
    }
   ],
   "source": [
    "c=set()\n",
    "c # 공집합"
   ]
  },
  {
   "cell_type": "code",
   "execution_count": 101,
   "id": "b85892ab",
   "metadata": {},
   "outputs": [
    {
     "data": {
      "text/plain": [
       "dict"
      ]
     },
     "execution_count": 101,
     "metadata": {},
     "output_type": "execute_result"
    }
   ],
   "source": [
    "c={} #dictionary\n",
    "type(c)"
   ]
  },
  {
   "cell_type": "code",
   "execution_count": 103,
   "id": "67fcacf9",
   "metadata": {},
   "outputs": [
    {
     "data": {
      "text/plain": [
       "{' ', '가', '반', '요', '워'}"
      ]
     },
     "execution_count": 103,
     "metadata": {},
     "output_type": "execute_result"
    }
   ],
   "source": [
    "set(\"반가워요 반가워\")"
   ]
  },
  {
   "cell_type": "code",
   "execution_count": 104,
   "id": "de81cbb7",
   "metadata": {},
   "outputs": [],
   "source": [
    "a={10,20,30}\n",
    "b={30,40,50}\n",
    "#c={} dict"
   ]
  },
  {
   "cell_type": "code",
   "execution_count": 108,
   "id": "e24314df",
   "metadata": {},
   "outputs": [
    {
     "data": {
      "text/plain": [
       "{10, 20, 30, 40, 50}"
      ]
     },
     "execution_count": 108,
     "metadata": {},
     "output_type": "execute_result"
    }
   ],
   "source": [
    "a | b # or 연산자, 합집합 \n",
    "set.union(a,b)\n",
    "\n"
   ]
  },
  {
   "cell_type": "code",
   "execution_count": 110,
   "id": "1043d751",
   "metadata": {},
   "outputs": [
    {
     "data": {
      "text/plain": [
       "{30}"
      ]
     },
     "execution_count": 110,
     "metadata": {},
     "output_type": "execute_result"
    }
   ],
   "source": [
    "# 교집합 (intersection)\n",
    "a & b # and 연산자, 교집합\n",
    "set.intersection(a,b)\n"
   ]
  },
  {
   "cell_type": "code",
   "execution_count": 113,
   "id": "3c631c42",
   "metadata": {},
   "outputs": [
    {
     "data": {
      "text/plain": [
       "{10, 20}"
      ]
     },
     "execution_count": 113,
     "metadata": {},
     "output_type": "execute_result"
    }
   ],
   "source": [
    "# 차집합 (difference)\n",
    "a-b\n",
    "set.difference(a,b)"
   ]
  },
  {
   "cell_type": "code",
   "execution_count": 117,
   "id": "5d881a9c",
   "metadata": {},
   "outputs": [
    {
     "data": {
      "text/plain": [
       "{10, 20, 40, 50}"
      ]
     },
     "execution_count": 117,
     "metadata": {},
     "output_type": "execute_result"
    }
   ],
   "source": [
    "# 대칭차집합, XOR 연산\n",
    "a^b\n"
   ]
  },
  {
   "cell_type": "code",
   "execution_count": 121,
   "id": "0722de76",
   "metadata": {},
   "outputs": [
    {
     "data": {
      "text/plain": [
       "{10, 30, 40}"
      ]
     },
     "execution_count": 121,
     "metadata": {},
     "output_type": "execute_result"
    }
   ],
   "source": [
    "# 값 1개 추가하기 \n",
    "# 이미 만들어진 set 자료형에 값을 추가 할 수 있다.\n",
    "a.add(40)\n",
    "a"
   ]
  },
  {
   "cell_type": "code",
   "execution_count": 119,
   "id": "f2680df3",
   "metadata": {},
   "outputs": [
    {
     "data": {
      "text/plain": [
       "{10, 30}"
      ]
     },
     "execution_count": 119,
     "metadata": {},
     "output_type": "execute_result"
    }
   ],
   "source": [
    "a.remove(20)\n",
    "a"
   ]
  },
  {
   "cell_type": "code",
   "execution_count": 123,
   "id": "fc9cefa1",
   "metadata": {},
   "outputs": [],
   "source": [
    "#a.remove(30) 에러발생\n",
    "# 데이터가 없는 경우 remove 를 사용했을때는 에러가 발생됨\n",
    "#a.discard(20) 에러 발생 안함 \n",
    "# 데이터가 없는 경우 discard 를 사용했을때는 에러가 발생되지 않음\n",
    "a.discard(30)"
   ]
  },
  {
   "cell_type": "code",
   "execution_count": 135,
   "id": "a12b86f2",
   "metadata": {},
   "outputs": [],
   "source": [
    "a={'sk',10,20,30,'가','k'}"
   ]
  },
  {
   "cell_type": "code",
   "execution_count": 136,
   "id": "eecc641c",
   "metadata": {},
   "outputs": [
    {
     "data": {
      "text/plain": [
       "10"
      ]
     },
     "execution_count": 136,
     "metadata": {},
     "output_type": "execute_result"
    }
   ],
   "source": [
    "a.pop()"
   ]
  },
  {
   "cell_type": "code",
   "execution_count": 137,
   "id": "bec10622",
   "metadata": {},
   "outputs": [
    {
     "data": {
      "text/plain": [
       "{20, 30, 'k', 'sk', '가'}"
      ]
     },
     "execution_count": 137,
     "metadata": {},
     "output_type": "execute_result"
    }
   ],
   "source": [
    "a"
   ]
  },
  {
   "cell_type": "code",
   "execution_count": 138,
   "id": "a763a751",
   "metadata": {},
   "outputs": [
    {
     "data": {
      "text/plain": [
       "'k'"
      ]
     },
     "execution_count": 138,
     "metadata": {},
     "output_type": "execute_result"
    }
   ],
   "source": [
    "a.pop()"
   ]
  },
  {
   "cell_type": "code",
   "execution_count": 140,
   "id": "56687a39",
   "metadata": {},
   "outputs": [
    {
     "data": {
      "text/plain": [
       "{20, 30, 'sk', '가'}"
      ]
     },
     "execution_count": 140,
     "metadata": {},
     "output_type": "execute_result"
    }
   ],
   "source": [
    "a"
   ]
  },
  {
   "cell_type": "code",
   "execution_count": 141,
   "id": "37747386",
   "metadata": {},
   "outputs": [],
   "source": [
    "# 집합은 자료의 순서가 유지강 안됨\n",
    "# set 자료구조는 자료의 저장 순서가 필요없으면서 중복을 제거해야 하는 상황"
   ]
  },
  {
   "cell_type": "code",
   "execution_count": 142,
   "id": "1a1259f1",
   "metadata": {},
   "outputs": [],
   "source": [
    "a.clear() # 자료 삭제"
   ]
  },
  {
   "cell_type": "code",
   "execution_count": 144,
   "id": "22168ce4",
   "metadata": {},
   "outputs": [
    {
     "data": {
      "text/plain": [
       "set()"
      ]
     },
     "execution_count": 144,
     "metadata": {},
     "output_type": "execute_result"
    }
   ],
   "source": [
    "a"
   ]
  },
  {
   "cell_type": "code",
   "execution_count": 156,
   "id": "fcf7d614",
   "metadata": {},
   "outputs": [],
   "source": [
    "s={10,20,30}"
   ]
  },
  {
   "cell_type": "code",
   "execution_count": 157,
   "id": "405a4c99",
   "metadata": {},
   "outputs": [],
   "source": [
    "s2=s"
   ]
  },
  {
   "cell_type": "code",
   "execution_count": 158,
   "id": "fc3d0c68",
   "metadata": {},
   "outputs": [
    {
     "data": {
      "text/plain": [
       "{10, 20, 30}"
      ]
     },
     "execution_count": 158,
     "metadata": {},
     "output_type": "execute_result"
    }
   ],
   "source": [
    "s2"
   ]
  },
  {
   "cell_type": "code",
   "execution_count": null,
   "id": "9a826467",
   "metadata": {},
   "outputs": [],
   "source": [
    "#대입연산자로 새로운 변수에 할당하게 되면, 셋이 2개가 아니라 여전히 1개"
   ]
  },
  {
   "cell_type": "code",
   "execution_count": 160,
   "id": "249631cb",
   "metadata": {},
   "outputs": [
    {
     "data": {
      "text/plain": [
       "{10, 20, 30, 40}"
      ]
     },
     "execution_count": 160,
     "metadata": {},
     "output_type": "execute_result"
    }
   ],
   "source": [
    "s2.add(40)\n",
    "s2"
   ]
  },
  {
   "cell_type": "code",
   "execution_count": 163,
   "id": "675a40b6",
   "metadata": {},
   "outputs": [
    {
     "data": {
      "text/plain": [
       "{10, 20, 30, 40}"
      ]
     },
     "execution_count": 163,
     "metadata": {},
     "output_type": "execute_result"
    }
   ],
   "source": [
    "s"
   ]
  },
  {
   "cell_type": "code",
   "execution_count": 165,
   "id": "5b86f3d6",
   "metadata": {},
   "outputs": [
    {
     "data": {
      "text/plain": [
       "True"
      ]
     },
     "execution_count": 165,
     "metadata": {},
     "output_type": "execute_result"
    }
   ],
   "source": [
    "# s, s2 집합이 동일한 집합인지 확인하는 연산자 \n",
    "# is : \n",
    "\n",
    "s is s2"
   ]
  },
  {
   "cell_type": "code",
   "execution_count": 166,
   "id": "4f9b247b",
   "metadata": {},
   "outputs": [],
   "source": [
    "# copy() : 두 개의 완전히 분리된 집합을 생성하기 위한 함수"
   ]
  },
  {
   "cell_type": "code",
   "execution_count": 169,
   "id": "f12651f1",
   "metadata": {},
   "outputs": [],
   "source": [
    "a={10, 20, 30}"
   ]
  },
  {
   "cell_type": "code",
   "execution_count": 170,
   "id": "4cf2cda4",
   "metadata": {},
   "outputs": [],
   "source": [
    "# b=a 동일한 집합 \n",
    "b=a.copy()"
   ]
  },
  {
   "cell_type": "code",
   "execution_count": 173,
   "id": "afb15c8a",
   "metadata": {},
   "outputs": [
    {
     "data": {
      "text/plain": [
       "{10, 20, 30}"
      ]
     },
     "execution_count": 173,
     "metadata": {},
     "output_type": "execute_result"
    }
   ],
   "source": [
    "b"
   ]
  },
  {
   "cell_type": "code",
   "execution_count": 175,
   "id": "9728dadb",
   "metadata": {},
   "outputs": [
    {
     "name": "stdout",
     "output_type": "stream",
     "text": [
      "False\n"
     ]
    }
   ],
   "source": [
    "# 두 집합이 동일한지 확인\n",
    "print(a is b)\n",
    "# False 의 의미 ? a 집합과 b 집합의 자료들이 자료들이 메모리 상의 다른 위치에 저장되어 있다. \n",
    "\n",
    "# == : 두 집합에 속해 있는 요소가 동일한지 확인.\n",
    "print(a == b) "
   ]
  },
  {
   "cell_type": "markdown",
   "id": "86f78ea8",
   "metadata": {},
   "source": [
    "# dictionary 딕셔너리 (매우중요)"
   ]
  },
  {
   "cell_type": "markdown",
   "id": "ae2f6237",
   "metadata": {},
   "source": [
    "### * 단어 : 설명 \n",
    "### * 딕셔너리 -> 키 : 값 \n",
    "### * 딕셔너리 : 키와 값(밸류, valuse) 의 쌍으로 구성 \n",
    "### * json 파일이 딕셔너리 구조 "
   ]
  },
  {
   "cell_type": "markdown",
   "id": "275bcb0f",
   "metadata": {},
   "source": [
    "### 딕셔너리 = {키1: 값1, 키2: 값2, ..... 키n: 값n}"
   ]
  },
  {
   "cell_type": "code",
   "execution_count": 191,
   "id": "1769366d",
   "metadata": {},
   "outputs": [],
   "source": [
    "people={'name':'kim'\n",
    "        , 'cp':114\n",
    "        , 'birth': '0707'\n",
    "        , 'gender': None\n",
    "        , 10: 'ten'\n",
    "        , True:1\n",
    "        , 'nickname' : ['ai', 'root']\n",
    "        #, ['ai', 'root'] : 'nickname'\n",
    "        , 'dic1' : {'dic2': 'vlaue1', 'dic3' : 'value2'}\n",
    "        , 'cp' : 119 # 키 이름이 중복되면 마지막 키에 해당하는 값이 저장\n",
    "        }\n",
    "# 버전에 따라 결과가 다르게 나올 수 있음. \n",
    "# 파이썬 버전 등... 사용한 버전 정보를 기록 하는게 좋다. (산출물 등에 명시)\n",
    "# 숫자보다 문자열로 key 값을 사용하는것이 좋음. 어떤 의도 어떤 것인지 보기에 좋음, 또 자료들이 대부분 문자열로 되어있음\n"
   ]
  },
  {
   "cell_type": "code",
   "execution_count": 192,
   "id": "f8bf0289",
   "metadata": {},
   "outputs": [
    {
     "data": {
      "text/plain": [
       "{'name': 'kim',\n",
       " 'cp': 119,\n",
       " 'birth': '0707',\n",
       " 'gender': None,\n",
       " 10: 'ten',\n",
       " True: 1,\n",
       " 'nickname': ['ai', 'root'],\n",
       " 'dic1': {'dic2': 'vlaue1', 'dic3': 'value2'}}"
      ]
     },
     "execution_count": 192,
     "metadata": {},
     "output_type": "execute_result"
    }
   ],
   "source": [
    "people\n"
   ]
  },
  {
   "cell_type": "markdown",
   "id": "d921132c",
   "metadata": {},
   "source": [
    "변수명 = {\n",
    "\n",
    "    성명, \n",
    "    주소, \n",
    "    성별, \n",
    "    별명,\n",
    "    취미\n",
    "\n",
    "}"
   ]
  },
  {
   "cell_type": "code",
   "execution_count": 194,
   "id": "351dd275",
   "metadata": {},
   "outputs": [],
   "source": [
    "jsson = {\n",
    "    '성명': '손준수', \n",
    "    '주소': '서울 강동구', \n",
    "    '성별': '남자', \n",
    "    '별명': '준츄',\n",
    "    '취미': ['게임하기','운동하기', '노래감상']\n",
    "}"
   ]
  },
  {
   "cell_type": "code",
   "execution_count": 196,
   "id": "169f3bb7",
   "metadata": {},
   "outputs": [
    {
     "data": {
      "text/plain": [
       "{'성명': '손준수',\n",
       " '주소': '서울 강동구',\n",
       " '성별': '남자',\n",
       " '별명': '준츄',\n",
       " '취미': ['게임하기', '운동하기', '노래감상']}"
      ]
     },
     "execution_count": 196,
     "metadata": {},
     "output_type": "execute_result"
    }
   ],
   "source": [
    "jsson"
   ]
  },
  {
   "cell_type": "code",
   "execution_count": 199,
   "id": "30074c63",
   "metadata": {},
   "outputs": [
    {
     "data": {
      "text/plain": [
       "dict"
      ]
     },
     "execution_count": 199,
     "metadata": {},
     "output_type": "execute_result"
    }
   ],
   "source": [
    "s={} # dic 생성\n",
    "s=dict()\n",
    "type(s)"
   ]
  },
  {
   "cell_type": "code",
   "execution_count": 227,
   "id": "a30af1fa",
   "metadata": {},
   "outputs": [
    {
     "data": {
      "text/plain": [
       "{'name': 'kim', 'cp': 114}"
      ]
     },
     "execution_count": 227,
     "metadata": {},
     "output_type": "execute_result"
    }
   ],
   "source": [
    "dict()\n",
    "\n",
    "# people={'name':'kim', 'cp':114{}\n",
    "\n",
    "# mydic = dict(name='kim', cp=114)\n",
    "mydic = dict(name='kim', cp=114)\n",
    "\n",
    "# mydic = dict('name'='kim', 'cp'=114)\n",
    "#dict 함수를 사용해서 생성시에는 키에 작은 / 큰 따오묘를 사용한면 안됨!!! \n",
    "\n",
    "mydic"
   ]
  },
  {
   "cell_type": "code",
   "execution_count": 228,
   "id": "caf223b2",
   "metadata": {},
   "outputs": [
    {
     "data": {
      "text/plain": [
       "{}"
      ]
     },
     "execution_count": 228,
     "metadata": {},
     "output_type": "execute_result"
    }
   ],
   "source": [
    "# dict 함수 zip 함수를 활용하여 딕셔너리를 생성\n",
    "# 잘 사용하지 않는 방법 \n",
    "dict()"
   ]
  },
  {
   "cell_type": "code",
   "execution_count": 229,
   "id": "7688f5f2",
   "metadata": {},
   "outputs": [
    {
     "data": {
      "text/plain": [
       "{'one': 1, 'two': 2}"
      ]
     },
     "execution_count": 229,
     "metadata": {},
     "output_type": "execute_result"
    }
   ],
   "source": [
    "dict(zip(['one', 'two'], [1,2]))"
   ]
  },
  {
   "cell_type": "code",
   "execution_count": 230,
   "id": "d0871bd0",
   "metadata": {},
   "outputs": [
    {
     "data": {
      "text/plain": [
       "'kim'"
      ]
     },
     "execution_count": 230,
     "metadata": {},
     "output_type": "execute_result"
    }
   ],
   "source": [
    "# 딕셔너리의 키에 연결된 값을 추출하는 작업 \n",
    "mydic['name']"
   ]
  },
  {
   "cell_type": "code",
   "execution_count": 231,
   "id": "2d9702b4",
   "metadata": {},
   "outputs": [],
   "source": [
    "mydic['bloodtype'] = 'B'"
   ]
  },
  {
   "cell_type": "code",
   "execution_count": 232,
   "id": "d554cddb",
   "metadata": {},
   "outputs": [
    {
     "data": {
      "text/plain": [
       "{'name': 'kim', 'cp': 114, 'bloodtype': 'B'}"
      ]
     },
     "execution_count": 232,
     "metadata": {},
     "output_type": "execute_result"
    }
   ],
   "source": [
    "mydic"
   ]
  },
  {
   "cell_type": "code",
   "execution_count": 213,
   "id": "c6bbcc1a",
   "metadata": {},
   "outputs": [
    {
     "ename": "KeyError",
     "evalue": "'addr'",
     "output_type": "error",
     "traceback": [
      "\u001b[1;31m---------------------------------------------------------------------------\u001b[0m",
      "\u001b[1;31mKeyError\u001b[0m                                  Traceback (most recent call last)",
      "\u001b[1;32m<ipython-input-213-f2b612a9b266>\u001b[0m in \u001b[0;36m<module>\u001b[1;34m\u001b[0m\n\u001b[1;32m----> 1\u001b[1;33m \u001b[0mmydic\u001b[0m\u001b[1;33m[\u001b[0m\u001b[1;34m'addr'\u001b[0m\u001b[1;33m]\u001b[0m \u001b[1;31m# 없는 키를 호출 했을때,\u001b[0m\u001b[1;33m\u001b[0m\u001b[1;33m\u001b[0m\u001b[0m\n\u001b[0m",
      "\u001b[1;31mKeyError\u001b[0m: 'addr'"
     ]
    }
   ],
   "source": [
    "mydic['addr'] # 없는 키를 호출 했을때,"
   ]
  },
  {
   "cell_type": "code",
   "execution_count": 233,
   "id": "f2e33ab8",
   "metadata": {},
   "outputs": [],
   "source": [
    "mydic['cp'] = '119'"
   ]
  },
  {
   "cell_type": "code",
   "execution_count": 234,
   "id": "0eb16d03",
   "metadata": {},
   "outputs": [
    {
     "data": {
      "text/plain": [
       "{'name': 'kim', 'cp': '119', 'bloodtype': 'B'}"
      ]
     },
     "execution_count": 234,
     "metadata": {},
     "output_type": "execute_result"
    }
   ],
   "source": [
    "mydic"
   ]
  },
  {
   "cell_type": "code",
   "execution_count": 235,
   "id": "f70034f9",
   "metadata": {},
   "outputs": [
    {
     "data": {
      "text/plain": [
       "True"
      ]
     },
     "execution_count": 235,
     "metadata": {},
     "output_type": "execute_result"
    }
   ],
   "source": [
    "# mydic ['addr']\n",
    "\n",
    "# 딕셔너리 키가 존재? \n",
    "'name' in mydic"
   ]
  },
  {
   "cell_type": "code",
   "execution_count": 236,
   "id": "8edf3dcd",
   "metadata": {},
   "outputs": [
    {
     "data": {
      "text/plain": [
       "3"
      ]
     },
     "execution_count": 236,
     "metadata": {},
     "output_type": "execute_result"
    }
   ],
   "source": [
    "len(mydic) # 몇쌍 있느냐"
   ]
  },
  {
   "cell_type": "code",
   "execution_count": 242,
   "id": "375cde99",
   "metadata": {},
   "outputs": [],
   "source": [
    "# key 관련 함수 \n",
    "\n",
    "res = mydic.keys()"
   ]
  },
  {
   "cell_type": "code",
   "execution_count": 244,
   "id": "c2c83915",
   "metadata": {},
   "outputs": [
    {
     "data": {
      "text/plain": [
       "['name', 'cp', 'bloodtype']"
      ]
     },
     "execution_count": 244,
     "metadata": {},
     "output_type": "execute_result"
    }
   ],
   "source": [
    "list(res)"
   ]
  },
  {
   "cell_type": "code",
   "execution_count": 245,
   "id": "f816aa90",
   "metadata": {},
   "outputs": [
    {
     "name": "stdout",
     "output_type": "stream",
     "text": [
      "name\n",
      "cp\n",
      "bloodtype\n"
     ]
    }
   ],
   "source": [
    "for k in mydic.keys():\n",
    "    print(k)"
   ]
  },
  {
   "cell_type": "code",
   "execution_count": 247,
   "id": "0813c0d4",
   "metadata": {},
   "outputs": [
    {
     "data": {
      "text/plain": [
       "['kim', '119', 'B']"
      ]
     },
     "execution_count": 247,
     "metadata": {},
     "output_type": "execute_result"
    }
   ],
   "source": [
    "list(mydic.values())"
   ]
  },
  {
   "cell_type": "code",
   "execution_count": 248,
   "id": "aa00d4e1",
   "metadata": {},
   "outputs": [
    {
     "data": {
      "text/plain": [
       "dict_items([('name', 'kim'), ('cp', '119'), ('bloodtype', 'B')])"
      ]
     },
     "execution_count": 248,
     "metadata": {},
     "output_type": "execute_result"
    }
   ],
   "source": [
    "mydic.items()"
   ]
  },
  {
   "cell_type": "code",
   "execution_count": 249,
   "id": "ec5c3016",
   "metadata": {},
   "outputs": [
    {
     "data": {
      "text/plain": [
       "[('name', 'kim'), ('cp', '119'), ('bloodtype', 'B')]"
      ]
     },
     "execution_count": 249,
     "metadata": {},
     "output_type": "execute_result"
    }
   ],
   "source": [
    "list(mydic.items())\n",
    "# 1개의 리스트 내부에 3개의 튜플이 존재 \n",
    "# 각 튜플은 2개의 요소로 구성"
   ]
  },
  {
   "cell_type": "code",
   "execution_count": 251,
   "id": "237d3b28",
   "metadata": {},
   "outputs": [
    {
     "data": {
      "text/plain": [
       "1"
      ]
     },
     "execution_count": 251,
     "metadata": {},
     "output_type": "execute_result"
    }
   ],
   "source": [
    "li=[1, 2, 3]\n",
    "li[0]"
   ]
  },
  {
   "cell_type": "code",
   "execution_count": 254,
   "id": "9d583b4e",
   "metadata": {},
   "outputs": [],
   "source": [
    "li=[('name', 'kim'), ('cp', '119'), ('bloodtype', 'B')]"
   ]
  },
  {
   "cell_type": "code",
   "execution_count": 256,
   "id": "0c743ba4",
   "metadata": {},
   "outputs": [
    {
     "data": {
      "text/plain": [
       "'119'"
      ]
     },
     "execution_count": 256,
     "metadata": {},
     "output_type": "execute_result"
    }
   ],
   "source": [
    "list(mydic.items())[1][1]"
   ]
  },
  {
   "cell_type": "code",
   "execution_count": 257,
   "id": "cfd4658a",
   "metadata": {},
   "outputs": [
    {
     "data": {
      "text/plain": [
       "<function dict.clear>"
      ]
     },
     "execution_count": 257,
     "metadata": {},
     "output_type": "execute_result"
    }
   ],
   "source": [
    "mydic.clear()"
   ]
  },
  {
   "cell_type": "code",
   "execution_count": 259,
   "id": "0101d9c8",
   "metadata": {},
   "outputs": [],
   "source": [
    "li=[('name', 'kim'), ('cp', '119'), ('bloodtype', 'B')]"
   ]
  },
  {
   "cell_type": "code",
   "execution_count": 261,
   "id": "2d956dd3",
   "metadata": {},
   "outputs": [
    {
     "data": {
      "text/plain": [
       "{'name': 'kim', 'cp': '119', 'bloodtype': 'B'}"
      ]
     },
     "execution_count": 261,
     "metadata": {},
     "output_type": "execute_result"
    }
   ],
   "source": [
    "mydic=dict(li)\n",
    "mydic"
   ]
  },
  {
   "cell_type": "code",
   "execution_count": 265,
   "id": "a830d06a",
   "metadata": {},
   "outputs": [
    {
     "data": {
      "text/plain": [
       "'119'"
      ]
     },
     "execution_count": 265,
     "metadata": {},
     "output_type": "execute_result"
    }
   ],
   "source": [
    "mydic['cp'] # mydic.get('cp') 같은 구문"
   ]
  },
  {
   "cell_type": "code",
   "execution_count": 271,
   "id": "628063f5",
   "metadata": {},
   "outputs": [
    {
     "data": {
      "text/plain": [
       "'B'"
      ]
     },
     "execution_count": 271,
     "metadata": {},
     "output_type": "execute_result"
    }
   ],
   "source": [
    "# mydic['addr'] # 해당 키가 없는 경우에는 에러 발생\n",
    "# .get('addr') 은 해당 키가 없는 경우에도 에러가 발생되지 않음\n",
    "mydic.get('addr', '서울')\n",
    "\n",
    "# bloodtype 키가 존재하면 값을 리턴, 키가 존재하지 않으면 AFmf 디폴트값으로 리턴\n",
    "mydic.get('bloodtype', 'A')"
   ]
  },
  {
   "cell_type": "code",
   "execution_count": 273,
   "id": "e45d7c7e",
   "metadata": {},
   "outputs": [
    {
     "data": {
      "text/plain": [
       "{'name': 'kim', 'cp': '119', 'bloodtype': 'B'}"
      ]
     },
     "execution_count": 273,
     "metadata": {},
     "output_type": "execute_result"
    }
   ],
   "source": [
    "mydic\n"
   ]
  },
  {
   "cell_type": "code",
   "execution_count": 275,
   "id": "cb1ef7a2",
   "metadata": {},
   "outputs": [
    {
     "data": {
      "text/plain": [
       "False"
      ]
     },
     "execution_count": 275,
     "metadata": {},
     "output_type": "execute_result"
    }
   ],
   "source": [
    "# 특정 키가 잇는지 없는지 확인해야 하는 경우\n",
    "\n",
    "'nickname' in mydic"
   ]
  },
  {
   "cell_type": "code",
   "execution_count": 276,
   "id": "610ea3bc",
   "metadata": {},
   "outputs": [],
   "source": [
    "del mydic['cp']"
   ]
  },
  {
   "cell_type": "code",
   "execution_count": 2,
   "id": "f33ccc98",
   "metadata": {},
   "outputs": [
    {
     "ename": "NameError",
     "evalue": "name 'mydic' is not defined",
     "output_type": "error",
     "traceback": [
      "\u001b[1;31m---------------------------------------------------------------------------\u001b[0m",
      "\u001b[1;31mNameError\u001b[0m                                 Traceback (most recent call last)",
      "\u001b[1;32m<ipython-input-2-56129761d28c>\u001b[0m in \u001b[0;36m<module>\u001b[1;34m\u001b[0m\n\u001b[1;32m----> 1\u001b[1;33m \u001b[0mmydic\u001b[0m\u001b[1;33m\u001b[0m\u001b[1;33m\u001b[0m\u001b[0m\n\u001b[0m",
      "\u001b[1;31mNameError\u001b[0m: name 'mydic' is not defined"
     ]
    }
   ],
   "source": [
    "mydic"
   ]
  },
  {
   "cell_type": "code",
   "execution_count": null,
   "id": "6b01b636",
   "metadata": {},
   "outputs": [],
   "source": [
    "## 딕셔너리 연습##"
   ]
  },
  {
   "cell_type": "code",
   "execution_count": 18,
   "id": "4febac5c",
   "metadata": {},
   "outputs": [],
   "source": [
    "t={'새우깡': 1000, '감자칩':2000, '요구르트':500}"
   ]
  },
  {
   "cell_type": "code",
   "execution_count": 19,
   "id": "8559fb65",
   "metadata": {},
   "outputs": [
    {
     "data": {
      "text/plain": [
       "{'새우깡': 1000, '감자칩': 2000, '요구르트': 500}"
      ]
     },
     "execution_count": 19,
     "metadata": {},
     "output_type": "execute_result"
    }
   ],
   "source": [
    "t"
   ]
  },
  {
   "cell_type": "code",
   "execution_count": 20,
   "id": "c0f9137a",
   "metadata": {},
   "outputs": [],
   "source": [
    "t['생수'] = 500\n"
   ]
  },
  {
   "cell_type": "code",
   "execution_count": 21,
   "id": "771d3ba7",
   "metadata": {},
   "outputs": [
    {
     "data": {
      "text/plain": [
       "{'새우깡': 1000, '감자칩': 2000, '요구르트': 500, '생수': 500}"
      ]
     },
     "execution_count": 21,
     "metadata": {},
     "output_type": "execute_result"
    }
   ],
   "source": [
    "t"
   ]
  },
  {
   "cell_type": "code",
   "execution_count": 22,
   "id": "b2cbaeb8",
   "metadata": {},
   "outputs": [
    {
     "data": {
      "text/plain": [
       "1000"
      ]
     },
     "execution_count": 22,
     "metadata": {},
     "output_type": "execute_result"
    }
   ],
   "source": [
    "t['새우깡']\n",
    "t.get('새우깡')"
   ]
  },
  {
   "cell_type": "code",
   "execution_count": 23,
   "id": "3c0f062f",
   "metadata": {},
   "outputs": [],
   "source": [
    "t['감자칩']=1500"
   ]
  },
  {
   "cell_type": "code",
   "execution_count": 14,
   "id": "1b930f54",
   "metadata": {},
   "outputs": [
    {
     "data": {
      "text/plain": [
       "{'새우깡': 1000, '감자칩': 1500, '요구르트': 500, '생수': 500}"
      ]
     },
     "execution_count": 14,
     "metadata": {},
     "output_type": "execute_result"
    }
   ],
   "source": [
    "t"
   ]
  },
  {
   "cell_type": "code",
   "execution_count": 24,
   "id": "cc396689",
   "metadata": {},
   "outputs": [],
   "source": [
    "del t['요구르트']"
   ]
  },
  {
   "cell_type": "code",
   "execution_count": 26,
   "id": "71f378e2",
   "metadata": {},
   "outputs": [
    {
     "data": {
      "text/plain": [
       "{'새우깡': 1000, '감자칩': 1500, '생수': 500}"
      ]
     },
     "execution_count": 26,
     "metadata": {},
     "output_type": "execute_result"
    }
   ],
   "source": [
    "t"
   ]
  },
  {
   "cell_type": "code",
   "execution_count": 36,
   "id": "333c6c27",
   "metadata": {},
   "outputs": [],
   "source": [
    "# 새우깡 1000 5 \n",
    "# 생수 500 10 \n",
    "\n",
    "제품={'새우깡': [1000, 5]\n",
    ",'생수': [500, 10]}\n",
    "       \n",
    "       \n",
    "가격={'새우깡':1000, '생수':500}    \n",
    "재고 = {'새우깡':5, '생수':10}"
   ]
  },
  {
   "cell_type": "code",
   "execution_count": 37,
   "id": "b332c9e4",
   "metadata": {},
   "outputs": [
    {
     "name": "stdout",
     "output_type": "stream",
     "text": [
      "{'새우깡': [1000, 5], '생수': [500, 10]}\n",
      "{'새우깡': 1000, '생수': 500}\n",
      "{'새우깡': 5, '생수': 10}\n"
     ]
    }
   ],
   "source": [
    "print(제품)\n",
    "print(가격)\n",
    "print(재고)\n",
    "\n"
   ]
  },
  {
   "cell_type": "code",
   "execution_count": 38,
   "id": "a961315f",
   "metadata": {},
   "outputs": [
    {
     "data": {
      "text/plain": [
       "5"
      ]
     },
     "execution_count": 38,
     "metadata": {},
     "output_type": "execute_result"
    }
   ],
   "source": [
    "가격['새우깡']\n",
    "재고['새우깡']"
   ]
  },
  {
   "cell_type": "code",
   "execution_count": 40,
   "id": "410726ce",
   "metadata": {},
   "outputs": [
    {
     "data": {
      "text/plain": [
       "[500, 10]"
      ]
     },
     "execution_count": 40,
     "metadata": {},
     "output_type": "execute_result"
    }
   ],
   "source": [
    "제품['생수']"
   ]
  },
  {
   "cell_type": "code",
   "execution_count": 43,
   "id": "a419c1e5",
   "metadata": {},
   "outputs": [
    {
     "data": {
      "text/plain": [
       "'1000원'"
      ]
     },
     "execution_count": 43,
     "metadata": {},
     "output_type": "execute_result"
    }
   ],
   "source": [
    "str(가격['새우깡'])+\"원\""
   ]
  },
  {
   "cell_type": "code",
   "execution_count": 44,
   "id": "6c105ec7",
   "metadata": {},
   "outputs": [
    {
     "name": "stdout",
     "output_type": "stream",
     "text": [
      "1000원 5개\n"
     ]
    }
   ],
   "source": [
    "print(str(가격['새우깡'])+\"원\", str(재고['새우깡'])+\"개\")"
   ]
  },
  {
   "cell_type": "code",
   "execution_count": 46,
   "id": "59f27064",
   "metadata": {},
   "outputs": [],
   "source": [
    "제품={'새우깡': [1000, 5],'생수': [500, 10]}"
   ]
  },
  {
   "cell_type": "code",
   "execution_count": 52,
   "id": "ced330b7",
   "metadata": {},
   "outputs": [
    {
     "name": "stdout",
     "output_type": "stream",
     "text": [
      "10\n",
      "10개\n"
     ]
    }
   ],
   "source": [
    "#생수의 재고량을 출력 \n",
    "\n",
    "제품['생수'][1]\n",
    "\n",
    "print(제품['생수'][1])\n",
    "print(str(제품['생수'][1])+'개')"
   ]
  },
  {
   "cell_type": "code",
   "execution_count": 55,
   "id": "240859f9",
   "metadata": {},
   "outputs": [
    {
     "data": {
      "text/plain": [
       "'10개'"
      ]
     },
     "execution_count": 55,
     "metadata": {},
     "output_type": "execute_result"
    }
   ],
   "source": [
    "str(list(제품.items())[1][1][1]) + '개'"
   ]
  },
  {
   "cell_type": "code",
   "execution_count": 57,
   "id": "568ea233",
   "metadata": {},
   "outputs": [
    {
     "data": {
      "text/plain": [
       "['새우깡', '생수']"
      ]
     },
     "execution_count": 57,
     "metadata": {},
     "output_type": "execute_result"
    }
   ],
   "source": [
    "제품.keys()\n",
    "list(제품.keys())"
   ]
  },
  {
   "cell_type": "code",
   "execution_count": null,
   "id": "25565e52",
   "metadata": {},
   "outputs": [],
   "source": []
  }
 ],
 "metadata": {
  "kernelspec": {
   "display_name": "Python 3",
   "language": "python",
   "name": "python3"
  },
  "language_info": {
   "codemirror_mode": {
    "name": "ipython",
    "version": 3
   },
   "file_extension": ".py",
   "mimetype": "text/x-python",
   "name": "python",
   "nbconvert_exporter": "python",
   "pygments_lexer": "ipython3",
   "version": "3.8.8"
  }
 },
 "nbformat": 4,
 "nbformat_minor": 5
}
