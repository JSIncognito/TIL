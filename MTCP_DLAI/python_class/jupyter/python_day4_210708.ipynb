{
 "cells": [
  {
   "cell_type": "markdown",
   "id": "9060957b",
   "metadata": {},
   "source": [
    "* 자동차가 운행중 정지를 해야하는 상황\n",
    "\n",
    "``` \n",
    "if 신호등 == 빨강: \n",
    "    정지 \n",
    "if 카메라 == 물체감지:\n",
    "    정지 \n",
    "if 코로나단계 == 3: \n",
    "    집에서 식사  # 의사(pseudo) 코드\n",
    "if 코로나단계 == 2:\n",
    "    편의점에서 식사\n",
    "if 코로나단계 == 1:\n",
    "    식당에서 식사\n",
    "    \n",
    "    \n",
    "if 조건식 : \n",
    "    처리구문1\n",
    "    처리구문2\n",
    "    처리구문3\n",
    "    ...\n",
    "    처리구문n\n",
    "\n",
    "\n"
   ]
  },
  {
   "cell_type": "code",
   "execution_count": 3,
   "id": "00b4dd1b",
   "metadata": {},
   "outputs": [],
   "source": [
    "x = 3\n",
    "if x == 3:\n",
    "    pass # 나중에 코드 구현\n",
    "else: \n",
    "    print(\"다름\")\n",
    "# 파이썬에서만 존재하는 문법, 조건 만족시 아무 작업도 수행하지 않고 다음 줄로 이동\n",
    "# 조건을 만족했을때, 처리해야할 구문이 아직 정해지지 않은 상황 "
   ]
  },
  {
   "cell_type": "code",
   "execution_count": 4,
   "id": "5da8c50e",
   "metadata": {},
   "outputs": [],
   "source": [
    "#print(\"안녕하세요.\")"
   ]
  },
  {
   "cell_type": "markdown",
   "id": "d4d48df0",
   "metadata": {},
   "source": [
    "<!-- 주머니에 돈이 3000원 이상 있으면 택시를 이용 하겠다. \n",
    "\n",
    "if 주머니에 돈이 3000원 이상 :\n",
    "    택시를 이용 하겠다.\n",
    "else : \n",
    "    택시를 이용 하지 않겠다. -->\n",
    "    \n",
    "if 주머니의 돈 >= 3000 : # if True:\n",
    "    택시이용\n",
    "else : \n",
    "    도보이용 \n",
    "    \n",
    "    "
   ]
  },
  {
   "cell_type": "code",
   "execution_count": 6,
   "id": "5574dcc0",
   "metadata": {},
   "outputs": [
    {
     "ename": "SyntaxError",
     "evalue": "invalid syntax (<ipython-input-6-0412fa4d6a0a>, line 1)",
     "output_type": "error",
     "traceback": [
      "\u001b[1;36m  File \u001b[1;32m\"<ipython-input-6-0412fa4d6a0a>\"\u001b[1;36m, line \u001b[1;32m1\u001b[0m\n\u001b[1;33m    주머니의 돈 = 5000\u001b[0m\n\u001b[1;37m         ^\u001b[0m\n\u001b[1;31mSyntaxError\u001b[0m\u001b[1;31m:\u001b[0m invalid syntax\n"
     ]
    }
   ],
   "source": [
    "주머니의 돈 = 5000\n",
    "if 주머니의 돈 >= 3000 : # if True:\n",
    "    print(택시이용)\n",
    "print(\"지하철이용\")\n",
    "else : \n",
    "    도보이용 "
   ]
  },
  {
   "cell_type": "markdown",
   "id": "c7c5cf00",
   "metadata": {},
   "source": [
    "explicit(명시적) language : 파이썬, 자바, ... \n",
    "\n",
    "명시적 언어의 한계 : 모든 조건을 다 나열 할 수 없을 정도로 조건이 많음\n",
    "    \n",
    "-> \n",
    "    묵시적 언어 등장 : 머신러닝(인공지능) 언어\n",
    "    모든 조건을 나열하는 것이 아닌, 확률(통계) 적 접근하여 문제 해결 \n",
    "\n",
    "ex)\n",
    "    이세돌 <-> 알파고\n",
    "if 이세돌 1번 위치.... : \n",
    "\n",
    "elif 2번 위치 : \n",
    ".... \n",
    "... \n",
    "\n",
    "* 자동차가 운행중 정지를 해야하는 상황 \n",
    "if 카메라 == 사람감지 and 카메라 == 동물감지:\n",
    "    정지 \n",
    "\n",
    "not, and, or"
   ]
  },
  {
   "cell_type": "code",
   "execution_count": 8,
   "id": "fd3e1646",
   "metadata": {},
   "outputs": [
    {
     "ename": "NameError",
     "evalue": "name 'Ture' is not defined",
     "output_type": "error",
     "traceback": [
      "\u001b[1;31m---------------------------------------------------------------------------\u001b[0m",
      "\u001b[1;31mNameError\u001b[0m                                 Traceback (most recent call last)",
      "\u001b[1;32m<ipython-input-8-f1f449010274>\u001b[0m in \u001b[0;36m<module>\u001b[1;34m\u001b[0m\n\u001b[0;32m      1\u001b[0m \u001b[0m돈\u001b[0m \u001b[1;33m=\u001b[0m \u001b[1;36m2000\u001b[0m\u001b[1;33m\u001b[0m\u001b[1;33m\u001b[0m\u001b[0m\n\u001b[1;32m----> 2\u001b[1;33m \u001b[0m카드\u001b[0m \u001b[1;33m=\u001b[0m \u001b[0mTure\u001b[0m\u001b[1;33m\u001b[0m\u001b[1;33m\u001b[0m\u001b[0m\n\u001b[0m\u001b[0;32m      3\u001b[0m \u001b[1;33m\u001b[0m\u001b[0m\n\u001b[0;32m      4\u001b[0m \u001b[1;32mif\u001b[0m \u001b[0m돈\u001b[0m \u001b[1;33m>=\u001b[0m \u001b[1;36m3000\u001b[0m \u001b[1;32mor\u001b[0m \u001b[0m카드\u001b[0m\u001b[1;33m:\u001b[0m\u001b[1;33m\u001b[0m\u001b[1;33m\u001b[0m\u001b[0m\n\u001b[0;32m      5\u001b[0m     \u001b[0mprint\u001b[0m\u001b[1;33m(\u001b[0m\u001b[1;34m\"택시\"\u001b[0m\u001b[1;33m)\u001b[0m\u001b[1;33m\u001b[0m\u001b[1;33m\u001b[0m\u001b[0m\n",
      "\u001b[1;31mNameError\u001b[0m: name 'Ture' is not defined"
     ]
    }
   ],
   "source": [
    "돈 = 2000 \n",
    "카드 = Ture\n",
    "\n",
    "if 돈 >= 3000 or 카드:\n",
    "    print(\"택시\")\n",
    "else: \n",
    "    print(\"도보\")"
   ]
  },
  {
   "cell_type": "code",
   "execution_count": 9,
   "id": "ed688104",
   "metadata": {},
   "outputs": [],
   "source": [
    "# if 신호등 2번째칸 == 빨강:\n",
    "#     if 신호등 1번째 칸 == 화살표:\n",
    "#         좌회전\n",
    "#     else: \n",
    "#         정지\n"
   ]
  },
  {
   "cell_type": "code",
   "execution_count": 10,
   "id": "6fc46ca6",
   "metadata": {},
   "outputs": [
    {
     "name": "stdout",
     "output_type": "stream",
     "text": [
      "0 이상\n",
      "5\n"
     ]
    }
   ],
   "source": [
    "x = 5\n",
    "if x >= 0:\n",
    "    print(\"0 이상\")\n",
    "    if x== 5: \n",
    "        print(\"5\")\n",
    "    if x== 10:\n",
    "        print(\"10\")"
   ]
  },
  {
   "cell_type": "code",
   "execution_count": 11,
   "id": "13f195aa",
   "metadata": {},
   "outputs": [
    {
     "name": "stdout",
     "output_type": "stream",
     "text": [
      "점수 입력:40\n",
      "불합격 \n"
     ]
    }
   ],
   "source": [
    "score = int(input(\"점수 입력:\"))\n",
    "if score >= 80:\n",
    "    print(\"합격\")\n",
    "else:\n",
    "    print(\"불합격 \")"
   ]
  },
  {
   "cell_type": "code",
   "execution_count": 15,
   "id": "faf5257b",
   "metadata": {},
   "outputs": [
    {
     "name": "stdout",
     "output_type": "stream",
     "text": [
      "0\n"
     ]
    }
   ],
   "source": [
    "# 변수 = 값 if 조건문 else = 값 \n",
    "\n",
    "x=1\n",
    "if x== 0:\n",
    "    y=x\n",
    "else : \n",
    "    y=0\n",
    "print(y)\n",
    "\n",
    "\n",
    "# y=x if x==0 else 0\n",
    "# x 와 0이 같다면 x 값을 y 에게, 같지 안하면 0을 y에게 대입해라\n",
    "\n",
    "if False:\n",
    "    print(\"참\")"
   ]
  },
  {
   "cell_type": "code",
   "execution_count": 16,
   "id": "0d77f6cb",
   "metadata": {},
   "outputs": [
    {
     "name": "stdout",
     "output_type": "stream",
     "text": [
      "출력2\n"
     ]
    }
   ],
   "source": [
    "if None: \n",
    "    print(\"출력\")\n",
    "else: \n",
    "    print(\"출력2\")"
   ]
  },
  {
   "cell_type": "code",
   "execution_count": 18,
   "id": "7c4036b5",
   "metadata": {},
   "outputs": [
    {
     "ename": "SyntaxError",
     "evalue": "invalid syntax (<ipython-input-18-ee7f4517d57a>, line 8)",
     "output_type": "error",
     "traceback": [
      "\u001b[1;36m  File \u001b[1;32m\"<ipython-input-18-ee7f4517d57a>\"\u001b[1;36m, line \u001b[1;32m8\u001b[0m\n\u001b[1;33m    if x>= and x < 10:\u001b[0m\n\u001b[1;37m           ^\u001b[0m\n\u001b[1;31mSyntaxError\u001b[0m\u001b[1;31m:\u001b[0m invalid syntax\n"
     ]
    }
   ],
   "source": [
    "x=5\n",
    "\n",
    "# x 가 0 이상 10 미만이면 작은 수를 출력 \n",
    "if x>=0:\n",
    "    \n",
    "    if x<10:\n",
    "        print(\"작은수\")\n",
    "if x>= and x < 10:\n",
    "    print(\"작은수\")\n",
    "    \n",
    "if 0<=x<10:\n",
    "    print(\"작은수\")\n",
    "    \n",
    "if 0<=x and y<10:\n",
    "    print(\"작은 수\")"
   ]
  },
  {
   "cell_type": "code",
   "execution_count": 20,
   "id": "6f151392",
   "metadata": {},
   "outputs": [],
   "source": [
    "# if 조건:\n",
    "#     수행문장\n",
    "# elif 조건: \n",
    "#     수행문장\n",
    "# elif 조건:\n",
    "#     수행문장\n",
    "    \n",
    "# ...\n",
    "# ...\n",
    "# else : \n",
    "#     수행문장\n",
    "\n",
    "\n",
    "# 에러발생 \n",
    "# "
   ]
  },
  {
   "cell_type": "code",
   "execution_count": 22,
   "id": "28be17a9",
   "metadata": {},
   "outputs": [
    {
     "data": {
      "text/plain": [
       "True"
      ]
     },
     "execution_count": 22,
     "metadata": {},
     "output_type": "execute_result"
    }
   ],
   "source": [
    "# a in 리스트 (튜플, 문자열, set)\n",
    "# a not in 리스트 (튜플, 문자열, set)\n",
    "\n",
    "if 1 in [1,2,3]:\n",
    "    print(\"들어 있습니다.\")"
   ]
  },
  {
   "cell_type": "code",
   "execution_count": 23,
   "id": "b7b13ea7",
   "metadata": {},
   "outputs": [
    {
     "name": "stdout",
     "output_type": "stream",
     "text": [
      "들어 있습니다.\n"
     ]
    }
   ],
   "source": [
    "if 1 in (1,2,3):\n",
    "    print(\"들어 있습니다.\")"
   ]
  },
  {
   "cell_type": "code",
   "execution_count": 26,
   "id": "bba67077",
   "metadata": {},
   "outputs": [
    {
     "name": "stdout",
     "output_type": "stream",
     "text": [
      "들어 있습니다.\n"
     ]
    }
   ],
   "source": [
    "if '1' in ('1','2','3'):\n",
    "    print(\"들어 있습니다.\")"
   ]
  },
  {
   "cell_type": "code",
   "execution_count": 27,
   "id": "34001d70",
   "metadata": {},
   "outputs": [
    {
     "name": "stdout",
     "output_type": "stream",
     "text": [
      "들어 있습니다.\n"
     ]
    }
   ],
   "source": [
    "if '1' in {'1','2','3'}:\n",
    "    print(\"들어 있습니다.\")"
   ]
  },
  {
   "cell_type": "code",
   "execution_count": 32,
   "id": "5fd22c0c",
   "metadata": {},
   "outputs": [
    {
     "data": {
      "text/plain": [
       "{1: 'a', 2: 'b'}"
      ]
     },
     "execution_count": 32,
     "metadata": {},
     "output_type": "execute_result"
    }
   ],
   "source": [
    "x={1:'a', 2:'b'}\n",
    "x"
   ]
  },
  {
   "cell_type": "code",
   "execution_count": 36,
   "id": "abd3cd81",
   "metadata": {},
   "outputs": [
    {
     "name": "stdout",
     "output_type": "stream",
     "text": [
      "들어있습니다.\n"
     ]
    }
   ],
   "source": [
    "if 2 in x:\n",
    "    print(\"들어있습니다.\")"
   ]
  },
  {
   "cell_type": "code",
   "execution_count": null,
   "id": "5ccf3009",
   "metadata": {},
   "outputs": [],
   "source": [
    "#s 에 저장된 값이 60 이상이면 합격 아니면 불합격을 출력하시오"
   ]
  },
  {
   "cell_type": "code",
   "execution_count": 38,
   "id": "8d9fc056",
   "metadata": {},
   "outputs": [
    {
     "name": "stdout",
     "output_type": "stream",
     "text": [
      "합격\n"
     ]
    }
   ],
   "source": [
    "s=70\n",
    "if s >= 60:\n",
    "    print(\"합격\")\n",
    "else :\n",
    "    print(\"불합격\")"
   ]
  },
  {
   "cell_type": "code",
   "execution_count": 49,
   "id": "306cfbf1",
   "metadata": {},
   "outputs": [
    {
     "name": "stdout",
     "output_type": "stream",
     "text": [
      "불합격\n",
      "불합격\n"
     ]
    }
   ],
   "source": [
    "s= 50 \n",
    "print(\"합격\") if s>= 60 else print(\"불합격\")\n",
    "\n",
    "msg=\"합격\" if s>= 60 else \"불합격\"\n",
    "print(msg)\n"
   ]
  },
  {
   "cell_type": "code",
   "execution_count": 51,
   "id": "67658cdf",
   "metadata": {},
   "outputs": [],
   "source": [
    "ani=\"dog\"\n",
    "cat=\"cat\"\n",
    "dog=\"dog\""
   ]
  },
  {
   "cell_type": "code",
   "execution_count": 54,
   "id": "1d5b3375",
   "metadata": {},
   "outputs": [
    {
     "name": "stdout",
     "output_type": "stream",
     "text": [
      "같다\n"
     ]
    }
   ],
   "source": [
    "if ani == dog:\n",
    "    print(\"같다\")"
   ]
  },
  {
   "cell_type": "code",
   "execution_count": 58,
   "id": "a27add00",
   "metadata": {},
   "outputs": [
    {
     "name": "stdout",
     "output_type": "stream",
     "text": [
      "dog\n"
     ]
    }
   ],
   "source": [
    "# A if 조건 else B\n",
    "\n",
    "res=dog if ani == dog else cat\n",
    "\n",
    "print(res)"
   ]
  },
  {
   "cell_type": "code",
   "execution_count": 63,
   "id": "6b56017c",
   "metadata": {},
   "outputs": [
    {
     "name": "stdout",
     "output_type": "stream",
     "text": [
      "dog\n"
     ]
    }
   ],
   "source": [
    "# if elif else 구조 \n",
    "# A if 조건 else B if 조건 else C\n",
    "\n",
    "ani=\"dog\"\n",
    "cat=\"cat\"\n",
    "dog=\"dog\"\n",
    "\n",
    "res=dog if ani == dog else cat if ani==cat else 'cow'\n",
    "# 만약에 ani === dog 면 dog 저장, 그렇지 않고 \n",
    "# 만약에 ani == cat 이면 cat이 저장, 그렇지 않으면 cow 가 저장\n",
    "\n",
    "if ani == dog:\n",
    "    res=dog\n",
    "elif ani == cat:\n",
    "    res=cat\n",
    "else:\n",
    "    res=\"cow\"\n",
    "\n",
    "\n",
    "print(res)\n"
   ]
  },
  {
   "cell_type": "code",
   "execution_count": 64,
   "id": "53d53b8c",
   "metadata": {},
   "outputs": [],
   "source": [
    "# 반복문(for)\n",
    "# 재귀호출 -> 재귀적 문제 해결 "
   ]
  },
  {
   "cell_type": "code",
   "execution_count": 65,
   "id": "169aae94",
   "metadata": {},
   "outputs": [],
   "source": [
    "# 50명 고객\n",
    "# 50! 경로(경우)의 수를 모두 비교 (pruning) -> 가장 짧은 경로 1개 \n",
    "# -> 솔루션 (알고리즘) 없음(NP 문제)\n",
    "# => AI 를 이용한 통계적 접근 -> 근사해 \n",
    "\n",
    "# 동적 계획법"
   ]
  },
  {
   "cell_type": "code",
   "execution_count": 66,
   "id": "d9a332b9",
   "metadata": {},
   "outputs": [
    {
     "ename": "SyntaxError",
     "evalue": "invalid syntax (<ipython-input-66-9b55c96c01f3>, line 10)",
     "output_type": "error",
     "traceback": [
      "\u001b[1;36m  File \u001b[1;32m\"<ipython-input-66-9b55c96c01f3>\"\u001b[1;36m, line \u001b[1;32m10\u001b[0m\n\u001b[1;33m    .....\u001b[0m\n\u001b[1;37m        ^\u001b[0m\n\u001b[1;31mSyntaxError\u001b[0m\u001b[1;31m:\u001b[0m invalid syntax\n"
     ]
    }
   ],
   "source": [
    "# 1~10000\n",
    "1=1\n",
    "sum=0\n",
    "sum=sum+1\n",
    "i=i+1\n",
    "sum=sum+1\n",
    "i=i+1\n",
    "sum=sum+1\n",
    "i=i+1\n",
    ".....\n",
    "\n",
    "sum"
   ]
  },
  {
   "cell_type": "code",
   "execution_count": 67,
   "id": "7b5a8415",
   "metadata": {},
   "outputs": [],
   "source": [
    "# for 변수 in range(횟수):\n",
    "#     반복문장"
   ]
  },
  {
   "cell_type": "code",
   "execution_count": 68,
   "id": "dfa0a61c",
   "metadata": {},
   "outputs": [
    {
     "name": "stdout",
     "output_type": "stream",
     "text": [
      "0\n",
      "1\n",
      "2\n",
      "3\n",
      "4\n",
      "5\n",
      "6\n",
      "7\n",
      "8\n",
      "9\n",
      "9\n",
      "9\n",
      "9\n",
      "9\n",
      "9\n",
      "9\n",
      "9\n",
      "9\n",
      "9\n",
      "9\n"
     ]
    }
   ],
   "source": [
    "for i in range(10): # range(10) 범위 : 0~9 까지의 값이 차례대로 추력 \n",
    "    print(i)\n",
    "    \n",
    "    \n",
    "for _ in range(10):\n",
    "    print(i)"
   ]
  },
  {
   "cell_type": "code",
   "execution_count": 71,
   "id": "69784908",
   "metadata": {},
   "outputs": [
    {
     "ename": "ValueError",
     "evalue": "too many values to unpack (expected 2)",
     "output_type": "error",
     "traceback": [
      "\u001b[1;31m---------------------------------------------------------------------------\u001b[0m",
      "\u001b[1;31mValueError\u001b[0m                                Traceback (most recent call last)",
      "\u001b[1;32m<ipython-input-71-fb2036e68624>\u001b[0m in \u001b[0;36m<module>\u001b[1;34m\u001b[0m\n\u001b[1;32m----> 1\u001b[1;33m \u001b[0mx\u001b[0m\u001b[1;33m,\u001b[0m \u001b[0my\u001b[0m \u001b[1;33m=\u001b[0m \u001b[1;36m1\u001b[0m\u001b[1;33m,\u001b[0m \u001b[1;36m2\u001b[0m\u001b[1;33m,\u001b[0m \u001b[1;36m3\u001b[0m\u001b[1;33m\u001b[0m\u001b[1;33m\u001b[0m\u001b[0m\n\u001b[0m\u001b[0;32m      2\u001b[0m \u001b[0mprint\u001b[0m\u001b[1;33m(\u001b[0m\u001b[0mx\u001b[0m\u001b[1;33m)\u001b[0m\u001b[1;33m\u001b[0m\u001b[1;33m\u001b[0m\u001b[0m\n\u001b[0;32m      3\u001b[0m \u001b[0mprint\u001b[0m\u001b[1;33m(\u001b[0m\u001b[0my\u001b[0m\u001b[1;33m)\u001b[0m\u001b[1;33m\u001b[0m\u001b[1;33m\u001b[0m\u001b[0m\n",
      "\u001b[1;31mValueError\u001b[0m: too many values to unpack (expected 2)"
     ]
    }
   ],
   "source": [
    "x, y = 1, 2, 3\n",
    "print(x)\n",
    "print(y)"
   ]
  },
  {
   "cell_type": "code",
   "execution_count": 73,
   "id": "40f50f39",
   "metadata": {},
   "outputs": [
    {
     "name": "stdout",
     "output_type": "stream",
     "text": [
      "1\n",
      "3\n"
     ]
    }
   ],
   "source": [
    "x, _, y= 1, 2, 3 # 2는 무시 \n",
    "print(x)\n",
    "print(y)"
   ]
  },
  {
   "cell_type": "code",
   "execution_count": 75,
   "id": "c4b9175e",
   "metadata": {},
   "outputs": [
    {
     "name": "stdout",
     "output_type": "stream",
     "text": [
      "55\n"
     ]
    }
   ],
   "source": [
    "# 1 ~ 10 \n",
    "sum=0\n",
    "for i in range(1, 11):\n",
    "    sum+=i\n",
    "print(sum)"
   ]
  },
  {
   "cell_type": "code",
   "execution_count": 76,
   "id": "74769ccc",
   "metadata": {},
   "outputs": [
    {
     "ename": "SyntaxError",
     "evalue": "invalid syntax (<ipython-input-76-1af3cbb80949>, line 1)",
     "output_type": "error",
     "traceback": [
      "\u001b[1;36m  File \u001b[1;32m\"<ipython-input-76-1af3cbb80949>\"\u001b[1;36m, line \u001b[1;32m1\u001b[0m\n\u001b[1;33m    for i in stat:'10, 'sum=sum+1\u001b[0m\n\u001b[1;37m                        ^\u001b[0m\n\u001b[1;31mSyntaxError\u001b[0m\u001b[1;31m:\u001b[0m invalid syntax\n"
     ]
    }
   ],
   "source": [
    "for i in stat:'10, sum=sum+1\n",
    "i=i+1"
   ]
  },
  {
   "cell_type": "code",
   "execution_count": 79,
   "id": "14e84c0b",
   "metadata": {},
   "outputs": [
    {
     "name": "stdout",
     "output_type": "stream",
     "text": [
      "01234"
     ]
    }
   ],
   "source": [
    "for i in range(5):\n",
    "    print(i, end=\" \") # end = \"\" end 옵션 : 붙여서 출력시 연결문자 "
   ]
  },
  {
   "cell_type": "code",
   "execution_count": 80,
   "id": "d73a3446",
   "metadata": {},
   "outputs": [],
   "source": [
    "# for 문제 sequence 객체를 작성하여 반복처리 \n",
    "# sequence 객체? 리스트, 튜플, 문자열 등 \n",
    "# set, dict 는 시퀀스객체로 볼 수 없지만, 최근 버전에서는 for 문으로 \n",
    "# 처리가 가능. 사용하지 않는것을 권장... python 낮은버전에서는 오류가 발생\n",
    "# [1, 2, 3]"
   ]
  },
  {
   "cell_type": "code",
   "execution_count": 82,
   "id": "c91cc1dd",
   "metadata": {},
   "outputs": [
    {
     "name": "stdout",
     "output_type": "stream",
     "text": [
      "10\n",
      "20\n",
      "30\n"
     ]
    }
   ],
   "source": [
    "for i in [10, 20, 30]: # for 변수 in 시퀀스객체:\n",
    "    print(i)"
   ]
  },
  {
   "cell_type": "code",
   "execution_count": 84,
   "id": "6e4c32c0",
   "metadata": {},
   "outputs": [
    {
     "name": "stdout",
     "output_type": "stream",
     "text": [
      "10\n",
      "20\n",
      "30\n"
     ]
    }
   ],
   "source": [
    "for i in {10, 20, 30}: # set 의 경우 순서가 없기 때문에 시퀀스 객\n",
    "    print(i)"
   ]
  },
  {
   "cell_type": "code",
   "execution_count": 85,
   "id": "3b11fe24",
   "metadata": {},
   "outputs": [
    {
     "name": "stdout",
     "output_type": "stream",
     "text": [
      "1\n",
      "2\n",
      "3\n"
     ]
    }
   ],
   "source": [
    "for i in {1:10, 2:20, 3:30}: #for 변수 in 시퀀스 객체: \n",
    "    print(i)"
   ]
  },
  {
   "cell_type": "code",
   "execution_count": 86,
   "id": "e28fc486",
   "metadata": {},
   "outputs": [
    {
     "name": "stdout",
     "output_type": "stream",
     "text": [
      "a\n",
      "b\n",
      "c\n"
     ]
    }
   ],
   "source": [
    "for f in ('a', 'b', 'c'):\n",
    "    print(f)\n",
    "    "
   ]
  },
  {
   "cell_type": "code",
   "execution_count": 88,
   "id": "b0f421fe",
   "metadata": {},
   "outputs": [
    {
     "name": "stdout",
     "output_type": "stream",
     "text": [
      "h\n",
      "e\n",
      "l\n",
      "l\n",
      "o\n"
     ]
    }
   ],
   "source": [
    "for s in \"hello\":\n",
    "    print(s)"
   ]
  },
  {
   "cell_type": "code",
   "execution_count": 93,
   "id": "550a007b",
   "metadata": {},
   "outputs": [
    {
     "name": "stdout",
     "output_type": "stream",
     "text": [
      "1\n",
      "2\n",
      "3\n",
      "4\n",
      "5\n",
      "6\n",
      "7\n",
      "8\n",
      "9\n",
      "10\n",
      "11\n",
      "12\n",
      "13\n",
      "14\n",
      "15\n",
      "16\n",
      "17\n",
      "18\n",
      "19\n",
      "20\n",
      "21\n",
      "22\n",
      "23\n",
      "24\n",
      "25\n",
      "26\n",
      "27\n",
      "28\n",
      "29\n",
      "30\n",
      "31\n",
      "32\n",
      "33\n",
      "34\n",
      "35\n",
      "36\n",
      "37\n",
      "38\n",
      "39\n",
      "40\n",
      "41\n",
      "42\n",
      "43\n",
      "44\n",
      "45\n",
      "46\n",
      "47\n",
      "48\n",
      "49\n",
      "50\n",
      "51\n",
      "52\n",
      "53\n",
      "54\n",
      "55\n",
      "56\n",
      "57\n",
      "58\n",
      "59\n",
      "60\n",
      "61\n",
      "62\n",
      "63\n",
      "64\n",
      "65\n",
      "66\n",
      "67\n",
      "68\n",
      "69\n",
      "70\n",
      "71\n",
      "72\n",
      "73\n",
      "74\n",
      "75\n",
      "76\n",
      "77\n",
      "78\n",
      "79\n",
      "80\n",
      "81\n",
      "82\n",
      "83\n",
      "84\n",
      "85\n",
      "86\n",
      "87\n",
      "88\n",
      "89\n",
      "90\n",
      "91\n",
      "92\n",
      "93\n",
      "94\n",
      "95\n",
      "96\n",
      "97\n",
      "98\n",
      "99\n",
      "100\n"
     ]
    }
   ],
   "source": [
    "i = 0 # 초기값 \n",
    "while i < 100: # i 변수 값이 101 보다 작다는 조건을 만족하는 동안 반복\n",
    "    i+=1\n",
    "    print(i)\n"
   ]
  },
  {
   "cell_type": "code",
   "execution_count": 94,
   "id": "b070bc48",
   "metadata": {},
   "outputs": [],
   "source": [
    "# 파이썬 모듈(module, 관련 함수의 집합, 일반적으로 파이썬 파일)\n",
    "# 패키지(라이브러리) : 관련 모듈의 모임, 폴더, 패키지도 포함 \n",
    "\n",
    "\n",
    "# 라이브러리 : 파이썬 표준 라이브러리(모듈, 패키지 모두 포함)\n"
   ]
  },
  {
   "cell_type": "code",
   "execution_count": 95,
   "id": "1a95a13e",
   "metadata": {},
   "outputs": [],
   "source": [
    "# 파이썬 표준 라이브러리 설치"
   ]
  },
  {
   "cell_type": "code",
   "execution_count": 99,
   "id": "e6dac97f",
   "metadata": {},
   "outputs": [],
   "source": [
    "# inport 파이썬 모듈 불러오기 \n",
    "import math\n",
    "# impoert 모듈1, 모듈2, 모듈3 .... "
   ]
  },
  {
   "cell_type": "code",
   "execution_count": 101,
   "id": "92a38fd2",
   "metadata": {},
   "outputs": [],
   "source": [
    "# math.함수()\n",
    "# math.qustn\n",
    "# math.클래스()"
   ]
  },
  {
   "cell_type": "code",
   "execution_count": 103,
   "id": "8f95531f",
   "metadata": {},
   "outputs": [
    {
     "data": {
      "text/plain": [
       "2.0"
      ]
     },
     "execution_count": 103,
     "metadata": {},
     "output_type": "execute_result"
    }
   ],
   "source": [
    "math.pi\n",
    "math.sqrt(4) # 제곱근"
   ]
  },
  {
   "cell_type": "code",
   "execution_count": 104,
   "id": "2d997a49",
   "metadata": {},
   "outputs": [
    {
     "ename": "NameError",
     "evalue": "name 'mat' is not defined",
     "output_type": "error",
     "traceback": [
      "\u001b[1;31m---------------------------------------------------------------------------\u001b[0m",
      "\u001b[1;31mNameError\u001b[0m                                 Traceback (most recent call last)",
      "\u001b[1;32m<ipython-input-104-3c6ee96675ed>\u001b[0m in \u001b[0;36m<module>\u001b[1;34m\u001b[0m\n\u001b[1;32m----> 1\u001b[1;33m \u001b[0mmat\u001b[0m\u001b[1;33m.\u001b[0m\u001b[0msqrt\u001b[0m\u001b[1;33m(\u001b[0m\u001b[1;36m4\u001b[0m\u001b[1;33m)\u001b[0m\u001b[1;33m\u001b[0m\u001b[1;33m\u001b[0m\u001b[0m\n\u001b[0m",
      "\u001b[1;31mNameError\u001b[0m: name 'mat' is not defined"
     ]
    }
   ],
   "source": [
    "mat.sqrt(4)"
   ]
  },
  {
   "cell_type": "code",
   "execution_count": 105,
   "id": "ed955a55",
   "metadata": {},
   "outputs": [
    {
     "ename": "AttributeError",
     "evalue": "module 'math' has no attribute 'sqr'",
     "output_type": "error",
     "traceback": [
      "\u001b[1;31m---------------------------------------------------------------------------\u001b[0m",
      "\u001b[1;31mAttributeError\u001b[0m                            Traceback (most recent call last)",
      "\u001b[1;32m<ipython-input-105-93d74f749a32>\u001b[0m in \u001b[0;36m<module>\u001b[1;34m\u001b[0m\n\u001b[1;32m----> 1\u001b[1;33m \u001b[0mmath\u001b[0m\u001b[1;33m.\u001b[0m\u001b[0msqr\u001b[0m\u001b[1;33m(\u001b[0m\u001b[1;36m4\u001b[0m\u001b[1;33m)\u001b[0m\u001b[1;33m\u001b[0m\u001b[1;33m\u001b[0m\u001b[0m\n\u001b[0m",
      "\u001b[1;31mAttributeError\u001b[0m: module 'math' has no attribute 'sqr'"
     ]
    }
   ],
   "source": [
    "math.sqr(4)"
   ]
  },
  {
   "cell_type": "code",
   "execution_count": 107,
   "id": "fb54ba71",
   "metadata": {},
   "outputs": [],
   "source": [
    "import math as mt #축약형 "
   ]
  },
  {
   "cell_type": "code",
   "execution_count": 108,
   "id": "78bd1311",
   "metadata": {},
   "outputs": [
    {
     "data": {
      "text/plain": [
       "2.0"
      ]
     },
     "execution_count": 108,
     "metadata": {},
     "output_type": "execute_result"
    }
   ],
   "source": [
    "mt.sqrt(4)"
   ]
  },
  {
   "cell_type": "code",
   "execution_count": 110,
   "id": "adf0cc30",
   "metadata": {},
   "outputs": [],
   "source": [
    "# from 모듈명 import 함수(변수, 클래스 ) 명\n",
    "from math import sqrt"
   ]
  },
  {
   "cell_type": "code",
   "execution_count": 112,
   "id": "f9561fa9",
   "metadata": {},
   "outputs": [
    {
     "data": {
      "text/plain": [
       "2.0"
      ]
     },
     "execution_count": 112,
     "metadata": {},
     "output_type": "execute_result"
    }
   ],
   "source": [
    "sqrt(4)"
   ]
  },
  {
   "cell_type": "code",
   "execution_count": 113,
   "id": "0889a7f6",
   "metadata": {},
   "outputs": [],
   "source": [
    "# import math "
   ]
  },
  {
   "cell_type": "code",
   "execution_count": 114,
   "id": "015d36ed",
   "metadata": {},
   "outputs": [],
   "source": [
    "import math \n",
    "\n",
    "# math 사용완료"
   ]
  },
  {
   "cell_type": "code",
   "execution_count": 115,
   "id": "bea4e046",
   "metadata": {},
   "outputs": [],
   "source": [
    "del math # 메모리에서 math 모듈이 제거됨\n"
   ]
  },
  {
   "cell_type": "code",
   "execution_count": 116,
   "id": "25e9e460",
   "metadata": {},
   "outputs": [],
   "source": [
    "import random"
   ]
  },
  {
   "cell_type": "code",
   "execution_count": 139,
   "id": "9014062d",
   "metadata": {},
   "outputs": [
    {
     "name": "stdout",
     "output_type": "stream",
     "text": [
      "11\n",
      "15\n",
      "35\n",
      "4\n",
      "1\n",
      "8\n",
      "5\n"
     ]
    }
   ],
   "source": [
    "# 클래스 명 첫 번째 글자\n",
    "# 다 대문자 상수 \n",
    "# 다 소문자 변수, 상수 \n",
    "\n",
    "for i in range(6):\n",
    "    print(random.randint(1, 45)) # 1~3 범위에서 난수 1개 발생, 중복된 수가 나올 수 있음 \n",
    "\n",
    "i=0\n",
    "while i != 5:\n",
    "    i= random.randint(1, 6)\n",
    "    print(i)\n",
    "    if i == 4 :\n",
    "        break;"
   ]
  },
  {
   "cell_type": "code",
   "execution_count": 144,
   "id": "f1e1654d",
   "metadata": {},
   "outputs": [
    {
     "data": {
      "text/plain": [
       "'o'"
      ]
     },
     "execution_count": 144,
     "metadata": {},
     "output_type": "execute_result"
    }
   ],
   "source": [
    "# random.choice([1, 2, 3]) # 1, 2, 3 중에서 1개르 임의로 선택\n",
    "# random.choice(시퀀스 객체)\n",
    "random.choice(\"hello\")"
   ]
  },
  {
   "cell_type": "code",
   "execution_count": 145,
   "id": "aa2e0662",
   "metadata": {},
   "outputs": [
    {
     "data": {
      "text/plain": [
       "[2, 1, 3]"
      ]
     },
     "execution_count": 145,
     "metadata": {},
     "output_type": "execute_result"
    }
   ],
   "source": [
    "# rnadom.choice([1,2,3]) # 복원 추출 \n",
    "# rnadom.sample(시퀀스 객체, 추출 데이터 개수) # 비복원 추출 \n",
    "\n",
    "# 데이터 전체를 셔플(shuffle, 뒤섞음)\n",
    "random.sample([1,2,3], 3)"
   ]
  },
  {
   "cell_type": "code",
   "execution_count": 195,
   "id": "5112da54",
   "metadata": {},
   "outputs": [
    {
     "name": "stdout",
     "output_type": "stream",
     "text": [
      "[24, 16, 36, 38, 31, 6]\n",
      "[32, 43, 38, 30, 34, 42]\n",
      "[12, 7, 20, 35, 36, 4]\n",
      "[21, 5, 15, 37, 23, 12]\n",
      "[36, 45, 10, 17, 5, 11]\n"
     ]
    }
   ],
   "source": [
    "# 이번 주 로또 \n",
    "\n",
    "for i in range(5):\n",
    "    print(random.sample(range(1, 46), 6))\n",
    "        "
   ]
  },
  {
   "cell_type": "code",
   "execution_count": 205,
   "id": "edb325c6",
   "metadata": {},
   "outputs": [
    {
     "name": "stdout",
     "output_type": "stream",
     "text": [
      "{36, 6, 9, 12, 17, 22}\n"
     ]
    }
   ],
   "source": [
    "s=set()\n",
    "# s.add(1)\n",
    "# s.add(1)\n",
    "# s.add(2)\n",
    "# print(len(s))\n",
    "\n",
    "x = 0\n",
    "while x == 0: \n",
    "    \n",
    "    r=random.choice(range(1,46))\n",
    "    s.add(r)\n",
    "    if len(s)==6:\n",
    "        break;\n",
    "        \n",
    "print(s)\n"
   ]
  },
  {
   "cell_type": "code",
   "execution_count": 206,
   "id": "ffadd472",
   "metadata": {},
   "outputs": [
    {
     "ename": "SyntaxError",
     "evalue": "unexpected EOF while parsing (<ipython-input-206-0c4cbbc1c54c>, line 1)",
     "output_type": "error",
     "traceback": [
      "\u001b[1;36m  File \u001b[1;32m\"<ipython-input-206-0c4cbbc1c54c>\"\u001b[1;36m, line \u001b[1;32m1\u001b[0m\n\u001b[1;33m    while True : # 조건식의 결과가 항상 참이므로 계속(무한) 반복\u001b[0m\n\u001b[1;37m                                              ^\u001b[0m\n\u001b[1;31mSyntaxError\u001b[0m\u001b[1;31m:\u001b[0m unexpected EOF while parsing\n"
     ]
    }
   ],
   "source": [
    "# while True : # 조건식의 결과가 항상 참이므로 계속(무한) 반복 "
   ]
  },
  {
   "cell_type": "code",
   "execution_count": 208,
   "id": "3c472180",
   "metadata": {},
   "outputs": [
    {
     "name": "stdout",
     "output_type": "stream",
     "text": [
      "1\n",
      "1\n",
      "1\n",
      "1\n",
      "1\n",
      "1\n",
      "1\n",
      "1\n",
      "1\n",
      "1\n"
     ]
    }
   ],
   "source": [
    "cond = 1\n",
    "# while True : \n",
    "while 999:\n",
    "    print(\"1\")\n",
    "    if cond == 10:\n",
    "        break;\n",
    "    cond=cond+1\n",
    "        "
   ]
  },
  {
   "cell_type": "code",
   "execution_count": 212,
   "id": "b2c676ca",
   "metadata": {},
   "outputs": [
    {
     "name": "stdout",
     "output_type": "stream",
     "text": [
      "*\n",
      "*\n",
      "*\n",
      "*\n",
      "*\n",
      "*\n",
      "*\n",
      "*\n",
      "*\n",
      "*\n",
      "*\n"
     ]
    }
   ],
   "source": [
    "c=0\n",
    "\n",
    "while True:\n",
    "    print(\"*\")\n",
    "    c+=1\n",
    "    if c<2:\n",
    "        continue\n",
    "    if c>10:\n",
    "        break\n"
   ]
  },
  {
   "cell_type": "code",
   "execution_count": 214,
   "id": "0612c208",
   "metadata": {},
   "outputs": [
    {
     "name": "stdout",
     "output_type": "stream",
     "text": [
      "*\n",
      "1\n",
      "*\n",
      "*\n",
      "3\n",
      "*\n",
      "*\n",
      "5\n",
      "*\n",
      "*\n",
      "7\n",
      "*\n",
      "*\n",
      "9\n",
      "*\n"
     ]
    }
   ],
   "source": [
    "c=0\n",
    "\n",
    "while c<10:\n",
    "    print(\"*\")\n",
    "    c+=1\n",
    "    if c%2==0:\n",
    "        continue\n",
    "    print(c)"
   ]
  },
  {
   "cell_type": "code",
   "execution_count": 216,
   "id": "b7cac32b",
   "metadata": {},
   "outputs": [],
   "source": [
    "# for i in range(10):\n",
    "#     pass"
   ]
  },
  {
   "cell_type": "code",
   "execution_count": null,
   "id": "93750ccd",
   "metadata": {},
   "outputs": [],
   "source": []
  }
 ],
 "metadata": {
  "kernelspec": {
   "display_name": "Python 3",
   "language": "python",
   "name": "python3"
  },
  "language_info": {
   "codemirror_mode": {
    "name": "ipython",
    "version": 3
   },
   "file_extension": ".py",
   "mimetype": "text/x-python",
   "name": "python",
   "nbconvert_exporter": "python",
   "pygments_lexer": "ipython3",
   "version": "3.8.8"
  }
 },
 "nbformat": 4,
 "nbformat_minor": 5
}
