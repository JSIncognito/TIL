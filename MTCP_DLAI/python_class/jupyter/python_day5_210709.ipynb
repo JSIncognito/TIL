{
 "cells": [
  {
   "cell_type": "code",
   "execution_count": 3,
   "id": "ca10a78b",
   "metadata": {
    "scrolled": true
   },
   "outputs": [],
   "source": [
    "# 프로그램 성능 평가 중요 2가지 요소 - 시간 복잡도, 공간 복잡도\n",
    "# 시간 복잡도 : 프로그램이 실행되는데 사용되는 문장의 수 \n",
    "# 공간 복잡도 : 프로그램이 실행되는데 사용되는 메모리 용량\n",
    "\n",
    "# 빅5의 n 복잡도, n 제곱 복잡도 \n",
    "# 시간복잡도 :단순하게 표현하자면... 실행해야 할 프로그램 소스코드 문장의 수 \n",
    "# 0(빅오) - 표기법 : 시간복잡도 표기 방법 \n",
    "# 0 표기법 \n",
    "# <--------------------- 빠름 \n",
    "# 0(1) > 0(log n) > 0(n) > 0(n log n) > 0(n 제곱) > 0(n세제곱) > 0(2의 n제곱) > 0(n!)"
   ]
  },
  {
   "cell_type": "code",
   "execution_count": 6,
   "id": "2429335a",
   "metadata": {},
   "outputs": [
    {
     "name": "stdout",
     "output_type": "stream",
     "text": [
      "*\n",
      "**\n",
      "***\n",
      "****\n",
      "*****\n"
     ]
    }
   ],
   "source": [
    "i=0\n",
    "while i<5:\n",
    "    i+=1\n",
    "    print(\"*\"*i)\n",
    "#===============\n"
   ]
  },
  {
   "cell_type": "code",
   "execution_count": 8,
   "id": "b8b19d37",
   "metadata": {},
   "outputs": [
    {
     "name": "stdout",
     "output_type": "stream",
     "text": [
      "0\n",
      "1\n",
      "2\n",
      "3\n",
      "4\n",
      "5\n",
      "6\n",
      "7\n",
      "8\n",
      "9\n",
      "10\n",
      "11\n",
      "12\n",
      "13\n",
      "14\n",
      "15\n",
      "16\n",
      "17\n",
      "18\n",
      "19\n",
      "20\n",
      "21\n",
      "22\n",
      "23\n",
      "24\n",
      "25\n",
      "26\n",
      "27\n",
      "28\n",
      "29\n",
      "30\n",
      "31\n",
      "32\n",
      "33\n",
      "34\n",
      "35\n",
      "36\n",
      "37\n",
      "38\n",
      "39\n",
      "40\n",
      "41\n",
      "42\n",
      "43\n",
      "44\n",
      "45\n",
      "46\n",
      "47\n",
      "48\n",
      "49\n",
      "50\n",
      "51\n",
      "52\n",
      "53\n",
      "54\n",
      "55\n",
      "56\n",
      "57\n",
      "58\n",
      "59\n",
      "60\n",
      "61\n",
      "62\n",
      "63\n",
      "64\n",
      "65\n",
      "66\n",
      "67\n",
      "68\n",
      "69\n",
      "70\n",
      "71\n",
      "72\n",
      "73\n",
      "74\n",
      "75\n",
      "76\n",
      "77\n",
      "78\n",
      "79\n",
      "80\n",
      "81\n",
      "82\n",
      "83\n",
      "84\n",
      "85\n",
      "86\n",
      "87\n",
      "88\n",
      "89\n",
      "90\n",
      "91\n",
      "92\n",
      "93\n",
      "94\n",
      "95\n",
      "96\n",
      "97\n",
      "98\n",
      "99\n"
     ]
    }
   ],
   "source": [
    "i=0\n",
    "while True:\n",
    "    print(i)\n",
    "    i+=1\n",
    "    if i == 100 :\n",
    "        break"
   ]
  },
  {
   "cell_type": "code",
   "execution_count": 10,
   "id": "c54045a9",
   "metadata": {},
   "outputs": [
    {
     "name": "stdout",
     "output_type": "stream",
     "text": [
      "0\n",
      "1\n",
      "2\n",
      "3\n",
      "4\n",
      "5\n",
      "6\n",
      "7\n",
      "8\n",
      "9\n",
      "10\n",
      "11\n",
      "12\n",
      "13\n",
      "14\n",
      "15\n",
      "16\n",
      "17\n",
      "18\n",
      "19\n",
      "20\n",
      "21\n",
      "22\n",
      "23\n",
      "24\n",
      "25\n",
      "26\n",
      "27\n",
      "28\n",
      "29\n",
      "30\n",
      "31\n",
      "32\n",
      "33\n",
      "34\n",
      "35\n",
      "36\n",
      "37\n",
      "38\n",
      "39\n",
      "40\n",
      "41\n",
      "42\n",
      "43\n",
      "44\n",
      "45\n",
      "46\n",
      "47\n",
      "48\n",
      "49\n",
      "50\n",
      "51\n",
      "52\n",
      "53\n",
      "54\n",
      "55\n",
      "56\n",
      "57\n",
      "58\n",
      "59\n",
      "60\n",
      "61\n",
      "62\n",
      "63\n",
      "64\n",
      "65\n",
      "66\n",
      "67\n",
      "68\n",
      "69\n",
      "70\n",
      "71\n",
      "72\n",
      "73\n",
      "74\n",
      "75\n",
      "76\n",
      "77\n",
      "78\n",
      "79\n",
      "80\n",
      "81\n",
      "82\n",
      "83\n",
      "84\n",
      "85\n",
      "86\n",
      "87\n",
      "88\n",
      "89\n",
      "90\n",
      "91\n",
      "92\n",
      "93\n",
      "94\n",
      "95\n",
      "96\n",
      "97\n",
      "98\n",
      "99\n"
     ]
    }
   ],
   "source": [
    "for i in range(10000):\n",
    "    print(i)\n",
    "    if i==99:\n",
    "        break"
   ]
  },
  {
   "cell_type": "code",
   "execution_count": 12,
   "id": "6d5649a0",
   "metadata": {},
   "outputs": [
    {
     "name": "stdout",
     "output_type": "stream",
     "text": [
      "0\n",
      "2\n",
      "4\n",
      "6\n",
      "8\n"
     ]
    }
   ],
   "source": [
    "for i in range(10):\n",
    "    #i 가 짝수인 경우에만 출력, continue 문\n",
    "    if i % 2 == 0:\n",
    "        print(i)\n",
    "    else: continue"
   ]
  },
  {
   "cell_type": "code",
   "execution_count": 13,
   "id": "f342a770",
   "metadata": {},
   "outputs": [],
   "source": [
    "# for i in range(횟수): #i=0\n",
    "#     for j in range(횟수):\n",
    "#         문장1\n",
    "#         문장2\n",
    "#     문장3\n",
    "#     문장4\n",
    "# 문장5\n",
    "# 문장6"
   ]
  },
  {
   "cell_type": "code",
   "execution_count": 15,
   "id": "1b6952a9",
   "metadata": {},
   "outputs": [],
   "source": [
    "# for i in range(3):\n",
    "#     for j in range(2):\n",
    "#         문장1\n",
    "#         문장2\n",
    "#     문장3\n",
    "#     문장4\n",
    "# 문장5\n",
    "# 문장6"
   ]
  },
  {
   "cell_type": "code",
   "execution_count": 20,
   "id": "aed86ab0",
   "metadata": {},
   "outputs": [
    {
     "name": "stdout",
     "output_type": "stream",
     "text": [
      "****\n",
      "****\n",
      "****\n",
      "****\n"
     ]
    }
   ],
   "source": [
    "for i in range(4):\n",
    "    result = \"\"\n",
    "\n",
    "    for j in range(4):\n",
    "        result += \"*\"\n",
    "        \n",
    "    print(result)\n",
    "    \n"
   ]
  },
  {
   "cell_type": "code",
   "execution_count": 22,
   "id": "75f1f4df",
   "metadata": {},
   "outputs": [
    {
     "name": "stdout",
     "output_type": "stream",
     "text": [
      "***\n",
      "***\n",
      "***\n",
      "***\n"
     ]
    }
   ],
   "source": [
    "for i in range(4):\n",
    "    for j in range(3):\n",
    "        print(\"*\", end=\"\")\n",
    "    print()"
   ]
  },
  {
   "cell_type": "code",
   "execution_count": 24,
   "id": "fe5b7ff1",
   "metadata": {},
   "outputs": [
    {
     "data": {
      "text/plain": [
       "[10]"
      ]
     },
     "execution_count": 24,
     "metadata": {},
     "output_type": "execute_result"
    }
   ],
   "source": [
    "a=[]\n",
    "a.append(10) # 리스트 안에 리스트를 넣는 경우 \n",
    "a"
   ]
  },
  {
   "cell_type": "code",
   "execution_count": 25,
   "id": "66881e0a",
   "metadata": {},
   "outputs": [
    {
     "data": {
      "text/plain": [
       "[10, 20, 30]"
      ]
     },
     "execution_count": 25,
     "metadata": {},
     "output_type": "execute_result"
    }
   ],
   "source": [
    "a.extend([20, 30]) # 리스트에 요소 추가 \n",
    "a\n"
   ]
  },
  {
   "cell_type": "code",
   "execution_count": 28,
   "id": "c0f5d211",
   "metadata": {},
   "outputs": [
    {
     "data": {
      "text/plain": [
       "[10, 15, 15, 20, 30, 40]"
      ]
     },
     "execution_count": 28,
     "metadata": {},
     "output_type": "execute_result"
    }
   ],
   "source": [
    "a.insert(1, 15) # 특정위치에 요소 삽입\n",
    "a"
   ]
  },
  {
   "cell_type": "code",
   "execution_count": 29,
   "id": "e69c8716",
   "metadata": {},
   "outputs": [
    {
     "data": {
      "text/plain": [
       "[10, 15, 15, 20, 30, 40, 40]"
      ]
     },
     "execution_count": 29,
     "metadata": {},
     "output_type": "execute_result"
    }
   ],
   "source": [
    "a.insert(len(a), 40)\n",
    "a"
   ]
  },
  {
   "cell_type": "code",
   "execution_count": 32,
   "id": "ca095ed9",
   "metadata": {},
   "outputs": [
    {
     "data": {
      "text/plain": [
       "[10, 15, 15, [25, 27], [25, 27], [25, 27], 20, 30, 40, 40]"
      ]
     },
     "execution_count": 32,
     "metadata": {},
     "output_type": "execute_result"
    }
   ],
   "source": [
    "# 20 과 30 사이에 한 번에 25, 27을 추가 \n",
    "a.insert(3, [25,27])\n",
    "a\n",
    "\n"
   ]
  },
  {
   "cell_type": "code",
   "execution_count": 39,
   "id": "6948d907",
   "metadata": {},
   "outputs": [
    {
     "data": {
      "text/plain": [
       "[10, 15, 15, 20, 25, 27, 30, 40, 40]"
      ]
     },
     "execution_count": 39,
     "metadata": {},
     "output_type": "execute_result"
    }
   ],
   "source": [
    "# 시작번호와 끝번호를 동일하게 하면 여러개의 데이터를 추가할 수 있음.\n",
    "a=[10, 15, 15, 20, 30, 40, 40]\n",
    "a[4:4]=[25, 27]\n",
    "a"
   ]
  },
  {
   "cell_type": "code",
   "execution_count": 42,
   "id": "32fc65f4",
   "metadata": {},
   "outputs": [
    {
     "data": {
      "text/plain": [
       "[10, 15, 20, [25, 27], 30, 40]"
      ]
     },
     "execution_count": 42,
     "metadata": {},
     "output_type": "execute_result"
    }
   ],
   "source": [
    "a=[10,15,20,30,40]\n",
    "a.insert(len(a)-2,[25,27])\n",
    "a"
   ]
  },
  {
   "cell_type": "code",
   "execution_count": 49,
   "id": "fd344b84",
   "metadata": {},
   "outputs": [
    {
     "data": {
      "text/plain": [
       "[4, 6]"
      ]
     },
     "execution_count": 49,
     "metadata": {},
     "output_type": "execute_result"
    }
   ],
   "source": [
    "# pop:마지막 요소. 특정 번호의 데이터 삭제\n",
    "# remove : 데이터 값을 찾아서 삭제\n",
    "a=[4,5,6]\n",
    "#a.pop()\n",
    "#a.pop(1)\n",
    "del a[1]\n",
    "a"
   ]
  },
  {
   "cell_type": "code",
   "execution_count": 51,
   "id": "88de160e",
   "metadata": {},
   "outputs": [
    {
     "data": {
      "text/plain": [
       "[4, 6]"
      ]
     },
     "execution_count": 51,
     "metadata": {},
     "output_type": "execute_result"
    }
   ],
   "source": [
    "a=[4,5,6]\n",
    "a.remove(5)\n",
    "a"
   ]
  },
  {
   "cell_type": "code",
   "execution_count": 54,
   "id": "15c00c68",
   "metadata": {},
   "outputs": [
    {
     "data": {
      "text/plain": [
       "[4, 5, 6]"
      ]
     },
     "execution_count": 54,
     "metadata": {},
     "output_type": "execute_result"
    }
   ],
   "source": [
    "a=[4,5,6]\n",
    "a.index(6)\n",
    "a"
   ]
  },
  {
   "cell_type": "code",
   "execution_count": 58,
   "id": "e5fd06a6",
   "metadata": {},
   "outputs": [
    {
     "name": "stdout",
     "output_type": "stream",
     "text": [
      "2\n"
     ]
    },
    {
     "data": {
      "text/plain": [
       "[4, 5, 6, 4]"
      ]
     },
     "execution_count": 58,
     "metadata": {},
     "output_type": "execute_result"
    }
   ],
   "source": [
    "a=[4,5,6,4]\n",
    "print(a.count(4))\n",
    "a"
   ]
  },
  {
   "cell_type": "code",
   "execution_count": 63,
   "id": "33a4d586",
   "metadata": {},
   "outputs": [
    {
     "data": {
      "text/plain": [
       "[6, 5, 4, 4]"
      ]
     },
     "execution_count": 63,
     "metadata": {},
     "output_type": "execute_result"
    }
   ],
   "source": [
    "a.sort()\n",
    "print(a)\n",
    "a.sort(reverse=True)\n",
    "print(a)"
   ]
  },
  {
   "cell_type": "code",
   "execution_count": 64,
   "id": "3e50afe3",
   "metadata": {},
   "outputs": [
    {
     "name": "stdout",
     "output_type": "stream",
     "text": [
      "[4, 4, 5, 6]\n",
      "[4, 5, 6, 4]\n"
     ]
    }
   ],
   "source": [
    "a=[4,5,6,4]\n",
    "print(sorted(a))\n",
    "print(a)"
   ]
  },
  {
   "cell_type": "code",
   "execution_count": 67,
   "id": "756ba315",
   "metadata": {},
   "outputs": [
    {
     "data": {
      "text/plain": [
       "[]"
      ]
     },
     "execution_count": 67,
     "metadata": {},
     "output_type": "execute_result"
    }
   ],
   "source": [
    "a\n",
    "a.clear()\n",
    "del a[:]\n",
    "a"
   ]
  },
  {
   "cell_type": "code",
   "execution_count": 74,
   "id": "148fc871",
   "metadata": {},
   "outputs": [
    {
     "data": {
      "text/plain": [
       "[100, 200, 300, 400]"
      ]
     },
     "execution_count": 74,
     "metadata": {},
     "output_type": "execute_result"
    }
   ],
   "source": [
    "# 데이터 추가\n",
    "a=[100, 200]\n",
    "# 300, 400 \n",
    "#a.extend([300, 400])\n",
    "a[len(a):]=[300, 400]\n",
    "a"
   ]
  },
  {
   "cell_type": "code",
   "execution_count": 78,
   "id": "3dd7661d",
   "metadata": {},
   "outputs": [
    {
     "name": "stdout",
     "output_type": "stream",
     "text": [
      "비어있음\n"
     ]
    }
   ],
   "source": [
    "a.clear()\n",
    "\n",
    "a\n",
    "len(a)\n",
    "\n",
    "if len(a): #len(a) != 0\n",
    "    print(\"비어있지 않음\")\n",
    "else: \n",
    "    print(\"비어있음\")\n",
    "    \n",
    "#a=[] # 데이터가 없으면 거짓 \n",
    "if a : # a에 데이터가 있으므로 참\n",
    "    print(\"비어있지 않음\")\n",
    "    \n",
    "# if 에 논리연산을 사용할때, True 긍정을 사용하고 else 에 false 부정을 사용하는게 보편적으로 사용됨."
   ]
  },
  {
   "cell_type": "code",
   "execution_count": 82,
   "id": "64a9c862",
   "metadata": {},
   "outputs": [
    {
     "name": "stdout",
     "output_type": "stream",
     "text": [
      "1 3\n",
      "2 1\n",
      "3 2\n",
      "4 4\n",
      "5 5\n"
     ]
    }
   ],
   "source": [
    "a=[3,1,2,4,5]\n",
    "# for idx, v in enumerate(a):\n",
    "for idx, v in enumerate(a, start=1):\n",
    "\n",
    "    # enumerate(a)\n",
    "#     print(idx) # index 번호 \n",
    "#     print(v)\n",
    "    print(idx,v)\n"
   ]
  },
  {
   "cell_type": "code",
   "execution_count": 83,
   "id": "35930665",
   "metadata": {},
   "outputs": [],
   "source": [
    "a=[3, -2, 5, 1, -6]\n"
   ]
  },
  {
   "cell_type": "code",
   "execution_count": 89,
   "id": "6e79753e",
   "metadata": {},
   "outputs": [
    {
     "name": "stdout",
     "output_type": "stream",
     "text": [
      "3\n",
      "5\n",
      "1\n"
     ]
    }
   ],
   "source": [
    "# a 리스트에서 양수만 출력 \n",
    "for idx, v in enumerate(a):\n",
    "    if v > 0:\n",
    "        print(v)\n"
   ]
  },
  {
   "cell_type": "code",
   "execution_count": 91,
   "id": "9c999457",
   "metadata": {},
   "outputs": [
    {
     "name": "stdout",
     "output_type": "stream",
     "text": [
      "[3, 5, 1]\n"
     ]
    }
   ],
   "source": [
    "for i in a:\n",
    "    if i > 0:\n",
    "        continue\n",
    "    else:\n",
    "        a.remove(i)\n",
    "print(a)"
   ]
  },
  {
   "cell_type": "code",
   "execution_count": 92,
   "id": "91b71748",
   "metadata": {},
   "outputs": [],
   "source": [
    "a=[3, 7, 1, 5, 2]"
   ]
  },
  {
   "cell_type": "code",
   "execution_count": 96,
   "id": "1dd7d46a",
   "metadata": {},
   "outputs": [
    {
     "name": "stdout",
     "output_type": "stream",
     "text": [
      "1\n"
     ]
    }
   ],
   "source": [
    "#a 리스트에서 최소값 \n",
    "small=a[0]\n",
    "for i in a:\n",
    "    if i < small:\n",
    "        small=i\n",
    "print(small)"
   ]
  },
  {
   "cell_type": "code",
   "execution_count": 98,
   "id": "6a1e4df7",
   "metadata": {},
   "outputs": [
    {
     "name": "stdout",
     "output_type": "stream",
     "text": [
      "7\n"
     ]
    }
   ],
   "source": [
    "#a 리스트에서 최소값 \n",
    "big=a[0]\n",
    "for i in a:\n",
    "    if i > big:\n",
    "        big=i\n",
    "print(big)"
   ]
  },
  {
   "cell_type": "code",
   "execution_count": 99,
   "id": "0f0afa7d",
   "metadata": {},
   "outputs": [
    {
     "data": {
      "text/plain": [
       "[3, 7, 1, 5, 2]"
      ]
     },
     "execution_count": 99,
     "metadata": {},
     "output_type": "execute_result"
    }
   ],
   "source": [
    "a"
   ]
  },
  {
   "cell_type": "code",
   "execution_count": 101,
   "id": "c4bf99fc",
   "metadata": {},
   "outputs": [],
   "source": [
    "a.sort()"
   ]
  },
  {
   "cell_type": "code",
   "execution_count": 103,
   "id": "72190c89",
   "metadata": {},
   "outputs": [
    {
     "data": {
      "text/plain": [
       "1"
      ]
     },
     "execution_count": 103,
     "metadata": {},
     "output_type": "execute_result"
    }
   ],
   "source": [
    "a[0] # sort(reverse=True) #a[len(a)-1]"
   ]
  },
  {
   "cell_type": "code",
   "execution_count": 106,
   "id": "6ee1b79b",
   "metadata": {},
   "outputs": [
    {
     "name": "stdout",
     "output_type": "stream",
     "text": [
      "1\n",
      "7\n"
     ]
    }
   ],
   "source": [
    "print(min(a))\n",
    "print(max(a))"
   ]
  },
  {
   "cell_type": "code",
   "execution_count": 108,
   "id": "a15b0497",
   "metadata": {},
   "outputs": [
    {
     "data": {
      "text/plain": [
       "18"
      ]
     },
     "execution_count": 108,
     "metadata": {},
     "output_type": "execute_result"
    }
   ],
   "source": [
    "sum(a)"
   ]
  },
  {
   "cell_type": "code",
   "execution_count": 111,
   "id": "401e54c1",
   "metadata": {},
   "outputs": [
    {
     "data": {
      "text/plain": [
       "[0, 1, 2, 3, 4, 5, 6, 7, 8, 9]"
      ]
     },
     "execution_count": 111,
     "metadata": {},
     "output_type": "execute_result"
    }
   ],
   "source": [
    "# list comprehension(리스트 내포(표현식)) :리스트 내부에 for, if문을 사용할 수 있게 만듦\n",
    "#-> 리스트 생성\n",
    "\n",
    "# [              ]\n",
    "\n",
    "#리스트 표현식 작성법 \n",
    "#[식 for 변수 in 리스트]\n",
    "x=[x for x in range(10)]\n",
    "x"
   ]
  },
  {
   "cell_type": "code",
   "execution_count": 113,
   "id": "63189354",
   "metadata": {},
   "outputs": [
    {
     "data": {
      "text/plain": [
       "[0, 1, 2, 3, 4, 5, 6, 7, 8, 9]"
      ]
     },
     "execution_count": 113,
     "metadata": {},
     "output_type": "execute_result"
    }
   ],
   "source": [
    "# li=[]\n",
    "# for i in range(10):\n",
    "#     li.append(i)\n",
    "\n",
    "# [x for x in range(10)]\n",
    "list((x for x in range(10))) # 제너라이터"
   ]
  },
  {
   "cell_type": "code",
   "execution_count": 114,
   "id": "eb8b647c",
   "metadata": {},
   "outputs": [
    {
     "data": {
      "text/plain": [
       "[1, 2, 3, 4, 5, 6, 7, 8, 9, 10]"
      ]
     },
     "execution_count": 114,
     "metadata": {},
     "output_type": "execute_result"
    }
   ],
   "source": [
    "[x+1 for x in range(10)]"
   ]
  },
  {
   "cell_type": "code",
   "execution_count": 115,
   "id": "acd9ec05",
   "metadata": {},
   "outputs": [],
   "source": [
    "#리스트 내포를 이용하여 10 ~ 20 까지 값을 갖는 리스트 생성"
   ]
  },
  {
   "cell_type": "code",
   "execution_count": 117,
   "id": "5671c6e9",
   "metadata": {},
   "outputs": [
    {
     "data": {
      "text/plain": [
       "[10, 11, 12, 13, 14, 15, 16, 17, 18, 19, 20]"
      ]
     },
     "execution_count": 117,
     "metadata": {},
     "output_type": "execute_result"
    }
   ],
   "source": [
    "nums = [x for x in range(10,21)]\n",
    "nums"
   ]
  },
  {
   "cell_type": "code",
   "execution_count": 124,
   "id": "2e5b6e42",
   "metadata": {},
   "outputs": [
    {
     "data": {
      "text/plain": [
       "[0, 5, 10, 15, 20, 25]"
      ]
     },
     "execution_count": 124,
     "metadata": {},
     "output_type": "execute_result"
    }
   ],
   "source": [
    "# [0, 5, 10, 15, 20, 25]\n",
    "# \n",
    "\n",
    "[x for x in range(0, 26) if x%5==0]\n",
    "\n",
    "# [x for x in range(0, 26, 5)]\n",
    "# [x*5 for x in range(0,6)]"
   ]
  },
  {
   "cell_type": "code",
   "execution_count": 132,
   "id": "61f76c6e",
   "metadata": {},
   "outputs": [
    {
     "data": {
      "text/plain": [
       "[0, 2, 4, 6, 8]"
      ]
     },
     "execution_count": 132,
     "metadata": {},
     "output_type": "execute_result"
    }
   ],
   "source": [
    "# [식 for 변수 리스트 if 조건식]\n",
    "[i for i in range(10) if i%2 ==0]\n",
    "\n",
    "# \"\"\"\n",
    "# 1) range(10)   => 0, 1, 2, .... 9\n",
    "# 2) if i%2 ==0  => \n",
    "# 3) 뽑아낸 짝수가 i에 전달 되어 리스트가 생성됨.  \n",
    "# \"\"\""
   ]
  },
  {
   "cell_type": "code",
   "execution_count": 134,
   "id": "fa897719",
   "metadata": {},
   "outputs": [
    {
     "data": {
      "text/plain": [
       "[3, 9, 15, 21, 27]"
      ]
     },
     "execution_count": 134,
     "metadata": {},
     "output_type": "execute_result"
    }
   ],
   "source": [
    "# 0~9까지 숫자 중에서 홀수에 3을 곱한 리스트를 생성\n",
    "[i*3 for i in range(10) if i%2 !=0]"
   ]
  },
  {
   "cell_type": "code",
   "execution_count": 135,
   "id": "015ba32d",
   "metadata": {},
   "outputs": [],
   "source": [
    "a=['a', 'b', 'c', 'd', 'e']\n",
    "b=['A', 'B', 'C', 'D', 'E']"
   ]
  },
  {
   "cell_type": "code",
   "execution_count": 142,
   "id": "d4c812d2",
   "metadata": {},
   "outputs": [
    {
     "data": {
      "text/plain": [
       "['aA',\n",
       " 'aB',\n",
       " 'aC',\n",
       " 'aD',\n",
       " 'aE',\n",
       " 'bA',\n",
       " 'bB',\n",
       " 'bC',\n",
       " 'bD',\n",
       " 'bE',\n",
       " 'cA',\n",
       " 'cB',\n",
       " 'cC',\n",
       " 'cD',\n",
       " 'cE',\n",
       " 'dA',\n",
       " 'dB',\n",
       " 'dC',\n",
       " 'dD',\n",
       " 'dE',\n",
       " 'eA',\n",
       " 'eB',\n",
       " 'eC',\n",
       " 'eD',\n",
       " 'eE']"
      ]
     },
     "execution_count": 142,
     "metadata": {},
     "output_type": "execute_result"
    }
   ],
   "source": [
    "# [i+j for i in a for j in b]\n",
    "mylist=[]\n",
    "for i in a :\n",
    "    for j in b:\n",
    "        mylist.append(i+j)\n",
    "mylist"
   ]
  },
  {
   "cell_type": "code",
   "execution_count": 148,
   "id": "73e1764f",
   "metadata": {},
   "outputs": [
    {
     "name": "stdout",
     "output_type": "stream",
     "text": [
      "li :  [2, 4, 6, 8, 10, 12, 14, 16, 18, 3, 6, 9, 12, 15, 18, 21, 24, 27, 4, 8, 12, 16, 20, 24, 28, 32, 36, 5, 10, 15, 20, 25, 30, 35, 40, 45, 6, 12, 18, 24, 30, 36, 42, 48, 54, 7, 14, 21, 28, 35, 42, 49, 56, 63, 8, 16, 24, 32, 40, 48, 56, 64, 72, 9, 18, 27, 36, 45, 54, 63, 72, 81]\n",
      "mylist :  [2, 4, 6, 8, 10, 12, 14, 16, 18, 3, 6, 9, 12, 15, 18, 21, 24, 27, 4, 8, 12, 16, 20, 24, 28, 32, 36, 5, 10, 15, 20, 25, 30, 35, 40, 45, 6, 12, 18, 24, 30, 36, 42, 48, 54, 7, 14, 21, 28, 35, 42, 49, 56, 63, 8, 16, 24, 32, 40, 48, 56, 64, 72, 9, 18, 27, 36, 45, 54, 63, 72, 81]\n"
     ]
    }
   ],
   "source": [
    "# 2단 ~ 0단 결과를 출력 \n",
    "# [2, 4, 6, ....., 81]\n",
    "\n",
    "# 2중 for 문\n",
    "li=[]\n",
    "for i in range(2, 10):\n",
    "    #li.append(2*i)\n",
    "    for j in range(1, 10):\n",
    "        li.append(j*i)\n",
    "print(\"li : \", li)\n",
    "\n",
    "# 리스트 내포\n",
    "mylist = [i* j for i in range(2, 10) for j in range(1,10)]\n",
    "print(\"mylist : \", mylist)"
   ]
  },
  {
   "cell_type": "code",
   "execution_count": 151,
   "id": "d71cb60c",
   "metadata": {},
   "outputs": [
    {
     "data": {
      "text/plain": [
       "[0, 2, 4, 6, 8, 10, 12, 14, 16, 18, 20, 22, 24, 26, 28]"
      ]
     },
     "execution_count": 151,
     "metadata": {},
     "output_type": "execute_result"
    }
   ],
   "source": [
    "[i for i in range(30) if i%2==0]"
   ]
  },
  {
   "cell_type": "code",
   "execution_count": 153,
   "id": "1a9f7c09",
   "metadata": {},
   "outputs": [
    {
     "data": {
      "text/plain": [
       "[0, 6, 12, 18, 24]"
      ]
     },
     "execution_count": 153,
     "metadata": {},
     "output_type": "execute_result"
    }
   ],
   "source": [
    "# 사용 안하는 것이 좋음 \n",
    "[i for i in range(30) if i%2==0 if i%3==0]"
   ]
  },
  {
   "cell_type": "code",
   "execution_count": 167,
   "id": "1c04e06a",
   "metadata": {},
   "outputs": [
    {
     "data": {
      "text/plain": [
       "['even', 'odd', 'even', 'odd', 'even', 'odd', 'even', 'odd', 'even', 'odd']"
      ]
     },
     "execution_count": 167,
     "metadata": {},
     "output_type": "execute_result"
    }
   ],
   "source": [
    "# 리스트 내포에서 else 도 사용 가능, 단, elif 는 불가 \n",
    "# 0~9 까지 수를 리스트에 저장하고자 하는데, 짝수는 'even', 홀수는 'odd'\n",
    "\n",
    "['even' if i%2==0 else 'odd' for i in range(0, 10)]"
   ]
  },
  {
   "cell_type": "code",
   "execution_count": 169,
   "id": "e226d405",
   "metadata": {},
   "outputs": [
    {
     "data": {
      "text/plain": [
       "['zeor', 'odd', 'even', 'odd', 'even', 'odd', 'even', 'odd', 'even', 'odd']"
      ]
     },
     "execution_count": 169,
     "metadata": {},
     "output_type": "execute_result"
    }
   ],
   "source": [
    "#['zero', 'odd', 'even']\n",
    "\n",
    "['zeor' if i==0 else 'even' if i%2==0 else 'odd' for i in range(0, 10)]"
   ]
  }
 ],
 "metadata": {
  "kernelspec": {
   "display_name": "Python 3",
   "language": "python",
   "name": "python3"
  },
  "language_info": {
   "codemirror_mode": {
    "name": "ipython",
    "version": 3
   },
   "file_extension": ".py",
   "mimetype": "text/x-python",
   "name": "python",
   "nbconvert_exporter": "python",
   "pygments_lexer": "ipython3",
   "version": "3.8.8"
  }
 },
 "nbformat": 4,
 "nbformat_minor": 5
}
