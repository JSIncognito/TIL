{
 "cells": [
  {
   "cell_type": "code",
   "execution_count": 9,
   "id": "a503d77b",
   "metadata": {
    "scrolled": true
   },
   "outputs": [
    {
     "name": "stdout",
     "output_type": "stream",
     "text": [
      "숫자 두 개를 입력 : 1 2 \n",
      "3\n"
     ]
    }
   ],
   "source": [
    "x, y=input(\"숫자 두 개를 입력 : \").split()\n",
    "print(int(x)+int(y))"
   ]
  },
  {
   "cell_type": "code",
   "execution_count": 10,
   "id": "1e93dd8a",
   "metadata": {
    "scrolled": false
   },
   "outputs": [
    {
     "name": "stdout",
     "output_type": "stream",
     "text": [
      "숫자 두 개를 입력 : 3\n",
      "5\n"
     ]
    }
   ],
   "source": [
    "x=int(input(\"숫자 두 개를 입력 : \"))\n",
    "print(x+2)\n",
    "\n"
   ]
  },
  {
   "cell_type": "code",
   "execution_count": 11,
   "id": "87b022f1",
   "metadata": {},
   "outputs": [
    {
     "name": "stdout",
     "output_type": "stream",
     "text": [
      "숫자 두 개를 입력 : 2 3 \n",
      "['2', '3']\n"
     ]
    }
   ],
   "source": [
    "print(input(\"숫자 두 개를 입력 : \").split())\n"
   ]
  },
  {
   "cell_type": "code",
   "execution_count": null,
   "id": "5c3f3430",
   "metadata": {},
   "outputs": [],
   "source": [
    "#['2', '3']\n",
    "print(int('2')+3)"
   ]
  },
  {
   "cell_type": "code",
   "execution_count": null,
   "id": "02f26c06",
   "metadata": {},
   "outputs": [],
   "source": [
    "#int(['2', '3']) error"
   ]
  },
  {
   "cell_type": "code",
   "execution_count": null,
   "id": "5cf9f1e2",
   "metadata": {},
   "outputs": [],
   "source": [
    "#map 함수 \n",
    "\n",
    "x, y=map(int, input(\"숫자 두 개를 입력 : \").split())\n",
    "print(x+y)"
   ]
  },
  {
   "cell_type": "code",
   "execution_count": 1,
   "id": "7f78af54",
   "metadata": {},
   "outputs": [
    {
     "name": "stdout",
     "output_type": "stream",
     "text": [
      "숫자 두 개를 입력 : 1 2 \n",
      "<map object at 0x000001859C2A8F40>\n"
     ]
    }
   ],
   "source": [
    "print(map(int, input(\"숫자 두 개를 입력 : \").split()))"
   ]
  },
  {
   "cell_type": "code",
   "execution_count": 2,
   "id": "2be9d94d",
   "metadata": {},
   "outputs": [],
   "source": [
    "# 숫자 입력 : 1, 2\n",
    "# 3"
   ]
  },
  {
   "cell_type": "code",
   "execution_count": 8,
   "id": "79e5f2b4",
   "metadata": {},
   "outputs": [
    {
     "name": "stdout",
     "output_type": "stream",
     "text": [
      "숫자 입력 :1, 3\n",
      "4\n"
     ]
    }
   ],
   "source": [
    "x, y=map(int, input(\"숫자 입력 :\").split(','))\n",
    "print(x + y)"
   ]
  },
  {
   "cell_type": "code",
   "execution_count": 10,
   "id": "76039b3b",
   "metadata": {},
   "outputs": [
    {
     "name": "stdout",
     "output_type": "stream",
     "text": [
      "10 20 30\n",
      "10,20,30\n",
      "102030\n"
     ]
    }
   ],
   "source": [
    "print(10, 20, 30)\n",
    "print(10, 20, 30, sep=\",\")\n",
    "print(10, 20, 30, sep=\"\")\n"
   ]
  },
  {
   "cell_type": "code",
   "execution_count": 16,
   "id": "24b4a0f4",
   "metadata": {},
   "outputs": [
    {
     "name": "stdout",
     "output_type": "stream",
     "text": [
      "True\n",
      "False\n",
      "True\n",
      "True\n",
      "True\n"
     ]
    },
    {
     "data": {
      "text/plain": [
       "'skySky'"
      ]
     },
     "execution_count": 16,
     "metadata": {},
     "output_type": "execute_result"
    }
   ],
   "source": [
    "# boolean, 참 또는 거짓 결과값 상수\n",
    "# 비교연산자, 논리연산자 => 연산 결과가 불린형\n",
    "print(3>2)\n",
    "print(1==2)   # = 의미? 오른쪽의 값을 왼쪽에 assing, == 의? equal \n",
    "print(1 != 2) # != (not equal)\n",
    "\n",
    "print('test' == 'test')\n",
    "print('test' != 'Test') # 대문자 구분 주의 필요 \n",
    "\n",
    "'Trump' 'trump' \n",
    "\n",
    "'donald_trump' 'trump'\n",
    "\n",
    "'sky' 'Sky'\n",
    "# 자연어 전처리 과정에서는 대소문자를 통일하는 작업을 수행"
   ]
  },
  {
   "cell_type": "code",
   "execution_count": 17,
   "id": "1cbc3230",
   "metadata": {},
   "outputs": [
    {
     "data": {
      "text/plain": [
       "True"
      ]
     },
     "execution_count": 17,
     "metadata": {},
     "output_type": "execute_result"
    }
   ],
   "source": [
    "10 >= 10 # 크거나 같다. 기준 왼쪽 기준으로 읽을 것."
   ]
  },
  {
   "cell_type": "code",
   "execution_count": 20,
   "id": "694f5c43",
   "metadata": {},
   "outputs": [
    {
     "data": {
      "text/plain": [
       "True"
      ]
     },
     "execution_count": 20,
     "metadata": {},
     "output_type": "execute_result"
    }
   ],
   "source": [
    "True # 대문자 T로 표현되는 것 주의할것."
   ]
  },
  {
   "cell_type": "code",
   "execution_count": 27,
   "id": "2002d4ec",
   "metadata": {},
   "outputs": [
    {
     "data": {
      "text/plain": [
       "True"
      ]
     },
     "execution_count": 27,
     "metadata": {},
     "output_type": "execute_result"
    }
   ],
   "source": [
    "#논리 연산자 : and, or, not 연산자 \n",
    "True\n",
    "False \n",
    "\n",
    "# and : 모두 다 참인경우만 참이되는 연산자 \n",
    "True and False\n",
    "True and True \n",
    "\n",
    "# or : 적어도 하나 이상이 참인 경우 참이되는 연산자 \n",
    "True or False\n",
    "True or True \n",
    "\n",
    "# not : 참 -> 거짓, 거짓 -> 참 \n",
    "not True\n",
    "\n",
    "# 논리 연산자 우선순위 : not, and, or \n",
    "not True and False\n",
    "\n",
    "True and True or not True # not 우선순위가 높음 \n",
    "\n",
    "\n",
    "not True and False or not False\n",
    "# => False and False or True\n",
    "# => False or True \n",
    "# => True\n",
    "\n",
    "not True and False or not False\n"
   ]
  },
  {
   "cell_type": "code",
   "execution_count": 29,
   "id": "1eb4fdd5",
   "metadata": {},
   "outputs": [
    {
     "data": {
      "text/plain": [
       "True"
      ]
     },
     "execution_count": 29,
     "metadata": {},
     "output_type": "execute_result"
    }
   ],
   "source": [
    "1==1 and 1!=2\n",
    "# 비교연산자 : 2개, 논리 연산자 : 1\n",
    "# 우선순위가 비교 > 논리"
   ]
  },
  {
   "cell_type": "code",
   "execution_count": 35,
   "id": "c0385340",
   "metadata": {},
   "outputs": [
    {
     "name": "stdout",
     "output_type": "stream",
     "text": [
      "True\n",
      "True\n",
      "True\n",
      "False\n",
      "True\n",
      "True\n",
      "True\n",
      "False\n",
      "True\n",
      "True\n",
      "False\n",
      "정상처리\n"
     ]
    }
   ],
   "source": [
    "#bool() 정수, 실수, 문자 -> 불린 \n",
    "print(bool(100))\n",
    "print(bool(-100))\n",
    "\n",
    "print(bool(1))\n",
    "print(bool(0)) # 거짓 \n",
    "\n",
    "print(bool(3.14))\n",
    "print(bool(-1.1))\n",
    "print(bool(0.1))\n",
    "print(bool(0.0)) # 거짓 \n",
    "\n",
    "print(bool('a'))\n",
    "print(bool(\"test\"))\n",
    "print(bool(\"\"))\n",
    "\n",
    "x=\"donald_trump\"\n",
    "\n",
    "if x: \n",
    "   print(\"정상처리\")\n",
    "else:\n",
    "    print(\"비정상 처리\")\n"
   ]
  },
  {
   "cell_type": "code",
   "execution_count": 36,
   "id": "3e9f33de",
   "metadata": {},
   "outputs": [
    {
     "data": {
      "text/plain": [
       "True"
      ]
     },
     "execution_count": 36,
     "metadata": {},
     "output_type": "execute_result"
    }
   ],
   "source": [
    "'mulcam' and True"
   ]
  },
  {
   "cell_type": "code",
   "execution_count": 44,
   "id": "25369642",
   "metadata": {},
   "outputs": [
    {
     "name": "stdout",
     "output_type": "stream",
     "text": [
      "I eat 2 apples\n",
      "I eat 20 apples\n",
      "I eat three apples\n"
     ]
    }
   ],
   "source": [
    "# 문자열 관련 함수 \n",
    "print(\"I eat 2 apples\")\n",
    "\n",
    "# 포매팅\n",
    "x= 20\n",
    "print(\"I eat %d apples\" %x)\n",
    "\n",
    "# 문자열 \n",
    "a=\"three\"\n",
    "print(\"I eat %s apples\" %a)\n"
   ]
  },
  {
   "cell_type": "code",
   "execution_count": 53,
   "id": "858ecf2f",
   "metadata": {},
   "outputs": [
    {
     "name": "stdout",
     "output_type": "stream",
     "text": [
      "I ate 3 applse. so I was sick for three days\n"
     ]
    }
   ],
   "source": [
    "print(\"I ate %d applse. so I was sick for %s days\" % (3, \"three\"))"
   ]
  },
  {
   "cell_type": "code",
   "execution_count": 56,
   "id": "a1177321",
   "metadata": {},
   "outputs": [
    {
     "data": {
      "text/plain": [
       "'www'"
      ]
     },
     "execution_count": 56,
     "metadata": {},
     "output_type": "execute_result"
    }
   ],
   "source": [
    "\"www\" and True\n",
    "True and \"www\""
   ]
  },
  {
   "cell_type": "code",
   "execution_count": 58,
   "id": "af6043cf",
   "metadata": {},
   "outputs": [
    {
     "name": "stdout",
     "output_type": "stream",
     "text": [
      "I eat 2 apples\n",
      "I eat 2.100000 apples\n",
      "I eat 2.1 apples\n"
     ]
    }
   ],
   "source": [
    "x=2.1\n",
    "\n",
    "print(\"I eat %d apples\" %x)\n",
    "print(\"I eat %f apples\" %x)\n",
    "print(\"I eat %.1f apples\" %x)"
   ]
  },
  {
   "cell_type": "code",
   "execution_count": 61,
   "id": "4a5be716",
   "metadata": {
    "scrolled": true
   },
   "outputs": [
    {
     "name": "stdout",
     "output_type": "stream",
     "text": [
      "Accuracy is 90%\n",
      "Accuracy is 90%\n"
     ]
    }
   ],
   "source": [
    "print(\"Accuracy is 90%\")\n",
    "print(\"Accuracy is %d%%\" %90)\n"
   ]
  },
  {
   "cell_type": "code",
   "execution_count": 62,
   "id": "618ee2d2",
   "metadata": {},
   "outputs": [
    {
     "name": "stdout",
     "output_type": "stream",
     "text": [
      "     hello\n",
      "hello     \n"
     ]
    }
   ],
   "source": [
    "print(\"%10s\" % \"hello\")  # 10칸 확보 후 우측 정렬\n",
    "print(\"%-10s\" % \"hello\") # 10칸 확보 후 우측 정렬 "
   ]
  },
  {
   "cell_type": "code",
   "execution_count": 65,
   "id": "c902f953",
   "metadata": {},
   "outputs": [],
   "source": [
    "num=3\n",
    "day=\"five\""
   ]
  },
  {
   "cell_type": "code",
   "execution_count": 66,
   "id": "2976d7ea",
   "metadata": {},
   "outputs": [
    {
     "name": "stdout",
     "output_type": "stream",
     "text": [
      "I ate 3 applse. so I was sick for five days\n",
      "I ate 3 applse. so I was sick for five days\n",
      "I ate 3 applse. so I was sick for five days\n"
     ]
    }
   ],
   "source": [
    "print(\"I ate %d applse. so I was sick for %s days\" % (3, \"five\"))\n",
    "print(\"I ate %d applse. so I was sick for %s days\" % (num, day))\n",
    "\n",
    "print(\"I ate {0} applse. so I was sick for {1} days\".format(num, day))\n",
    "\n",
    "#{0}: format 함수의 첫번째 인수 \n",
    "#{1}: format 함수의 두번째 인수"
   ]
  },
  {
   "cell_type": "code",
   "execution_count": 67,
   "id": "481b1261",
   "metadata": {},
   "outputs": [
    {
     "name": "stdout",
     "output_type": "stream",
     "text": [
      "I ate five applse. so I was sick for 3 days\n"
     ]
    }
   ],
   "source": [
    "print(\"I ate {1} applse. so I was sick for {0} days\".format(num, day))\n"
   ]
  },
  {
   "cell_type": "code",
   "execution_count": 68,
   "id": "64cab0fe",
   "metadata": {},
   "outputs": [
    {
     "name": "stdout",
     "output_type": "stream",
     "text": [
      "I ate 3 applse. so I was sick for three days\n"
     ]
    }
   ],
   "source": [
    "print(\"I ate {num} applse. so I was sick for {day} days\".format(num=3, day=\"three\"))\n"
   ]
  },
  {
   "cell_type": "code",
   "execution_count": 71,
   "id": "c0bb5c3c",
   "metadata": {},
   "outputs": [
    {
     "name": "stdout",
     "output_type": "stream",
     "text": [
      "hello     \n",
      "     hello\n",
      "  hello   \n",
      "$$hello$$$\n"
     ]
    }
   ],
   "source": [
    "print(\"{0:<10}\".format(\"hello\"))\n",
    "#:<10 의미? 은 전체 자리수가 10자리, 왼쪽 정렬\n",
    "print(\"{0:>10}\".format(\"hello\"))\n",
    "#:<10 의미? 은 전체 자리수가 10자리, 오른쪽 정렬\n",
    "print(\"{0:^10}\".format(\"hello\"))\n",
    "#:<10 의미? 은 전체 자리수가 10자리, 가운데 정렬\n",
    "print(\"{0:$^10}\".format(\"hello\"))\n",
    "#:<10 의미? 은 전체 자리수가 10자리, 공백을 채울때\n"
   ]
  },
  {
   "cell_type": "code",
   "execution_count": 74,
   "id": "f64063a2",
   "metadata": {},
   "outputs": [
    {
     "data": {
      "text/plain": [
       "2"
      ]
     },
     "execution_count": 74,
     "metadata": {},
     "output_type": "execute_result"
    }
   ],
   "source": [
    "#(문자열) 내장 함수 : 문자열 자체적으로 문자열 관련 함수를 가지고 있음 \n",
    "# 사용 방법 : 문자열(변수), 내장함수()\n",
    "\n",
    "\"data\".count('a')\n",
    "\"data\".count('z')\n",
    "\n",
    "x=\"data\"\n",
    "x.count('a')"
   ]
  },
  {
   "cell_type": "code",
   "execution_count": 79,
   "id": "7b69cbb4",
   "metadata": {},
   "outputs": [
    {
     "name": "stdout",
     "output_type": "stream",
     "text": [
      "1\n",
      "-1\n",
      "1\n"
     ]
    },
    {
     "ename": "ValueError",
     "evalue": "substring not found",
     "output_type": "error",
     "traceback": [
      "\u001b[1;31m---------------------------------------------------------------------------\u001b[0m",
      "\u001b[1;31mValueError\u001b[0m                                Traceback (most recent call last)",
      "\u001b[1;32m<ipython-input-79-f512494b94bf>\u001b[0m in \u001b[0;36m<module>\u001b[1;34m\u001b[0m\n\u001b[0;32m      5\u001b[0m \u001b[1;33m\u001b[0m\u001b[0m\n\u001b[0;32m      6\u001b[0m \u001b[0mprint\u001b[0m\u001b[1;33m(\u001b[0m\u001b[0mx\u001b[0m\u001b[1;33m.\u001b[0m\u001b[0mindex\u001b[0m\u001b[1;33m(\u001b[0m\u001b[1;34m'a'\u001b[0m\u001b[1;33m)\u001b[0m\u001b[1;33m)\u001b[0m\u001b[1;33m\u001b[0m\u001b[1;33m\u001b[0m\u001b[0m\n\u001b[1;32m----> 7\u001b[1;33m \u001b[0mprint\u001b[0m\u001b[1;33m(\u001b[0m\u001b[0mx\u001b[0m\u001b[1;33m.\u001b[0m\u001b[0mindex\u001b[0m\u001b[1;33m(\u001b[0m\u001b[1;34m'b'\u001b[0m\u001b[1;33m)\u001b[0m\u001b[1;33m)\u001b[0m\u001b[1;33m\u001b[0m\u001b[1;33m\u001b[0m\u001b[0m\n\u001b[0m",
      "\u001b[1;31mValueError\u001b[0m: substring not found"
     ]
    }
   ],
   "source": [
    "# function find()\n",
    "\n",
    "print(x.find('a')) # 'a' 의 위치, 0번부터 시작\n",
    "print(x.find('b')) # 문자가 없는 경우에는 -1 리턴\n",
    "\n",
    "print(x.index('a'))\n",
    "print(x.index('b')) # 문자가 없는 경우에는 에러발생"
   ]
  },
  {
   "cell_type": "code",
   "execution_count": 89,
   "id": "287a2709",
   "metadata": {},
   "outputs": [
    {
     "name": "stdout",
     "output_type": "stream",
     "text": [
      "['a,b,c,d']\n"
     ]
    }
   ],
   "source": [
    "#\"a, b, c, d\" => \"abcd\"\n",
    "x=\"a,b,c,d\"\n",
    "# abcd 출력 \n",
    "\n",
    "print(x.split()) # x에 저장된 문자열을 공백 문자로 분리\n",
    "res=x.split(\",\") # x에 저장된 문자열을 공백 문자로 분리"
   ]
  },
  {
   "cell_type": "code",
   "execution_count": 91,
   "id": "3c3bc686",
   "metadata": {},
   "outputs": [
    {
     "name": "stdout",
     "output_type": "stream",
     "text": [
      "a,b,c,d\n"
     ]
    }
   ],
   "source": [
    "print(\",\".join(res))\n",
    "# res 에 저장되어 있는 각각의 문자가 컴마(,)로 연결 \n",
    "\n",
    "# split <-> join"
   ]
  },
  {
   "cell_type": "code",
   "execution_count": 93,
   "id": "257a5bb6",
   "metadata": {},
   "outputs": [
    {
     "name": "stdout",
     "output_type": "stream",
     "text": [
      "Test\n",
      "TEST\n",
      "test\n"
     ]
    }
   ],
   "source": [
    "print(\"test\".capitalize())\n",
    "print(\"test\".upper())\n",
    "print(\"test\".lower())"
   ]
  },
  {
   "cell_type": "code",
   "execution_count": 96,
   "id": "9ebf9146",
   "metadata": {},
   "outputs": [
    {
     "name": "stdout",
     "output_type": "stream",
     "text": [
      " hello hi\n"
     ]
    }
   ],
   "source": [
    "a=\" hello \"\n",
    "b=\"hi\"\n",
    "print(a,b, sep=\"\")"
   ]
  },
  {
   "cell_type": "code",
   "execution_count": 99,
   "id": "833d1ea6",
   "metadata": {
    "scrolled": true
   },
   "outputs": [
    {
     "name": "stdout",
     "output_type": "stream",
     "text": [
      "hello\n",
      "hello \n",
      " hello\n"
     ]
    }
   ],
   "source": [
    "print(a.strip()) # 양쪽 공백 제거 \n",
    "print(a.lstrip()) # 왼쪽 공백 제거 \n",
    "print(a.rstrip()) # 오른쪽 공백 제거 "
   ]
  },
  {
   "cell_type": "code",
   "execution_count": 103,
   "id": "28a4b7c8",
   "metadata": {
    "scrolled": true
   },
   "outputs": [
    {
     "name": "stdout",
     "output_type": "stream",
     "text": [
      "Python is too difficult\n",
      "Pythtn is ttt easy\n"
     ]
    }
   ],
   "source": [
    "#' hello ' != 'hello'\n",
    "\n",
    "a=\"Python is too easy\"\n",
    "print(a.replace(\"easy\", \"difficult\"))\n",
    "\n",
    "print(a.replace(\"o\", \"t\"))"
   ]
  },
  {
   "cell_type": "markdown",
   "id": "0ddd5432",
   "metadata": {},
   "source": [
    "#### 오후 자료구조 "
   ]
  },
  {
   "cell_type": "markdown",
   "id": "f6fab3c6",
   "metadata": {},
   "source": [
    "#### 알고리즘 정의\n",
    "- 문제를 해결하기 위한 (가장 좋은) 방법\n",
    "\n",
    "#### 자료구조 -> 자료를 저장 및 관리하는 방법 \n",
    "- 파이썬 자료구조 \n",
    "- 튜플, 리스트(중요), 셋, 딕셔너리(중요)"
   ]
  },
  {
   "cell_type": "code",
   "execution_count": null,
   "id": "dce0c213",
   "metadata": {},
   "outputs": [],
   "source": [
    "x=1\n",
    "x=3\n",
    "# 리스트 : 데이터를 일렬로 늘어놓은 구조 \n",
    "# - 리스트 변수명 = [요소값, 요소값, 요소값,...]  일반적 구조"
   ]
  },
  {
   "cell_type": "code",
   "execution_count": 110,
   "id": "6096b235",
   "metadata": {},
   "outputs": [],
   "source": [
    "a = [] # 빈 리스트\n",
    "a2=[10, 20, 30]\n",
    "a3=['hi', 'hello']\n",
    "a4=[10, 20, 'hi']\n",
    "a5=[10, 'hi', 1.14, True] #리스트에 여러 가지 자료형에 해당되는 자료를 하나로 묶음\n",
    "\n",
    "a6=list()\n"
   ]
  },
  {
   "cell_type": "code",
   "execution_count": 105,
   "id": "23f4f4f9",
   "metadata": {},
   "outputs": [
    {
     "data": {
      "text/plain": [
       "[]"
      ]
     },
     "execution_count": 105,
     "metadata": {},
     "output_type": "execute_result"
    }
   ],
   "source": [
    "a"
   ]
  },
  {
   "cell_type": "code",
   "execution_count": 111,
   "id": "0976fdac",
   "metadata": {},
   "outputs": [
    {
     "name": "stdout",
     "output_type": "stream",
     "text": [
      "[] [10, 20, 30] ['hi', 'hello'] [10, 20, 'hi'] [10, 'hi', 1.14, True]\n",
      "[]\n"
     ]
    }
   ],
   "source": [
    "print(a, a2, a3, a4, a5)\n",
    "print(a6)"
   ]
  },
  {
   "cell_type": "code",
   "execution_count": 117,
   "id": "0ceef492",
   "metadata": {},
   "outputs": [
    {
     "data": {
      "text/plain": [
       "70"
      ]
     },
     "execution_count": 117,
     "metadata": {},
     "output_type": "execute_result"
    }
   ],
   "source": [
    "# 리스트에서 추출 작업 \n",
    "# index 0 부터 시작 \n",
    "a=[10, 20, 30, 40]\n",
    "\n",
    "a[2]+a[3]\n",
    "\n"
   ]
  },
  {
   "cell_type": "code",
   "execution_count": 118,
   "id": "e05b3fb4",
   "metadata": {},
   "outputs": [
    {
     "data": {
      "text/plain": [
       "40"
      ]
     },
     "execution_count": 118,
     "metadata": {},
     "output_type": "execute_result"
    }
   ],
   "source": [
    "a[-1]\n",
    "a[-3]"
   ]
  },
  {
   "cell_type": "code",
   "execution_count": 135,
   "id": "a56fc736",
   "metadata": {},
   "outputs": [
    {
     "data": {
      "text/plain": [
       "[10, 20, 30, 40, [50, 'a', '6']]"
      ]
     },
     "execution_count": 135,
     "metadata": {},
     "output_type": "execute_result"
    }
   ],
   "source": [
    "a=[10,20,30,40,[50,'a','6']]\n",
    "a[4]\n",
    "a[-1]\n",
    "a\n",
    "\n",
    "# 리스트는 리스트를 요소값으로 할 수 있다."
   ]
  },
  {
   "cell_type": "code",
   "execution_count": 137,
   "id": "d526bff1",
   "metadata": {},
   "outputs": [
    {
     "data": {
      "text/plain": [
       "'a'"
      ]
     },
     "execution_count": 137,
     "metadata": {},
     "output_type": "execute_result"
    }
   ],
   "source": [
    "a[4][1]\n",
    "a[-1][1]\n",
    "a[4][-2]\n",
    "a[-1][-2]"
   ]
  },
  {
   "cell_type": "code",
   "execution_count": 139,
   "id": "db4d20d6",
   "metadata": {},
   "outputs": [],
   "source": [
    "a=[10,20,30,40,[50,'a',[3.14, True, 100], 'b']]"
   ]
  },
  {
   "cell_type": "code",
   "execution_count": 141,
   "id": "ec4a6a8e",
   "metadata": {},
   "outputs": [
    {
     "data": {
      "text/plain": [
       "3.14"
      ]
     },
     "execution_count": 141,
     "metadata": {},
     "output_type": "execute_result"
    }
   ],
   "source": [
    "# 3.14 출력\n",
    "a[-1][2][0]\n",
    "a[-1][-2][-3]"
   ]
  },
  {
   "cell_type": "markdown",
   "id": "7024d46f",
   "metadata": {},
   "source": [
    "파이썬 언어 - 리스트(동적, dynamic)\n",
    "- 넘파이 배열(array, static, 정적) 처리 속도가 빠름.\n",
    "- 배열과 리스트는 다름.\n",
    "\n",
    "a=[]\n",
    "\n",
    "리스트의 자료를 나누는 작업\n"
   ]
  },
  {
   "cell_type": "code",
   "execution_count": 147,
   "id": "c70ce3b4",
   "metadata": {},
   "outputs": [
    {
     "data": {
      "text/plain": [
       "[20, 30, 40, 50]"
      ]
     },
     "execution_count": 147,
     "metadata": {},
     "output_type": "execute_result"
    }
   ],
   "source": [
    "a=[10, 20, 30, 40, 50]\n",
    "\n",
    "a[0:2] # 시작번호(포함) : 끝번호 (포함 x)\n",
    "a[:4]\n",
    "a[1:]"
   ]
  },
  {
   "cell_type": "code",
   "execution_count": 143,
   "id": "a357fb21",
   "metadata": {},
   "outputs": [
    {
     "data": {
      "text/plain": [
       "'mul'"
      ]
     },
     "execution_count": 143,
     "metadata": {},
     "output_type": "execute_result"
    }
   ],
   "source": [
    "s=\"mulcam\"\n",
    "s[0:3]\n",
    "\n"
   ]
  },
  {
   "cell_type": "markdown",
   "id": "81b4b395",
   "metadata": {},
   "source": [
    "강사님 이메일 주소 : gspark@kw.ac.kr\n"
   ]
  },
  {
   "cell_type": "code",
   "execution_count": 153,
   "id": "23249b08",
   "metadata": {},
   "outputs": [],
   "source": [
    "a=[10, 20, 30, ['가', '나', '다'], 40, 50, 60]"
   ]
  },
  {
   "cell_type": "code",
   "execution_count": 156,
   "id": "87f1a6a2",
   "metadata": {},
   "outputs": [
    {
     "data": {
      "text/plain": [
       "['가', '나']"
      ]
     },
     "execution_count": 156,
     "metadata": {},
     "output_type": "execute_result"
    }
   ],
   "source": [
    "a[3][0:2]"
   ]
  },
  {
   "cell_type": "code",
   "execution_count": 157,
   "id": "a43359b3",
   "metadata": {},
   "outputs": [],
   "source": [
    "a=[10, 20]\n",
    "b=[30, 40]"
   ]
  },
  {
   "cell_type": "code",
   "execution_count": 159,
   "id": "479a1499",
   "metadata": {},
   "outputs": [
    {
     "name": "stdout",
     "output_type": "stream",
     "text": [
      "[10, 20, 10, 20, 10, 20]\n",
      "[10, 20, 30, 40]\n"
     ]
    }
   ],
   "source": [
    "print(a*3)\n",
    "print(a+b)"
   ]
  },
  {
   "cell_type": "code",
   "execution_count": 160,
   "id": "077b567e",
   "metadata": {},
   "outputs": [
    {
     "data": {
      "text/plain": [
       "2"
      ]
     },
     "execution_count": 160,
     "metadata": {},
     "output_type": "execute_result"
    }
   ],
   "source": [
    "len(a) # 리스트, 문자열, 딕셔너리, 튜플\n",
    "len(\"hello\")"
   ]
  },
  {
   "cell_type": "code",
   "execution_count": 165,
   "id": "fd73e73d",
   "metadata": {},
   "outputs": [
    {
     "data": {
      "text/plain": [
       "[10, 20, 'hi']"
      ]
     },
     "execution_count": 165,
     "metadata": {},
     "output_type": "execute_result"
    }
   ],
   "source": [
    "# 흔하게 많이 하는 실수 \n",
    "s=[10,20,\"hi\"]\n",
    "s"
   ]
  },
  {
   "cell_type": "code",
   "execution_count": 166,
   "id": "d1f395d7",
   "metadata": {},
   "outputs": [
    {
     "ename": "TypeError",
     "evalue": "unsupported operand type(s) for +: 'int' and 'str'",
     "output_type": "error",
     "traceback": [
      "\u001b[1;31m---------------------------------------------------------------------------\u001b[0m",
      "\u001b[1;31mTypeError\u001b[0m                                 Traceback (most recent call last)",
      "\u001b[1;32m<ipython-input-166-f51278803ae4>\u001b[0m in \u001b[0;36m<module>\u001b[1;34m\u001b[0m\n\u001b[1;32m----> 1\u001b[1;33m \u001b[0ms\u001b[0m\u001b[1;33m[\u001b[0m\u001b[1;36m1\u001b[0m\u001b[1;33m]\u001b[0m\u001b[1;33m+\u001b[0m\u001b[1;34m\"hi\"\u001b[0m\u001b[1;33m\u001b[0m\u001b[1;33m\u001b[0m\u001b[0m\n\u001b[0m",
      "\u001b[1;31mTypeError\u001b[0m: unsupported operand type(s) for +: 'int' and 'str'"
     ]
    }
   ],
   "source": [
    "s[1]+\"hi\" # 구하고자 하는 값을 구하기 위해 연산하는 타입이 서로 다른 경우 발생 "
   ]
  },
  {
   "cell_type": "code",
   "execution_count": 167,
   "id": "510e0f8a",
   "metadata": {},
   "outputs": [
    {
     "data": {
      "text/plain": [
       "'20hi'"
      ]
     },
     "execution_count": 167,
     "metadata": {},
     "output_type": "execute_result"
    }
   ],
   "source": [
    "str(s[1])+\"hi\""
   ]
  },
  {
   "cell_type": "code",
   "execution_count": 182,
   "id": "0d2c4cbb",
   "metadata": {},
   "outputs": [
    {
     "name": "stdout",
     "output_type": "stream",
     "text": [
      "[-10, -8, -6, -4, -2, 0, 2, 4, 6, 8, 10, 12, 14, 16, 18, 20, 22, 24, 26, 28, 30, 32, 34, 36, 38, 40, 42, 44, 46, 48]\n",
      "[]\n"
     ]
    },
    {
     "data": {
      "text/plain": [
       "[20, 18, 16, 14, 12, 10, 8, 6, 4, 2]"
      ]
     },
     "execution_count": 182,
     "metadata": {},
     "output_type": "execute_result"
    }
   ],
   "source": [
    "# function range 연속된 수의 수열을 만들어주는 함수 \n",
    "\n",
    "list(range(5))\n",
    "list(range(2,5))\n",
    "\n",
    "# print(list(range(10,50)))\n",
    "# print(list(range(10,50,3))) # 3씩 증가해서 작성 \n",
    "\n",
    "print(list(range(-10,50,2)))\n",
    "print(list(range(-10,50,-2)))\n",
    "\n",
    "# range(시작, 끝, 증감값)\n",
    "# 넘파이에 있는 range 함수는 실수값으로 증감값을 나타낼 수 있음\n",
    "list(range(20,0,-2))\n",
    "# list(range(20,0))\n",
    "\n"
   ]
  },
  {
   "cell_type": "code",
   "execution_count": 201,
   "id": "19986501",
   "metadata": {},
   "outputs": [
    {
     "data": {
      "text/plain": [
       "[5, 4, 3, 2, 1]"
      ]
     },
     "execution_count": 201,
     "metadata": {},
     "output_type": "execute_result"
    }
   ],
   "source": [
    "list(range(5,0,-1))"
   ]
  },
  {
   "cell_type": "code",
   "execution_count": 236,
   "id": "6c6a21a2",
   "metadata": {},
   "outputs": [
    {
     "name": "stdout",
     "output_type": "stream",
     "text": [
      "range(5, 0, -1)\n"
     ]
    },
    {
     "data": {
      "text/plain": [
       "[10, 20, 40]"
      ]
     },
     "execution_count": 236,
     "metadata": {},
     "output_type": "execute_result"
    }
   ],
   "source": [
    "a=range(5,0,-1)\n",
    "print(a)\n",
    "list(range(5,0,-1))\n",
    "\n",
    "# res=[]\n",
    "# x=list(range(50, 0, -5))\n",
    "# x \n",
    "# res[0]=x[0]/10\n",
    "# res[1]=x[1]/10\n",
    "\n",
    "a= [10, 20, 30]\n",
    "a[2]= 40\n",
    "a"
   ]
  },
  {
   "cell_type": "code",
   "execution_count": 237,
   "id": "34352870",
   "metadata": {},
   "outputs": [],
   "source": [
    "del a[2]"
   ]
  },
  {
   "cell_type": "code",
   "execution_count": 238,
   "id": "12a8ec3f",
   "metadata": {},
   "outputs": [
    {
     "data": {
      "text/plain": [
       "[10, 20]"
      ]
     },
     "execution_count": 238,
     "metadata": {},
     "output_type": "execute_result"
    }
   ],
   "source": [
    "a"
   ]
  },
  {
   "cell_type": "code",
   "execution_count": 239,
   "id": "fdb9f8df",
   "metadata": {},
   "outputs": [
    {
     "data": {
      "text/plain": [
       "[10, 20, 30, 40, 50, 60, 70, 80, 90, 100]"
      ]
     },
     "execution_count": 239,
     "metadata": {},
     "output_type": "execute_result"
    }
   ],
   "source": [
    "a=list(range(10,101,10))\n",
    "a"
   ]
  },
  {
   "cell_type": "code",
   "execution_count": 241,
   "id": "72fe3e6b",
   "metadata": {},
   "outputs": [],
   "source": [
    "del a[3:]"
   ]
  },
  {
   "cell_type": "code",
   "execution_count": 242,
   "id": "383e62fc",
   "metadata": {},
   "outputs": [
    {
     "data": {
      "text/plain": [
       "[10, 20, 30]"
      ]
     },
     "execution_count": 242,
     "metadata": {},
     "output_type": "execute_result"
    }
   ],
   "source": [
    "a"
   ]
  },
  {
   "cell_type": "code",
   "execution_count": 245,
   "id": "60a455a7",
   "metadata": {},
   "outputs": [
    {
     "name": "stdout",
     "output_type": "stream",
     "text": [
      "[10, 20, 30]\n"
     ]
    }
   ],
   "source": [
    "a=[10, 20] #append 함수 : 리스트의 맨 마지막에 추가 \n",
    "a.append(30)\n",
    "print(a)\n",
    "\n",
    "\n"
   ]
  },
  {
   "cell_type": "code",
   "execution_count": 246,
   "id": "9cfa6d64",
   "metadata": {},
   "outputs": [
    {
     "data": {
      "text/plain": [
       "[10, 20, 30, 'hi']"
      ]
     },
     "execution_count": 246,
     "metadata": {},
     "output_type": "execute_result"
    }
   ],
   "source": [
    "a.append('hi')\n",
    "a"
   ]
  },
  {
   "cell_type": "code",
   "execution_count": 247,
   "id": "2b08f2fb",
   "metadata": {},
   "outputs": [
    {
     "data": {
      "text/plain": [
       "[10, 20, 30, 'hi', [100, 200]]"
      ]
     },
     "execution_count": 247,
     "metadata": {},
     "output_type": "execute_result"
    }
   ],
   "source": [
    "a.append([100,200])\n",
    "a"
   ]
  },
  {
   "cell_type": "code",
   "execution_count": 248,
   "id": "88dd8d90",
   "metadata": {},
   "outputs": [
    {
     "data": {
      "text/plain": [
       "[30, 10, 20]"
      ]
     },
     "execution_count": 248,
     "metadata": {},
     "output_type": "execute_result"
    }
   ],
   "source": [
    "# sort 함수 : 정렬 \n",
    "a=[30, 10, 20]\n",
    "a"
   ]
  },
  {
   "cell_type": "code",
   "execution_count": 250,
   "id": "65c7789c",
   "metadata": {},
   "outputs": [
    {
     "data": {
      "text/plain": [
       "[10, 20, 30]"
      ]
     },
     "execution_count": 250,
     "metadata": {},
     "output_type": "execute_result"
    }
   ],
   "source": [
    "a.sort()\n",
    "a"
   ]
  },
  {
   "cell_type": "code",
   "execution_count": null,
   "id": "2a037dbc",
   "metadata": {},
   "outputs": [],
   "source": [
    "# 문자는 ascii 코드 값을 기준으로 정렬 \n",
    "# 인코딩: 코드화(문자, 숫자 등) -> 코드(0,1) 하는 작업 \n",
    "# 디코딩 : 코드(0,1) -> 문자, 숫자 등\n",
    "\n",
    "# 인코딩/디코딩 방식: ascii, ebcdic, bcd, utf8, utr16, euc-kr 등등 \n",
    "\n",
    "# 아스키 : 모든 숫자/숫자를 7비트로 표현 (7비트 = 128까지 문자를 표현 가능)\n",
    "# 0~127까지 코드 \n",
    "\n",
    "# utf-3byte"
   ]
  },
  {
   "cell_type": "code",
   "execution_count": 253,
   "id": "70148a3f",
   "metadata": {},
   "outputs": [
    {
     "data": {
      "text/plain": [
       "['Z', 'b', 'c', 't', 'v']"
      ]
     },
     "execution_count": 253,
     "metadata": {},
     "output_type": "execute_result"
    }
   ],
   "source": [
    "a=['b','c','Z','t','v']\n",
    "a.sort() # 기본적으로 오름차순 정렬됨(A:65 ~ Z:90, a:97 ~ z:122)\n",
    "a"
   ]
  },
  {
   "cell_type": "code",
   "execution_count": 255,
   "id": "20a20bae",
   "metadata": {},
   "outputs": [
    {
     "data": {
      "text/plain": [
       "['Z', 'b', 'c', 't', 'v']"
      ]
     },
     "execution_count": 255,
     "metadata": {},
     "output_type": "execute_result"
    }
   ],
   "source": [
    "a.reverse() # 역순으로 나열 \n",
    "a"
   ]
  },
  {
   "cell_type": "code",
   "execution_count": 256,
   "id": "8adab1e3",
   "metadata": {},
   "outputs": [
    {
     "name": "stdout",
     "output_type": "stream",
     "text": [
      "['v', 't', 'c', 'b', 'Z']\n"
     ]
    }
   ],
   "source": [
    "a=['b','c','Z','t','v']\n",
    "a.sort()\n",
    "a.reverse()\n",
    "print(a)"
   ]
  },
  {
   "cell_type": "code",
   "execution_count": 260,
   "id": "1f02ed3c",
   "metadata": {},
   "outputs": [
    {
     "name": "stdout",
     "output_type": "stream",
     "text": [
      "['v', 't', 'c', 'b', 'Z', '0']\n"
     ]
    }
   ],
   "source": [
    "a=['b', 'c', 'Z','t','v', '0']\n",
    "a.sort(reverse=True)\n",
    "print(a)"
   ]
  },
  {
   "cell_type": "code",
   "execution_count": 262,
   "id": "7c29f24f",
   "metadata": {},
   "outputs": [
    {
     "data": {
      "text/plain": [
       "'A'"
      ]
     },
     "execution_count": 262,
     "metadata": {},
     "output_type": "execute_result"
    }
   ],
   "source": [
    "chr(65) # 아스키 코드 값을 문자로 변환"
   ]
  },
  {
   "cell_type": "code",
   "execution_count": null,
   "id": "cc077770",
   "metadata": {},
   "outputs": [],
   "source": [
    "chr(65)\n",
    "chr(90)\n",
    "chr(95)\n",
    "chr(0)\n",
    "chr(127)"
   ]
  },
  {
   "cell_type": "code",
   "execution_count": 263,
   "id": "b4c416fa",
   "metadata": {},
   "outputs": [
    {
     "name": "stdout",
     "output_type": "stream",
     "text": [
      "['v', 't', 'c', 'b', '_', 'Z', '0']\n"
     ]
    }
   ],
   "source": [
    "a=['b', 'c','Z','t','v','0', chr(95)]\n",
    "\n",
    "a.sort(reverse=True)\n",
    "print(a)"
   ]
  },
  {
   "cell_type": "code",
   "execution_count": null,
   "id": "03744250",
   "metadata": {},
   "outputs": [],
   "source": []
  }
 ],
 "metadata": {
  "kernelspec": {
   "display_name": "Python 3",
   "language": "python",
   "name": "python3"
  },
  "language_info": {
   "codemirror_mode": {
    "name": "ipython",
    "version": 3
   },
   "file_extension": ".py",
   "mimetype": "text/x-python",
   "name": "python",
   "nbconvert_exporter": "python",
   "pygments_lexer": "ipython3",
   "version": "3.8.8"
  }
 },
 "nbformat": 4,
 "nbformat_minor": 5
}
