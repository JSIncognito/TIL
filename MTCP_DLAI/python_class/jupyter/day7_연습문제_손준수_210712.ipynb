{
 "cells": [
  {
   "cell_type": "markdown",
   "id": "c9a18705",
   "metadata": {},
   "source": [
    "#1. 주어진 자연수가 홀수인지 짝수인지 판별해 주는 함수(is_odd)를 작성해 보자.\n",
    "ex)is_odd(3) -> 홀수"
   ]
  },
  {
   "cell_type": "code",
   "execution_count": 6,
   "id": "d7020804",
   "metadata": {},
   "outputs": [
    {
     "name": "stdout",
     "output_type": "stream",
     "text": [
      "짝수\n"
     ]
    }
   ],
   "source": [
    "def is_odd(in_num):\n",
    "    if in_num % 2 == 0: \n",
    "        if in_num == 0 :\n",
    "            return print(\"0 입니다.\")\n",
    "        return print(\"짝수\")\n",
    "    else :\n",
    "        return print(\"홀수\")\n",
    "is_odd(2)"
   ]
  },
  {
   "cell_type": "markdown",
   "id": "eef278f3",
   "metadata": {},
   "source": [
    "#2. 다음은 \"test.txt\"라는 파일에 \"Life is too short\" 문자열을 저장한 후,\n",
    " 다시 그 파일을 읽어서 출력하는 프로그램이다."
   ]
  },
  {
   "cell_type": "code",
   "execution_count": 10,
   "id": "c337b23c",
   "metadata": {},
   "outputs": [
    {
     "name": "stdout",
     "output_type": "stream",
     "text": [
      "파일이 저장되었습니다.\n",
      "파일을 읽기 :  Life is too short\n"
     ]
    }
   ],
   "source": [
    "def saveFile(inStr):\n",
    "    with open(\"test.txt\", \"w\") as testTxt:\n",
    "        testTxt.write(inStr)\n",
    "    return print(\"파일이 저장되었습니다.\")    \n",
    "    \n",
    "def loadFile():\n",
    "    with open(\"test.txt\", \"r\") as testTxt:\n",
    "        viewStr= testTxt.read()\n",
    "    return print(\"파일을 읽기 : \",viewStr)\n",
    "\n",
    "testStr= \"Life is too short\"\n",
    "\n",
    "saveFile(testStr)\n",
    "loadFile()"
   ]
  },
  {
   "cell_type": "markdown",
   "id": "4f210341",
   "metadata": {},
   "source": [
    "#3. 다음과 같은 내용을 지닌 파일 test.txt가 있다. \n",
    "이 파일의 내용 중 \"Java\"라는 문자열을 \"Python\"으로 바꾸어서 저장해 보자.\n",
    "Life is too short\n",
    "you need Java\n",
    "\n",
    "파일 저장 -> 파일 읽기 -> 단어 변경 -> 파일 저장"
   ]
  },
  {
   "cell_type": "code",
   "execution_count": 16,
   "id": "fb8d4f99",
   "metadata": {},
   "outputs": [
    {
     "name": "stdout",
     "output_type": "stream",
     "text": [
      "-> 파일이 저장되었습니다.\n",
      "-> 파일 불러오기 완료 : \n",
      " Life is too short you need Java\n",
      "-> 문자열 변경 : \n",
      " Life is too short you need Python\n",
      "-> 파일이 저장되었습니다.\n"
     ]
    }
   ],
   "source": [
    "def saveFile(inStr):\n",
    "    with open(\"test_01.txt\", \"w\") as testTxt:\n",
    "        testTxt.write(inStr)\n",
    "    return print(\"-> 파일이 저장되었습니다.\")\n",
    "\n",
    "def loadFile():\n",
    "    with open(\"test_01.txt\", \"r\") as testTxt:\n",
    "        viewStr= testTxt.read()\n",
    "        print(\"-> 파일 불러오기 완료 : \\n \",viewStr)\n",
    "    return viewStr\n",
    "\n",
    "testStr= \"Life is too short you need Java\"\n",
    "saveFile(testStr)\n",
    "\n",
    "modiStr=loadFile().replace('Java','Python')\n",
    "print(\"-> 문자열 변경 : \\n \", modiStr)\n",
    "\n",
    "saveFile(modiStr)"
   ]
  },
  {
   "cell_type": "markdown",
   "id": "fcc73f9c",
   "metadata": {},
   "source": [
    "#4-5. \"비트코인\" 문자열을 화면에 출력하는 print_coin() 함수를 정의하라.\n",
    "-함수 정의 및 호출\n",
    "​"
   ]
  },
  {
   "cell_type": "code",
   "execution_count": 25,
   "id": "f43505dc",
   "metadata": {},
   "outputs": [
    {
     "name": "stdout",
     "output_type": "stream",
     "text": [
      "비트코인!! 가즈아 -- 1 번째\n"
     ]
    }
   ],
   "source": [
    "def print_coin(cnt):\n",
    "    return print(\"비트코인!! 가즈아\", \"-- %d 번째\" %cnt)\n",
    "\n",
    "print_coin(1)"
   ]
  },
  {
   "cell_type": "markdown",
   "id": "24b2b245",
   "metadata": {},
   "source": [
    "#6. 4에서 정의한 print_coin 함수를 100번호출하라."
   ]
  },
  {
   "cell_type": "code",
   "execution_count": 27,
   "id": "6c542c05",
   "metadata": {},
   "outputs": [
    {
     "name": "stdout",
     "output_type": "stream",
     "text": [
      "비트코인!! 가즈아 -- 1 번째\n",
      "비트코인!! 가즈아 -- 2 번째\n",
      "비트코인!! 가즈아 -- 3 번째\n",
      "비트코인!! 가즈아 -- 4 번째\n",
      "비트코인!! 가즈아 -- 5 번째\n",
      "비트코인!! 가즈아 -- 6 번째\n",
      "비트코인!! 가즈아 -- 7 번째\n",
      "비트코인!! 가즈아 -- 8 번째\n",
      "비트코인!! 가즈아 -- 9 번째\n",
      "비트코인!! 가즈아 -- 10 번째\n",
      "비트코인!! 가즈아 -- 11 번째\n",
      "비트코인!! 가즈아 -- 12 번째\n",
      "비트코인!! 가즈아 -- 13 번째\n",
      "비트코인!! 가즈아 -- 14 번째\n",
      "비트코인!! 가즈아 -- 15 번째\n",
      "비트코인!! 가즈아 -- 16 번째\n",
      "비트코인!! 가즈아 -- 17 번째\n",
      "비트코인!! 가즈아 -- 18 번째\n",
      "비트코인!! 가즈아 -- 19 번째\n",
      "비트코인!! 가즈아 -- 20 번째\n",
      "비트코인!! 가즈아 -- 21 번째\n",
      "비트코인!! 가즈아 -- 22 번째\n",
      "비트코인!! 가즈아 -- 23 번째\n",
      "비트코인!! 가즈아 -- 24 번째\n",
      "비트코인!! 가즈아 -- 25 번째\n",
      "비트코인!! 가즈아 -- 26 번째\n",
      "비트코인!! 가즈아 -- 27 번째\n",
      "비트코인!! 가즈아 -- 28 번째\n",
      "비트코인!! 가즈아 -- 29 번째\n",
      "비트코인!! 가즈아 -- 30 번째\n",
      "비트코인!! 가즈아 -- 31 번째\n",
      "비트코인!! 가즈아 -- 32 번째\n",
      "비트코인!! 가즈아 -- 33 번째\n",
      "비트코인!! 가즈아 -- 34 번째\n",
      "비트코인!! 가즈아 -- 35 번째\n",
      "비트코인!! 가즈아 -- 36 번째\n",
      "비트코인!! 가즈아 -- 37 번째\n",
      "비트코인!! 가즈아 -- 38 번째\n",
      "비트코인!! 가즈아 -- 39 번째\n",
      "비트코인!! 가즈아 -- 40 번째\n",
      "비트코인!! 가즈아 -- 41 번째\n",
      "비트코인!! 가즈아 -- 42 번째\n",
      "비트코인!! 가즈아 -- 43 번째\n",
      "비트코인!! 가즈아 -- 44 번째\n",
      "비트코인!! 가즈아 -- 45 번째\n",
      "비트코인!! 가즈아 -- 46 번째\n",
      "비트코인!! 가즈아 -- 47 번째\n",
      "비트코인!! 가즈아 -- 48 번째\n",
      "비트코인!! 가즈아 -- 49 번째\n",
      "비트코인!! 가즈아 -- 50 번째\n",
      "비트코인!! 가즈아 -- 51 번째\n",
      "비트코인!! 가즈아 -- 52 번째\n",
      "비트코인!! 가즈아 -- 53 번째\n",
      "비트코인!! 가즈아 -- 54 번째\n",
      "비트코인!! 가즈아 -- 55 번째\n",
      "비트코인!! 가즈아 -- 56 번째\n",
      "비트코인!! 가즈아 -- 57 번째\n",
      "비트코인!! 가즈아 -- 58 번째\n",
      "비트코인!! 가즈아 -- 59 번째\n",
      "비트코인!! 가즈아 -- 60 번째\n",
      "비트코인!! 가즈아 -- 61 번째\n",
      "비트코인!! 가즈아 -- 62 번째\n",
      "비트코인!! 가즈아 -- 63 번째\n",
      "비트코인!! 가즈아 -- 64 번째\n",
      "비트코인!! 가즈아 -- 65 번째\n",
      "비트코인!! 가즈아 -- 66 번째\n",
      "비트코인!! 가즈아 -- 67 번째\n",
      "비트코인!! 가즈아 -- 68 번째\n",
      "비트코인!! 가즈아 -- 69 번째\n",
      "비트코인!! 가즈아 -- 70 번째\n",
      "비트코인!! 가즈아 -- 71 번째\n",
      "비트코인!! 가즈아 -- 72 번째\n",
      "비트코인!! 가즈아 -- 73 번째\n",
      "비트코인!! 가즈아 -- 74 번째\n",
      "비트코인!! 가즈아 -- 75 번째\n",
      "비트코인!! 가즈아 -- 76 번째\n",
      "비트코인!! 가즈아 -- 77 번째\n",
      "비트코인!! 가즈아 -- 78 번째\n",
      "비트코인!! 가즈아 -- 79 번째\n",
      "비트코인!! 가즈아 -- 80 번째\n",
      "비트코인!! 가즈아 -- 81 번째\n",
      "비트코인!! 가즈아 -- 82 번째\n",
      "비트코인!! 가즈아 -- 83 번째\n",
      "비트코인!! 가즈아 -- 84 번째\n",
      "비트코인!! 가즈아 -- 85 번째\n",
      "비트코인!! 가즈아 -- 86 번째\n",
      "비트코인!! 가즈아 -- 87 번째\n",
      "비트코인!! 가즈아 -- 88 번째\n",
      "비트코인!! 가즈아 -- 89 번째\n",
      "비트코인!! 가즈아 -- 90 번째\n",
      "비트코인!! 가즈아 -- 91 번째\n",
      "비트코인!! 가즈아 -- 92 번째\n",
      "비트코인!! 가즈아 -- 93 번째\n",
      "비트코인!! 가즈아 -- 94 번째\n",
      "비트코인!! 가즈아 -- 95 번째\n",
      "비트코인!! 가즈아 -- 96 번째\n",
      "비트코인!! 가즈아 -- 97 번째\n",
      "비트코인!! 가즈아 -- 98 번째\n",
      "비트코인!! 가즈아 -- 99 번째\n",
      "비트코인!! 가즈아 -- 100 번째\n"
     ]
    }
   ],
   "source": [
    "for i in range(0, 100):\n",
    "    print_coin(i+1)"
   ]
  },
  {
   "cell_type": "markdown",
   "id": "9d6382f3",
   "metadata": {},
   "source": [
    "#7. \"비트코인\" 문자열을 100번 화면에 출력하는 print_coins() 함수를 정의하라."
   ]
  },
  {
   "cell_type": "code",
   "execution_count": 28,
   "id": "e24ca249",
   "metadata": {},
   "outputs": [
    {
     "name": "stdout",
     "output_type": "stream",
     "text": [
      "비트코인!! 가즈아 -- 1 번째\n",
      "비트코인!! 가즈아 -- 2 번째\n",
      "비트코인!! 가즈아 -- 3 번째\n",
      "비트코인!! 가즈아 -- 4 번째\n",
      "비트코인!! 가즈아 -- 5 번째\n",
      "비트코인!! 가즈아 -- 6 번째\n",
      "비트코인!! 가즈아 -- 7 번째\n",
      "비트코인!! 가즈아 -- 8 번째\n",
      "비트코인!! 가즈아 -- 9 번째\n",
      "비트코인!! 가즈아 -- 10 번째\n",
      "비트코인!! 가즈아 -- 11 번째\n",
      "비트코인!! 가즈아 -- 12 번째\n",
      "비트코인!! 가즈아 -- 13 번째\n",
      "비트코인!! 가즈아 -- 14 번째\n",
      "비트코인!! 가즈아 -- 15 번째\n",
      "비트코인!! 가즈아 -- 16 번째\n",
      "비트코인!! 가즈아 -- 17 번째\n",
      "비트코인!! 가즈아 -- 18 번째\n",
      "비트코인!! 가즈아 -- 19 번째\n",
      "비트코인!! 가즈아 -- 20 번째\n",
      "비트코인!! 가즈아 -- 21 번째\n",
      "비트코인!! 가즈아 -- 22 번째\n",
      "비트코인!! 가즈아 -- 23 번째\n",
      "비트코인!! 가즈아 -- 24 번째\n",
      "비트코인!! 가즈아 -- 25 번째\n",
      "비트코인!! 가즈아 -- 26 번째\n",
      "비트코인!! 가즈아 -- 27 번째\n",
      "비트코인!! 가즈아 -- 28 번째\n",
      "비트코인!! 가즈아 -- 29 번째\n",
      "비트코인!! 가즈아 -- 30 번째\n",
      "비트코인!! 가즈아 -- 31 번째\n",
      "비트코인!! 가즈아 -- 32 번째\n",
      "비트코인!! 가즈아 -- 33 번째\n",
      "비트코인!! 가즈아 -- 34 번째\n",
      "비트코인!! 가즈아 -- 35 번째\n",
      "비트코인!! 가즈아 -- 36 번째\n",
      "비트코인!! 가즈아 -- 37 번째\n",
      "비트코인!! 가즈아 -- 38 번째\n",
      "비트코인!! 가즈아 -- 39 번째\n",
      "비트코인!! 가즈아 -- 40 번째\n",
      "비트코인!! 가즈아 -- 41 번째\n",
      "비트코인!! 가즈아 -- 42 번째\n",
      "비트코인!! 가즈아 -- 43 번째\n",
      "비트코인!! 가즈아 -- 44 번째\n",
      "비트코인!! 가즈아 -- 45 번째\n",
      "비트코인!! 가즈아 -- 46 번째\n",
      "비트코인!! 가즈아 -- 47 번째\n",
      "비트코인!! 가즈아 -- 48 번째\n",
      "비트코인!! 가즈아 -- 49 번째\n",
      "비트코인!! 가즈아 -- 50 번째\n",
      "비트코인!! 가즈아 -- 51 번째\n",
      "비트코인!! 가즈아 -- 52 번째\n",
      "비트코인!! 가즈아 -- 53 번째\n",
      "비트코인!! 가즈아 -- 54 번째\n",
      "비트코인!! 가즈아 -- 55 번째\n",
      "비트코인!! 가즈아 -- 56 번째\n",
      "비트코인!! 가즈아 -- 57 번째\n",
      "비트코인!! 가즈아 -- 58 번째\n",
      "비트코인!! 가즈아 -- 59 번째\n",
      "비트코인!! 가즈아 -- 60 번째\n",
      "비트코인!! 가즈아 -- 61 번째\n",
      "비트코인!! 가즈아 -- 62 번째\n",
      "비트코인!! 가즈아 -- 63 번째\n",
      "비트코인!! 가즈아 -- 64 번째\n",
      "비트코인!! 가즈아 -- 65 번째\n",
      "비트코인!! 가즈아 -- 66 번째\n",
      "비트코인!! 가즈아 -- 67 번째\n",
      "비트코인!! 가즈아 -- 68 번째\n",
      "비트코인!! 가즈아 -- 69 번째\n",
      "비트코인!! 가즈아 -- 70 번째\n",
      "비트코인!! 가즈아 -- 71 번째\n",
      "비트코인!! 가즈아 -- 72 번째\n",
      "비트코인!! 가즈아 -- 73 번째\n",
      "비트코인!! 가즈아 -- 74 번째\n",
      "비트코인!! 가즈아 -- 75 번째\n",
      "비트코인!! 가즈아 -- 76 번째\n",
      "비트코인!! 가즈아 -- 77 번째\n",
      "비트코인!! 가즈아 -- 78 번째\n",
      "비트코인!! 가즈아 -- 79 번째\n",
      "비트코인!! 가즈아 -- 80 번째\n",
      "비트코인!! 가즈아 -- 81 번째\n",
      "비트코인!! 가즈아 -- 82 번째\n",
      "비트코인!! 가즈아 -- 83 번째\n",
      "비트코인!! 가즈아 -- 84 번째\n",
      "비트코인!! 가즈아 -- 85 번째\n",
      "비트코인!! 가즈아 -- 86 번째\n",
      "비트코인!! 가즈아 -- 87 번째\n",
      "비트코인!! 가즈아 -- 88 번째\n",
      "비트코인!! 가즈아 -- 89 번째\n",
      "비트코인!! 가즈아 -- 90 번째\n",
      "비트코인!! 가즈아 -- 91 번째\n",
      "비트코인!! 가즈아 -- 92 번째\n",
      "비트코인!! 가즈아 -- 93 번째\n",
      "비트코인!! 가즈아 -- 94 번째\n",
      "비트코인!! 가즈아 -- 95 번째\n",
      "비트코인!! 가즈아 -- 96 번째\n",
      "비트코인!! 가즈아 -- 97 번째\n",
      "비트코인!! 가즈아 -- 98 번째\n",
      "비트코인!! 가즈아 -- 99 번째\n",
      "비트코인!! 가즈아 -- 100 번째\n"
     ]
    }
   ],
   "source": [
    "def print_coins():\n",
    "    for i in range(0, 100):\n",
    "        print_coin(i+1)\n",
    "\n",
    "print_coins()  "
   ]
  },
  {
   "cell_type": "markdown",
   "id": "62ce9e83",
   "metadata": {},
   "source": [
    "#8. 하나의 문자를 입력받아 문자열 끝에 \":D\" 스마일 문자열을 이어 붙여 출력하는 \n",
    "print_with_smile 함수를 정의하라."
   ]
  },
  {
   "cell_type": "code",
   "execution_count": 33,
   "id": "0ec94174",
   "metadata": {},
   "outputs": [
    {
     "name": "stdout",
     "output_type": "stream",
     "text": [
      "하나의 문자를 입력해주세요.\n",
      "r\n"
     ]
    },
    {
     "data": {
      "text/plain": [
       "'r:D'"
      ]
     },
     "execution_count": 33,
     "metadata": {},
     "output_type": "execute_result"
    }
   ],
   "source": [
    "def print_with_smile():\n",
    "    print(\"하나의 문자를 입력해주세요.\")\n",
    "    inStr = input()[:1]\n",
    "    inStr = inStr + \":D\"\n",
    "    return inStr\n",
    "\n",
    "print_with_smile()"
   ]
  },
  {
   "cell_type": "markdown",
   "id": "3d4db5c3",
   "metadata": {},
   "source": [
    "#9.  priceList에 저장된 상위 20% 내에 해당되는 값을 출력하는 print_upper_price 함수를 정의하라.\n",
    "* priceList=[90,100,10,20,30,40,50,60,70,80]에서 상위 20% 내에 해당하는 값들을 출력 => 90, 100 출력\n",
    "​"
   ]
  },
  {
   "cell_type": "code",
   "execution_count": 69,
   "id": "49157904",
   "metadata": {},
   "outputs": [
    {
     "name": "stdout",
     "output_type": "stream",
     "text": [
      "100\n",
      "90\n",
      "[[1, 100], [2, 90]]\n",
      "\n",
      "\n",
      "[100, 90]\n"
     ]
    }
   ],
   "source": [
    "# 계산식은 우선 등수 부터 구함. 대상 등수 / 전체 개수 * 100\n",
    "def print_upper_price(inList):\n",
    "    inList=sorted(inList, reverse=True)\n",
    "#     print(inList)\n",
    "    li = []\n",
    "    per = len(inList)*0.2\n",
    "    for i in range(len(inList)):\n",
    "        if per >= i+1:\n",
    "            print(inList[i])\n",
    "            li.append([i+1, inList[i]])\n",
    "        \n",
    "    print(li)\n",
    "    \n",
    "priceList=[90,100,10,20,30,40,50,60,70,80]\n",
    "print_upper_price(priceList)\n",
    "\n",
    "print(\"\\n\")\n",
    "\n",
    "def print_upper_price2(inList):\n",
    "    inList=sorted(inList, reverse=True)\n",
    "    per = len(inList)*0.2\n",
    "    print([inList[i] for i in range(len(inList)) if per >= i+1])\n",
    "            \n",
    "priceList2=[90,100,10,20,30,40,50,60,70,80]\n",
    "print_upper_price2(priceList2)"
   ]
  },
  {
   "cell_type": "markdown",
   "id": "8390bf30",
   "metadata": {},
   "source": [
    "#10. 하나의 리스트를 입력받아 짝수만 화면에 출력하는 print_even 함수를 정의하라.\n",
    "입력 -> 리스트에 저장 -> 짝수만 출력\n"
   ]
  },
  {
   "cell_type": "code",
   "execution_count": null,
   "id": "bbf350ff",
   "metadata": {},
   "outputs": [],
   "source": [
    "def print_even(inList):\n",
    "    print([n for n in inList if int(n) % 2 == 0])\n",
    "\n",
    "\n",
    "# nums = [1, 2, 3, 4, 5, 6, 7, 8]\n",
    "print(\"숫자 리스트 짝수만 출력\\n숫자 입력 후 ','를 입력해 주세요.\\n ex)'1, 2, 3, 4, 5, .....'\")\n",
    "\n",
    "nums= input().split(\",\")\n",
    "print(nums)\n",
    "print_even(nums)"
   ]
  },
  {
   "cell_type": "markdown",
   "id": "2d554137",
   "metadata": {},
   "source": [
    "#11. 딕셔너리의 key 값을 \n",
    "화면에 출력하는 print_keys 함수를 정의하라.\n",
    "{'name':'kim', 'age':30, 'addr':'seoul', 'bt':'AB'}\n",
    "\n",
    "출력 결과 => 'name', .., 'bt'"
   ]
  },
  {
   "cell_type": "code",
   "execution_count": 3,
   "id": "b4f0f0f1",
   "metadata": {},
   "outputs": [
    {
     "name": "stdout",
     "output_type": "stream",
     "text": [
      "['name', 'age', 'addr', 'bt']\n"
     ]
    }
   ],
   "source": [
    "def dicGetKey(inDic):\n",
    "    li=[]\n",
    "    for key in inDic:\n",
    "        li.append(key)\n",
    "    \n",
    "    print(li)\n",
    "    \n",
    "tDic = {'name':'kim', 'age':30, 'addr':'seoul', 'bt':'AB'}\n",
    "dicGetKey(tDic)"
   ]
  },
  {
   "cell_type": "markdown",
   "id": "b0960a1e",
   "metadata": {},
   "source": [
    "#12. 문자열과 한줄에 출력될 글자 수를 입력을 받아 한 줄에 입력된 글자 수만큼 출력하는 \n",
    "print_mxn(string) 함수를 작성하라.\n",
    "\n",
    "ex) print_mxn(\"hello\", 2)\n",
    "he\n",
    "ll\n",
    "o"
   ]
  },
  {
   "cell_type": "code",
   "execution_count": 15,
   "id": "6650e4a0",
   "metadata": {},
   "outputs": [
    {
     "name": "stdout",
     "output_type": "stream",
     "text": [
      "문자열 입력 :\n",
      "hello\n",
      "자르는 문자 개수 :\n",
      "2\n",
      "\n",
      "\n",
      "he\n",
      "el\n",
      "ll\n",
      "lo\n"
     ]
    }
   ],
   "source": [
    "def print_mxn(inStr, inNum):\n",
    "    for i in range(len(inStr)-1):\n",
    "        print(inStr[i:i+inNum])\n",
    "\n",
    "print(\"문자열 입력 :\")\n",
    "uStr = input() \n",
    "print(\"자르는 문자 개수 :\")\n",
    "uNum = input()\n",
    "print(\"\\n\")\n",
    "\n",
    "print_mxn(uStr, int(uNum))"
   ]
  },
  {
   "cell_type": "markdown",
   "id": "b55fdc5e",
   "metadata": {},
   "source": [
    "​#13. 연봉을 입력받아 월급을 계산하는 calc_monthly_salary(annual_salary) 함수를 정의하라. \n",
    "회사는 연봉을 12개월로 나누어 분할 지급하며, 이 때 1원 미만은 버림한다."
   ]
  },
  {
   "cell_type": "code",
   "execution_count": 22,
   "id": "56365e18",
   "metadata": {},
   "outputs": [
    {
     "name": "stdout",
     "output_type": "stream",
     "text": [
      "희망연봉을 입력해 주세요.\n",
      "3200\n",
      "월급 : 약  260\n"
     ]
    }
   ],
   "source": [
    "import math\n",
    "# math.ceil(i) : 올림\n",
    "# math.floor(i) : 내림\n",
    "# math.trunc(i) : 버림\n",
    "\n",
    "def calc_monthly_salary(annual_salary):\n",
    "    monthly_salary= int(annual_salary/12) - int(annual_salary/12%10)\n",
    "    print(\"월급 : 약\", monthly_salary)\n",
    "    \n",
    "print(\"희망연봉을 입력해 주세요.\")\n",
    "salary=int(input())\n",
    "calc_monthly_salary(salary)"
   ]
  },
  {
   "cell_type": "markdown",
   "id": "c655bfd8",
   "metadata": {},
   "source": [
    "#14. 문자열 하나를 입력받아 인터넷 주소를 반환하는 make_url 함수를 정의하라.\n",
    "make_url(\"naver\") -> 출력 결과 => www.naver.com\n",
    "참고) www.(입력받은 문자열).com으로 끝나는 인터넷 주소로 가정하여 해결"
   ]
  },
  {
   "cell_type": "code",
   "execution_count": 23,
   "id": "bbfb0492",
   "metadata": {},
   "outputs": [
    {
     "name": "stdout",
     "output_type": "stream",
     "text": [
      "www.naver.com\n"
     ]
    }
   ],
   "source": [
    "def make_url(inUrl):\n",
    "    makeStr = [\"www.\",\".com\"]\n",
    "    print(inUrl.join(makeStr))\n",
    "    \n",
    "inStr = \"naver\"\n",
    "make_url(inStr)"
   ]
  },
  {
   "cell_type": "markdown",
   "id": "aadd1801",
   "metadata": {},
   "source": [
    "#15. 문자열을 입력받아 각 문자들로 구성된 리스트로 반환하는 make_list 함수를 정의하라.\n",
    "make_list (\"abcde\") 호출 -> 실행 결과 => [ 'a','b',...,'e]​"
   ]
  },
  {
   "cell_type": "code",
   "execution_count": 26,
   "id": "acb132ee",
   "metadata": {},
   "outputs": [
    {
     "name": "stdout",
     "output_type": "stream",
     "text": [
      "['a', 'b', 'c', 'd', 'e']\n"
     ]
    }
   ],
   "source": [
    "def make_list(m_str):\n",
    "    makeStr = list(m_str)\n",
    "    print(makeStr)\n",
    "\n",
    "inStr=\"abcde\"\n",
    "make_list(inStr)"
   ]
  },
  {
   "cell_type": "markdown",
   "id": "bfa9f74e",
   "metadata": {},
   "source": [
    "#16. 게임 기업 입사문제(시간 되면)\n",
    "\n",
    "* 어떤 자연수 n이 있을 때, d(n)을 n의 각 자릿수 숫자들과 n 자신을 더한 숫자라고 정의하자.\n",
    "* 예를 들어\n",
    "* d(91) = 9 + 1 + 91 = 101\n",
    "* d(100)=1+0+0+100=101\n",
    "* 이 때, n을 d(n)의 제네레이터(generator)라고 한다. 위의 예에서 91은 101의 제네레이터이다.\n",
    "*\n",
    "* 어떤 숫자들은 하나 이상의 제네레이터를 가지고 있는데, \n",
    "* 101의 제네레이터는 91 뿐 아니라 100도 있다. 그런데 반대로, 제네레이터가 없는 숫자들도 있으며, \n",
    "* 이런 숫자를 인도의 수학자 Kaprekar가 셀프 넘버(self-number)라 이름 붙였다. \n",
    "* 예를 들어 1,3,5,7,9,20,31 은 셀프 넘버 들이다.\n",
    "\n",
    "*문제 :  1 이상이고 5000 보다 작은 모든 셀프 넘버들의 합을 구하라."
   ]
  },
  {
   "cell_type": "code",
   "execution_count": 76,
   "id": "c931dc39",
   "metadata": {},
   "outputs": [
    {
     "name": "stdout",
     "output_type": "stream",
     "text": [
      "tempList [1, 2, 3, 4, 5, 6, 7, 8, 9, 10, 11, 12, 13, 14, 15, 16, 17, 18, 19, 20, 21, 22, 23, 24, 25, 26, 27, 28, 29, 30, 31, 32, 33, 34, 35, 36, 37, 38, 39, 40, 41, 42, 43, 44, 45, 46, 47, 48, 49, 50, 51, 52, 53, 54, 55, 56, 57, 58, 59, 60, 61, 62, 63, 64, 65, 66, 67, 68, 69, 70, 71, 72, 73, 74, 75, 76, 77, 78, 79, 80, 81, 82, 83, 84, 85, 86, 87, 88, 89, 90, 91, 92, 93, 94, 95, 96, 97, 98, 99, 100]\n",
      "103 101\n",
      "1 [2, 4, 8, 16, 23, 28, 38, 49, 62, 70, 77, 91, 101, 103]\n",
      "pass 2\n",
      "111 101\n",
      "3 [6, 12, 15, 21, 24, 30, 33, 39, 51, 57, 69, 84, 96, 111]\n",
      "pass 4\n",
      "109 101\n",
      "5 [10, 11, 13, 17, 25, 32, 37, 47, 58, 71, 79, 95, 109]\n",
      "pass 6\n",
      "107 101\n",
      "7 [14, 19, 29, 40, 44, 52, 59, 73, 83, 94, 107]\n",
      "pass 8\n",
      "117 101\n",
      "9 [18, 27, 36, 45, 54, 63, 72, 81, 90, 99, 117]\n",
      "pass 10\n",
      "pass 11\n",
      "pass 12\n",
      "pass 13\n",
      "pass 14\n",
      "pass 15\n",
      "pass 16\n",
      "pass 17\n",
      "pass 18\n",
      "pass 19\n",
      "104 101\n",
      "20 [22, 26, 34, 41, 46, 56, 67, 80, 88, 104]\n",
      "pass 21\n",
      "pass 22\n",
      "pass 23\n",
      "pass 24\n",
      "pass 25\n",
      "pass 26\n",
      "pass 27\n",
      "pass 28\n",
      "pass 29\n",
      "pass 30\n",
      "106 101\n",
      "31 [35, 43, 50, 55, 65, 76, 89, 106]\n",
      "pass 32\n",
      "pass 33\n",
      "pass 34\n",
      "pass 35\n",
      "pass 36\n",
      "pass 37\n",
      "pass 38\n",
      "pass 39\n",
      "pass 40\n",
      "pass 41\n",
      "105 101\n",
      "42 [48, 60, 66, 78, 93, 105]\n",
      "pass 43\n",
      "pass 44\n",
      "pass 45\n",
      "pass 46\n",
      "pass 47\n",
      "pass 48\n",
      "pass 49\n",
      "pass 50\n",
      "pass 51\n",
      "pass 52\n",
      "103 101\n",
      "53 [61, 68, 82, 92, 103]\n",
      "pass 54\n",
      "pass 55\n",
      "pass 56\n",
      "pass 57\n",
      "pass 58\n",
      "pass 59\n",
      "pass 60\n",
      "pass 61\n",
      "pass 62\n",
      "pass 63\n",
      "115 101\n",
      "64 [74, 85, 98, 115]\n",
      "pass 65\n",
      "pass 66\n",
      "pass 67\n",
      "pass 68\n",
      "pass 69\n",
      "pass 70\n",
      "pass 71\n",
      "pass 72\n",
      "pass 73\n",
      "pass 74\n",
      "102 101\n",
      "75 [87, 102]\n",
      "pass 76\n",
      "pass 77\n",
      "pass 78\n",
      "pass 79\n",
      "pass 80\n",
      "pass 81\n",
      "pass 82\n",
      "pass 83\n",
      "pass 84\n",
      "pass 85\n",
      "103 101\n",
      "86 [100, 101, 103]\n",
      "pass 87\n",
      "pass 88\n",
      "pass 89\n",
      "pass 90\n",
      "pass 91\n",
      "pass 92\n",
      "pass 93\n",
      "pass 94\n",
      "pass 95\n",
      "pass 96\n",
      "113 101\n",
      "97 [113]\n",
      "pass 98\n",
      "pass 99\n",
      "pass 100\n",
      "totList [[2, 4, 8, 16, 23, 28, 38, 49, 62, 70, 77, 91, 101, 103], [6, 12, 15, 21, 24, 30, 33, 39, 51, 57, 69, 84, 96, 111], [10, 11, 13, 17, 25, 32, 37, 47, 58, 71, 79, 95, 109], [14, 19, 29, 40, 44, 52, 59, 73, 83, 94, 107], [18, 27, 36, 45, 54, 63, 72, 81, 90, 99, 117], [22, 26, 34, 41, 46, 56, 67, 80, 88, 104], [35, 43, 50, 55, 65, 76, 89, 106], [48, 60, 66, 78, 93, 105], [61, 68, 82, 92, 103], [74, 85, 98, 115], [87, 102], [100, 101, 103], [113]]\n",
      "==================\n",
      "tempList [1, 3, 5, 7, 9, 20, 31, 42, 53, 64, 75, 86, 97]\n"
     ]
    }
   ],
   "source": [
    "\n",
    "# for num in range(1, 200):\n",
    "    \n",
    "tempList= list(range(1, 101))\n",
    "print(\"tempList\", tempList)\n",
    "\n",
    "cnt=0\n",
    "reNm_list=[]\n",
    "# va=0\n",
    "def d_function(n, endNm):\n",
    "\n",
    "    global cnt\n",
    "    global reNm_list\n",
    "    global tempList\n",
    "#     print(\"d_function: \", tempList)\n",
    "    #     global va\n",
    "    if n > endNm:\n",
    "        print(n, endNm)\n",
    "        return \n",
    "    else :\n",
    "#         print(n)\n",
    "        va=0\n",
    "        for i in list(str(n)):\n",
    "            va += int(i)\n",
    "        va += n\n",
    "#         print(\"Debug1 \", cnt, n, va, endNm)\n",
    "        n = va\n",
    "#         print(\"Debug2 \", cnt, n, va, endNm)\n",
    "        if n in tempList:\n",
    "            tempList.remove(n)\n",
    "        reNm_list.append(n)\n",
    "        cnt+=1\n",
    "        d_function(n, endNm)\n",
    "        \n",
    "# d_function(1, 11)        \n",
    "# print(reNm_list)\n",
    "\n",
    "totList = []\n",
    "\n",
    "for i in range(1, 101):\n",
    "    cnt=0\n",
    "    reNm_list=[]\n",
    "#     va=0    \n",
    "    if i in tempList :\n",
    "        d_function(i, 101)\n",
    "        print(i, reNm_list)\n",
    "        totList.append(reNm_list)\n",
    "    else :\n",
    "        print(\"pass\", i)\n",
    "print(\"totList\", totList)\n",
    "print(\"==================\")\n",
    "print(\"tempList\",tempList)"
   ]
  },
  {
   "cell_type": "markdown",
   "id": "93bf0cad",
   "metadata": {},
   "source": [
    "추출한 셀프넘버의 합 \n",
    "\n",
    "d(25) = 2 + 5 + 25 = 32\n",
    "\n",
    "25%10=>\n",
    "25//10=>\n",
    "\n",
    "d(1234)= 1 + 2+ 3+ 4+ 1234=>\n",
    "\n",
    "1234%10=> 4\n",
    "1234//10=> 123\n",
    "\n",
    "123%10 => 3\n",
    "123//10 => 12\n",
    "\n",
    "12 % 10 => 3\n",
    "123 // 10 => 12\n",
    "\n",
    "\n",
    "12 % 10 => 2\n",
    "12 // 10 => 1\n",
    "\n",
    "1 % 10 => 1\n",
    "1 // 10 => 0"
   ]
  }
 ],
 "metadata": {
  "kernelspec": {
   "display_name": "Python 3",
   "language": "python",
   "name": "python3"
  },
  "language_info": {
   "codemirror_mode": {
    "name": "ipython",
    "version": 3
   },
   "file_extension": ".py",
   "mimetype": "text/x-python",
   "name": "python",
   "nbconvert_exporter": "python",
   "pygments_lexer": "ipython3",
   "version": "3.8.8"
  }
 },
 "nbformat": 4,
 "nbformat_minor": 5
}
