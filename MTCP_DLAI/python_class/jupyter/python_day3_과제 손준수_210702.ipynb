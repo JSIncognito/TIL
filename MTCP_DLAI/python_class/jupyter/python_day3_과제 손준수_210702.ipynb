{
 "cells": [
  {
   "cell_type": "markdown",
   "id": "d765d09c",
   "metadata": {},
   "source": [
    "1.다음과 같은 문자열이 있을 때 이를 대문자 BTC_KRW로 변경하세요.\n",
    "ticker = \"btc_krw\""
   ]
  },
  {
   "cell_type": "code",
   "execution_count": 1,
   "id": "9395f040",
   "metadata": {},
   "outputs": [
    {
     "data": {
      "text/plain": [
       "'BTC_KRW'"
      ]
     },
     "execution_count": 1,
     "metadata": {},
     "output_type": "execute_result"
    }
   ],
   "source": [
    "ticker = \"btc_krw\"\n",
    "ticker.upper()"
   ]
  },
  {
   "cell_type": "markdown",
   "id": "5a26eb56",
   "metadata": {},
   "source": [
    "2.다음과 같은 문자열이 있을 때 이를 소문자 btc_krw로 변경하세요.\n",
    "ticker = \"BTC_KRW\""
   ]
  },
  {
   "cell_type": "code",
   "execution_count": 2,
   "id": "3ec2c16f",
   "metadata": {},
   "outputs": [
    {
     "data": {
      "text/plain": [
       "'btc_krw'"
      ]
     },
     "execution_count": 2,
     "metadata": {},
     "output_type": "execute_result"
    }
   ],
   "source": [
    "ticker = \"BTC_KRW\"\n",
    "ticker.lower()"
   ]
  },
  {
   "cell_type": "markdown",
   "id": "e81ae39f",
   "metadata": {},
   "source": [
    "3.다음과 같은 문자열이 있을 때 공백을 기준으로 문자열을 나눠보세요.\n",
    "a = \"hello world\""
   ]
  },
  {
   "cell_type": "code",
   "execution_count": 3,
   "id": "8853a5b0",
   "metadata": {},
   "outputs": [
    {
     "data": {
      "text/plain": [
       "['hello', 'world']"
      ]
     },
     "execution_count": 3,
     "metadata": {},
     "output_type": "execute_result"
    }
   ],
   "source": [
    "a = \"hello world\"\n",
    "a.split()"
   ]
  },
  {
   "cell_type": "markdown",
   "id": "1452e1aa",
   "metadata": {},
   "source": [
    "4.다음과 같이 문자열이 있을 때 btc와 krw로 나눠보세요.\n",
    "ticker = \"btc_krw\""
   ]
  },
  {
   "cell_type": "code",
   "execution_count": 4,
   "id": "ec054c1f",
   "metadata": {},
   "outputs": [
    {
     "data": {
      "text/plain": [
       "['btc', 'krw']"
      ]
     },
     "execution_count": 4,
     "metadata": {},
     "output_type": "execute_result"
    }
   ],
   "source": [
    "ticker = \"btc_krw\"\n",
    "ticker.split(\"_\")"
   ]
  },
  {
   "cell_type": "markdown",
   "id": "1de4ab11",
   "metadata": {},
   "source": [
    "5.다음과 같이 날짜를 표현하는 문자열이 있을 때 연도, 월, 일로 나눠보세요.\n",
    "date = \"2020-12-30\""
   ]
  },
  {
   "cell_type": "code",
   "execution_count": 7,
   "id": "ea3d6476",
   "metadata": {},
   "outputs": [
    {
     "name": "stdout",
     "output_type": "stream",
     "text": [
      "2020연도 12월 30일\n"
     ]
    }
   ],
   "source": [
    "date = \"2020-12-30\"\n",
    "print(\"{0}연도 {1}월 {2}일\".format(date.split(\"-\")[0], date.split(\"-\")[1], date.split(\"-\")[2]))\n"
   ]
  },
  {
   "cell_type": "markdown",
   "id": "bac262a8",
   "metadata": {},
   "source": [
    "6.문자열의 오른쪽에 공백이 있을 때 이를 제거해보세요.\n",
    "data = \"039490     \""
   ]
  },
  {
   "cell_type": "code",
   "execution_count": 8,
   "id": "181228f2",
   "metadata": {},
   "outputs": [
    {
     "data": {
      "text/plain": [
       "'039490'"
      ]
     },
     "execution_count": 8,
     "metadata": {},
     "output_type": "execute_result"
    }
   ],
   "source": [
    "data = \"039490     \"\n",
    "data.rstrip()"
   ]
  },
  {
   "cell_type": "markdown",
   "id": "1e52e192",
   "metadata": {},
   "source": [
    "7.\n",
    "변수에 다음과 같이 문자열과 정수가 바인딩되어 있을 때 % formatting을 사용해서 다음과 같이 출력해보세요.\n",
    "name1 = \"김민수\" \n",
    "age1 = 10\n",
    "name2 = \"이철희\"\n",
    "age2 = 13\n",
    "이름: 김민수 나이: 10\n",
    "이름: 이철희 나이: 13"
   ]
  },
  {
   "cell_type": "code",
   "execution_count": 40,
   "id": "4a6d6290",
   "metadata": {},
   "outputs": [
    {
     "name": "stdout",
     "output_type": "stream",
     "text": [
      "이름:김민수 나이:10\n",
      "이름:이철희 나이:13\n"
     ]
    }
   ],
   "source": [
    "name1 = \"김민수\" \n",
    "age1 = 10\n",
    "name2 = \"이철희\"\n",
    "age2 = 13\n",
    "#이름: 김민수 나이: 10\n",
    "#이름: 이철희 나이: 13\n",
    "        \n",
    "        \n",
    "print(\"이름:%s 나이:%d\" % (name1, age1))  \n",
    "print(\"이름:%s 나이:%d\" % (name2, age2))   "
   ]
  },
  {
   "cell_type": "markdown",
   "id": "73984a13",
   "metadata": {},
   "source": [
    "8. 문자열의 format( ) 메서드를 사용해서 7번 문제를 다시 풀어보세요."
   ]
  },
  {
   "cell_type": "code",
   "execution_count": null,
   "id": "264ec305",
   "metadata": {},
   "outputs": [],
   "source": [
    "print(\"이름:{0} 나이:{1}\".format(name1, age1))        \n",
    "print(\"이름:{0} 나이:{1}\".format(name2, age2))   "
   ]
  },
  {
   "cell_type": "markdown",
   "id": "cd289954",
   "metadata": {},
   "source": [
    "9. 컴마를 제거한 후 이를 정수 타입으로 변환해보세요.\n",
    "price = \"5,969,782,550\""
   ]
  },
  {
   "cell_type": "code",
   "execution_count": 58,
   "id": "d7338967",
   "metadata": {},
   "outputs": [
    {
     "name": "stdout",
     "output_type": "stream",
     "text": [
      "정수:  5969782550 타입:  <class 'int'>\n",
      "['5', '969', '782', '550']\n",
      "정수:  5969782550 타입:  <class 'int'>\n"
     ]
    }
   ],
   "source": [
    "price = \"5,969,782,550\"\n",
    "result=int(\"\".join(price.split(',')))\n",
    "print(\"정수: \", result, \"타입: \",type(result))\n",
    "\n",
    "a=price.split(',')\n",
    "result=int(\"\".join(a))\n",
    "result=int(\"\".join(price.split(',')))\n",
    "print(\"정수: \", result, \"타입: \",type(result))"
   ]
  },
  {
   "cell_type": "markdown",
   "id": "8cce3e87",
   "metadata": {},
   "source": [
    "10. 다음과 같은 문자열에서 '2020/12'만 출력하세요.\n",
    "분기 = \"2020/12(E) (IFRS연결)\""
   ]
  },
  {
   "cell_type": "code",
   "execution_count": 68,
   "id": "f182dab5",
   "metadata": {},
   "outputs": [
    {
     "name": "stdout",
     "output_type": "stream",
     "text": [
      "2020/12\n"
     ]
    },
    {
     "data": {
      "text/plain": [
       "'2020/12'"
      ]
     },
     "execution_count": 68,
     "metadata": {},
     "output_type": "execute_result"
    }
   ],
   "source": [
    "str1 = \"2020/12(E) (IFRS연결)\"\n",
    "print(str1.split()[0].split(\"(\")[0])\n",
    "\n",
    "a=str1.split()\n",
    "a[0].split(\"(\")[0]"
   ]
  },
  {
   "cell_type": "markdown",
   "id": "98f28694",
   "metadata": {},
   "source": [
    "11. 아래 문자열에서 소문자 'a'를 대문자 'A'로 변경하세요.\n",
    "string = 'abcdfe2a354a32a'"
   ]
  },
  {
   "cell_type": "code",
   "execution_count": 71,
   "id": "da33687f",
   "metadata": {},
   "outputs": [
    {
     "data": {
      "text/plain": [
       "'Abcdfe2A354A32A'"
      ]
     },
     "execution_count": 71,
     "metadata": {},
     "output_type": "execute_result"
    }
   ],
   "source": [
    "string = 'abcdfe2a354a32a'\n",
    "string.replace('a', 'A')"
   ]
  },
  {
   "cell_type": "markdown",
   "id": "f4744ad8",
   "metadata": {},
   "source": [
    "12.\n",
    "주민등록번호 뒷자리의 맨 첫 번째 숫자는 성별을 나타낸다. 주민등록번호에서 성별을 나타내는 숫자를 출력해 보세요.\n",
    "pin = \"881120-1068234\""
   ]
  },
  {
   "cell_type": "code",
   "execution_count": 79,
   "id": "6a206adb",
   "metadata": {},
   "outputs": [
    {
     "name": "stdout",
     "output_type": "stream",
     "text": [
      "<class 'int'>\n",
      "성별을 나타내는 숫자 : 1\n"
     ]
    }
   ],
   "source": [
    "pin = \"881120-1068234\"\n",
    "idx = pin.index('-')+1\n",
    "print(type(idx))\n",
    "print(\"성별을 나타내는 숫자 : \" + pin[idx:idx+1])"
   ]
  },
  {
   "cell_type": "markdown",
   "id": "8cecbb0d",
   "metadata": {},
   "source": [
    "13.다음과 같은 문자열 a:b:c:d가 있다. a#b#c#d로 바꿔서 출력해 보세요.\n",
    "a = \"a:b:c:d\""
   ]
  },
  {
   "cell_type": "code",
   "execution_count": 80,
   "id": "82f8e972",
   "metadata": {},
   "outputs": [
    {
     "data": {
      "text/plain": [
       "'a#b#c#d'"
      ]
     },
     "execution_count": 80,
     "metadata": {},
     "output_type": "execute_result"
    }
   ],
   "source": [
    "a = \"a:b:c:d\"\n",
    "a.replace(\":\",\"#\")"
   ]
  },
  {
   "cell_type": "markdown",
   "id": "b221a6a6",
   "metadata": {},
   "source": [
    "14. ['Life', 'is', 'too', 'short'] 리스트를 Life is too short 문자열로 만들어 출력해 보세요.\n",
    "(join 활용)"
   ]
  },
  {
   "cell_type": "code",
   "execution_count": 82,
   "id": "a2e1ccea",
   "metadata": {},
   "outputs": [
    {
     "data": {
      "text/plain": [
       "'Life is too short'"
      ]
     },
     "execution_count": 82,
     "metadata": {},
     "output_type": "execute_result"
    }
   ],
   "source": [
    "list1 = ['Life', 'is', 'too', 'short']\n",
    "\" \".join(list1)"
   ]
  }
 ],
 "metadata": {
  "kernelspec": {
   "display_name": "Python 3",
   "language": "python",
   "name": "python3"
  },
  "language_info": {
   "codemirror_mode": {
    "name": "ipython",
    "version": 3
   },
   "file_extension": ".py",
   "mimetype": "text/x-python",
   "name": "python",
   "nbconvert_exporter": "python",
   "pygments_lexer": "ipython3",
   "version": "3.8.8"
  }
 },
 "nbformat": 4,
 "nbformat_minor": 5
}
