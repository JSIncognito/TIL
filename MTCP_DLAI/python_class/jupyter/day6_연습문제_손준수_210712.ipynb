{
 "cells": [
  {
   "cell_type": "markdown",
   "id": "fb889480",
   "metadata": {},
   "source": [
    "1.x=\"머신러닝은 인공지능의 한 분류입니다\"  #내가 작성한 숙제\n",
    "y=\"런닝머신은 운동 기구중의 하나입니다\"  #다른 사람이 작성한 숙제\n",
    "\n",
    "#내가 작성한 숙제의 표절율?\n",
    "\n",
    "#2-gram(bi-gram) 단위로 글자 분리\n",
    "x => ['머신', '신러', ... '니다']\n",
    "y => ['런닝', '닝머', ... '니다']\n",
    "\n",
    "유사도 = 중복되는 단어 개수  / x를 2글자씩 분리한 리스트의 전체 길이"
   ]
  },
  {
   "cell_type": "code",
   "execution_count": 105,
   "id": "e1469d61",
   "metadata": {},
   "outputs": [
    {
     "name": "stdout",
     "output_type": "stream",
     "text": [
      "['머신', '신러', '러닝', '닝은', '은 ', ' 인', '인공', '공지', '지능', '능의', '의 ', ' 한', '한 ', ' 분', '분류', '류입', '입니', '니다']\n",
      "중복되는 단어는 : [['머신', 1], ['은 ', 1], ['의 ', 1], ['입니', 1], ['니다', 1]]  입니다.\n",
      "중복되는 단어 개수 5 / 리스트 전체 길이 18\n",
      "유사도 :  0.2777777777777778\n"
     ]
    }
   ],
   "source": [
    "# x => ['머신', '신러', ... '니다']\n",
    "# y => ['런닝', '닝머', ... '니다']\n",
    "\n",
    "x=\"머신러닝은 인공지능의 한 분류입니다\"\n",
    "y=\"런닝머신은 운동 기구중의 하나입니다\"\n",
    "\n",
    "xli=[]\n",
    "for i in range(len(x)-1):\n",
    "    xli.append(x[i:i+2])\n",
    "print(xli)\n",
    "\n",
    "li = []\n",
    "cnt = 0\n",
    "for i in xli:\n",
    "    if y.count(i) : \n",
    "        li.append([i, y.count(i)])\n",
    "        cnt += y.count(i)\n",
    "print(\"중복되는 단어는 :\",li, \" 입니다.\")\n",
    "print(\"중복되는 단어 개수 {0} / 리스트 전체 길이 {1}\".format(cnt, len(xli)))\n",
    "\n",
    "print(\"유사도 : \", cnt / len(xli))"
   ]
  },
  {
   "cell_type": "markdown",
   "id": "e909df49",
   "metadata": {},
   "source": [
    "2.평탄화 작업\n",
    "평탄화 : 가장 높은 곳에 있는 상자를 가장 낮은 곳으로 옮기는 작업을 말한다\n",
    "{5,8,3,1,5,6,9,9,2,2,4} \n",
    "평탄화 작업을 10회 수행한 후 최고 높이 - 최저 높이 = ? 출력"
   ]
  },
  {
   "cell_type": "code",
   "execution_count": 203,
   "id": "8da6c669",
   "metadata": {},
   "outputs": [
    {
     "name": "stdout",
     "output_type": "stream",
     "text": [
      "평탄화 작업 시작 : [5, 8, 3, 1, 5, 6, 9, 9, 2, 2, 4]\n",
      "확인 :  [5, 5, 5, 5, 5, 5, 6, 6, 4, 4, 4]  최고 높이 : [ 6 ] 최저높이 : [ 4 ]\n",
      "평탄화 작업 결과 : [ 2 ]\n"
     ]
    }
   ],
   "source": [
    "ex2 = [5,8,3,1,5,6,9,9,2,2,4] \n",
    "\n",
    "# 최저 높이 인덱스 값을 반환 \n",
    "def exmin():\n",
    "    return ex2.index(min(ex2))\n",
    "# 최고 높이 인덱스 값을 반환 \n",
    "def exmax():\n",
    "    return ex2.index(max(ex2))\n",
    "\n",
    "print(\"평탄화 작업 시작 :\", ex2)\n",
    "for i in range(0, 10):\n",
    "#     print(\"-----\", i)\n",
    "    ex2[exmin()] += 1 \n",
    "    ex2[exmax()] -= 1\n",
    "#     print(ex2)\n",
    "#     print(\"=====\")    \n",
    "    \n",
    "print(\"확인 : \", ex2, \" 최고 높이 : [\",max(ex2), \"] 최저높이 : [\",min(ex2),\"]\")\n",
    "result = max(ex2) - min(ex2) \n",
    "print(\"평탄화 작업 결과 : [\", result,\"]\")"
   ]
  },
  {
   "cell_type": "markdown",
   "id": "cbe010dd",
   "metadata": {},
   "source": [
    "3.파일 이름이 저장된 리스트에서 확장자를 제거하고 파일 이름만 화면에 출력하라. \n",
    "\n",
    "리스트 = ['hello.py', 'ex01.py', 'intro.hwp']\n",
    "hello\n",
    "ex01\n",
    "intro"
   ]
  },
  {
   "cell_type": "code",
   "execution_count": 120,
   "id": "707be600",
   "metadata": {},
   "outputs": [
    {
     "name": "stdout",
     "output_type": "stream",
     "text": [
      "hello\n",
      "ex01\n",
      "intro\n"
     ]
    }
   ],
   "source": [
    "li = ['hello.py', 'ex01.py', 'intro.hwp']\n",
    "\n",
    "for i in li:\n",
    "    print(i[:i.find('.')])"
   ]
  },
  {
   "cell_type": "markdown",
   "id": "85deaec2",
   "metadata": {},
   "source": [
    "4.리스트에 5일간의 저가, 고가 정보가 저장돼 있다. 고가와 저가의 차를 변동폭이라고 정의할 때, \n",
    "low, high 두 개의 리스트를 사용해서 5일간의 변동폭을 volatility 리스트에 저장하라.\n",
    "\n",
    "low_prices = [100, 200, 400, 800, 1000]\n",
    "high_prices = [150, 300, 430, 880, 1000]"
   ]
  },
  {
   "cell_type": "code",
   "execution_count": 6,
   "id": "b2fd0ebc",
   "metadata": {},
   "outputs": [
    {
     "name": "stdout",
     "output_type": "stream",
     "text": [
      "[50, 100, 30, 80, 0]\n"
     ]
    }
   ],
   "source": [
    "low_prices = [100, 200, 400, 800, 1000]\n",
    "high_prices = [150, 300, 430, 880, 1000]\n",
    "\n",
    "volatility=[]\n",
    "for i in range(5):\n",
    "    volatility.append(high_prices[i] - low_prices[i])\n",
    "print(volatility)"
   ]
  },
  {
   "cell_type": "markdown",
   "id": "a869562d",
   "metadata": {},
   "source": [
    "5.리스트에 저장된 데이터를 아래와 같이 출력하라.\n",
    "apart = [ [101, 102], [201, 202], [301, 302] ]\n",
    "\n",
    "'''\n",
    "101 호\n",
    "102 호\n",
    "* -----\n",
    "201 호\n",
    "202 호\n",
    "* -----\n",
    "301 호\n",
    "302 호\n",
    "* -----\n"
   ]
  },
  {
   "cell_type": "code",
   "execution_count": 75,
   "id": "54268e9b",
   "metadata": {},
   "outputs": [
    {
     "name": "stdout",
     "output_type": "stream",
     "text": [
      "[['101', '102'], ['201', '202'], ['301', '302']]\n",
      "101호\n",
      "102호\n",
      "-------\n",
      "201호\n",
      "202호\n",
      "-------\n",
      "301호\n",
      "302호\n",
      "-------\n"
     ]
    }
   ],
   "source": [
    "apart = [ [101, 102], [201, 202], [301, 302] ]\n",
    "\n",
    "li = []\n",
    "for a in apart: # 내부 문자열로 변환\n",
    "    li.append([str(_) for _ in a])\n",
    "print(li)\n",
    "\n",
    "for a in li:\n",
    "    for i in range(len(a)):        \n",
    "        print(\"{0}호\".format(a[i]))\n",
    "    print(\"-------\")"
   ]
  }
 ],
 "metadata": {
  "kernelspec": {
   "display_name": "Python 3",
   "language": "python",
   "name": "python3"
  },
  "language_info": {
   "codemirror_mode": {
    "name": "ipython",
    "version": 3
   },
   "file_extension": ".py",
   "mimetype": "text/x-python",
   "name": "python",
   "nbconvert_exporter": "python",
   "pygments_lexer": "ipython3",
   "version": "3.8.8"
  }
 },
 "nbformat": 4,
 "nbformat_minor": 5
}
