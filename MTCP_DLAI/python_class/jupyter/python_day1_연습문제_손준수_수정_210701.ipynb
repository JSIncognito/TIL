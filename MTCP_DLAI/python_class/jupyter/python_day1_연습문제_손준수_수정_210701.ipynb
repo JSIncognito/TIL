{
 "cells": [
  {
   "cell_type": "markdown",
   "id": "c9cc684a",
   "metadata": {},
   "source": [
    "1. 첫번째와 세번째 문자를 출력하세요.\n",
    "letters = 'python'"
   ]
  },
  {
   "cell_type": "code",
   "execution_count": 4,
   "id": "cb6a8937",
   "metadata": {},
   "outputs": [
    {
     "name": "stdout",
     "output_type": "stream",
     "text": [
      "첫번째 : p 세번째 : t\n"
     ]
    }
   ],
   "source": [
    "letters = 'python'\n",
    "print(\"첫번째 :\",letters[0], \"세번째 :\",letters[2])"
   ]
  },
  {
   "cell_type": "markdown",
   "id": "80f45204",
   "metadata": {},
   "source": [
    "2.뒤에 4자리만 출력하세요.\n",
    " cn=\"24가 2210\""
   ]
  },
  {
   "cell_type": "code",
   "execution_count": 7,
   "id": "c0b20fb3",
   "metadata": {},
   "outputs": [
    {
     "name": "stdout",
     "output_type": "stream",
     "text": [
      "뒤에 4자리 : 2210\n"
     ]
    }
   ],
   "source": [
    "cn=\"24가 2210\"\n",
    "print(\"뒤에 4자리 :\", cn[4:])"
   ]
  },
  {
   "cell_type": "markdown",
   "id": "918901cd",
   "metadata": {},
   "source": [
    "3. 문자열에서 '파' 만 출력하세요.\n",
    "s = \"파이썬파이썬파이썬\""
   ]
  },
  {
   "cell_type": "code",
   "execution_count": 10,
   "id": "075aad99",
   "metadata": {},
   "outputs": [
    {
     "name": "stdout",
     "output_type": "stream",
     "text": [
      "['파', '파', '파', '']\n"
     ]
    }
   ],
   "source": [
    "s = \"파이썬파이썬파이썬\"\n",
    "\n",
    "print(s.split('이썬'))"
   ]
  },
  {
   "cell_type": "markdown",
   "id": "7e1ae2e5",
   "metadata": {},
   "source": [
    "4.문자열 '720'를 정수형으로 변환해보세요.\n",
    "num_str = \"720\""
   ]
  },
  {
   "cell_type": "code",
   "execution_count": 12,
   "id": "afb7ce3d",
   "metadata": {},
   "outputs": [
    {
     "name": "stdout",
     "output_type": "stream",
     "text": [
      "720\n"
     ]
    },
    {
     "data": {
      "text/plain": [
       "int"
      ]
     },
     "execution_count": 12,
     "metadata": {},
     "output_type": "execute_result"
    }
   ],
   "source": [
    "num_str = \"720\"\n",
    "num_str = int(num_str)\n",
    "print(num_str);type(num_str)"
   ]
  },
  {
   "cell_type": "markdown",
   "id": "690a9192",
   "metadata": {},
   "source": [
    "5. 문자열 \"15.79\"를 실수(float) 타입으로 변환해보세요.\n",
    "data = \"15.79\""
   ]
  },
  {
   "cell_type": "code",
   "execution_count": 13,
   "id": "e9619205",
   "metadata": {},
   "outputs": [
    {
     "name": "stdout",
     "output_type": "stream",
     "text": [
      "15.79\n"
     ]
    },
    {
     "data": {
      "text/plain": [
       "float"
      ]
     },
     "execution_count": 13,
     "metadata": {},
     "output_type": "execute_result"
    }
   ],
   "source": [
    "data = \"15.79\"\n",
    "data=float(data)\n",
    "print(data);type(data)"
   ]
  },
  {
   "cell_type": "markdown",
   "id": "c8d2d602",
   "metadata": {},
   "source": [
    "6. 에어컨이 월 48,584원에 무이자 36개월의 조건으로 홈쇼핑에서 \n",
    "판매되고 있습니다. 총 금액은 계산한 후 이를 화면에 출력해보세요."
   ]
  },
  {
   "cell_type": "code",
   "execution_count": 16,
   "id": "80c03a96",
   "metadata": {},
   "outputs": [
    {
     "name": "stdout",
     "output_type": "stream",
     "text": [
      "1749024\n"
     ]
    }
   ],
   "source": [
    "air_con_tot = 48584*36\n",
    "print(air_con_tot)"
   ]
  },
  {
   "cell_type": "markdown",
   "id": "1ec3d6da",
   "metadata": {},
   "source": [
    "7. jumin=\"850701-1234567\"\n",
    "생년월일과 주민번호를 분리하세요.\n",
    "성별을 추출하세요.\n",
    "태어난 월을 추출하세요."
   ]
  },
  {
   "cell_type": "code",
   "execution_count": 40,
   "id": "0c6c6cbd",
   "metadata": {},
   "outputs": [
    {
     "name": "stdout",
     "output_type": "stream",
     "text": [
      "생년월일 : 1985년 07월 01일\n",
      "주민번호 : 850701 - *******\n",
      "생년월일 주민번호 분리 : ['850701', '1234567']\n",
      "성별: 남자\n",
      "태어난 월 : 07월\n"
     ]
    }
   ],
   "source": [
    "jumin=\"850701-1234567\"\n",
    "\n",
    "print(\"생년월일 : 19\" + jumin[:2] + \"년\", jumin[2:4] + \"월\", jumin[4:6] + \"일\")\n",
    "print(\"주민번호 : \" + jumin[:6],\"-\",\"*\"*7)\n",
    "\n",
    "print(\"생년월일 주민번호 분리 :\", jumin.split('-'))\n",
    "\n",
    "# print(jumin[7:8])\n",
    "\n",
    "if jumin[7:8] !='1':\n",
    "    print(\"성별: 여자\")\n",
    "else :\n",
    "    print(\"성별: 남자\")\n",
    "\n",
    "print(\"태어난 월 : \" + jumin[2:4] + \"월\")\n"
   ]
  }
 ],
 "metadata": {
  "kernelspec": {
   "display_name": "Python 3",
   "language": "python",
   "name": "python3"
  },
  "language_info": {
   "codemirror_mode": {
    "name": "ipython",
    "version": 3
   },
   "file_extension": ".py",
   "mimetype": "text/x-python",
   "name": "python",
   "nbconvert_exporter": "python",
   "pygments_lexer": "ipython3",
   "version": "3.8.8"
  }
 },
 "nbformat": 4,
 "nbformat_minor": 5
}
