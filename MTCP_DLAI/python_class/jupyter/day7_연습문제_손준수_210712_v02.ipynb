{
 "cells": [
  {
   "cell_type": "markdown",
   "id": "4d592c44",
   "metadata": {},
   "source": [
    "#1. 주어진 자연수가 홀수인지 짝수인지 판별해 주는 함수(is_odd)를 작성해 보자.\n",
    "ex)is_odd(3) -> 홀수"
   ]
  },
  {
   "cell_type": "code",
   "execution_count": 1,
   "id": "fb259493",
   "metadata": {},
   "outputs": [
    {
     "name": "stdout",
     "output_type": "stream",
     "text": [
      "짝수\n"
     ]
    }
   ],
   "source": [
    "def is_odd(in_num):\n",
    "    if in_num % 2 == 0: \n",
    "        if in_num == 0 :\n",
    "            return print(\"0 입니다.\")\n",
    "        return print(\"짝수\")\n",
    "    else :\n",
    "        return print(\"홀수\")\n",
    "is_odd(2)"
   ]
  },
  {
   "cell_type": "markdown",
   "id": "2092ccb9",
   "metadata": {},
   "source": [
    "#2. 다음은 \"test.txt\"라는 파일에 \"Life is too short\" 문자열을 저장한 후,\n",
    " 다시 그 파일을 읽어서 출력하는 프로그램이다."
   ]
  },
  {
   "cell_type": "code",
   "execution_count": 2,
   "id": "73095044",
   "metadata": {},
   "outputs": [
    {
     "name": "stdout",
     "output_type": "stream",
     "text": [
      "파일이 저장되었습니다.\n",
      "파일을 읽기 :  Life is too short\n"
     ]
    }
   ],
   "source": [
    "def saveFile(inStr):\n",
    "    with open(\"test.txt\", \"w\") as testTxt:\n",
    "        testTxt.write(inStr)\n",
    "    return print(\"파일이 저장되었습니다.\")    \n",
    "    \n",
    "def loadFile():\n",
    "    with open(\"test.txt\", \"r\") as testTxt:\n",
    "        viewStr= testTxt.read()\n",
    "    return print(\"파일을 읽기 : \",viewStr)\n",
    "\n",
    "testStr= \"Life is too short\"\n",
    "\n",
    "saveFile(testStr)\n",
    "loadFile()"
   ]
  },
  {
   "cell_type": "markdown",
   "id": "98d41e4a",
   "metadata": {},
   "source": [
    "#3. 다음과 같은 내용을 지닌 파일 test.txt가 있다. \n",
    "이 파일의 내용 중 \"Java\"라는 문자열을 \"Python\"으로 바꾸어서 저장해 보자.\n",
    "Life is too short\n",
    "you need Java\n",
    "\n",
    "파일 저장 -> 파일 읽기 -> 단어 변경 -> 파일 저장"
   ]
  },
  {
   "cell_type": "code",
   "execution_count": 3,
   "id": "1da802be",
   "metadata": {},
   "outputs": [
    {
     "name": "stdout",
     "output_type": "stream",
     "text": [
      "-> 파일이 저장되었습니다.\n",
      "-> 파일 불러오기 완료 : \n",
      "  Life is too short you need Java\n",
      "-> 문자열 변경 : \n",
      "  Life is too short you need Python\n",
      "-> 파일이 저장되었습니다.\n"
     ]
    }
   ],
   "source": [
    "def saveFile(inStr):\n",
    "    with open(\"test_01.txt\", \"w\") as testTxt:\n",
    "        testTxt.write(inStr)\n",
    "    return print(\"-> 파일이 저장되었습니다.\")\n",
    "\n",
    "def loadFile():\n",
    "    with open(\"test_01.txt\", \"r\") as testTxt:\n",
    "        viewStr= testTxt.read()\n",
    "        print(\"-> 파일 불러오기 완료 : \\n \",viewStr)\n",
    "    return viewStr\n",
    "\n",
    "testStr= \"Life is too short you need Java\"\n",
    "saveFile(testStr)\n",
    "\n",
    "modiStr=loadFile().replace('Java','Python')\n",
    "print(\"-> 문자열 변경 : \\n \", modiStr)\n",
    "\n",
    "saveFile(modiStr)"
   ]
  },
  {
   "cell_type": "markdown",
   "id": "9a067b6f",
   "metadata": {},
   "source": [
    "#4-5. \"비트코인\" 문자열을 화면에 출력하는 print_coin() 함수를 정의하라.\n",
    "-함수 정의 및 호출\n",
    "​"
   ]
  },
  {
   "cell_type": "code",
   "execution_count": 4,
   "id": "79653cc4",
   "metadata": {},
   "outputs": [
    {
     "name": "stdout",
     "output_type": "stream",
     "text": [
      "비트코인!! 가즈아 -- 1 번째\n"
     ]
    }
   ],
   "source": [
    "def print_coin(cnt):\n",
    "    return print(\"비트코인!! 가즈아\", \"-- %d 번째\" %cnt)\n",
    "\n",
    "print_coin(1)"
   ]
  },
  {
   "cell_type": "markdown",
   "id": "b3ae5308",
   "metadata": {},
   "source": [
    "#6. 4에서 정의한 print_coin 함수를 100번호출하라."
   ]
  },
  {
   "cell_type": "code",
   "execution_count": 5,
   "id": "4409455d",
   "metadata": {},
   "outputs": [
    {
     "name": "stdout",
     "output_type": "stream",
     "text": [
      "비트코인!! 가즈아 -- 1 번째\n",
      "비트코인!! 가즈아 -- 2 번째\n",
      "비트코인!! 가즈아 -- 3 번째\n",
      "비트코인!! 가즈아 -- 4 번째\n",
      "비트코인!! 가즈아 -- 5 번째\n",
      "비트코인!! 가즈아 -- 6 번째\n",
      "비트코인!! 가즈아 -- 7 번째\n",
      "비트코인!! 가즈아 -- 8 번째\n",
      "비트코인!! 가즈아 -- 9 번째\n",
      "비트코인!! 가즈아 -- 10 번째\n",
      "비트코인!! 가즈아 -- 11 번째\n",
      "비트코인!! 가즈아 -- 12 번째\n",
      "비트코인!! 가즈아 -- 13 번째\n",
      "비트코인!! 가즈아 -- 14 번째\n",
      "비트코인!! 가즈아 -- 15 번째\n",
      "비트코인!! 가즈아 -- 16 번째\n",
      "비트코인!! 가즈아 -- 17 번째\n",
      "비트코인!! 가즈아 -- 18 번째\n",
      "비트코인!! 가즈아 -- 19 번째\n",
      "비트코인!! 가즈아 -- 20 번째\n",
      "비트코인!! 가즈아 -- 21 번째\n",
      "비트코인!! 가즈아 -- 22 번째\n",
      "비트코인!! 가즈아 -- 23 번째\n",
      "비트코인!! 가즈아 -- 24 번째\n",
      "비트코인!! 가즈아 -- 25 번째\n",
      "비트코인!! 가즈아 -- 26 번째\n",
      "비트코인!! 가즈아 -- 27 번째\n",
      "비트코인!! 가즈아 -- 28 번째\n",
      "비트코인!! 가즈아 -- 29 번째\n",
      "비트코인!! 가즈아 -- 30 번째\n",
      "비트코인!! 가즈아 -- 31 번째\n",
      "비트코인!! 가즈아 -- 32 번째\n",
      "비트코인!! 가즈아 -- 33 번째\n",
      "비트코인!! 가즈아 -- 34 번째\n",
      "비트코인!! 가즈아 -- 35 번째\n",
      "비트코인!! 가즈아 -- 36 번째\n",
      "비트코인!! 가즈아 -- 37 번째\n",
      "비트코인!! 가즈아 -- 38 번째\n",
      "비트코인!! 가즈아 -- 39 번째\n",
      "비트코인!! 가즈아 -- 40 번째\n",
      "비트코인!! 가즈아 -- 41 번째\n",
      "비트코인!! 가즈아 -- 42 번째\n",
      "비트코인!! 가즈아 -- 43 번째\n",
      "비트코인!! 가즈아 -- 44 번째\n",
      "비트코인!! 가즈아 -- 45 번째\n",
      "비트코인!! 가즈아 -- 46 번째\n",
      "비트코인!! 가즈아 -- 47 번째\n",
      "비트코인!! 가즈아 -- 48 번째\n",
      "비트코인!! 가즈아 -- 49 번째\n",
      "비트코인!! 가즈아 -- 50 번째\n",
      "비트코인!! 가즈아 -- 51 번째\n",
      "비트코인!! 가즈아 -- 52 번째\n",
      "비트코인!! 가즈아 -- 53 번째\n",
      "비트코인!! 가즈아 -- 54 번째\n",
      "비트코인!! 가즈아 -- 55 번째\n",
      "비트코인!! 가즈아 -- 56 번째\n",
      "비트코인!! 가즈아 -- 57 번째\n",
      "비트코인!! 가즈아 -- 58 번째\n",
      "비트코인!! 가즈아 -- 59 번째\n",
      "비트코인!! 가즈아 -- 60 번째\n",
      "비트코인!! 가즈아 -- 61 번째\n",
      "비트코인!! 가즈아 -- 62 번째\n",
      "비트코인!! 가즈아 -- 63 번째\n",
      "비트코인!! 가즈아 -- 64 번째\n",
      "비트코인!! 가즈아 -- 65 번째\n",
      "비트코인!! 가즈아 -- 66 번째\n",
      "비트코인!! 가즈아 -- 67 번째\n",
      "비트코인!! 가즈아 -- 68 번째\n",
      "비트코인!! 가즈아 -- 69 번째\n",
      "비트코인!! 가즈아 -- 70 번째\n",
      "비트코인!! 가즈아 -- 71 번째\n",
      "비트코인!! 가즈아 -- 72 번째\n",
      "비트코인!! 가즈아 -- 73 번째\n",
      "비트코인!! 가즈아 -- 74 번째\n",
      "비트코인!! 가즈아 -- 75 번째\n",
      "비트코인!! 가즈아 -- 76 번째\n",
      "비트코인!! 가즈아 -- 77 번째\n",
      "비트코인!! 가즈아 -- 78 번째\n",
      "비트코인!! 가즈아 -- 79 번째\n",
      "비트코인!! 가즈아 -- 80 번째\n",
      "비트코인!! 가즈아 -- 81 번째\n",
      "비트코인!! 가즈아 -- 82 번째\n",
      "비트코인!! 가즈아 -- 83 번째\n",
      "비트코인!! 가즈아 -- 84 번째\n",
      "비트코인!! 가즈아 -- 85 번째\n",
      "비트코인!! 가즈아 -- 86 번째\n",
      "비트코인!! 가즈아 -- 87 번째\n",
      "비트코인!! 가즈아 -- 88 번째\n",
      "비트코인!! 가즈아 -- 89 번째\n",
      "비트코인!! 가즈아 -- 90 번째\n",
      "비트코인!! 가즈아 -- 91 번째\n",
      "비트코인!! 가즈아 -- 92 번째\n",
      "비트코인!! 가즈아 -- 93 번째\n",
      "비트코인!! 가즈아 -- 94 번째\n",
      "비트코인!! 가즈아 -- 95 번째\n",
      "비트코인!! 가즈아 -- 96 번째\n",
      "비트코인!! 가즈아 -- 97 번째\n",
      "비트코인!! 가즈아 -- 98 번째\n",
      "비트코인!! 가즈아 -- 99 번째\n",
      "비트코인!! 가즈아 -- 100 번째\n"
     ]
    }
   ],
   "source": [
    "for i in range(0, 100):\n",
    "    print_coin(i+1)"
   ]
  },
  {
   "cell_type": "markdown",
   "id": "fd21ee26",
   "metadata": {},
   "source": [
    "#7. \"비트코인\" 문자열을 100번 화면에 출력하는 print_coins() 함수를 정의하라."
   ]
  },
  {
   "cell_type": "code",
   "execution_count": 6,
   "id": "d2158408",
   "metadata": {},
   "outputs": [
    {
     "name": "stdout",
     "output_type": "stream",
     "text": [
      "비트코인!! 가즈아 -- 1 번째\n",
      "비트코인!! 가즈아 -- 2 번째\n",
      "비트코인!! 가즈아 -- 3 번째\n",
      "비트코인!! 가즈아 -- 4 번째\n",
      "비트코인!! 가즈아 -- 5 번째\n",
      "비트코인!! 가즈아 -- 6 번째\n",
      "비트코인!! 가즈아 -- 7 번째\n",
      "비트코인!! 가즈아 -- 8 번째\n",
      "비트코인!! 가즈아 -- 9 번째\n",
      "비트코인!! 가즈아 -- 10 번째\n",
      "비트코인!! 가즈아 -- 11 번째\n",
      "비트코인!! 가즈아 -- 12 번째\n",
      "비트코인!! 가즈아 -- 13 번째\n",
      "비트코인!! 가즈아 -- 14 번째\n",
      "비트코인!! 가즈아 -- 15 번째\n",
      "비트코인!! 가즈아 -- 16 번째\n",
      "비트코인!! 가즈아 -- 17 번째\n",
      "비트코인!! 가즈아 -- 18 번째\n",
      "비트코인!! 가즈아 -- 19 번째\n",
      "비트코인!! 가즈아 -- 20 번째\n",
      "비트코인!! 가즈아 -- 21 번째\n",
      "비트코인!! 가즈아 -- 22 번째\n",
      "비트코인!! 가즈아 -- 23 번째\n",
      "비트코인!! 가즈아 -- 24 번째\n",
      "비트코인!! 가즈아 -- 25 번째\n",
      "비트코인!! 가즈아 -- 26 번째\n",
      "비트코인!! 가즈아 -- 27 번째\n",
      "비트코인!! 가즈아 -- 28 번째\n",
      "비트코인!! 가즈아 -- 29 번째\n",
      "비트코인!! 가즈아 -- 30 번째\n",
      "비트코인!! 가즈아 -- 31 번째\n",
      "비트코인!! 가즈아 -- 32 번째\n",
      "비트코인!! 가즈아 -- 33 번째\n",
      "비트코인!! 가즈아 -- 34 번째\n",
      "비트코인!! 가즈아 -- 35 번째\n",
      "비트코인!! 가즈아 -- 36 번째\n",
      "비트코인!! 가즈아 -- 37 번째\n",
      "비트코인!! 가즈아 -- 38 번째\n",
      "비트코인!! 가즈아 -- 39 번째\n",
      "비트코인!! 가즈아 -- 40 번째\n",
      "비트코인!! 가즈아 -- 41 번째\n",
      "비트코인!! 가즈아 -- 42 번째\n",
      "비트코인!! 가즈아 -- 43 번째\n",
      "비트코인!! 가즈아 -- 44 번째\n",
      "비트코인!! 가즈아 -- 45 번째\n",
      "비트코인!! 가즈아 -- 46 번째\n",
      "비트코인!! 가즈아 -- 47 번째\n",
      "비트코인!! 가즈아 -- 48 번째\n",
      "비트코인!! 가즈아 -- 49 번째\n",
      "비트코인!! 가즈아 -- 50 번째\n",
      "비트코인!! 가즈아 -- 51 번째\n",
      "비트코인!! 가즈아 -- 52 번째\n",
      "비트코인!! 가즈아 -- 53 번째\n",
      "비트코인!! 가즈아 -- 54 번째\n",
      "비트코인!! 가즈아 -- 55 번째\n",
      "비트코인!! 가즈아 -- 56 번째\n",
      "비트코인!! 가즈아 -- 57 번째\n",
      "비트코인!! 가즈아 -- 58 번째\n",
      "비트코인!! 가즈아 -- 59 번째\n",
      "비트코인!! 가즈아 -- 60 번째\n",
      "비트코인!! 가즈아 -- 61 번째\n",
      "비트코인!! 가즈아 -- 62 번째\n",
      "비트코인!! 가즈아 -- 63 번째\n",
      "비트코인!! 가즈아 -- 64 번째\n",
      "비트코인!! 가즈아 -- 65 번째\n",
      "비트코인!! 가즈아 -- 66 번째\n",
      "비트코인!! 가즈아 -- 67 번째\n",
      "비트코인!! 가즈아 -- 68 번째\n",
      "비트코인!! 가즈아 -- 69 번째\n",
      "비트코인!! 가즈아 -- 70 번째\n",
      "비트코인!! 가즈아 -- 71 번째\n",
      "비트코인!! 가즈아 -- 72 번째\n",
      "비트코인!! 가즈아 -- 73 번째\n",
      "비트코인!! 가즈아 -- 74 번째\n",
      "비트코인!! 가즈아 -- 75 번째\n",
      "비트코인!! 가즈아 -- 76 번째\n",
      "비트코인!! 가즈아 -- 77 번째\n",
      "비트코인!! 가즈아 -- 78 번째\n",
      "비트코인!! 가즈아 -- 79 번째\n",
      "비트코인!! 가즈아 -- 80 번째\n",
      "비트코인!! 가즈아 -- 81 번째\n",
      "비트코인!! 가즈아 -- 82 번째\n",
      "비트코인!! 가즈아 -- 83 번째\n",
      "비트코인!! 가즈아 -- 84 번째\n",
      "비트코인!! 가즈아 -- 85 번째\n",
      "비트코인!! 가즈아 -- 86 번째\n",
      "비트코인!! 가즈아 -- 87 번째\n",
      "비트코인!! 가즈아 -- 88 번째\n",
      "비트코인!! 가즈아 -- 89 번째\n",
      "비트코인!! 가즈아 -- 90 번째\n",
      "비트코인!! 가즈아 -- 91 번째\n",
      "비트코인!! 가즈아 -- 92 번째\n",
      "비트코인!! 가즈아 -- 93 번째\n",
      "비트코인!! 가즈아 -- 94 번째\n",
      "비트코인!! 가즈아 -- 95 번째\n",
      "비트코인!! 가즈아 -- 96 번째\n",
      "비트코인!! 가즈아 -- 97 번째\n",
      "비트코인!! 가즈아 -- 98 번째\n",
      "비트코인!! 가즈아 -- 99 번째\n",
      "비트코인!! 가즈아 -- 100 번째\n"
     ]
    }
   ],
   "source": [
    "def print_coins():\n",
    "    for i in range(0, 100):\n",
    "        print_coin(i+1)\n",
    "\n",
    "print_coins()  "
   ]
  },
  {
   "cell_type": "markdown",
   "id": "17d9f516",
   "metadata": {},
   "source": [
    "#8. 하나의 문자를 입력받아 문자열 끝에 \":D\" 스마일 문자열을 이어 붙여 출력하는 \n",
    "print_with_smile 함수를 정의하라."
   ]
  },
  {
   "cell_type": "code",
   "execution_count": 7,
   "id": "36c37964",
   "metadata": {},
   "outputs": [
    {
     "name": "stdout",
     "output_type": "stream",
     "text": [
      "하나의 문자를 입력해주세요.\n",
      "rrr\n"
     ]
    },
    {
     "data": {
      "text/plain": [
       "'r:D'"
      ]
     },
     "execution_count": 7,
     "metadata": {},
     "output_type": "execute_result"
    }
   ],
   "source": [
    "def print_with_smile():\n",
    "    print(\"하나의 문자를 입력해주세요.\")\n",
    "    inStr = input()[:1]\n",
    "    inStr = inStr + \":D\"\n",
    "    return inStr\n",
    "\n",
    "print_with_smile()"
   ]
  },
  {
   "cell_type": "markdown",
   "id": "5547affe",
   "metadata": {},
   "source": [
    "#9.  priceList에 저장된 상위 20% 내에 해당되는 값을 출력하는 print_upper_price 함수를 정의하라.\n",
    "* priceList=[90,100,10,20,30,40,50,60,70,80]에서 상위 20% 내에 해당하는 값들을 출력 => 90, 100 출력\n",
    "​"
   ]
  },
  {
   "cell_type": "code",
   "execution_count": 8,
   "id": "d5364858",
   "metadata": {},
   "outputs": [
    {
     "name": "stdout",
     "output_type": "stream",
     "text": [
      "100\n",
      "90\n",
      "[[1, 100], [2, 90]]\n",
      "\n",
      "\n",
      "[100, 90]\n"
     ]
    }
   ],
   "source": [
    "# 계산식은 우선 등수 부터 구함. 대상 등수 / 전체 개수 * 100\n",
    "def print_upper_price(inList):\n",
    "    inList=sorted(inList, reverse=True)\n",
    "#     print(inList)\n",
    "    li = []\n",
    "    per = len(inList)*0.2\n",
    "    for i in range(len(inList)):\n",
    "        if per >= i+1:\n",
    "            print(inList[i])\n",
    "            li.append([i+1, inList[i]])\n",
    "        \n",
    "    print(li)\n",
    "    \n",
    "priceList=[90,100,10,20,30,40,50,60,70,80]\n",
    "print_upper_price(priceList)\n",
    "\n",
    "print(\"\\n\")\n",
    "\n",
    "def print_upper_price2(inList):\n",
    "    inList=sorted(inList, reverse=True)\n",
    "    per = len(inList)*0.2\n",
    "    print([inList[i] for i in range(len(inList)) if per >= i+1])\n",
    "            \n",
    "priceList2=[90,100,10,20,30,40,50,60,70,80]\n",
    "print_upper_price2(priceList2)"
   ]
  },
  {
   "cell_type": "markdown",
   "id": "799f2019",
   "metadata": {},
   "source": [
    "#10. 하나의 리스트를 입력받아 짝수만 화면에 출력하는 print_even 함수를 정의하라.\n",
    "입력 -> 리스트에 저장 -> 짝수만 출력\n"
   ]
  },
  {
   "cell_type": "code",
   "execution_count": 9,
   "id": "e4e57f2f",
   "metadata": {},
   "outputs": [
    {
     "name": "stdout",
     "output_type": "stream",
     "text": [
      "숫자 리스트 짝수만 출력\n",
      "숫자 입력 후 ','를 입력해 주세요.\n",
      " ex)'1, 2, 3, 4, 5, .....'\n",
      "1, 2,3, 4, 5, 6, 7, 8, 9\n",
      "['1', ' 2', '3', ' 4', ' 5', ' 6', ' 7', ' 8', ' 9']\n",
      "[' 2', ' 4', ' 6', ' 8']\n"
     ]
    }
   ],
   "source": [
    "def print_even(inList):\n",
    "    print([n for n in inList if int(n) % 2 == 0])\n",
    "\n",
    "\n",
    "# nums = [1, 2, 3, 4, 5, 6, 7, 8]\n",
    "print(\"숫자 리스트 짝수만 출력\\n숫자 입력 후 ','를 입력해 주세요.\\n ex)'1, 2, 3, 4, 5, .....'\")\n",
    "\n",
    "nums= input().split(\",\")\n",
    "print(nums)\n",
    "print_even(nums)"
   ]
  },
  {
   "cell_type": "markdown",
   "id": "e0202915",
   "metadata": {},
   "source": [
    "#11. 딕셔너리의 key 값을 \n",
    "화면에 출력하는 print_keys 함수를 정의하라.\n",
    "{'name':'kim', 'age':30, 'addr':'seoul', 'bt':'AB'}\n",
    "\n",
    "출력 결과 => 'name', .., 'bt'"
   ]
  },
  {
   "cell_type": "code",
   "execution_count": 10,
   "id": "f18eb125",
   "metadata": {},
   "outputs": [
    {
     "name": "stdout",
     "output_type": "stream",
     "text": [
      "['name', 'age', 'addr', 'bt']\n"
     ]
    }
   ],
   "source": [
    "def dicGetKey(inDic):\n",
    "    li=[]\n",
    "    for key in inDic:\n",
    "        li.append(key)\n",
    "    \n",
    "    print(li)\n",
    "    \n",
    "tDic = {'name':'kim', 'age':30, 'addr':'seoul', 'bt':'AB'}\n",
    "dicGetKey(tDic)"
   ]
  },
  {
   "cell_type": "markdown",
   "id": "10fe2077",
   "metadata": {},
   "source": [
    "#12. 문자열과 한줄에 출력될 글자 수를 입력을 받아 한 줄에 입력된 글자 수만큼 출력하는 \n",
    "print_mxn(string) 함수를 작성하라.\n",
    "\n",
    "ex) print_mxn(\"hello\", 2)\n",
    "he\n",
    "ll\n",
    "o"
   ]
  },
  {
   "cell_type": "code",
   "execution_count": 15,
   "id": "887ffb48",
   "metadata": {},
   "outputs": [
    {
     "name": "stdout",
     "output_type": "stream",
     "text": [
      "문자열 입력 :\n",
      "hello\n",
      "자르는 문자 개수 :\n",
      "2\n",
      "\n",
      "\n",
      "he\n",
      "el\n",
      "ll\n",
      "lo\n"
     ]
    }
   ],
   "source": [
    "def print_mxn(inStr, inNum):\n",
    "    for i in range(len(inStr)-1):\n",
    "        print(inStr[i:i+inNum])\n",
    "\n",
    "print(\"문자열 입력 :\")\n",
    "uStr = input() \n",
    "print(\"자르는 문자 개수 :\")\n",
    "uNum = input()\n",
    "print(\"\\n\")\n",
    "\n",
    "print_mxn(uStr, int(uNum))"
   ]
  },
  {
   "cell_type": "markdown",
   "id": "ba884c0f",
   "metadata": {},
   "source": [
    "​#13. 연봉을 입력받아 월급을 계산하는 calc_monthly_salary(annual_salary) 함수를 정의하라. \n",
    "회사는 연봉을 12개월로 나누어 분할 지급하며, 이 때 1원 미만은 버림한다."
   ]
  },
  {
   "cell_type": "code",
   "execution_count": 22,
   "id": "6da87f30",
   "metadata": {},
   "outputs": [
    {
     "name": "stdout",
     "output_type": "stream",
     "text": [
      "희망연봉을 입력해 주세요.\n",
      "3200\n",
      "월급 : 약  260\n"
     ]
    }
   ],
   "source": [
    "import math\n",
    "# math.ceil(i) : 올림\n",
    "# math.floor(i) : 내림\n",
    "# math.trunc(i) : 버림\n",
    "\n",
    "def calc_monthly_salary(annual_salary):\n",
    "    monthly_salary= int(annual_salary/12) - int(annual_salary/12%10)\n",
    "    print(\"월급 : 약\", monthly_salary)\n",
    "    \n",
    "print(\"희망연봉을 입력해 주세요.\")\n",
    "salary=int(input())\n",
    "calc_monthly_salary(salary)"
   ]
  },
  {
   "cell_type": "markdown",
   "id": "0a622f4c",
   "metadata": {},
   "source": [
    "#14. 문자열 하나를 입력받아 인터넷 주소를 반환하는 make_url 함수를 정의하라.\n",
    "make_url(\"naver\") -> 출력 결과 => www.naver.com\n",
    "참고) www.(입력받은 문자열).com으로 끝나는 인터넷 주소로 가정하여 해결"
   ]
  },
  {
   "cell_type": "code",
   "execution_count": 23,
   "id": "d7663488",
   "metadata": {},
   "outputs": [
    {
     "name": "stdout",
     "output_type": "stream",
     "text": [
      "www.naver.com\n"
     ]
    }
   ],
   "source": [
    "def make_url(inUrl):\n",
    "    makeStr = [\"www.\",\".com\"]\n",
    "    print(inUrl.join(makeStr))\n",
    "    \n",
    "inStr = \"naver\"\n",
    "make_url(inStr)"
   ]
  },
  {
   "cell_type": "markdown",
   "id": "e10a7bc0",
   "metadata": {},
   "source": [
    "#15. 문자열을 입력받아 각 문자들로 구성된 리스트로 반환하는 make_list 함수를 정의하라.\n",
    "make_list (\"abcde\") 호출 -> 실행 결과 => [ 'a','b',...,'e]​"
   ]
  },
  {
   "cell_type": "code",
   "execution_count": 26,
   "id": "23338ed2",
   "metadata": {},
   "outputs": [
    {
     "name": "stdout",
     "output_type": "stream",
     "text": [
      "['a', 'b', 'c', 'd', 'e']\n"
     ]
    }
   ],
   "source": [
    "def make_list(m_str):\n",
    "    makeStr = list(m_str)\n",
    "    print(makeStr)\n",
    "\n",
    "inStr=\"abcde\"\n",
    "make_list(inStr)"
   ]
  },
  {
   "cell_type": "markdown",
   "id": "93d683ea",
   "metadata": {},
   "source": [
    "#16. 게임 기업 입사문제(시간 되면)\n",
    "\n",
    "* 어떤 자연수 n이 있을 때, d(n)을 n의 각 자릿수 숫자들과 n 자신을 더한 숫자라고 정의하자.\n",
    "* 예를 들어\n",
    "* d(91) = 9 + 1 + 91 = 101\n",
    "* d(100)=1+0+0+100=101\n",
    "* 이 때, n을 d(n)의 제네레이터(generator)라고 한다. 위의 예에서 91은 101의 제네레이터이다.\n",
    "*\n",
    "* 어떤 숫자들은 하나 이상의 제네레이터를 가지고 있는데, \n",
    "* 101의 제네레이터는 91 뿐 아니라 100도 있다. 그런데 반대로, 제네레이터가 없는 숫자들도 있으며, \n",
    "* 이런 숫자를 인도의 수학자 Kaprekar가 셀프 넘버(self-number)라 이름 붙였다. \n",
    "* 예를 들어 1,3,5,7,9,20,31 은 셀프 넘버 들이다.\n",
    "\n",
    "*문제 :  1 이상이고 5000 보다 작은 모든 셀프 넘버들의 합을 구하라."
   ]
  },
  {
   "cell_type": "code",
   "execution_count": 104,
   "id": "0435a3ed",
   "metadata": {},
   "outputs": [
    {
     "name": "stdout",
     "output_type": "stream",
     "text": [
      "==================\n",
      "sel_NumList [1, 3, 5, 7, 9, 20, 31, 42, 53, 64, 75, 86, 97, 108, 110, 121, 132, 143, 154, 165, 176, 187, 198, 209, 211, 222, 233, 244, 255, 266, 277, 288, 299, 310, 312, 323, 334, 345, 356, 367, 378, 389, 400, 411, 413, 424, 435, 446, 457, 468, 479, 490, 501, 512, 514, 525, 536, 547, 558, 569, 580, 591, 602, 613, 615, 626, 637, 648, 659, 670, 681, 692, 703, 714, 716, 727, 738, 749, 760, 771, 782, 793, 804, 815, 817, 828, 839, 850, 861, 872, 883, 894, 905, 916, 918, 929, 940, 951, 962, 973, 984, 995, 1006, 1021, 1032, 1043, 1054, 1065, 1076, 1087, 1098, 1109, 1111, 1122, 1133, 1144, 1155, 1166, 1177, 1188, 1199, 1210, 1212, 1223, 1234, 1245, 1256, 1267, 1278, 1289, 1300, 1311, 1313, 1324, 1335, 1346, 1357, 1368, 1379, 1390, 1401, 1412, 1414, 1425, 1436, 1447, 1458, 1469, 1480, 1491, 1502, 1513, 1515, 1526, 1537, 1548, 1559, 1570, 1581, 1592, 1603, 1614, 1616, 1627, 1638, 1649, 1660, 1671, 1682, 1693, 1704, 1715, 1717, 1728, 1739, 1750, 1761, 1772, 1783, 1794, 1805, 1816, 1818, 1829, 1840, 1851, 1862, 1873, 1884, 1895, 1906, 1917, 1919, 1930, 1941, 1952, 1963, 1974, 1985, 1996, 2007, 2022, 2033, 2044, 2055, 2066, 2077, 2088, 2099, 2110, 2112, 2123, 2134, 2145, 2156, 2167, 2178, 2189, 2200, 2211, 2213, 2224, 2235, 2246, 2257, 2268, 2279, 2290, 2301, 2312, 2314, 2325, 2336, 2347, 2358, 2369, 2380, 2391, 2402, 2413, 2415, 2426, 2437, 2448, 2459, 2470, 2481, 2492, 2503, 2514, 2516, 2527, 2538, 2549, 2560, 2571, 2582, 2593, 2604, 2615, 2617, 2628, 2639, 2650, 2661, 2672, 2683, 2694, 2705, 2716, 2718, 2729, 2740, 2751, 2762, 2773, 2784, 2795, 2806, 2817, 2819, 2830, 2841, 2852, 2863, 2874, 2885, 2896, 2907, 2918, 2920, 2931, 2942, 2953, 2964, 2975, 2986, 2997, 3008, 3023, 3034, 3045, 3056, 3067, 3078, 3089, 3100, 3111, 3113, 3124, 3135, 3146, 3157, 3168, 3179, 3190, 3201, 3212, 3214, 3225, 3236, 3247, 3258, 3269, 3280, 3291, 3302, 3313, 3315, 3326, 3337, 3348, 3359, 3370, 3381, 3392, 3403, 3414, 3416, 3427, 3438, 3449, 3460, 3471, 3482, 3493, 3504, 3515, 3517, 3528, 3539, 3550, 3561, 3572, 3583, 3594, 3605, 3616, 3618, 3629, 3640, 3651, 3662, 3673, 3684, 3695, 3706, 3717, 3719, 3730, 3741, 3752, 3763, 3774, 3785, 3796, 3807, 3818, 3820, 3831, 3842, 3853, 3864, 3875, 3886, 3897, 3908, 3919, 3921, 3932, 3943, 3954, 3965, 3976, 3987, 3998, 4009, 4024, 4035, 4046, 4057, 4068, 4079, 4090, 4101, 4112, 4114, 4125, 4136, 4147, 4158, 4169, 4180, 4191, 4202, 4213, 4215, 4226, 4237, 4248, 4259, 4270, 4281, 4292, 4303, 4314, 4316, 4327, 4338, 4349, 4360, 4371, 4382, 4393, 4404, 4415, 4417, 4428, 4439, 4450, 4461, 4472, 4483, 4494, 4505, 4516, 4518, 4529, 4540, 4551, 4562, 4573, 4584, 4595, 4606, 4617, 4619, 4630, 4641, 4652, 4663, 4674, 4685, 4696, 4707, 4718, 4720, 4731, 4742, 4753, 4764, 4775, 4786, 4797, 4808, 4819, 4821, 4832, 4843, 4854, 4865, 4876, 4887, 4898, 4909, 4920, 4922, 4933, 4944, 4955, 4966, 4977, 4988, 4999] / 총 셀프 넘버 개수 : 494\n",
      "\n",
      "셀프넘버 총합 :  1227365\n"
     ]
    }
   ],
   "source": [
    "'''\n",
    "def d_function parameter\n",
    "    int nNm - 제네레이터 변수\n",
    "    int endNm - 마지막 제네레이터 변수 \n",
    "    list sNumli -  셀프 넘버 리스트  \n",
    "    list rmvNmli - 삭제된 변수 리스트\n",
    "'''\n",
    "def d_function(nNm, endNm, sNumli):\n",
    "    # 재귀함수 종료 조건\n",
    "    if nNm > endNm:\n",
    "        return \n",
    "    else: # 제네레이터 n의 d(n)까지의 수열을 반복하여 전체 수 목록에서 제외 \n",
    "        temp_var = 0\n",
    "        for i in list(str(nNm)):\n",
    "            temp_var += int(i)    \n",
    "        temp_var += nNm # 마지막 자기자신 까지의 수를 더함.\n",
    "        nNm = temp_var\n",
    "\n",
    "        # n을 생성자로 갖는 d(n)을 전체에서 제거 \n",
    "        if nNm in sNumli:\n",
    "            sNumli.remove(nNm)\n",
    "            \n",
    "        d_function(nNm, endNm, sNumli) #재귀호출 \n",
    "\n",
    "'''\n",
    "selfNumber_main parameter \n",
    "    type int startNum : 셀프넘버 시작   \n",
    "    type int enNum :    셀프넘버 정료 (찾을 범위)\n",
    "'''\n",
    "def selfNumber_main(startNum, endNum):\n",
    "    sel_NumList = list(range(startNum, endNum+1))\n",
    "    result=0\n",
    "    \n",
    "    for i in range(startNum, endNum):\n",
    "\n",
    "        if i in sel_NumList: # d_function 에서 제외된 수 인지 확인(n 의 d(n)의 수열로 나열된 수는 전체 list 에서 제외)\n",
    "            d_function(i, endNum+1, sel_NumList)\n",
    "        else :               # d_function 에서 제외된 수열들은 pass\n",
    "            pass\n",
    "    \n",
    "    # 셀프넘버 총합 \n",
    "    for sn in sel_NumList:\n",
    "        result += sn     \n",
    "    \n",
    "    print(\"==================\")\n",
    "    print(\"sel_NumList\",sel_NumList, \"/ 총 셀프 넘버 개수 :\", len(sel_NumList))\n",
    "    print(\"\\n셀프넘버 총합 : \", result)\n",
    "    \n",
    "selfNumber_main(1, 5000)"
   ]
  }
 ],
 "metadata": {
  "kernelspec": {
   "display_name": "Python 3",
   "language": "python",
   "name": "python3"
  },
  "language_info": {
   "codemirror_mode": {
    "name": "ipython",
    "version": 3
   },
   "file_extension": ".py",
   "mimetype": "text/x-python",
   "name": "python",
   "nbconvert_exporter": "python",
   "pygments_lexer": "ipython3",
   "version": "3.8.8"
  }
 },
 "nbformat": 4,
 "nbformat_minor": 5
}
