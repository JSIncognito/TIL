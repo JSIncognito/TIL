{
 "cells": [
  {
   "cell_type": "markdown",
   "id": "8db3be38",
   "metadata": {},
   "source": [
    "1.리스트 생성\n",
    "2016년 11월 영화 예매 순위 기준 top3는 다음과 같습니다. 영화 제목을 movie_rank 이름의 리스트에 저장해보세요. (순위 정보는 저장하지 않습니다.)\n",
    "\n",
    "순위\t영화\n",
    "1\t닥터 스트레인지\n",
    "2\t스플릿\n",
    "3\t럭키"
   ]
  },
  {
   "cell_type": "code",
   "execution_count": 3,
   "id": "fe908825",
   "metadata": {},
   "outputs": [
    {
     "data": {
      "text/plain": [
       "['닥터 스트레인지', '스플릿', '럭키']"
      ]
     },
     "execution_count": 3,
     "metadata": {},
     "output_type": "execute_result"
    }
   ],
   "source": [
    "movie_rank = ['닥터 스트레인지', '스플릿', '럭키']\n",
    "movie_rank"
   ]
  },
  {
   "cell_type": "markdown",
   "id": "ad8f5e74",
   "metadata": {},
   "source": [
    "---\n",
    "\n",
    "2.movie_rank 리스트에 \"배트맨\"을 추가하라."
   ]
  },
  {
   "cell_type": "code",
   "execution_count": 2,
   "id": "e79cc2a2",
   "metadata": {},
   "outputs": [
    {
     "data": {
      "text/plain": [
       "['닥터 스트레인지', '스플릿', '럭키', '배트맨']"
      ]
     },
     "execution_count": 2,
     "metadata": {},
     "output_type": "execute_result"
    }
   ],
   "source": [
    "movie_rank.append('배트맨')\n",
    "movie_rank"
   ]
  },
  {
   "cell_type": "markdown",
   "id": "a02b9d8b",
   "metadata": {},
   "source": [
    "---\n",
    "\n",
    "3.movie_rank 리스트에는 아래와 같이 네 개의 영화 제목이 바인딩되어 있다. \"슈퍼맨\"을 \"닥터 스트레인지\"와 \"스플릿\" 사이에 추가하라.\n",
    "movie_rank = ['닥터 스트레인지', '스플릿', '럭키', '배트맨']"
   ]
  },
  {
   "cell_type": "code",
   "execution_count": 6,
   "id": "aa8990a8",
   "metadata": {},
   "outputs": [],
   "source": [
    "movie_rank = ['닥터 스트레인지', '스플릿', '럭키', '배트맨']"
   ]
  },
  {
   "cell_type": "code",
   "execution_count": 7,
   "id": "c1c90728",
   "metadata": {},
   "outputs": [
    {
     "data": {
      "text/plain": [
       "['닥터 스트레인지', '슈퍼맨', '스플릿', '럭키', '배트맨']"
      ]
     },
     "execution_count": 7,
     "metadata": {},
     "output_type": "execute_result"
    }
   ],
   "source": [
    "movie_rank.insert(1, '슈퍼맨')\n",
    "movie_rank"
   ]
  },
  {
   "cell_type": "markdown",
   "id": "8eeb5adc",
   "metadata": {},
   "source": [
    "---\n",
    "\n",
    "4.movie_rank 리스트에서 '럭키'를 삭제하라.\n",
    "movie_rank = ['닥터 스트레인지', '슈퍼맨', '스플릿', '럭키', '배트맨']"
   ]
  },
  {
   "cell_type": "code",
   "execution_count": 8,
   "id": "5c6c5da3",
   "metadata": {},
   "outputs": [
    {
     "data": {
      "text/plain": [
       "['닥터 스트레인지', '슈퍼맨', '스플릿', '배트맨']"
      ]
     },
     "execution_count": 8,
     "metadata": {},
     "output_type": "execute_result"
    }
   ],
   "source": [
    "movie_rank.remove('럭키')\n",
    "movie_rank"
   ]
  },
  {
   "cell_type": "markdown",
   "id": "215da750",
   "metadata": {},
   "source": [
    "---\n",
    "\n",
    "5.movie_rank 리스트에서 '스플릿' 과 '배트맨'을 를 삭제하라.\n",
    "movie_rank = ['닥터 스트레인지', '슈퍼맨', '스플릿', '배트맨']"
   ]
  },
  {
   "cell_type": "code",
   "execution_count": 16,
   "id": "ad603a51",
   "metadata": {},
   "outputs": [
    {
     "data": {
      "text/plain": [
       "['닥터 스트레인지', '슈퍼맨']"
      ]
     },
     "execution_count": 16,
     "metadata": {},
     "output_type": "execute_result"
    }
   ],
   "source": [
    "movie_rank = ['닥터 스트레인지', '슈퍼맨', '스플릿', '배트맨']\n",
    "del movie_rank[2:]\n",
    "movie_rank"
   ]
  },
  {
   "cell_type": "markdown",
   "id": "c69ae0a3",
   "metadata": {},
   "source": [
    "---\n",
    "\n",
    "6.price 변수에는 날짜와 종가 정보가 저장돼 있다. 날짜 정보를 제외하고 가격 정보만을 출력하라. (힌트 : 슬라이싱)\n",
    "\n",
    "price = ['20180728', 100, 130, 140, 150, 160, 170]\n",
    "출력 예시:\n",
    "[100, 130, 140, 150, 160, 170]"
   ]
  },
  {
   "cell_type": "code",
   "execution_count": 18,
   "id": "89887ce9",
   "metadata": {},
   "outputs": [
    {
     "name": "stdout",
     "output_type": "stream",
     "text": [
      "[100, 130, 140, 150, 160, 170]\n"
     ]
    }
   ],
   "source": [
    "price = ['20180728', 100, 130, 140, 150, 160, 170]\n",
    "print(price[1:])"
   ]
  },
  {
   "cell_type": "markdown",
   "id": "48bb3e33",
   "metadata": {},
   "source": [
    "---\n",
    "\n",
    "7.슬라이싱을 사용해서 홀수만 출력하라.\n",
    "\n",
    "nums = [1, 2, 3, 4, 5, 6, 7, 8, 9, 10]"
   ]
  },
  {
   "cell_type": "code",
   "execution_count": 38,
   "id": "29b8f1a2",
   "metadata": {},
   "outputs": [
    {
     "name": "stdout",
     "output_type": "stream",
     "text": [
      "[1, 3, 5, 7, 9]\n",
      "[1, 3, 5, 7, 9]\n"
     ]
    }
   ],
   "source": [
    "nums = [1, 2, 3, 4, 5, 6, 7, 8, 9, 10]\n",
    "print(nums[0::2])# 0~ 마지막 까지 출력 인덱스 2씩 증가\n",
    "\n",
    "li = []\n",
    "for num in nums:\n",
    "    if num%2 != 0: #나머지 0이 아닌 경우 \n",
    "        li.append(num)\n",
    "print(li)"
   ]
  },
  {
   "cell_type": "markdown",
   "id": "1cb1800c",
   "metadata": {},
   "source": [
    "---\n",
    "\n",
    "8.슬라이싱을 사용해서 리스트의 숫자를 역 방향으로 출력하라.\n",
    "\n",
    "nums = [1, 2, 3, 4, 5]\n",
    "실행 예:\n",
    "[5, 4, 3, 2, 1]"
   ]
  },
  {
   "cell_type": "code",
   "execution_count": 47,
   "id": "a1303934",
   "metadata": {},
   "outputs": [
    {
     "name": "stdout",
     "output_type": "stream",
     "text": [
      "[5, 4, 3, 2, 1]\n"
     ]
    },
    {
     "data": {
      "text/plain": [
       "[5, 4, 3, 2, 1]"
      ]
     },
     "execution_count": 47,
     "metadata": {},
     "output_type": "execute_result"
    }
   ],
   "source": [
    "nums = [1, 2, 3, 4, 5]\n",
    "print(nums[4::-1]) #제일 끝에서 -1씩 인덱스 \n",
    "\n",
    "# reverse 뒤집기\n",
    "nums.reverse()\n",
    "nums "
   ]
  },
  {
   "cell_type": "markdown",
   "id": "3da77a21",
   "metadata": {},
   "source": [
    "---\n",
    "\n",
    "9.interest 리스트에는 아래의 데이터가 저장되어 있다.\n",
    "\n",
    "interest = ['삼성전자', 'LG전자', 'Naver']\n",
    "interest 리스트를 사용하여 아래와 같이 화면에 출력하라.\n",
    "\n",
    "출력 예시:\n",
    "삼성전자 Naver"
   ]
  },
  {
   "cell_type": "code",
   "execution_count": 61,
   "id": "19158447",
   "metadata": {},
   "outputs": [
    {
     "name": "stdout",
     "output_type": "stream",
     "text": [
      "삼성전자 Naver\n",
      "삼성전자 Naver \n"
     ]
    }
   ],
   "source": [
    "interest = ['삼성전자', 'LG전자', 'Naver']\n",
    "\n",
    "print(interest[0]+ \" \" +interest[2])\n",
    "\n",
    "result = \"\"\n",
    "itr = interest[0::2]\n",
    "for i in itr:\n",
    "    result += (i + \" \")\n",
    "    \n",
    "print(result)"
   ]
  },
  {
   "cell_type": "markdown",
   "id": "57bf93df",
   "metadata": {},
   "source": [
    "---\n",
    "\n",
    "10.interest 리스트에는 아래의 데이터가 바인딩되어 있다.\n",
    "\n",
    "interest = ['삼성전자', 'LG전자', 'Naver', 'SK하이닉스', '미래에셋대우']\n",
    "interest 리스트를 사용하여 아래와 같이 화면에 출력하라.\n",
    "\n",
    "출력 예시:\n",
    "삼성전자 LG전자 Naver SK하이닉스 미래에셋대우"
   ]
  },
  {
   "cell_type": "code",
   "execution_count": 82,
   "id": "02e7f176",
   "metadata": {},
   "outputs": [
    {
     "name": "stdout",
     "output_type": "stream",
     "text": [
      "삼성전자 LG전자 Naver SK하이닉스 미래에셋대우 \n"
     ]
    }
   ],
   "source": [
    "interest = ['삼성전자', 'LG전자', 'Naver', 'SK하이닉스', '미래에셋대우']\n",
    "\n",
    "itr = \"\"\n",
    "for i in range(len(interest)):\n",
    "    itr += interest.pop(0)+\" \"\n",
    "    \n",
    "print(itr)"
   ]
  },
  {
   "cell_type": "markdown",
   "id": "f29d63d6",
   "metadata": {},
   "source": [
    "---\n",
    "\n",
    "11.interest 리스트에는 아래의 데이터가 바인딩되어 있다.\n",
    "\n",
    "interest = ['삼성전자', 'LG전자', 'Naver', 'SK하이닉스', '미래에셋대우']\n",
    "join() 메서드를 사용해서 interest 리스트를 아래와 같이 화면에 출력하라.\n",
    "\n",
    "출력 예시:\n",
    "삼성전자\n",
    "LG전자\n",
    "Naver\n",
    "SK하이닉스\n",
    "미래에셋대우"
   ]
  },
  {
   "cell_type": "code",
   "execution_count": 146,
   "id": "d6af2e0b",
   "metadata": {},
   "outputs": [
    {
     "name": "stdout",
     "output_type": "stream",
     "text": [
      "삼성전자\n",
      "LG전자\n",
      "Naver\n",
      "SK하이닉스\n",
      "미래에셋대우\n"
     ]
    }
   ],
   "source": [
    "interest = ['삼성전자', 'LG전자', 'Naver', 'SK하이닉스', '미래에셋대우']\n",
    "itr = \"\"\n",
    "for i in range(len(interest)):\n",
    "        itr += interest.pop(0)+\"\\n\"\n",
    "print(itr,end=\"\") # end=\"\" 마지막 개행문자 제거"
   ]
  },
  {
   "cell_type": "markdown",
   "id": "9256282b",
   "metadata": {},
   "source": [
    "---\n",
    "\n",
    "12.리스트에 있는 값을 오름차순으로 정렬하세요.\n",
    "data = [2, 4, 3, 1, 5, 10, 9]"
   ]
  },
  {
   "cell_type": "code",
   "execution_count": 110,
   "id": "4569789b",
   "metadata": {},
   "outputs": [
    {
     "data": {
      "text/plain": [
       "[1, 2, 3, 4, 5, 9, 10]"
      ]
     },
     "execution_count": 110,
     "metadata": {},
     "output_type": "execute_result"
    }
   ],
   "source": [
    "data = [2, 4, 3, 1, 5, 10, 9]\n",
    "data.sort()\n",
    "data"
   ]
  },
  {
   "cell_type": "markdown",
   "id": "7c2028a5",
   "metadata": {},
   "source": [
    "---\n",
    "\n",
    "13.홍길동 씨의 주민등록번호는 881120-1068234이다. 홍길동 씨의 주민등록번호를 연월일(YYYYMMDD) 부분과 그 뒤의 숫자 부분으로 나누어 출력해 보자.\n",
    "※ 문자열 슬라이싱 기법을 사용해 보자."
   ]
  },
  {
   "cell_type": "code",
   "execution_count": 128,
   "id": "a98793a0",
   "metadata": {},
   "outputs": [
    {
     "name": "stdout",
     "output_type": "stream",
     "text": [
      "881120\n",
      "1068234\n",
      "연월일 [881120] 주민등록 번호 [1068234]\n"
     ]
    }
   ],
   "source": [
    "홍길동 = '881120-1068234'\n",
    "print(홍길동[:6])\n",
    "print(홍길동[7:])\n",
    "\n",
    "li = 홍길동.split(\"-\")\n",
    "print(\"연월일 [{0}] 주민등록 번호 [{1}] 입니다.\".format(li[0], li[1]))"
   ]
  },
  {
   "cell_type": "markdown",
   "id": "67a12752",
   "metadata": {},
   "source": [
    "---\n",
    "\n",
    "14.(1,2,3) 튜플에 값 4를 추가하여 (1,2,3,4)를 만들어 출력해 보자."
   ]
  },
  {
   "cell_type": "code",
   "execution_count": 137,
   "id": "b99c48a5",
   "metadata": {},
   "outputs": [
    {
     "data": {
      "text/plain": [
       "(1, 2, 3, 4)"
      ]
     },
     "execution_count": 137,
     "metadata": {},
     "output_type": "execute_result"
    }
   ],
   "source": [
    "t1 = (1, 2, 3)\n",
    "li=list(t1)\n",
    "li.append(4)\n",
    "t1=tuple(li)\n",
    "t1\n"
   ]
  },
  {
   "cell_type": "markdown",
   "id": "ab688bd4",
   "metadata": {},
   "source": [
    "---\n",
    "\n",
    "15.딕셔너리 a에서 'B'에 해당되는 값을 추출해 보자.\n",
    " a = {'A':90, 'B':80, 'C':70}\n",
    "※ 딕셔너리의 pop 함수를 사용해 보자."
   ]
  },
  {
   "cell_type": "code",
   "execution_count": 145,
   "id": "54618305",
   "metadata": {},
   "outputs": [
    {
     "name": "stdout",
     "output_type": "stream",
     "text": [
      "80\n"
     ]
    },
    {
     "data": {
      "text/plain": [
       "{'A': 90, 'C': 70}"
      ]
     },
     "execution_count": 145,
     "metadata": {},
     "output_type": "execute_result"
    }
   ],
   "source": [
    "a = {'A':90, 'B':80, 'C':70}\n",
    "print(a.pop('B'))\n",
    "a"
   ]
  },
  {
   "cell_type": "markdown",
   "id": "1857ae13",
   "metadata": {},
   "source": [
    "---\n",
    "\n",
    "특별문제(회문? 앞으로 읽으나 뒤로 읽으나 동일한 문자 패턴)\n",
    "#1)\n",
    "단어를 입력 ? test\n",
    "회문이 아닙니다.\n",
    "#2)\n",
    "단어를 입력 ? abcba\n",
    "회문입니다."
   ]
  },
  {
   "cell_type": "code",
   "execution_count": 174,
   "id": "3f8d4db8",
   "metadata": {},
   "outputs": [
    {
     "name": "stdout",
     "output_type": "stream",
     "text": [
      "efef\n",
      "입력 : efef\n",
      "회문이 아닙니다.\n"
     ]
    }
   ],
   "source": [
    "in_str = input()\n",
    "print(\"입력 : %s\" %in_str)\n",
    "comp = in_str[::-1]\n",
    "if in_str == comp :\n",
    "    print(\"회문입니다.\")\n",
    "else :\n",
    "    print(\"회문이 아닙니다.\")"
   ]
  }
 ],
 "metadata": {
  "kernelspec": {
   "display_name": "Python 3",
   "language": "python",
   "name": "python3"
  },
  "language_info": {
   "codemirror_mode": {
    "name": "ipython",
    "version": 3
   },
   "file_extension": ".py",
   "mimetype": "text/x-python",
   "name": "python",
   "nbconvert_exporter": "python",
   "pygments_lexer": "ipython3",
   "version": "3.8.8"
  }
 },
 "nbformat": 4,
 "nbformat_minor": 5
}
