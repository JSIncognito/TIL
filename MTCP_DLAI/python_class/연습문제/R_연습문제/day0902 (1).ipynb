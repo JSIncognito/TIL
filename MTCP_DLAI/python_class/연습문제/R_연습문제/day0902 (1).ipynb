{
 "cells": [
  {
   "cell_type": "code",
   "execution_count": 1,
   "id": "0a990853",
   "metadata": {},
   "outputs": [],
   "source": [
    "import pandas as pd\n",
    "import numpy as np"
   ]
  },
  {
   "cell_type": "code",
   "execution_count": 2,
   "id": "503e88d6",
   "metadata": {},
   "outputs": [],
   "source": [
    "blood = ['A', 'A', 'A', 'B', 'B', 'AB', 'O']"
   ]
  },
  {
   "cell_type": "code",
   "execution_count": 4,
   "id": "374e90cf",
   "metadata": {},
   "outputs": [
    {
     "data": {
      "text/plain": [
       "(array(['A', 'AB', 'B', 'O'], dtype='<U2'), array([3, 1, 2, 1], dtype=int64))"
      ]
     },
     "execution_count": 4,
     "metadata": {},
     "output_type": "execute_result"
    }
   ],
   "source": [
    "np.unique(blood, return_counts=True)"
   ]
  },
  {
   "cell_type": "code",
   "execution_count": 6,
   "id": "0487d9b5",
   "metadata": {},
   "outputs": [
    {
     "data": {
      "text/plain": [
       "A     3\n",
       "B     2\n",
       "AB    1\n",
       "O     1\n",
       "dtype: int64"
      ]
     },
     "execution_count": 6,
     "metadata": {},
     "output_type": "execute_result"
    }
   ],
   "source": [
    "pd.Series(blood).value_counts()"
   ]
  },
  {
   "cell_type": "code",
   "execution_count": 9,
   "id": "35a8c321",
   "metadata": {},
   "outputs": [
    {
     "data": {
      "text/plain": [
       "array([1., 3., 5., 7., 9.])"
      ]
     },
     "execution_count": 9,
     "metadata": {},
     "output_type": "execute_result"
    }
   ],
   "source": [
    "x=[1,1,1,2,3,5,5,7,8,9]\n",
    "res1, res2=np.histogram(x,4)\n",
    "res1\n",
    "res2"
   ]
  },
  {
   "cell_type": "code",
   "execution_count": 10,
   "id": "d70b026e",
   "metadata": {},
   "outputs": [],
   "source": [
    "from scipy.stats import mode"
   ]
  },
  {
   "cell_type": "code",
   "execution_count": 11,
   "id": "e92bde06",
   "metadata": {},
   "outputs": [
    {
     "data": {
      "text/plain": [
       "ModeResult(mode=array([1]), count=array([3]))"
      ]
     },
     "execution_count": 11,
     "metadata": {},
     "output_type": "execute_result"
    }
   ],
   "source": [
    "mode(x)"
   ]
  },
  {
   "cell_type": "code",
   "execution_count": 12,
   "id": "be4b0b0c",
   "metadata": {},
   "outputs": [
    {
     "data": {
      "text/plain": [
       "[1, 1, 1, 2, 3, 5, 5, 7, 8, 9]"
      ]
     },
     "execution_count": 12,
     "metadata": {},
     "output_type": "execute_result"
    }
   ],
   "source": [
    "x"
   ]
  },
  {
   "cell_type": "code",
   "execution_count": 13,
   "id": "6a03ef67",
   "metadata": {},
   "outputs": [
    {
     "data": {
      "text/plain": [
       "8"
      ]
     },
     "execution_count": 13,
     "metadata": {},
     "output_type": "execute_result"
    }
   ],
   "source": [
    "np.max(x)-np.min(x)"
   ]
  },
  {
   "cell_type": "code",
   "execution_count": 14,
   "id": "2c62eccc",
   "metadata": {},
   "outputs": [
    {
     "data": {
      "text/plain": [
       "8.36"
      ]
     },
     "execution_count": 14,
     "metadata": {},
     "output_type": "execute_result"
    }
   ],
   "source": [
    "np.var(x)"
   ]
  },
  {
   "cell_type": "code",
   "execution_count": 15,
   "id": "2fd83b2b",
   "metadata": {},
   "outputs": [
    {
     "data": {
      "text/plain": [
       "2.891366458960192"
      ]
     },
     "execution_count": 15,
     "metadata": {},
     "output_type": "execute_result"
    }
   ],
   "source": [
    "np.std(x)"
   ]
  },
  {
   "cell_type": "code",
   "execution_count": 19,
   "id": "2885557e",
   "metadata": {},
   "outputs": [
    {
     "data": {
      "text/plain": [
       "6.5"
      ]
     },
     "execution_count": 19,
     "metadata": {},
     "output_type": "execute_result"
    }
   ],
   "source": [
    "np.quantile(x, .25)\n",
    "np.quantile(x, .5)\n",
    "np.quantile(x, .75)"
   ]
  },
  {
   "cell_type": "code",
   "execution_count": 20,
   "id": "f0058a07",
   "metadata": {},
   "outputs": [
    {
     "data": {
      "text/plain": [
       "5.25"
      ]
     },
     "execution_count": 20,
     "metadata": {},
     "output_type": "execute_result"
    }
   ],
   "source": [
    "np.quantile(x, .75)-np.quantile(x, .25)\n"
   ]
  },
  {
   "cell_type": "code",
   "execution_count": 21,
   "id": "55b97b4a",
   "metadata": {},
   "outputs": [],
   "source": [
    "x = [8, 3, 6, 6, 9, 4, 3, 9, 3, 4]\n",
    "y = [6, 2, 4, 6, 10, 5, 1, 8, 4, 5]"
   ]
  },
  {
   "cell_type": "code",
   "execution_count": 22,
   "id": "8480cf9b",
   "metadata": {},
   "outputs": [],
   "source": [
    "import matplotlib.pyplot as plt"
   ]
  },
  {
   "cell_type": "code",
   "execution_count": 23,
   "id": "72ded87b",
   "metadata": {},
   "outputs": [
    {
     "data": {
      "text/plain": [
       "[<matplotlib.lines.Line2D at 0x1ff7889bb80>]"
      ]
     },
     "execution_count": 23,
     "metadata": {},
     "output_type": "execute_result"
    },
    {
     "data": {
      "image/png": "[encoded data removed]",
      "text/plain": [
       "<Figure size 432x288 with 1 Axes>"
      ]
     },
     "metadata": {
      "needs_background": "light"
     },
     "output_type": "display_data"
    }
   ],
   "source": [
    "plt.plot(x,y,'o')"
   ]
  },
  {
   "cell_type": "code",
   "execution_count": 24,
   "id": "b6174bff",
   "metadata": {},
   "outputs": [
    {
     "data": {
      "text/plain": [
       "array([[6.05555556, 5.61111111],\n",
       "       [5.61111111, 6.98888889]])"
      ]
     },
     "execution_count": 24,
     "metadata": {},
     "output_type": "execute_result"
    }
   ],
   "source": [
    "np.cov(x,y)"
   ]
  },
  {
   "cell_type": "code",
   "execution_count": 25,
   "id": "231a418f",
   "metadata": {},
   "outputs": [
    {
     "data": {
      "text/plain": [
       "5.611111111111111"
      ]
     },
     "execution_count": 25,
     "metadata": {},
     "output_type": "execute_result"
    }
   ],
   "source": [
    "np.cov(x,y)[0,1]"
   ]
  },
  {
   "cell_type": "code",
   "execution_count": 27,
   "id": "22b9b417",
   "metadata": {},
   "outputs": [
    {
     "data": {
      "text/plain": [
       "0.862517279213578"
      ]
     },
     "execution_count": 27,
     "metadata": {},
     "output_type": "execute_result"
    }
   ],
   "source": [
    "np.corrcoef(x,y)[0,1]"
   ]
  },
  {
   "cell_type": "code",
   "execution_count": 29,
   "id": "5d4e97a7",
   "metadata": {},
   "outputs": [
    {
     "data": {
      "text/plain": [
       "0.8625172792135779"
      ]
     },
     "execution_count": 29,
     "metadata": {},
     "output_type": "execute_result"
    }
   ],
   "source": [
    "np.cov(x,y)[0,1] / (np.std(x, ddof=1)*np.std(y, ddof=1) )"
   ]
  },
  {
   "cell_type": "code",
   "execution_count": 30,
   "id": "5d840029",
   "metadata": {},
   "outputs": [],
   "source": [
    "#스피어만 상관계수\n",
    "#서열척도\n",
    "import scipy.stats as ss"
   ]
  },
  {
   "cell_type": "code",
   "execution_count": 32,
   "id": "ea7bb279",
   "metadata": {},
   "outputs": [
    {
     "data": {
      "text/plain": [
       "0.9000703207408192"
      ]
     },
     "execution_count": 32,
     "metadata": {},
     "output_type": "execute_result"
    }
   ],
   "source": [
    "ss.spearmanr(x,y).correlation"
   ]
  },
  {
   "cell_type": "code",
   "execution_count": 34,
   "id": "acf446e2",
   "metadata": {},
   "outputs": [
    {
     "data": {
      "text/plain": [
       "0.8153742483272113"
      ]
     },
     "execution_count": 34,
     "metadata": {},
     "output_type": "execute_result"
    }
   ],
   "source": [
    "#켄달 : 서열척도, 표본이 작은 경우\n",
    "ss.kendalltau(x,y).correlation"
   ]
  },
  {
   "cell_type": "code",
   "execution_count": null,
   "id": "bfc6a9b3",
   "metadata": {},
   "outputs": [],
   "source": []
  }
 ],
 "metadata": {
  "kernelspec": {
   "display_name": "Python 3",
   "language": "python",
   "name": "python3"
  },
  "language_info": {
   "codemirror_mode": {
    "name": "ipython",
    "version": 3
   },
   "file_extension": ".py",
   "mimetype": "text/x-python",
   "name": "python",
   "nbconvert_exporter": "python",
   "pygments_lexer": "ipython3",
   "version": "3.8.8"
  }
 },
 "nbformat": 4,
 "nbformat_minor": 5
}
