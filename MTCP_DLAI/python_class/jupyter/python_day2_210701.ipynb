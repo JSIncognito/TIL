{
 "cells": [
  {
   "cell_type": "code",
   "execution_count": 6,
   "id": "e4738c17",
   "metadata": {},
   "outputs": [
    {
     "name": "stdout",
     "output_type": "stream",
     "text": [
      "15\n"
     ]
    }
   ],
   "source": [
    "#작업 : 1~ 5까지의 합을 구하시오. -> 15, 주석문(설명문)\n",
    "sum=0 #변수(variable)\n",
    "\n",
    "#sum=1+2+3+4+5\n",
    "\n",
    "sum=1\n",
    "sum=sum+2 #연산자 우선순위 \n",
    "sum=sum+3\n",
    "sum=sum+4\n",
    "sum=sum+5 # 15 \n",
    "\n",
    "print(sum)"
   ]
  },
  {
   "cell_type": "code",
   "execution_count": 13,
   "id": "dd552568",
   "metadata": {},
   "outputs": [
    {
     "name": "stdout",
     "output_type": "stream",
     "text": [
      "합계 1\n",
      "합계 3\n",
      "합계 6\n",
      "합계 10\n",
      "합계 15\n",
      "15\n"
     ]
    }
   ],
   "source": [
    "sum = 0\n",
    "for i in range(1, 6): # range(시작값, 끝값(5)+1)\n",
    "    sum += i\n",
    "    print(\"합계\", sum)\n",
    "print(sum)"
   ]
  },
  {
   "cell_type": "code",
   "execution_count": 15,
   "id": "dacc03b8",
   "metadata": {},
   "outputs": [
    {
     "name": "stdout",
     "output_type": "stream",
     "text": [
      "15.0\n",
      "5050.0\n"
     ]
    }
   ],
   "source": [
    "print((5*(5+1)/2))\n",
    "print(100*(100+1)/2)"
   ]
  },
  {
   "cell_type": "code",
   "execution_count": 18,
   "id": "5c3e0af6",
   "metadata": {},
   "outputs": [
    {
     "name": "stdout",
     "output_type": "stream",
     "text": [
      "hello world\n"
     ]
    }
   ],
   "source": [
    "print(\"hello world\")\n",
    "#함수 실행(호출)"
   ]
  },
  {
   "cell_type": "code",
   "execution_count": 20,
   "id": "734c8e1f",
   "metadata": {},
   "outputs": [
    {
     "name": "stdout",
     "output_type": "stream",
     "text": [
      "hello world\n",
      "123\n",
      "hellow world \n",
      " 123\n"
     ]
    }
   ],
   "source": [
    "print(\"hello world\")\n",
    "print(\"123\")\n",
    "\n",
    "print(\"hellow world \\n123\")"
   ]
  },
  {
   "cell_type": "code",
   "execution_count": 23,
   "id": "a733bbd8",
   "metadata": {},
   "outputs": [
    {
     "name": "stdout",
     "output_type": "stream",
     "text": [
      "hello world\n",
      "123\n",
      "123\n"
     ]
    }
   ],
   "source": [
    "print(\"hello world\");print(\"123\");print(\"123\")\n",
    "#세미콜론으로 여러 문장을 구분할 수 있다"
   ]
  },
  {
   "cell_type": "code",
   "execution_count": 30,
   "id": "1e1efb3f",
   "metadata": {},
   "outputs": [
    {
     "name": "stdout",
     "output_type": "stream",
     "text": [
      "1입니다\n",
      "1입니다\n"
     ]
    }
   ],
   "source": [
    "# 파이썬은 들여쓰기가 문법\n",
    "a=1\n",
    "if a==1 :\n",
    "    print(\"1입니다\")\n",
    "    \n",
    "if a==1 : print(\"1입니다\")"
   ]
  },
  {
   "cell_type": "code",
   "execution_count": null,
   "id": "930ae27e",
   "metadata": {},
   "outputs": [],
   "source": []
  },
  {
   "cell_type": "code",
   "execution_count": null,
   "id": "273f37e6",
   "metadata": {},
   "outputs": [],
   "source": []
  },
  {
   "cell_type": "code",
   "execution_count": 32,
   "id": "2fa7aeca",
   "metadata": {},
   "outputs": [
    {
     "name": "stdout",
     "output_type": "stream",
     "text": [
      "a는 자연수 입니다.\n"
     ]
    }
   ],
   "source": [
    "# 파이썬은 들여쓰기가 문법\n",
    "a=10\n",
    "if a>0 : # 만약에 a 가 10 보다 크다면 아래 문장으로 이동 \n",
    "    if a < 3: # 만약에 a 가 3보다 작다면 아래 문장으로 이동\n",
    "        print(\"0 보다 커요\")\n",
    "        print(\"3보다 작습니다.\")\n",
    "    print(\"a는 자연수 입니다.\")\n",
    "if a==1 : print(\"1입니다\")"
   ]
  },
  {
   "cell_type": "code",
   "execution_count": 32,
   "id": "6d8bb560",
   "metadata": {},
   "outputs": [
    {
     "name": "stdout",
     "output_type": "stream",
     "text": [
      "a는 자연수 입니다.\n"
     ]
    }
   ],
   "source": [
    "# 파이썬은 들여쓰기가 문법\n",
    "a=10\n",
    "if a>0 : # 만약에 a 가 10 보다 크다면 아래 문장으로 이동 \n",
    "    if a < 3: # 만약에 a 가 3보다 작다면 아래 문장으로 이동\n",
    "        print(\"0 보다 커요\")\n",
    "        print(\"3보다 작습니다.\")\n",
    "print(\"a는 자연수 입니다.\")\n",
    "    \n",
    "if a==1 : print(\"1입니다\")"
   ]
  },
  {
   "cell_type": "code",
   "execution_count": 33,
   "id": "8722d97b",
   "metadata": {},
   "outputs": [
    {
     "name": "stdout",
     "output_type": "stream",
     "text": [
      "15\n"
     ]
    }
   ],
   "source": [
    "x =0o17 #8진수 17을 의미 0, 1, 2, ....7, 10, 11, ..., 17,20.... \n",
    "print(x) # 10진수로 변환되어 출력 \n",
    "\n",
    "# 8의 1승*1 + 8의 0승 * 7 = 15"
   ]
  },
  {
   "cell_type": "code",
   "execution_count": 34,
   "id": "4c8b287e",
   "metadata": {},
   "outputs": [
    {
     "name": "stdout",
     "output_type": "stream",
     "text": [
      "10\n"
     ]
    }
   ],
   "source": [
    "x=0xA # 16진수 0, 1, 2, 3, .... 9, A, B, C, D, E, F, 10.... 1F, FF .......\n",
    "\n",
    "print(x)"
   ]
  },
  {
   "cell_type": "code",
   "execution_count": 36,
   "id": "784e54ed",
   "metadata": {},
   "outputs": [
    {
     "name": "stdout",
     "output_type": "stream",
     "text": [
      "6\n"
     ]
    }
   ],
   "source": [
    "print(4+2)"
   ]
  },
  {
   "cell_type": "code",
   "execution_count": 38,
   "id": "20f83274",
   "metadata": {
    "scrolled": true
   },
   "outputs": [
    {
     "data": {
      "text/plain": [
       "2"
      ]
     },
     "execution_count": 38,
     "metadata": {},
     "output_type": "execute_result"
    }
   ],
   "source": [
    "4+2\n",
    "4-2 # 가장 마지막에 연산의 결과만 화면출력, 특징"
   ]
  },
  {
   "cell_type": "code",
   "execution_count": 39,
   "id": "353e97f2",
   "metadata": {
    "scrolled": true
   },
   "outputs": [
    {
     "name": "stdout",
     "output_type": "stream",
     "text": [
      "6\n",
      "2\n"
     ]
    }
   ],
   "source": [
    "# 하나의 셀 안에서 모든 라인의 결과를 출력하고 싶을때는 print 함수로 묶어줄 것.\n",
    "\n",
    "print(4+2)\n",
    "print(4-2) # 가장 마지막에 연산의 결과만 화면출력, 특징"
   ]
  },
  {
   "cell_type": "code",
   "execution_count": 42,
   "id": "9ee7c85b",
   "metadata": {},
   "outputs": [
    {
     "name": "stdout",
     "output_type": "stream",
     "text": [
      "6\n",
      "2\n",
      "2.5\n"
     ]
    }
   ],
   "source": [
    "print(4+2)\n",
    "print(4-2)\n",
    "\n",
    "print(5/2) # 파이썬 3.x 대 버전에서는 실수형(2.5)\n",
    "# 파이썬은 2.x 대 버전에서는 실수형(2.5)\n"
   ]
  },
  {
   "cell_type": "code",
   "execution_count": 43,
   "id": "0b134532",
   "metadata": {},
   "outputs": [
    {
     "data": {
      "text/plain": [
       "2"
      ]
     },
     "execution_count": 43,
     "metadata": {},
     "output_type": "execute_result"
    }
   ],
   "source": [
    "5//2"
   ]
  },
  {
   "cell_type": "markdown",
   "id": "760bebfc",
   "metadata": {},
   "source": [
    "5.5"
   ]
  },
  {
   "cell_type": "code",
   "execution_count": 44,
   "id": "0c618019",
   "metadata": {},
   "outputs": [
    {
     "data": {
      "text/plain": [
       "0.0"
      ]
     },
     "execution_count": 44,
     "metadata": {},
     "output_type": "execute_result"
    }
   ],
   "source": [
    "5.5//12"
   ]
  },
  {
   "cell_type": "code",
   "execution_count": 45,
   "id": "afc9a30b",
   "metadata": {},
   "outputs": [
    {
     "data": {
      "text/plain": [
       "0"
      ]
     },
     "execution_count": 45,
     "metadata": {},
     "output_type": "execute_result"
    }
   ],
   "source": [
    "4//20"
   ]
  },
  {
   "cell_type": "code",
   "execution_count": 46,
   "id": "53b9a933",
   "metadata": {},
   "outputs": [
    {
     "data": {
      "text/plain": [
       "10141204801825835211973625643008"
      ]
     },
     "execution_count": 46,
     "metadata": {},
     "output_type": "execute_result"
    }
   ],
   "source": [
    "# 거듭제곱\n",
    "2**3 # ==> \n",
    "\n",
    "\n",
    "# 거듭제곱\n",
    "2**100 # ==> \n"
   ]
  },
  {
   "cell_type": "code",
   "execution_count": null,
   "id": "72a0208d",
   "metadata": {},
   "outputs": [],
   "source": [
    "\n",
    "print(5/3) "
   ]
  },
  {
   "cell_type": "code",
   "execution_count": null,
   "id": "63dab7f5",
   "metadata": {},
   "outputs": [],
   "source": [
    "5//2.0 # 실수데이터 \n",
    "\n",
    "\n",
    "\n"
   ]
  },
  {
   "cell_type": "code",
   "execution_count": null,
   "id": "70cf5ffa",
   "metadata": {},
   "outputs": [],
   "source": [
    "print(5/3) # 뭣\n",
    "print(5%3) "
   ]
  },
  {
   "cell_type": "code",
   "execution_count": 49,
   "id": "fc96ef65",
   "metadata": {},
   "outputs": [
    {
     "name": "stdout",
     "output_type": "stream",
     "text": [
      "2\n",
      "5\n",
      "5.5\n"
     ]
    }
   ],
   "source": [
    "\n",
    "print(int(5//2.2))\n",
    "\n",
    "print('5')\n",
    "print(5.5)\n",
    "\n"
   ]
  },
  {
   "cell_type": "code",
   "execution_count": 67,
   "id": "aec8b9eb",
   "metadata": {},
   "outputs": [
    {
     "name": "stdout",
     "output_type": "stream",
     "text": [
      "5\n",
      "51\n",
      "3\n",
      "5\n",
      "10.1\n"
     ]
    }
   ],
   "source": [
    "print('5')\n",
    "# print('5' + 1)\n",
    "\n",
    "print('5' + '1')\n",
    "print(int(3.14))\n",
    "print(int(\"5\")) # 숫자 점수로 문자를 숫자로 변환\n",
    "print : int(3.14)    \n",
    "# print(int(\"5.7\"))    \n",
    "print(float(\"5.1\")+5) # 숫자(실수) 로된 문자를 숫자로\n"
   ]
  },
  {
   "cell_type": "code",
   "execution_count": 72,
   "id": "5c66c56d",
   "metadata": {},
   "outputs": [
    {
     "name": "stdout",
     "output_type": "stream",
     "text": [
      "1 2\n"
     ]
    }
   ],
   "source": [
    "# //, %\n",
    "\n",
    "divmod(5, 3) # 몫과 나머지 구하는 함수 \n",
    "#5를 3으로 나눈 몫과 나너미지\n",
    "\n",
    "# 함수명() : 함수\n",
    "#(,) : 튜플(자료형 중의 하나)\n",
    "\n",
    "m,n=divmod(5,3)\n"
   ]
  },
  {
   "cell_type": "code",
   "execution_count": 74,
   "id": "e5e65c9e",
   "metadata": {},
   "outputs": [
    {
     "name": "stdout",
     "output_type": "stream",
     "text": [
      "1\n",
      "2\n"
     ]
    }
   ],
   "source": [
    "print(m)\n",
    "print(n)"
   ]
  },
  {
   "cell_type": "code",
   "execution_count": 82,
   "id": "52fca8bd",
   "metadata": {},
   "outputs": [
    {
     "name": "stdout",
     "output_type": "stream",
     "text": [
      "(1, 2)\n",
      "1\n",
      "2\n"
     ]
    },
    {
     "ename": "IndexError",
     "evalue": "tuple index out of range",
     "output_type": "error",
     "traceback": [
      "\u001b[1;31m---------------------------------------------------------------------------\u001b[0m",
      "\u001b[1;31mIndexError\u001b[0m                                Traceback (most recent call last)",
      "\u001b[1;32m<ipython-input-82-101d6d088b52>\u001b[0m in \u001b[0;36m<module>\u001b[1;34m\u001b[0m\n\u001b[0;32m      3\u001b[0m \u001b[0mprint\u001b[0m\u001b[1;33m(\u001b[0m\u001b[0mres\u001b[0m\u001b[1;33m[\u001b[0m\u001b[1;36m0\u001b[0m\u001b[1;33m]\u001b[0m\u001b[1;33m)\u001b[0m\u001b[1;33m\u001b[0m\u001b[1;33m\u001b[0m\u001b[0m\n\u001b[0;32m      4\u001b[0m \u001b[0mprint\u001b[0m\u001b[1;33m(\u001b[0m\u001b[0mres\u001b[0m\u001b[1;33m[\u001b[0m\u001b[1;36m1\u001b[0m\u001b[1;33m]\u001b[0m\u001b[1;33m)\u001b[0m\u001b[1;33m\u001b[0m\u001b[1;33m\u001b[0m\u001b[0m\n\u001b[1;32m----> 5\u001b[1;33m \u001b[0mprint\u001b[0m\u001b[1;33m(\u001b[0m\u001b[0mres\u001b[0m\u001b[1;33m[\u001b[0m\u001b[1;36m2\u001b[0m\u001b[1;33m]\u001b[0m\u001b[1;33m)\u001b[0m\u001b[1;33m\u001b[0m\u001b[1;33m\u001b[0m\u001b[0m\n\u001b[0m",
      "\u001b[1;31mIndexError\u001b[0m: tuple index out of range"
     ]
    }
   ],
   "source": [
    "res=divmod(5, 3)\n",
    "print(res)\n",
    "print(res[0])\n",
    "print(res[1])\n",
    "print(res[2])"
   ]
  },
  {
   "cell_type": "code",
   "execution_count": 86,
   "id": "77e867fa",
   "metadata": {},
   "outputs": [
    {
     "name": "stdout",
     "output_type": "stream",
     "text": [
      "<class 'int'>\n",
      "<class 'float'>\n"
     ]
    }
   ],
   "source": [
    "print(type(5))\n",
    "# 3.14\n",
    "print(type(5.1))"
   ]
  },
  {
   "cell_type": "code",
   "execution_count": 88,
   "id": "fabc58fe",
   "metadata": {},
   "outputs": [
    {
     "data": {
      "text/plain": [
       "4.0"
      ]
     },
     "execution_count": 88,
     "metadata": {},
     "output_type": "execute_result"
    }
   ],
   "source": [
    "float(5) # 강제로 실수형으로 변경\n",
    "type(float(5))\n",
    "float(1+3)\n",
    "float('3.14')\n",
    "#type('3.14') #문자형 "
   ]
  },
  {
   "cell_type": "code",
   "execution_count": 89,
   "id": "feff259f",
   "metadata": {},
   "outputs": [
    {
     "data": {
      "text/plain": [
       "9"
      ]
     },
     "execution_count": 89,
     "metadata": {},
     "output_type": "execute_result"
    }
   ],
   "source": [
    "(1+2)*3\n",
    "# 연산자 우선순위가 헷갈리면? 괄호로 묶어라 "
   ]
  },
  {
   "cell_type": "code",
   "execution_count": 90,
   "id": "1d29d4bc",
   "metadata": {},
   "outputs": [
    {
     "data": {
      "text/plain": [
       "2"
      ]
     },
     "execution_count": 90,
     "metadata": {},
     "output_type": "execute_result"
    }
   ],
   "source": [
    "5//3\n",
    "5%3"
   ]
  },
  {
   "cell_type": "code",
   "execution_count": 92,
   "id": "17ccf8f6",
   "metadata": {},
   "outputs": [
    {
     "name": "stdout",
     "output_type": "stream",
     "text": [
      "3\n"
     ]
    }
   ],
   "source": [
    "x, y, z= 1, 2, 3\n",
    "print(z)"
   ]
  },
  {
   "cell_type": "code",
   "execution_count": 95,
   "id": "20f777ac",
   "metadata": {},
   "outputs": [
    {
     "name": "stdout",
     "output_type": "stream",
     "text": [
      "1 1\n"
     ]
    },
    {
     "data": {
      "text/plain": [
       "int"
      ]
     },
     "execution_count": 95,
     "metadata": {},
     "output_type": "execute_result"
    }
   ],
   "source": [
    "a=b=1\n",
    "print(a, b)\n",
    "type(a)"
   ]
  },
  {
   "cell_type": "code",
   "execution_count": 1,
   "id": "65333445",
   "metadata": {},
   "outputs": [],
   "source": [
    "# 변수 값 교환\n",
    "x=2 \n",
    "y=3 \n"
   ]
  },
  {
   "cell_type": "code",
   "execution_count": 2,
   "id": "85ac7b70",
   "metadata": {},
   "outputs": [
    {
     "name": "stdout",
     "output_type": "stream",
     "text": [
      "3\n",
      "2\n"
     ]
    }
   ],
   "source": [
    "#z=x\n",
    "#print(z)\n",
    "\n",
    "# x=y\n",
    "# y=z\n",
    "x,y = y,x\n",
    "\n",
    "print(x) #3\n",
    "print(y) #2"
   ]
  },
  {
   "cell_type": "code",
   "execution_count": 4,
   "id": "bd1833aa",
   "metadata": {},
   "outputs": [],
   "source": [
    "del x # 메모리에서 x에 할당된 값을 삭제 시킴"
   ]
  },
  {
   "cell_type": "code",
   "execution_count": 5,
   "id": "a25d3fa7",
   "metadata": {},
   "outputs": [
    {
     "ename": "NameError",
     "evalue": "name 'x' is not defined",
     "output_type": "error",
     "traceback": [
      "\u001b[1;31m---------------------------------------------------------------------------\u001b[0m",
      "\u001b[1;31mNameError\u001b[0m                                 Traceback (most recent call last)",
      "\u001b[1;32m<ipython-input-5-fc17d851ef81>\u001b[0m in \u001b[0;36m<module>\u001b[1;34m\u001b[0m\n\u001b[1;32m----> 1\u001b[1;33m \u001b[0mprint\u001b[0m\u001b[1;33m(\u001b[0m\u001b[0mx\u001b[0m\u001b[1;33m)\u001b[0m\u001b[1;33m\u001b[0m\u001b[1;33m\u001b[0m\u001b[0m\n\u001b[0m",
      "\u001b[1;31mNameError\u001b[0m: name 'x' is not defined"
     ]
    }
   ],
   "source": [
    "print(x)"
   ]
  },
  {
   "cell_type": "code",
   "execution_count": null,
   "id": "9e8fad76",
   "metadata": {},
   "outputs": [],
   "source": [
    "a=3 "
   ]
  },
  {
   "cell_type": "code",
   "execution_count": null,
   "id": "9f55020b",
   "metadata": {},
   "outputs": [],
   "source": [
    "print(a)"
   ]
  },
  {
   "cell_type": "code",
   "execution_count": null,
   "id": "2a6fe8f0",
   "metadata": {},
   "outputs": [],
   "source": [
    "b=None #값이 없음을 의미, 다른 언어에서는 Null 로 표기\n",
    "#None : 값이 들어가 있지 않은 변수를 선언 "
   ]
  },
  {
   "cell_type": "code",
   "execution_count": 9,
   "id": "1d7b8e54",
   "metadata": {},
   "outputs": [
    {
     "name": "stdout",
     "output_type": "stream",
     "text": [
      "-3\n",
      "-3\n"
     ]
    }
   ],
   "source": [
    "a=3\n",
    "#a=a+1, a=a-1\n",
    "#a+=1, a-=1\n",
    "\n",
    "#축약형이 존재 \n",
    "\n",
    "#a=a+1 a+=1 같음\n",
    "# 연산하는게 한번으로 이뤄지기 때문에 사용되어짐 \n",
    "\n",
    "x=-3\n",
    "print(x)\n",
    "print(+x)"
   ]
  },
  {
   "cell_type": "code",
   "execution_count": null,
   "id": "2afadf06",
   "metadata": {},
   "outputs": [],
   "source": [
    "#변수 입력 \n",
    "#x=3 \n",
    "\n",
    "input() # 입력 할 수 있는 창이 출력 됨"
   ]
  },
  {
   "cell_type": "code",
   "execution_count": null,
   "id": "63a505bb",
   "metadata": {},
   "outputs": [],
   "source": []
  },
  {
   "cell_type": "code",
   "execution_count": 15,
   "id": "7d967ec4",
   "metadata": {
    "scrolled": true
   },
   "outputs": [
    {
     "name": "stdout",
     "output_type": "stream",
     "text": [
      "숫자를 입력한 후 엔터를 치세요. : 5\n",
      "두번째 숫자를 입력한 후 엔터를 치세요 : 3\n"
     ]
    }
   ],
   "source": [
    "i=input(\"숫자를 입력한 후 엔터를 치세요. : \")\n",
    "j=input(\"두번째 숫자를 입력한 후 엔터를 치세요 : \")"
   ]
  },
  {
   "cell_type": "code",
   "execution_count": 24,
   "id": "5c982081",
   "metadata": {},
   "outputs": [
    {
     "name": "stdout",
     "output_type": "stream",
     "text": [
      "5\n",
      "3\n",
      "8\n",
      "53\n"
     ]
    }
   ],
   "source": [
    "print(int(i))\n",
    "print(int(j))\n",
    "print(int(i)+int(j)) # '5'\n",
    "\n",
    "# print(i+j) # '5'"
   ]
  },
  {
   "cell_type": "code",
   "execution_count": 35,
   "id": "7199a941",
   "metadata": {},
   "outputs": [
    {
     "name": "stdout",
     "output_type": "stream",
     "text": [
      "단어를 2개 입력: happyday\n",
      "happyday\n",
      "\n",
      "appyday\n"
     ]
    }
   ],
   "source": [
    "x=input(\"단어를 2개 입력: \") #x=\"hi hello\"\n",
    "a, b=x.split(\"h\") #문자열을 공백으로 분리\n",
    "#문자열에 대해 어떤 연산을 수행하고자 하는 경우에는\n",
    "#문자열.함수이름()\n",
    "\n",
    "print(x)\n",
    "\n",
    "print(a)\n",
    "print(b)"
   ]
  },
  {
   "cell_type": "code",
   "execution_count": 41,
   "id": "9e9a584d",
   "metadata": {
    "scrolled": true
   },
   "outputs": [
    {
     "name": "stdout",
     "output_type": "stream",
     "text": [
      "단어를 2개 입력: habhabhab\n",
      "['h', 'h', 'h', '']\n"
     ]
    }
   ],
   "source": [
    "x=input(\"단어를 2개 입력: \") #x=\"hi hello\"\n",
    "res=x.split(\"ab\") #문자열을 공백으로 분리\n",
    "#문자열에 대해 어떤 연산을 수행하고자 하는 경우에는\n",
    "#문자열.함수이름()\n",
    "# print(x)\n",
    "\n",
    "print(res)\n",
    "# print(b)\n",
    "\n"
   ]
  },
  {
   "cell_type": "code",
   "execution_count": 42,
   "id": "e09fcad1",
   "metadata": {},
   "outputs": [],
   "source": [
    "# 문자열L\n",
    "xl = \"\"\"LIfp\n",
    "\"hello\"\n",
    "'hello'\n",
    "\"hi\"\n",
    "'hello'\n",
    "\"\"\"  "
   ]
  },
  {
   "cell_type": "code",
   "execution_count": null,
   "id": "36d4fc8e",
   "metadata": {},
   "outputs": [],
   "source": [
    "x= \"\"LIfe\n",
    "Life \n",
    "is \n",
    "too \n",
    "111w"
   ]
  },
  {
   "cell_type": "code",
   "execution_count": null,
   "id": "98df27a8",
   "metadata": {},
   "outputs": [],
   "source": []
  },
  {
   "cell_type": "code",
   "execution_count": 43,
   "id": "31609389",
   "metadata": {},
   "outputs": [
    {
     "ename": "SyntaxError",
     "evalue": "invalid syntax (<ipython-input-43-1dd6cfb39730>, line 1)",
     "output_type": "error",
     "traceback": [
      "\u001b[1;36m  File \u001b[1;32m\"<ipython-input-43-1dd6cfb39730>\"\u001b[1;36m, line \u001b[1;32m1\u001b[0m\n\u001b[1;33m    x = 'Python's'\u001b[0m\n\u001b[1;37m                ^\u001b[0m\n\u001b[1;31mSyntaxError\u001b[0m\u001b[1;31m:\u001b[0m invalid syntax\n"
     ]
    }
   ],
   "source": [
    "x = 'Python's'\n",
    "print(x)"
   ]
  },
  {
   "cell_type": "code",
   "execution_count": 44,
   "id": "4a5526be",
   "metadata": {},
   "outputs": [
    {
     "name": "stdout",
     "output_type": "stream",
     "text": [
      "\"Python is easy.\" he says\n"
     ]
    }
   ],
   "source": [
    "he='\"Python is easy.\" he says'\n",
    "print(he)"
   ]
  },
  {
   "cell_type": "code",
   "execution_count": 46,
   "id": "6f7f13dc",
   "metadata": {},
   "outputs": [
    {
     "name": "stdout",
     "output_type": "stream",
     "text": [
      "Life\n",
      " is too \n",
      "short\n"
     ]
    }
   ],
   "source": [
    "s=\"Life\\n is too \\nshort\"\n",
    "print(s)"
   ]
  },
  {
   "cell_type": "code",
   "execution_count": 49,
   "id": "a72e3c7b",
   "metadata": {},
   "outputs": [
    {
     "name": "stdout",
     "output_type": "stream",
     "text": [
      "--------------------------------------------------\n",
      "lifelifelifelifelife\n",
      "----------------------------------------------------------------------------------------------------\n",
      "gggggggggggggggggggggggggggggggggggggggggggggggggggggggggggggggggggggggggggggggggggggggggggggggggggg\n"
     ]
    }
   ],
   "source": [
    "s=\"life\"\n",
    "print(\"-\"*50)\n",
    "print(s*5)\n",
    "print(\"-\"*100)\n",
    "print(\"g\"*100)"
   ]
  },
  {
   "cell_type": "code",
   "execution_count": 54,
   "id": "7d3073bf",
   "metadata": {},
   "outputs": [
    {
     "name": "stdout",
     "output_type": "stream",
     "text": [
      "4\n"
     ]
    },
    {
     "data": {
      "text/plain": [
       "'l'"
      ]
     },
     "execution_count": 54,
     "metadata": {},
     "output_type": "execute_result"
    }
   ],
   "source": [
    "s=\"life\"\n",
    "print(len(s))\n",
    "s[2]\n",
    "s[-1]\n",
    "s[0]"
   ]
  },
  {
   "cell_type": "code",
   "execution_count": 61,
   "id": "fb24a6e0",
   "metadata": {},
   "outputs": [
    {
     "name": "stdout",
     "output_type": "stream",
     "text": [
      "i\n",
      "is too short\n",
      "Life\n",
      "Life is too short\n",
      "is too sh\n"
     ]
    }
   ],
   "source": [
    "# 문자열 추출 범위 콜론 사용 []\n",
    "s=\"Life is too short\"\n",
    "print(s[5])\n",
    "print(s[5:]) #5번 index ~ 마지막 까지\n",
    "print(s[:4]) #맨 앞에서부터 3-1번 index 까지 추출 \n",
    "\n",
    "print(s[:])\n",
    "print(s[5:-3])"
   ]
  },
  {
   "cell_type": "code",
   "execution_count": 71,
   "id": "bcbfde71",
   "metadata": {},
   "outputs": [
    {
     "data": {
      "text/plain": [
       "'science'"
      ]
     },
     "execution_count": 71,
     "metadata": {},
     "output_type": "execute_result"
    }
   ],
   "source": [
    "s=\"saience\" #a -> c\n",
    "# s[1]='c'\n",
    "\n",
    "s[:1]+'c'+s[2:]"
   ]
  },
  {
   "cell_type": "code",
   "execution_count": null,
   "id": "5f165776",
   "metadata": {},
   "outputs": [],
   "source": []
  }
 ],
 "metadata": {
  "kernelspec": {
   "display_name": "Python 3",
   "language": "python",
   "name": "python3"
  },
  "language_info": {
   "codemirror_mode": {
    "name": "ipython",
    "version": 3
   },
   "file_extension": ".py",
   "mimetype": "text/x-python",
   "name": "python",
   "nbconvert_exporter": "python",
   "pygments_lexer": "ipython3",
   "version": "3.8.8"
  }
 },
 "nbformat": 4,
 "nbformat_minor": 5
}
