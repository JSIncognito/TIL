{
 "cells": [
  {
   "cell_type": "code",
   "execution_count": 1,
   "id": "0a3bf1bb",
   "metadata": {},
   "outputs": [],
   "source": [
    "# class 생성 및 사용 (객체 특성, 메소드)"
   ]
  },
  {
   "cell_type": "code",
   "execution_count": 2,
   "id": "a39be31b",
   "metadata": {},
   "outputs": [],
   "source": [
    "# 클래스로부터 객체는 생성됨 \n",
    "# ex) 게임 케릭터 \n",
    "# 인간 클래스 - 캐릭터 생성 (아이디 : 홍길동, 객체)\n",
    "# 속성 (특성) : \n",
    "#               눈, 코, ....(사람)\n",
    "#               체력, 마나, 공격력, 방어력,.... (게임 케릭터)\n",
    "# 메서드 (동작, 함수) : 먹는다, 달린다, 걷는다, 말한다, 잔다, 생각한다\n",
    "# 벤다, 무찌른다, 마법을 사용한다, 스킬을 구한다 \n",
    "# 객체지향프로그래밍 : 해결하려는 문제를 잘게 나누어서 객체를 생성\n",
    "# 객체 간의 통신을 통해 주어진 문제를 해결 (게임을 제작)\n",
    "# ex) 게임 -> 잘게 나누면 -> 캐릭터, NPC, 몬스터, 아이템\n",
    "\n",
    "\n",
    "\n"
   ]
  },
  {
   "cell_type": "code",
   "execution_count": null,
   "id": "96411ed2",
   "metadata": {},
   "outputs": [],
   "source": [
    "\n",
    "\n",
    "\n"
   ]
  },
  {
   "cell_type": "code",
   "execution_count": null,
   "id": "676b3c04",
   "metadata": {},
   "outputs": [],
   "source": []
  },
  {
   "cell_type": "code",
   "execution_count": null,
   "id": "42812359",
   "metadata": {},
   "outputs": [],
   "source": []
  },
  {
   "cell_type": "code",
   "execution_count": 4,
   "id": "532a2ba4",
   "metadata": {},
   "outputs": [
    {
     "data": {
      "text/plain": [
       "'850717-********'"
      ]
     },
     "execution_count": 4,
     "metadata": {},
     "output_type": "execute_result"
    }
   ],
   "source": [
    "data = \"850717-123456789\"\n",
    "data[7:]\n",
    "data[:6]+ \"-\" + \"********\""
   ]
  },
  {
   "cell_type": "code",
   "execution_count": null,
   "id": "c4624da6",
   "metadata": {},
   "outputs": [],
   "source": [
    "# 정규표현식은 문자열의 패턴(규칙)에 대한 표현식을 작성"
   ]
  },
  {
   "cell_type": "code",
   "execution_count": 6,
   "id": "87e4c217",
   "metadata": {},
   "outputs": [
    {
     "data": {
      "text/plain": [
       "'850101-*******'"
      ]
     },
     "execution_count": 6,
     "metadata": {},
     "output_type": "execute_result"
    }
   ],
   "source": [
    "import re\n",
    "data = \"850101-1234567\"\n",
    "pat = re.compile(\"(\\d{6})-\\d{7}\")\n",
    "pat.sub(\"\\g<1>-*******\", data)"
   ]
  },
  {
   "cell_type": "code",
   "execution_count": 11,
   "id": "e34a4ef3",
   "metadata": {},
   "outputs": [],
   "source": [
    "# re.match(\"패턴\",\"문자열\") # 문자열에 패턴이 있는지 확인\n",
    "\n",
    "re.match(\"hi\", \"hi hello world\") # hi hello world 에 \"hi\"이 있는지 판단\n",
    "# 패턴이 문자열에 있는 경우에는 매치된 패턴과 위치가 출력 \n",
    "\n",
    "# match함수는 문자열의 최자측부터 시작하여 패턴이 있는지 확인 \n",
    "# 처음부터 패턴이 문자열에 없다면 종료\n",
    "re.match(\"hello\", \"hi hello world\") # \"hi hello world\" 에 \"hello\" 패턴이 ㅣㅇ리"
   ]
  },
  {
   "cell_type": "code",
   "execution_count": 12,
   "id": "08c826b8",
   "metadata": {},
   "outputs": [
    {
     "data": {
      "text/plain": [
       "<re.Match object; span=(0, 5), match='hello'>"
      ]
     },
     "execution_count": 12,
     "metadata": {},
     "output_type": "execute_result"
    }
   ],
   "source": [
    "# 패턴이 문자열에 없다면 곧바로 종료 하고 \n",
    "# 패턴이 문자열에 있다면 매치된 문자열이 출력\n",
    "re.match(\"hello\", \"hello world\")"
   ]
  },
  {
   "cell_type": "code",
   "execution_count": 20,
   "id": "98dc2f07",
   "metadata": {},
   "outputs": [
    {
     "name": "stdout",
     "output_type": "stream",
     "text": [
      "None\n",
      "None\n",
      "<re.Match object; span=(0, 5), match='hello'>\n",
      "None\n"
     ]
    }
   ],
   "source": [
    "# re.amtch(\"패턴\",\"문자열\")\n",
    "print(re.match(\"hello\", \"hehllo world\"))\n",
    "print(re.match(\"hello\", \"1hello world\"))\n",
    "print(re.match(\"hello\", \"hello world\"))\n",
    "\n",
    "print(re.match(\"hello!\", \"hellohello! world\"))"
   ]
  },
  {
   "cell_type": "code",
   "execution_count": 22,
   "id": "ed848667",
   "metadata": {},
   "outputs": [
    {
     "ename": "SyntaxError",
     "evalue": "invalid syntax (<ipython-input-22-6855104e4f56>, line 5)",
     "output_type": "error",
     "traceback": [
      "\u001b[1;36m  File \u001b[1;32m\"<ipython-input-22-6855104e4f56>\"\u001b[1;36m, line \u001b[1;32m5\u001b[0m\n\u001b[1;33m    사용되는 특별한 의미의 문자(기호)\u001b[0m\n\u001b[1;37m         ^\u001b[0m\n\u001b[1;31mSyntaxError\u001b[0m\u001b[1;31m:\u001b[0m invalid syntax\n"
     ]
    }
   ],
   "source": [
    "# 정규표현식 메타문자()\n",
    "\n",
    "# 메타 : 데이터를 표현(설명) 하는 데이터 \n",
    "# 메타 문자 : 기호가 갖는 고유의 의미가 아닌, 정규표현식에서 식을 정의하는데 \n",
    "# 사용되는 특별한 의미의 문자(기호)\n",
    "# 메타 문자 종류 : () [] {} \\ | ? + * ^ $ ...\n",
    "\n",
    "# 메타버스? Meta - verse\n",
    "# \n"
   ]
  },
  {
   "cell_type": "code",
   "execution_count": null,
   "id": "83243f34",
   "metadata": {},
   "outputs": [],
   "source": [
    "\"\"\"\n",
    "#1. []:모든 문자가 대괄호 안에 올 수 있음 \n",
    "ex) [abcde] : a, b, c, d, e 중에서 한 개의 문자와 매치 \n",
    "\n",
    "\n",
    "\"\"\"\n"
   ]
  },
  {
   "cell_type": "code",
   "execution_count": 32,
   "id": "97c44f15",
   "metadata": {},
   "outputs": [
    {
     "name": "stdout",
     "output_type": "stream",
     "text": [
      "<re.Match object; span=(0, 1), match='a'>\n",
      "<re.Match object; span=(0, 1), match='e'>\n",
      "<re.Match object; span=(0, 1), match='a'>\n",
      "<re.Match object; span=(0, 1), match='a'>\n",
      "<re.Match object; span=(0, 6), match='abdcee'>\n",
      "None\n"
     ]
    }
   ],
   "source": [
    "print(re.match(\"[abcde]\", \"a\"))\n",
    "print(re.match(\"[abcde]\", \"e\"))\n",
    "print(re.match(\"[abcde]\", \"ab\"))\n",
    "print(re.match(\"[abcde]\", \"abcd\"))\n",
    "print(re.match(\"[abcde]+\", \"abdceefc abdceefc\")) # +는 한 문자 이상과 매치되는지 검사\n",
    "\n",
    "print(re.match(\"[decab]+\", \"xabfcd\"))"
   ]
  },
  {
   "cell_type": "code",
   "execution_count": 39,
   "id": "dfb4d2ec",
   "metadata": {},
   "outputs": [
    {
     "name": "stdout",
     "output_type": "stream",
     "text": [
      "<re.Match object; span=(0, 2), match='al'>\n",
      "<re.Match object; span=(0, 3), match='120'>\n",
      "<re.Match object; span=(0, 6), match='120456'>\n",
      "<re.Match object; span=(0, 5), match='HELLO'>\n",
      "<re.Match object; span=(0, 14), match='HELLO 123World'>\n"
     ]
    },
    {
     "data": {
      "text/plain": [
       "14"
      ]
     },
     "execution_count": 39,
     "metadata": {},
     "output_type": "execute_result"
    }
   ],
   "source": [
    "# 영문자 소문자만 오면 모두 매치 \n",
    "print(re.match(\"[a-z]+\", \"al7l\"))\n",
    "print(re.match(\"[10842]+\", \"120\"))\n",
    "print(re.match(\"[0-9]+\", \"120456\"))\n",
    "\n",
    "print(re.match(\"[A-Z]+\", \"HELLO World\"))\n",
    "print(re.match(\"[A-Z 0-9a-z]+\", \"HELLO 123World\"))\n",
    "len(\"HELLO 123World\")"
   ]
  },
  {
   "cell_type": "code",
   "execution_count": 41,
   "id": "beb08aca",
   "metadata": {},
   "outputs": [
    {
     "name": "stdout",
     "output_type": "stream",
     "text": [
      "<re.Match object; span=(0, 1), match='가'>\n",
      "<re.Match object; span=(0, 6), match='가나다가나다'>\n",
      "<re.Match object; span=(0, 6), match='가나다가나다'>\n",
      "<re.Match object; span=(0, 6), match='가나다가나다'>\n",
      "<re.Match object; span=(0, 8), match='가나다가나다라가'>\n"
     ]
    }
   ],
   "source": [
    "print(re.match(\"[가나다]\", \"가나다가나다라가\"))\n",
    "print(re.match(\"[가나다]+\", \"가나다가나다라가\"))\n",
    "print(re.match(\"[리가나다]+\", \"가나다가나다라가\"))\n",
    "print(re.match(\"[카리가나다]+\", \"가나다가나다라가\"))\n",
    "print(re.match(\"[가-힣]+\", \"가나다가나다라가\"))"
   ]
  },
  {
   "cell_type": "code",
   "execution_count": 45,
   "id": "5808b37d",
   "metadata": {},
   "outputs": [
    {
     "name": "stdout",
     "output_type": "stream",
     "text": [
      "<re.Match object; span=(0, 15), match='!@#$%$^%!abdcdf'>\n",
      "<re.Match object; span=(0, 9), match='!@#$%$^%!'>\n"
     ]
    }
   ],
   "source": [
    "print(re.match(\"[^0-9]+\", \"!@#$%$^%!abdcdf\"))\n",
    "print(re.match(\"[^0-9ㄱ-힣a-z A-Z]+\", \"!@#$%$^%!abdcdf\"))\n",
    "\n",
    "\n"
   ]
  },
  {
   "cell_type": "code",
   "execution_count": 47,
   "id": "90911a61",
   "metadata": {},
   "outputs": [
    {
     "ename": "SyntaxError",
     "evalue": "unexpected character after line continuation character (<ipython-input-47-4a9881f43d29>, line 4)",
     "output_type": "error",
     "traceback": [
      "\u001b[1;36m  File \u001b[1;32m\"<ipython-input-47-4a9881f43d29>\"\u001b[1;36m, line \u001b[1;32m4\u001b[0m\n\u001b[1;33m    [0-9] == \\d\u001b[0m\n\u001b[1;37m               ^\u001b[0m\n\u001b[1;31mSyntaxError\u001b[0m\u001b[1;31m:\u001b[0m unexpected character after line continuation character\n"
     ]
    }
   ],
   "source": [
    "[a-z]\n",
    "[A-Z]\n",
    "[a-zA-Z]\n",
    "[0-9] == \\d\n",
    "[^0-9] == \\D 숫자를 제외한 모든 문자\n",
    "[0-9A-Za-z] = \\w\n",
    "[^0-9A-Za-z] = \\W\n",
    "[ \\t\\n\\r] == \\s\n",
    "[^ \\t\\n\\r] == \\S\n"
   ]
  },
  {
   "cell_type": "code",
   "execution_count": null,
   "id": "8877c022",
   "metadata": {},
   "outputs": [],
   "source": [
    "print(re.search(\"hello\", \"hello world\"))\n",
    "print(re.search(\"[hello]+\", \"hello world\"))"
   ]
  },
  {
   "cell_type": "code",
   "execution_count": 48,
   "id": "c9c7d1c1",
   "metadata": {},
   "outputs": [
    {
     "ename": "SyntaxError",
     "evalue": "unexpected EOF while parsing (<ipython-input-48-b26e68d9d45b>, line 5)",
     "output_type": "error",
     "traceback": [
      "\u001b[1;36m  File \u001b[1;32m\"<ipython-input-48-b26e68d9d45b>\"\u001b[1;36m, line \u001b[1;32m5\u001b[0m\n\u001b[1;33m    \u001b[0m\n\u001b[1;37m    ^\u001b[0m\n\u001b[1;31mSyntaxError\u001b[0m\u001b[1;31m:\u001b[0m unexpected EOF while parsing\n"
     ]
    }
   ],
   "source": [
    "x=None\n",
    "if x:\n",
    "    print(\"None 이 아님\")\n",
    "else:\n",
    "    "
   ]
  },
  {
   "cell_type": "code",
   "execution_count": 49,
   "id": "b90ba6a4",
   "metadata": {},
   "outputs": [
    {
     "name": "stdout",
     "output_type": "stream",
     "text": [
      "문자열이 패턴식에 매치가 됐습니다.\n"
     ]
    }
   ],
   "source": [
    "res = re.match(\"[0-9]\", \"12a3b\")\n",
    "if res:\n",
    "    print(\"문자열이 패턴식에 매치가 됐습니다.\")\n",
    "else:\n",
    "    print(\"매치 되지 않았습니다.\")"
   ]
  },
  {
   "cell_type": "code",
   "execution_count": 50,
   "id": "8da0c9e4",
   "metadata": {},
   "outputs": [
    {
     "name": "stdout",
     "output_type": "stream",
     "text": [
      "None\n"
     ]
    }
   ],
   "source": [
    "res = re.match(\"[0-9]\", \"12a3b\")\n",
    "print(re.match(\"[0-9]+\", \"a12a3b\"))"
   ]
  },
  {
   "cell_type": "code",
   "execution_count": 55,
   "id": "d0b4c9f3",
   "metadata": {},
   "outputs": [
    {
     "name": "stdout",
     "output_type": "stream",
     "text": [
      "<re.Match object; span=(0, 2), match='12'>\n",
      "<re.Match object; span=(0, 0), match=''>\n",
      "None\n"
     ]
    }
   ],
   "source": [
    "#* 의미: 0개 이상이 매치 되는지 확인 \n",
    "print(re.match(\"[0-9]*\", \"12a3b\"))  # 0~9까지의 숫자가 0개 이상 매치 되는 지 확인\n",
    "print(re.match(\"[0-9]*\", \"a12a3b\")) #0개가 매치됐으므로 객체가 출력\n",
    "print(re.match(\"[0-9]+\", \"a12a3b\")) "
   ]
  },
  {
   "cell_type": "code",
   "execution_count": 57,
   "id": "b951579b",
   "metadata": {},
   "outputs": [
    {
     "name": "stdout",
     "output_type": "stream",
     "text": [
      "None\n",
      "<re.Match object; span=(0, 1), match='a'>\n",
      "None\n",
      "<re.Match object; span=(0, 0), match=''>\n",
      "<re.Match object; span=(0, 1), match='a'>\n",
      "<re.Match object; span=(0, 1), match='a'>\n",
      "<re.Match object; span=(0, 14), match='aaaaaaaaaaaaaa'>\n",
      "None\n",
      "<re.Match object; span=(0, 1), match='a'>\n",
      "<re.Match object; span=(0, 14), match='aaaaaaaaaaaaaa'>\n",
      "<re.Match object; span=(0, 1), match='b'>\n",
      "None\n",
      "<re.Match object; span=(0, 7), match='aaaaaab'>\n",
      "<re.Match object; span=(0, 7), match='aaaaaab'>\n"
     ]
    }
   ],
   "source": [
    "print(re.match(\"a\", \"b\"))\n",
    "print(re.match(\"a\", \"ab\"))\n",
    "print(re.match(\"a\", \"ba\"))\n",
    "print(re.match(\"a*\", \"b\"))\n",
    "print(re.match(\"a*\", \"ab\"))\n",
    "print(re.match(\"a*\", \"ab\"))\n",
    "print(re.match(\"a*\", \"aaaaaaaaaaaaaab\"))\n",
    "\n",
    "print(re.match(\"a+\", \"b\"))\n",
    "print(re.match(\"a+\", \"ab\"))\n",
    "print(re.match(\"a+\", \"aaaaaaaaaaaaaab\"))\n",
    "\n",
    "print(re.match(\"a*b\", \"b\")) #a 가 0개 이상 나온 후 이어서 b가 나와야함 \n",
    "print(re.match(\"a*b\", \"aaaaaa\"))       #\n",
    "print(re.match(\"a*b\", \"aaaaaabbbbbb\")) # \n",
    "print(re.match(\"a+b\", \"aaaaaabbbbbb\")) # \n"
   ]
  },
  {
   "cell_type": "code",
   "execution_count": 64,
   "id": "285570a0",
   "metadata": {},
   "outputs": [
    {
     "name": "stdout",
     "output_type": "stream",
     "text": [
      "<re.Match object; span=(0, 11), match='가고싶은0922입니다'>\n",
      "None\n"
     ]
    }
   ],
   "source": [
    "print(re.search(\"[가-힣]+[0-9]+입니다\", \"가고싶은0922입니다\"))\n",
    "print(re.search(\"[가-힣]+[0-9]+입니다\", \"가고싶은a입니다\"))\n"
   ]
  },
  {
   "cell_type": "code",
   "execution_count": null,
   "id": "5a7bbc01",
   "metadata": {},
   "outputs": [],
   "source": []
  },
  {
   "cell_type": "code",
   "execution_count": null,
   "id": "33afe549",
   "metadata": {},
   "outputs": [],
   "source": []
  },
  {
   "cell_type": "code",
   "execution_count": null,
   "id": "cb9428a1",
   "metadata": {},
   "outputs": [],
   "source": []
  },
  {
   "cell_type": "code",
   "execution_count": null,
   "id": "8ae4ef8e",
   "metadata": {},
   "outputs": [],
   "source": []
  },
  {
   "cell_type": "code",
   "execution_count": null,
   "id": "e40b6641",
   "metadata": {},
   "outputs": [],
   "source": []
  },
  {
   "cell_type": "code",
   "execution_count": null,
   "id": "d426ab7a",
   "metadata": {},
   "outputs": [],
   "source": []
  },
  {
   "cell_type": "code",
   "execution_count": null,
   "id": "5b9a2c22",
   "metadata": {},
   "outputs": [],
   "source": []
  },
  {
   "cell_type": "code",
   "execution_count": null,
   "id": "6c53b6ac",
   "metadata": {},
   "outputs": [],
   "source": []
  },
  {
   "cell_type": "code",
   "execution_count": null,
   "id": "be053aa0",
   "metadata": {},
   "outputs": [],
   "source": [
    "# 뉴스 기사에서 온도 및 강수량을 추출 하여 출력하는 정규식 작성 "
   ]
  },
  {
   "cell_type": "code",
   "execution_count": null,
   "id": "e25aa56e",
   "metadata": {},
   "outputs": [],
   "source": [
    "news=\"\"\"뜨거운 열기가 계속 쌓여만 가는 느낌인데요.\n",
    "현재 서울 기온은 34.5도까지 치솟으며 하루 만에 올여름 최고 기온을 경신했습니다.\n",
    "특히 비공식 기온이지만 서울 강북구 수유동은 무려 37.2도까지 치솟으며 사람 체온을 웃돌고 있습니다.\n",
    "반면, 대기 불안정으로 동쪽 지방은 호우특보 속에 요란한 소나기가 쏟아지고 있는데요.\n",
    "시설물 관리와 안전사고에 주의하셔야겠습니다.\n",
    "전국 대부분 지역에 폭염특보가 계속되는 가운데, 현재 전국에서 가장 더운 곳은 경기도 안성으로, 양성면의 기온이 37.7도까지 치솟았는데요.\n",
    "서울도 체감 35도 안팎의 찜통더위가 계속되고 있습니다.\n",
    "찌는 듯한 더위 속에 대기 불안정이 심해지면서 동쪽 내륙을 중심으로는 강한 소나기 구름이 발달하고 있는데요.\n",
    "강원 남부 내륙과 전북 동부에 호우특보가 내려진 가운데, 내일 새벽까지 돌풍과 벼락을 동반한 시간당 50mm 이상의 장대비가 쏟아지며, 100mm 이상의 강우량을 기록하는 곳도 있겠습니다.\n",
    "피해 없도록 주변 점검 철저히 해주시기 바랍니다.\n",
    "내일과 모레도 무더위 속에 기습적인 소나기가 지나겠고요, 일요일 전국에 비가 내린 뒤 다음 주에는 더 심한 더위가 찾아오겠습니다.\n",
    "연일 계속되는 무더위에 온열 질환에 걸릴 가능성도 커지고 있습니다.\n",
    "볕이 강한 오후 2~5시 사이 장시간의 야외 활동은 자제하시는 게 좋겠습니다.\n",
    "YTN 신미림입니다.\n",
    "\"\"\""
   ]
  }
 ],
 "metadata": {
  "kernelspec": {
   "display_name": "Python 3",
   "language": "python",
   "name": "python3"
  },
  "language_info": {
   "codemirror_mode": {
    "name": "ipython",
    "version": 3
   },
   "file_extension": ".py",
   "mimetype": "text/x-python",
   "name": "python",
   "nbconvert_exporter": "python",
   "pygments_lexer": "ipython3",
   "version": "3.8.8"
  }
 },
 "nbformat": 4,
 "nbformat_minor": 5
}
