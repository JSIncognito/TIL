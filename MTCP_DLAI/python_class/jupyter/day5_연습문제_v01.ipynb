{
 "cells": [
  {
   "cell_type": "markdown",
   "id": "58aee59e",
   "metadata": {},
   "source": [
    "1.도시이름이 S로 시작하지 않는 도시만 리스트로 만들 때 리스트 컴프리헨션을 사용하여 함수를 작성해 보세요.\n",
    "cities = [\"Tokyo\", \"Shanghai\", \"Jakarta\", \"Seoul\", \"Guangzhou\", \"Beijing\", \"Karachi\", \"Shenzhen\", \"Delhi\" ]\n",
    "\n",
    "* 실행 결과\n",
    "['Tokyo', 'Jakarta', 'Guangzhou', 'Beijing', 'Karachi', 'Delhi']"
   ]
  },
  {
   "cell_type": "code",
   "execution_count": 5,
   "id": "346eedd9",
   "metadata": {},
   "outputs": [
    {
     "name": "stdout",
     "output_type": "stream",
     "text": [
      "['Tokyo', 'Jakarta', 'Guangzhou', 'Beijing', 'Karachi', 'Delhi']\n"
     ]
    }
   ],
   "source": [
    "cities = [\"Tokyo\", \"Shanghai\", \"Jakarta\", \"Seoul\", \"Guangzhou\", \"Beijing\", \"Karachi\", \"Shenzhen\", \"Delhi\" ]\n",
    "\n",
    "city = [city for city in cities if city[0] != 'S' ]\n",
    "print(city)"
   ]
  },
  {
   "cell_type": "markdown",
   "id": "c1512108",
   "metadata": {},
   "source": [
    "(참고) 2, 3번 문제는 코드의 효율성을 고려하여 작성\n",
    "2.상자 최대 낙차 출력(삼성)\n",
    "gravity=[7,4,2,0,0,6,0,7,0]"
   ]
  },
  {
   "cell_type": "code",
   "execution_count": null,
   "id": "5d8d6afd",
   "metadata": {},
   "outputs": [],
   "source": [
    "# 가로 9, 세로 8 -> 90도 변경 후 가로 8, 세로 9 "
   ]
  },
  {
   "cell_type": "code",
   "execution_count": 255,
   "id": "def89997",
   "metadata": {},
   "outputs": [
    {
     "name": "stdout",
     "output_type": "stream",
     "text": [
      "[1, 4, 6, 8, 8, 2, 8, 1, 8]\n",
      "[   [0, 0, 0, 0, 0, 0, 0, 0, 0],\n",
      "    [1, 0, 0, 0, 0, 0, 0, 1, 0],\n",
      "    [1, 0, 0, 0, 0, 1, 0, 1, 0],\n",
      "    [1, 0, 0, 0, 0, 1, 0, 1, 0],\n",
      "    [1, 1, 0, 0, 0, 1, 0, 1, 0],\n",
      "    [1, 1, 0, 0, 0, 1, 0, 1, 0],\n",
      "    [1, 1, 1, 0, 0, 1, 0, 1, 0],\n",
      "    [1, 1, 1, 0, 0, 1, 0, 1, 0]]\n",
      "\n",
      "[   [1, 1, 1, 1, 1, 1, 1, 0],\n",
      "    [1, 1, 1, 1, 0, 0, 0, 0],\n",
      "    [1, 1, 0, 0, 0, 0, 0, 0],\n",
      "    [0, 0, 0, 0, 0, 0, 0, 0],\n",
      "    [0, 0, 0, 0, 0, 0, 0, 0],\n",
      "    [1, 1, 1, 1, 1, 1, 0, 0],\n",
      "    [0, 0, 0, 0, 0, 0, 0, 0],\n",
      "    [1, 1, 1, 1, 1, 1, 1, 0],\n",
      "    [0, 0, 0, 0, 0, 0, 0, 0]]\n",
      "\n",
      "[1, 0, 0, 0, 0, 0, 0, 1, 0] 8\n",
      "[[], [0, 7], [0, 5, 7], [0, 5, 7], [0, 1, 5, 7], [0, 1, 5, 7], [0, 1, 2, 5, 7], [0, 1, 2, 5, 7]]\n",
      "[[], [0, 7], [0, 6], [0, 6], [1, 5], [1, 5], [2, 4], [2, 4]]\n",
      "[7, 6, 6, 5, 5, 4, 4]\n",
      "max: 7\n"
     ]
    }
   ],
   "source": [
    "from pprint import pprint\n",
    "\n",
    "gravity       = [7,4,2,0,0,6,0,7,0]\n",
    "g_subtraction = [1,4,6,8,8,2,8,1,8] # 세로- 8 에서 뺀 숫자\n",
    "# =========================================================\n",
    "leng          = [0,2,3,3,4,4,5,5]\n",
    "l_subtraction = [8,7,6,6,5,5,4,4]   # 가로-9 에서 뺀 숫자\n",
    "\n",
    "# ===  7 4 2 0 0 6 0 7 0\n",
    "# ===  1 2 3 4 5 6 7 8 9\n",
    "# ----------------------\n",
    "# 0 1| f f f f f f f f f  \n",
    "# 2 2| o f f f f f f o f\n",
    "# 3 3| o f f f f o f o f\n",
    "# 3 4| o f f f f o f o f\n",
    "# 4 5| o o f f f o f o f\n",
    "# 4 6| o o f f f o f o f\n",
    "# 5 7| o o o f f o f o f\n",
    "# 5 8| o o o f f o f o f\n",
    "# -----------------------\n",
    "\n",
    "a = [[0, 0, 0, 0, 0, 0, 0, 0, 0]\n",
    "    ,[1, 0, 0, 0, 0, 0, 0, 1, 0]\n",
    "    ,[1, 0, 0, 0, 0, 1, 0, 1, 0]\n",
    "    ,[1, 0, 0, 0, 0, 1, 0, 1, 0]\n",
    "    ,[1, 1, 0, 0, 0, 1, 0, 1, 0]\n",
    "    ,[1, 1, 0, 0, 0, 1, 0, 1, 0]\n",
    "    ,[1, 1, 1, 0, 0, 1, 0, 1, 0]\n",
    "    ,[1, 1, 1, 0, 0, 1, 0, 1, 0]]\n",
    "\n",
    "# 시작 \n",
    "gravity       = [7,4,2,0,0,6,0,7,0]\n",
    "g_subtraction = []\n",
    "\n",
    "# gravity 리스트로 쌓이지 않은 블록의 개수 리스트 만들기 \n",
    "for i in range(0, 9):\n",
    "#   print(gravity[i])\n",
    "    g_subtraction.append(8-gravity[i])\n",
    "print(g_subtraction)\n",
    "#print(a[0][0])\n",
    "\n",
    "# 행, 열 배열\n",
    "tmp=[]\n",
    "#    print(i) \n",
    "#     # 행 0, \n",
    "#          1, \n",
    "#          2, \n",
    "#          3, \n",
    "#          4, \n",
    "#          5, \n",
    "#          6, \n",
    "#          7 \n",
    "# gravity       = [7,4,2,0,0,6,0,7,0]\n",
    "# g_subtraction = [1,4,6,8,8,2,8,1,8] # 세로- 8 에서 뺀 숫자\n",
    "\n",
    "# 블록 행, 열 그리기 \n",
    "for i in range(0, 8):\n",
    "    tmp.append([])\n",
    "    #print()\n",
    "    for j in range(0, 9):\n",
    "        #print(i, j, g_subtraction[j]) # 열 0, 1, 2, 3, 4, 5, 6, 7, 8, \n",
    "        if g_subtraction[j]>0:\n",
    "            #print(\"aaaa\")\n",
    "            tmp[i].append(0)\n",
    "            g_subtraction[j] = g_subtraction[j]-1\n",
    "            #print(\"g_subtraction[j]\", g_subtraction[j])\n",
    "            #pprint(tmp, indent=4, width=100)\n",
    "        else: \n",
    "            #print(\"bbbb\")\n",
    "            tmp[i].append(1)\n",
    "            #pprint(tmp, indent=4, width=80)\n",
    "pprint(tmp, indent=4, width=80)\n",
    "print()\n",
    "\n",
    "# 오른쪽으로 회전 변경된 행, 열 그리기\n",
    "ttmp=[]\n",
    "# 행 9 줄 \n",
    "for i in range(0, 9):\n",
    "    ttmp.append([])\n",
    "    for j in range(0, 8):\n",
    "        ttmp[i].append(tmp[7-j][i])\n",
    "pprint(ttmp, indent=4, width=80)\n",
    "\n",
    "#=======================================================\n",
    "#디버깅\n",
    "print()\n",
    "print(tmp[1], len(tmp))\n",
    "#===================================================================\n",
    "# 총 길이에서 1의 위치를 빼면, 제일 긴 블록의 길이를 확인할 수 있다.\n",
    "# 단, 블록이 쌓이고 총 길이는 1씩 블록의 개수 만큼 줄어든다.\n",
    "\n",
    "# tmp[1] 을 가지고 1의 인덱스를 모두 확인 \n",
    "# idx_li = [i for i in range(len(tmp[1])) if tmp[1][i]==1]\n",
    "# print(idx_li) #0, 7 \n",
    "# len(tmp[1])\n",
    "\n",
    "idx_li=[]\n",
    "for tmp_idx in range(len(tmp)):\n",
    "    idx_li.append([idx for idx in range(len(tmp[tmp_idx])) if tmp[tmp_idx][idx]==1])\n",
    "print(idx_li)\n",
    "\n",
    "# cnt=8\n",
    "# li=[]\n",
    "result=[]\n",
    "for idx in idx_li:\n",
    "#     print(\"idx : \", idx)  \n",
    "    li=[]\n",
    "    li2=[]\n",
    "    cnt=8\n",
    "    for i in range(len(idx), 0, -1):\n",
    "        # 비교를 해서 낙차가 높은 블럭을 저장 \n",
    "        # li.append([idx[i-1], cnt-idx[i-1]]) \n",
    "        if len(li) == 0:\n",
    "            li=[idx[i-1], cnt-idx[i-1]]        \n",
    "        elif len(li) > 0 :\n",
    "            if li[1] < cnt-idx[i-1]:\n",
    "                #print(li[1], cnt-idx[i-1])\n",
    "                li=[idx[i-1], cnt-idx[i-1]]\n",
    "        cnt -=1        \n",
    "        #print(\"li : \", li)\n",
    "\n",
    "    result.append(list(li))\n",
    "#     print(\"result : \", result)\n",
    "pprint(result, indent=4, width=80)\n",
    "\n",
    "x=[r[1] for r in result \n",
    "       if len(r) if r[1] ]\n",
    "print(x)\n",
    "print(\"max:\", max(x))\n",
    "\n",
    "# print(result)\n",
    "# 결과값\n",
    "#result = []\n",
    "# 총 높이 \n",
    "# cnt=8\n",
    "# for j in range(len(idx_li), 0, -1):     # 블럭의 위치, 낙하 차이 \n",
    "#     # [블럭의 위치, 낙하차이]\n",
    "#     result.append([idx_li[j-1], cnt-idx_li[j-1]])\n",
    "#     cnt -=1    \n",
    "# print(result)\n",
    "# print(\"\")    \n",
    "\n",
    "# result = []\n",
    "# cnt=8 \n",
    "# for i in range(len(idx_li), 0, -1):\n",
    "\n",
    "# print(\"\")\n",
    "# print(idx_li)\n",
    "\n",
    "# 결과 뽑기 \n",
    "# for i in result:\n",
    "#     print(i, len(i))"
   ]
  },
  {
   "cell_type": "markdown",
   "id": "5b84c65a",
   "metadata": {},
   "source": [
    "3.1부터 10,000까지 8이라는 숫자가 총 몇번 나오는가?(구글)\n",
    "8이 포함되어 있는 숫자의 갯수를 카운팅 하는 것이 아니라 8이라는 숫자를 모두 카운팅 해야 한다.\n",
    "(※ 예를들어 8808은 3, 8888은 4로 카운팅 해야 함)"
   ]
  },
  {
   "cell_type": "code",
   "execution_count": 96,
   "id": "1334f48b",
   "metadata": {},
   "outputs": [
    {
     "name": "stdout",
     "output_type": "stream",
     "text": [
      "총 : 20 번 ['8', '18', '28', '38', '48', '58', '68', '78', '80', '81', '82', '83', '84', '85', '86', '87', '88', '89', '98']\n"
     ]
    }
   ],
   "source": [
    "# 1 ~ 100 까지 테스트 \n",
    "li = []\n",
    "cnt = 0\n",
    "for i in range(1, 101):\n",
    "    s = str(i)\n",
    "    if s.find('8') == -1:\n",
    "        continue\n",
    "    else:\n",
    "        li.append(s)\n",
    "        cnt += s.count('8')        \n",
    "print(\"총 :\", cnt,\"번\", li)"
   ]
  },
  {
   "cell_type": "code",
   "execution_count": 98,
   "id": "4115f757",
   "metadata": {},
   "outputs": [
    {
     "name": "stdout",
     "output_type": "stream",
     "text": [
      "총 : 4000 번\n"
     ]
    }
   ],
   "source": [
    "# 1 ~ 100 까지 테스트 \n",
    "li = []\n",
    "cnt = 0\n",
    "for i in range(1, 10001):\n",
    "    s = str(i)\n",
    "    if s.find('8') == -1:\n",
    "        continue\n",
    "    else:\n",
    "        li.append(s)\n",
    "        cnt += s.count('8')\n",
    "print(\"총 :\", cnt,\"번\")"
   ]
  },
  {
   "cell_type": "markdown",
   "id": "2113c678",
   "metadata": {},
   "source": [
    "4.while문을 사용하여 다음과 같이 별(*)을 표시하는 프로그램을 작성해 보자.\n",
    "1)\n",
    "     *\n",
    "    **\n",
    "   ***\n",
    "  ****\n",
    " *****\n",
    "\n",
    "2)\n",
    "     *\n",
    "    ***\n",
    "   *****\n",
    "  *******\n",
    " *********"
   ]
  },
  {
   "cell_type": "code",
   "execution_count": 66,
   "id": "7c126607",
   "metadata": {},
   "outputs": [
    {
     "name": "stdout",
     "output_type": "stream",
     "text": [
      "    *\n",
      "   **\n",
      "  ***\n",
      " ****\n",
      "*****\n"
     ]
    }
   ],
   "source": [
    "# 1)\n",
    "i=0\n",
    "while i < 5 :\n",
    "    i+=1\n",
    "    print(\" \"*(5-i) + \"*\"*i)\n"
   ]
  },
  {
   "cell_type": "code",
   "execution_count": 77,
   "id": "0cd316a8",
   "metadata": {},
   "outputs": [
    {
     "name": "stdout",
     "output_type": "stream",
     "text": [
      "    *    \n",
      "   ***   \n",
      "  *****  \n",
      " ******* \n",
      "*********\n"
     ]
    }
   ],
   "source": [
    "# 2)\n",
    "li =[1, 3, 5, 7, 9]\n",
    "i=0\n",
    "while i < 5:\n",
    "    a=int((9-li[i])/2)\n",
    "    print(\" \"*a + \"*\"*li[i] + \" \"*a)\n",
    "    i+=1"
   ]
  },
  {
   "cell_type": "code",
   "execution_count": 69,
   "id": "91f40f50",
   "metadata": {},
   "outputs": [
    {
     "data": {
      "text/plain": [
       "4.5"
      ]
     },
     "execution_count": 69,
     "metadata": {},
     "output_type": "execute_result"
    }
   ],
   "source": [
    "9/2\n",
    "\n",
    "1234  5 6789\n",
    "123 4 5 6 789\n",
    "12 34 5 67 89\n",
    "1 234 5 678 9\n",
    " 1234 5 6789\n"
   ]
  },
  {
   "cell_type": "markdown",
   "id": "8166dad3",
   "metadata": {},
   "source": [
    "5.for문을 사용해 2부터 100까지의 숫자 중에서 소수를(prime number) 출력해 보자.\n",
    "*소수란? 1과 자기 자신으로만 나누어 떨어지는 수(ex. 2, 3, 5, 7, 11, 13,...)"
   ]
  },
  {
   "cell_type": "code",
   "execution_count": 189,
   "id": "7defc01a",
   "metadata": {},
   "outputs": [
    {
     "name": "stdout",
     "output_type": "stream",
     "text": [
      "[2, 3, 5, 7, 11, 13, 17, 19, 23, 29, 31, 37, 41, 43, 47, 53, 59, 61, 67, 71, 73, 79, 83, 89, 97]\n"
     ]
    }
   ],
   "source": [
    "prns = list(range(2,101))\n",
    "\n",
    "for p in prns:\n",
    "    for j in range(2, 50):\n",
    "        if p*j > 100 :\n",
    "            continue\n",
    "        else:\n",
    "            if p*j in prns:\n",
    "                prns.remove(p*j)\n",
    "print(prns)"
   ]
  },
  {
   "cell_type": "code",
   "execution_count": 194,
   "id": "6eca5f77",
   "metadata": {},
   "outputs": [
    {
     "data": {
      "text/plain": [
       "[8, 7, 6, 5, 4, 3, 2, 1]"
      ]
     },
     "execution_count": 194,
     "metadata": {},
     "output_type": "execute_result"
    }
   ],
   "source": [
    "list(range(8,0,-1))"
   ]
  }
 ],
 "metadata": {
  "kernelspec": {
   "display_name": "Python 3",
   "language": "python",
   "name": "python3"
  },
  "language_info": {
   "codemirror_mode": {
    "name": "ipython",
    "version": 3
   },
   "file_extension": ".py",
   "mimetype": "text/x-python",
   "name": "python",
   "nbconvert_exporter": "python",
   "pygments_lexer": "ipython3",
   "version": "3.8.8"
  }
 },
 "nbformat": 4,
 "nbformat_minor": 5
}
