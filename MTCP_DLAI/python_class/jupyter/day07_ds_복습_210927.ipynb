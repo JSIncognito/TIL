{
 "cells": [
  {
   "cell_type": "code",
   "execution_count": 1,
   "source": [
    "import numpy as np"
   ],
   "outputs": [],
   "metadata": {}
  },
  {
   "cell_type": "code",
   "execution_count": 3,
   "source": [
    "np.array([1,2,3,4]) #array함수에 리스트를 넣음, 1차원 배열\r\n",
    "print(type(np.array([1,2,3,4]))) # <class 'numpy.ndarray'>\r\n",
    "\r\n",
    "#파이썬 연산\r\n",
    "ans=[]\r\n",
    "data=[1,2,3,4]\r\n",
    "for i in data:\r\n",
    "    ans.append(i+1)\r\n",
    "print(ans)\r\n",
    "\r\n",
    "#넘파이 연산\r\n",
    "print(np.array(data))\r\n",
    "print(np.array(data)+1)\r\n",
    "print(np.array(data)*3)\r\n"
   ],
   "outputs": [
    {
     "output_type": "stream",
     "name": "stdout",
     "text": [
      "<class 'numpy.ndarray'>\n",
      "[2, 3, 4, 5]\n",
      "[1 2 3 4]\n",
      "[2 3 4 5]\n",
      "[ 3  6  9 12]\n"
     ]
    }
   ],
   "metadata": {}
  },
  {
   "cell_type": "code",
   "execution_count": 4,
   "source": [
    "x=np.array([1,2,3])\r\n",
    "y=np.array([4,5,6])\r\n",
    "\r\n",
    "\r\n",
    "print(x*y) #요소간 곱셈\r\n",
    "print(2*x+y)\r\n",
    "print(x == y) #요소간 비교연산\r\n",
    "print(x > 2)\r\n",
    "print((x>2) & (y>4)) #and"
   ],
   "outputs": [
    {
     "output_type": "stream",
     "name": "stdout",
     "text": [
      "[ 4 10 18]\n",
      "[ 6  9 12]\n",
      "[False False False]\n",
      "[False False  True]\n",
      "[False False  True]\n"
     ]
    }
   ],
   "metadata": {}
  },
  {
   "cell_type": "code",
   "execution_count": 5,
   "source": [
    "#1차원 배열 : 벡터\r\n",
    "#2차원 배열 : 행렬\r\n",
    "\r\n",
    "#2*3배열\r\n",
    "x=np.array([[1,2,3],[4,5,6]])\r\n",
    "\r\n",
    "print(len(x)) #행의 개수\r\n",
    "print(len(x[0])) #열의 개수"
   ],
   "outputs": [
    {
     "output_type": "stream",
     "name": "stdout",
     "text": [
      "2\n",
      "3\n"
     ]
    }
   ],
   "metadata": {}
  },
  {
   "cell_type": "code",
   "execution_count": 8,
   "source": [
    "x=np.array([[[1,2,3],[1,2,3]],[[1,2,3],[1,2,3]]])\r\n",
    "# x배열의 깊이 : 2\r\n",
    "# x배열의 행 : 2\r\n",
    "# x배열의 열 : 3\r\n",
    "# x : 2*2*3 배열\r\n",
    "\r\n",
    "print(x)\r\n",
    "print(x.shape) # 3 차원 "
   ],
   "outputs": [
    {
     "output_type": "stream",
     "name": "stdout",
     "text": [
      "[[[1 2 3]\n",
      "  [1 2 3]]\n",
      "\n",
      " [[1 2 3]\n",
      "  [1 2 3]]]\n",
      "(2, 2, 3)\n"
     ]
    }
   ],
   "metadata": {}
  },
  {
   "cell_type": "code",
   "execution_count": null,
   "source": [
    "x=np.array([[[1, 2, 3, 4],\r\n",
    "               [5, 6, 7, 8],\r\n",
    "               [9, 10, 11, 12]],\r\n",
    "              [[11, 12, 13, 14],\r\n",
    "               [15, 16, 17, 18],\r\n",
    "               [19, 20, 21, 22]]])\r\n",
    "\r\n",
    "# 3차원배열x = [행렬1, 행렬2]\r\n",
    "# x[0]=행렬1\r\n",
    "# x[1]=행렬2\r\n",
    "# x[0][0]=행렬1의 첫번째 행\r\n",
    "\r\n",
    "# x배열의 깊이 : 2\r\n",
    "# x배열의 행 : 3\r\n",
    "# x배열의 열 : 4\r\n",
    "# x배열의 shape? 2*3*4 배열\r\n",
    "print(len(x)) #깊이\r\n",
    "print(len(x[0])) #행\r\n",
    "print(len(x[0][0])) #열"
   ],
   "outputs": [],
   "metadata": {}
  },
  {
   "cell_type": "code",
   "execution_count": 9,
   "source": [
    "print(x.ndim) #배열의 차원\r\n",
    "print(x.shape)    #shape(배열의 크기)"
   ],
   "outputs": [
    {
     "output_type": "stream",
     "name": "stdout",
     "text": [
      "3\n",
      "(2, 2, 3)\n"
     ]
    }
   ],
   "metadata": {}
  },
  {
   "cell_type": "code",
   "execution_count": 10,
   "source": [
    "x=np.array([1,2,3])\r\n",
    "\r\n",
    "print(x[-1])"
   ],
   "outputs": [
    {
     "output_type": "stream",
     "name": "stdout",
     "text": [
      "3\n"
     ]
    }
   ],
   "metadata": {}
  },
  {
   "cell_type": "code",
   "execution_count": 13,
   "source": [
    "x=np.array([[1,2,3],\r\n",
    "            [4,5,6]])\r\n",
    "\r\n",
    "print(x)\r\n",
    "print(\"\")\r\n",
    "print(x[0])#첫번째 행 출력\r\n",
    "print(x[1])\r\n",
    "\r\n",
    "print(\"\")\r\n",
    "print(x[-1]) #마지막 행으로부터 거꾸로 참조\r\n",
    "print(x[-2])\r\n",
    "print(\"\")\r\n",
    "\r\n",
    "print(x[0][0])#첫번째 행의 첫번째 열 출력\r\n",
    "print(x[-2][0])\r\n",
    "print(x[-2][-3])\r\n",
    "print(x[0,0]) #컴마를 이용한 접근도 가능. 컴마로 구분된 차원을 축(axis)라고 함\r\n",
    "\r\n",
    "print(x[-1][-1])"
   ],
   "outputs": [
    {
     "output_type": "stream",
     "name": "stdout",
     "text": [
      "[[1 2 3]\n",
      " [4 5 6]]\n",
      "\n",
      "[1 2 3]\n",
      "[4 5 6]\n",
      "\n",
      "[4 5 6]\n",
      "[1 2 3]\n",
      "\n",
      "1\n",
      "1\n",
      "1\n",
      "1\n",
      "6\n"
     ]
    }
   ],
   "metadata": {}
  },
  {
   "cell_type": "code",
   "execution_count": 15,
   "source": [
    "x=np.array([[1,2,3],\r\n",
    "            [4,5,6]])\r\n",
    "\r\n",
    "print(x[0])        #첫번째 행 전체\r\n",
    "print(x[0,])       #x[행,열], #첫번째 행 전체\r\n",
    "print(x[0, : ])    ##첫번째 행 전체\r\n",
    "print(\"\")\r\n",
    "print(x[1])\r\n",
    "print(x[1, :])\r\n",
    "print(\"\")\r\n",
    "print(x[:,1])   #x[행,열]\r\n",
    "\r\n",
    "print(\"-\"*50)\r\n",
    "# array([5, 6])출력\r\n",
    "print(x[1][1:])\r\n",
    "print(x[1,1:])\r\n",
    "print(x[1][1:3])\r\n",
    "print(x[-1][-2:])"
   ],
   "outputs": [
    {
     "output_type": "stream",
     "name": "stdout",
     "text": [
      "[1 2 3]\n",
      "[1 2 3]\n",
      "[1 2 3]\n",
      "\n",
      "[4 5 6]\n",
      "[4 5 6]\n",
      "\n",
      "[2 5]\n",
      "--------------------------------------------------\n",
      "[5 6]\n",
      "[5 6]\n",
      "[5 6]\n",
      "[5 6]\n"
     ]
    }
   ],
   "metadata": {}
  },
  {
   "cell_type": "code",
   "execution_count": 16,
   "source": [
    "#불린참조, 불린값(True/False)으로 구성된 배열로 참조,\r\n",
    "#주의:참조 대상 배열(x)과 불린 배열(b)의 크기가 동일\r\n",
    "\r\n",
    "x=np.array([1,2,3])\r\n",
    "b=np.array([True, False, True])\r\n",
    "\r\n",
    "print(x[b]) #True 에 해당되는 자료가 추출"
   ],
   "outputs": [
    {
     "output_type": "stream",
     "name": "stdout",
     "text": [
      "[1 3]\n"
     ]
    }
   ],
   "metadata": {}
  },
  {
   "cell_type": "code",
   "execution_count": 26,
   "source": [
    "print(x>1)\r\n",
    "print(x[x>1])\r\n",
    "\r\n",
    "\r\n",
    "x=np.array([1,2,3])\r\n",
    "#b=np.array([True, False, True, True])\r\n",
    "#b=np.array([True, False, True])\r\n",
    "print(x%2==1)\r\n",
    "print(x[x%2==1])"
   ],
   "outputs": [
    {
     "output_type": "stream",
     "name": "stdout",
     "text": [
      "[ True  True  True  True  True]\n",
      "[10 20 30 40 50]\n",
      "[ True False  True]\n",
      "[1 3]\n"
     ]
    }
   ],
   "metadata": {}
  },
  {
   "cell_type": "code",
   "execution_count": 28,
   "source": [
    "x=np.array([10,20,30,40,50])\r\n",
    "#y=np.array([0,2,4])\r\n",
    "y=np.array([0,2,4,0,0,2])\r\n",
    "\r\n",
    "#정수 배열 인덱싱\r\n",
    "print(x[y]) # 배열로 인덱싱 "
   ],
   "outputs": [
    {
     "output_type": "stream",
     "name": "stdout",
     "text": [
      "[10 30 50 10 10 30]\n"
     ]
    }
   ],
   "metadata": {}
  },
  {
   "cell_type": "code",
   "execution_count": 30,
   "source": [
    "x=np.array([[10,20,30]\r\n",
    "            ,[40,50,60]])\r\n",
    "print(x)\r\n",
    "print(\"=\"*50)\r\n",
    "# True 열 값 출력 \r\n",
    "print(x[ : ,[True,False,True]]) #0번 2번 index 열 데이터 추출\r\n",
    "\r\n",
    "print(x[[True,False],:])  #0번 index 행 데이터 추출\r\n",
    "print(\"\"*50)\r\n",
    "\r\n",
    "# 전체 \r\n",
    "print(x[:])"
   ],
   "outputs": [
    {
     "output_type": "stream",
     "name": "stdout",
     "text": [
      "[[10 20 30]\n",
      " [40 50 60]]\n",
      "==================================================\n",
      "[[10 30]\n",
      " [40 60]]\n",
      "[[10 20 30]]\n",
      "\n",
      "[[10 20 30]\n",
      " [40 50 60]]\n"
     ]
    }
   ],
   "metadata": {}
  },
  {
   "cell_type": "code",
   "execution_count": 33,
   "source": [
    "print(x[ : , [0,2]])\r\n",
    "print(x[ : , [2,0]])\r\n",
    "print(\"=\"*50)\r\n",
    "print(x[ : , [2,0,0,2,0]])\r\n",
    "\r\n",
    "print(\"=\"*50)\r\n",
    "print(x[[1,1,1,0],:])\r\n",
    "print(\"=\"*50)\r\n",
    "print(x[[1,0],:])"
   ],
   "outputs": [
    {
     "output_type": "stream",
     "name": "stdout",
     "text": [
      "[[10 30]\n",
      " [40 60]]\n",
      "[[30 10]\n",
      " [60 40]]\n",
      "==================================================\n",
      "[[30 10 10 30 10]\n",
      " [60 40 40 60 40]]\n",
      "==================================================\n",
      "[[40 50 60]\n",
      " [40 50 60]\n",
      " [40 50 60]\n",
      " [10 20 30]]\n",
      "==================================================\n",
      "[[40 50 60]\n",
      " [10 20 30]]\n"
     ]
    }
   ],
   "metadata": {}
  },
  {
   "cell_type": "code",
   "execution_count": 35,
   "source": [
    "x= np.array([[ 0,  1,  2,  3,  4],\r\n",
    "            [ 5,  6,  7,  8,  9],\r\n",
    "            [10, 11, 12, 13, 14]])\r\n",
    "\r\n",
    "print(x)\r\n",
    "# 7참조\r\n",
    "print(\"=\"*50)\r\n",
    "print(x[1 ,2])\r\n",
    "print(x[x==7]) # 조건 \r\n",
    "# 14참조\r\n",
    "print(\"=\"*50)\r\n",
    "print(x[-1, -1]) # 뒤에서 참조\r\n",
    "# [6,7]참조\r\n",
    "print(\"=\"*50)\r\n",
    "print(x[1,1:3])\r\n",
    "print(x[1,[1, 2]])\r\n",
    "print(x[(x==6)|(x==7)]) # or 조건 \r\n",
    "\r\n",
    "# [7,12]참조\r\n",
    "print(\"=\"*50)\r\n",
    "print(x[1:,2])\r\n",
    "print(x[1:3,2])\r\n",
    "# [[3,4],[8,9]]\r\n",
    "print(\"=\"*50)\r\n",
    "print(x[0:2,3:5]) # 범위 \r\n",
    "print(\"=\"*50)\r\n"
   ],
   "outputs": [
    {
     "output_type": "stream",
     "name": "stdout",
     "text": [
      "[[ 0  1  2  3  4]\n",
      " [ 5  6  7  8  9]\n",
      " [10 11 12 13 14]]\n",
      "==================================================\n",
      "7\n",
      "[7]\n",
      "==================================================\n",
      "14\n",
      "==================================================\n",
      "[6 7]\n",
      "[6 7]\n",
      "[6 7]\n",
      "==================================================\n",
      "[ 7 12]\n",
      "[ 7 12]\n",
      "==================================================\n",
      "[[3 4]\n",
      " [8 9]]\n",
      "==================================================\n"
     ]
    }
   ],
   "metadata": {}
  },
  {
   "cell_type": "code",
   "execution_count": 36,
   "source": [
    "# 조건 참조\r\n",
    "x = np.array([1, 2, 3, 4, 5, 6, 7, 8, 9, 10,\r\n",
    "             11, 12, 13, 14, 15, 16, 17, 18, 19, 20])\r\n",
    "\r\n",
    "# 3의 배수 출력\r\n",
    "# 4로 나누었을때 나머지가 1인 값을 출력\r\n",
    "# 3으로 나누어지고 4로 나누면 나머지가 1인 값을 출력\r\n",
    "print(x[x%3==0])\r\n",
    "print(x[x%4==1])\r\n",
    "print(x[(x%3==0) & (x%4==1)])\r\n"
   ],
   "outputs": [
    {
     "output_type": "stream",
     "name": "stdout",
     "text": [
      "[ 3  6  9 12 15 18]\n",
      "[ 1  5  9 13 17]\n",
      "[9]\n"
     ]
    }
   ],
   "metadata": {}
  },
  {
   "cell_type": "code",
   "execution_count": 37,
   "source": [
    "x=np.array([1, 2.5])\r\n",
    "\r\n",
    "print(type(x))\r\n",
    "\r\n",
    "#배열에 저장된 자료 타입 확인\r\n",
    "print(x.dtype)"
   ],
   "outputs": [
    {
     "output_type": "stream",
     "name": "stdout",
     "text": [
      "<class 'numpy.ndarray'>\n",
      "float64\n"
     ]
    }
   ],
   "metadata": {}
  },
  {
   "cell_type": "code",
   "execution_count": 38,
   "source": [
    "x=np.array([1, 2.5], dtype='i') #dtype:f\r\n",
    "print(x.dtype)\r\n",
    "print(x)"
   ],
   "outputs": [
    {
     "output_type": "stream",
     "name": "stdout",
     "text": [
      "int32\n",
      "[1 2]\n"
     ]
    }
   ],
   "metadata": {}
  },
  {
   "cell_type": "code",
   "execution_count": 39,
   "source": [
    "print(np.inf) #무한대를 표현하는 상수\r\n",
    "print(np.nan) #정의할 수 없는 숫자 "
   ],
   "outputs": [
    {
     "output_type": "stream",
     "name": "stdout",
     "text": [
      "inf\n",
      "nan\n"
     ]
    }
   ],
   "metadata": {}
  },
  {
   "cell_type": "code",
   "execution_count": 41,
   "source": [
    "print(np.array([1]) / np.array([0])) #inf\r\n",
    "print(np.array([0]) / np.array([1])) #0\r\n",
    "print(np.array([-1]) / np.array([0]))\r\n",
    "print(np.array([0]) / np.array([0]))\r\n",
    "print(np.log(0))\r\n",
    "print(\"=\"*50)\r\n",
    "print(np.exp(-np.inf))\r\n",
    "print(\"=\"*50)\r\n",
    "\r\n",
    "\r\n",
    "print(np.zeros(3))"
   ],
   "outputs": [
    {
     "output_type": "stream",
     "name": "stdout",
     "text": [
      "[inf]\n",
      "[0.]\n",
      "[-inf]\n",
      "[nan]\n",
      "-inf\n",
      "==================================================\n",
      "0.0\n",
      "==================================================\n",
      "[0. 0. 0.]\n"
     ]
    },
    {
     "output_type": "stream",
     "name": "stderr",
     "text": [
      "<ipython-input-41-d5b2c7190164>:1: RuntimeWarning: divide by zero encountered in true_divide\n",
      "  print(np.array([1]) / np.array([0])) #inf\n",
      "<ipython-input-41-d5b2c7190164>:3: RuntimeWarning: divide by zero encountered in true_divide\n",
      "  print(np.array([-1]) / np.array([0]))\n",
      "<ipython-input-41-d5b2c7190164>:4: RuntimeWarning: invalid value encountered in true_divide\n",
      "  print(np.array([0]) / np.array([0]))\n",
      "<ipython-input-41-d5b2c7190164>:5: RuntimeWarning: divide by zero encountered in log\n",
      "  print(np.log(0))\n"
     ]
    }
   ],
   "metadata": {}
  },
  {
   "cell_type": "code",
   "execution_count": 45,
   "source": [
    "# 값이 0 인 배열 생성 하기 \r\n",
    "print(np.zeros((3,2)))\r\n",
    "print(\"=\"*50)\r\n",
    "print(np.zeros((3,2,4))) #(깊이,행,열)\r\n",
    "print(\"=\"*50)\r\n",
    "\r\n",
    "print(np.zeros((3,2,4), dtype='i'))\r\n",
    "print(np.zeros((3,2,4), dtype='i').dtype)\r\n",
    "\r\n",
    "# 값이 1인 배열\r\n",
    "print(\"=\"*50)\r\n",
    "print(np.ones((2,3,4)))"
   ],
   "outputs": [
    {
     "output_type": "stream",
     "name": "stdout",
     "text": [
      "[[0. 0.]\n",
      " [0. 0.]\n",
      " [0. 0.]]\n",
      "==================================================\n",
      "[[[0. 0. 0. 0.]\n",
      "  [0. 0. 0. 0.]]\n",
      "\n",
      " [[0. 0. 0. 0.]\n",
      "  [0. 0. 0. 0.]]\n",
      "\n",
      " [[0. 0. 0. 0.]\n",
      "  [0. 0. 0. 0.]]]\n",
      "==================================================\n",
      "[[[0 0 0 0]\n",
      "  [0 0 0 0]]\n",
      "\n",
      " [[0 0 0 0]\n",
      "  [0 0 0 0]]\n",
      "\n",
      " [[0 0 0 0]\n",
      "  [0 0 0 0]]]\n"
     ]
    },
    {
     "output_type": "execute_result",
     "data": {
      "text/plain": [
       "dtype('int32')"
      ]
     },
     "metadata": {},
     "execution_count": 45
    }
   ],
   "metadata": {}
  },
  {
   "cell_type": "code",
   "execution_count": 48,
   "source": [
    "x=np.zeros(5, dtype='U4')\r\n",
    "\r\n",
    "x[0]=\"test\"\r\n",
    "print(x.dtype)\r\n",
    "print(x)\r\n",
    "x"
   ],
   "outputs": [
    {
     "output_type": "stream",
     "name": "stdout",
     "text": [
      "<U4\n",
      "['test' '' '' '' '']\n"
     ]
    },
    {
     "output_type": "execute_result",
     "data": {
      "text/plain": [
       "array(['test', '', '', '', ''], dtype='<U4')"
      ]
     },
     "metadata": {},
     "execution_count": 48
    }
   ],
   "metadata": {}
  },
  {
   "cell_type": "code",
   "execution_count": 49,
   "source": [],
   "outputs": [
    {
     "output_type": "execute_result",
     "data": {
      "text/plain": [
       "array([[[1., 1., 1., 1.],\n",
       "        [1., 1., 1., 1.],\n",
       "        [1., 1., 1., 1.]],\n",
       "\n",
       "       [[1., 1., 1., 1.],\n",
       "        [1., 1., 1., 1.],\n",
       "        [1., 1., 1., 1.]]])"
      ]
     },
     "metadata": {},
     "execution_count": 49
    }
   ],
   "metadata": {}
  },
  {
   "cell_type": "code",
   "execution_count": 52,
   "source": [
    "# 테스트 코드 작성시 유용하게 쓰일것 같음 별 다섯개\r\n",
    "x=np.ones((2,3,4))\r\n",
    "print(x)\r\n",
    "print(\"=\" * 50)\r\n",
    "y=np.ones_like(x, dtype='i')\r\n",
    "# zeros(ones)_like함수 : x배열의 크기와 동일하게 0 또는 1로 모두 초기화하여 생성\r\n",
    "y\r\n",
    "\r\n",
    "# np.ones_like(x, dtype='i') 작업을 하면 컴퓨터 내부에서는 어떤 일이?\r\n",
    "# x배열 크기 확인 -> x배열 크기와 동일한 배열 공간 생성 -> 1로 모두 초기화"
   ],
   "outputs": [
    {
     "output_type": "stream",
     "name": "stdout",
     "text": [
      "[[[1. 1. 1. 1.]\n",
      "  [1. 1. 1. 1.]\n",
      "  [1. 1. 1. 1.]]\n",
      "\n",
      " [[1. 1. 1. 1.]\n",
      "  [1. 1. 1. 1.]\n",
      "  [1. 1. 1. 1.]]]\n",
      "==================================================\n"
     ]
    },
    {
     "output_type": "execute_result",
     "data": {
      "text/plain": [
       "array([[[1, 1, 1, 1],\n",
       "        [1, 1, 1, 1],\n",
       "        [1, 1, 1, 1]],\n",
       "\n",
       "       [[1, 1, 1, 1],\n",
       "        [1, 1, 1, 1],\n",
       "        [1, 1, 1, 1]]], dtype=int32)"
      ]
     },
     "metadata": {},
     "execution_count": 52
    }
   ],
   "metadata": {}
  },
  {
   "cell_type": "code",
   "execution_count": 53,
   "source": [
    "np.empty((3,2)) \r\n",
    "#zeros:0으로 초기화, empty:기존에 메모리에 남아있는 쓰레기값으로 초기화"
   ],
   "outputs": [
    {
     "output_type": "execute_result",
     "data": {
      "text/plain": [
       "array([[0., 0.],\n",
       "       [0., 0.],\n",
       "       [0., 0.]])"
      ]
     },
     "metadata": {},
     "execution_count": 53
    }
   ],
   "metadata": {}
  },
  {
   "cell_type": "code",
   "execution_count": 58,
   "source": [
    "print(np.array(list(range(8))))\r\n",
    "print(\"=\"*50)\r\n",
    "print(np.array(list(range(8))).reshape(4,2))\r\n",
    "\r\n",
    "print(\"=\"*50)\r\n",
    "print(np.arange(8)) #np.array(list(range(8)))\r\n",
    "print(np.arange(8).reshape(2,4))\r\n",
    "print(\"=\"*50)"
   ],
   "outputs": [
    {
     "output_type": "stream",
     "name": "stdout",
     "text": [
      "[0 1 2 3 4 5 6 7]\n",
      "==================================================\n",
      "[[0 1]\n",
      " [2 3]\n",
      " [4 5]\n",
      " [6 7]]\n",
      "==================================================\n",
      "[0 1 2 3 4 5 6 7]\n",
      "[[0 1 2 3]\n",
      " [4 5 6 7]]\n",
      "==================================================\n"
     ]
    }
   ],
   "metadata": {}
  },
  {
   "cell_type": "code",
   "execution_count": 59,
   "source": [
    "print(np.arange(1,11) )\r\n",
    "print(np.arange(1,11,2) )\r\n",
    "\r\n"
   ],
   "outputs": [
    {
     "output_type": "stream",
     "name": "stdout",
     "text": [
      "[ 1  2  3  4  5  6  7  8  9 10]\n",
      "[1 3 5 7 9]\n"
     ]
    }
   ],
   "metadata": {}
  },
  {
   "cell_type": "code",
   "execution_count": 60,
   "source": [
    "np.linspace(0, 100, 10) #선형 구간, 시작, 끝, 개수"
   ],
   "outputs": [
    {
     "output_type": "execute_result",
     "data": {
      "text/plain": [
       "array([  0.        ,  11.11111111,  22.22222222,  33.33333333,\n",
       "        44.44444444,  55.55555556,  66.66666667,  77.77777778,\n",
       "        88.88888889, 100.        ])"
      ]
     },
     "metadata": {},
     "execution_count": 60
    }
   ],
   "metadata": {}
  },
  {
   "cell_type": "code",
   "execution_count": 61,
   "source": [
    "# 테스트 할때 유용 별 5개 (예제 코드 작성시)\r\n",
    "#np.logspace(시작, 끝, 개수, base)#로그 스케일 값으로 배열 생성\r\n",
    "\r\n",
    "print(np.logspace(start=1,stop=10,num=10)) #base가 생략(기본값 10)\r\n",
    "print(np.logspace(start=1,stop=10,num=10, base=10))\r\n",
    "print(\"=\"*50)\r\n",
    "print(np.logspace(start=1,stop=10,num=10, base=2))  #base가 2"
   ],
   "outputs": [
    {
     "output_type": "stream",
     "name": "stdout",
     "text": [
      "[1.e+01 1.e+02 1.e+03 1.e+04 1.e+05 1.e+06 1.e+07 1.e+08 1.e+09 1.e+10]\n",
      "[1.e+01 1.e+02 1.e+03 1.e+04 1.e+05 1.e+06 1.e+07 1.e+08 1.e+09 1.e+10]\n",
      "==================================================\n",
      "[   2.    4.    8.   16.   32.   64.  128.  256.  512. 1024.]\n"
     ]
    }
   ],
   "metadata": {}
  },
  {
   "cell_type": "code",
   "execution_count": 62,
   "source": [
    "#전치행렬:행과열을 바꾸어놓은 행렬, T속성을 이용\r\n",
    "#1~6까지 2행3열 행렬생성\r\n",
    "X=np.arange(1,7).reshape((2,3))\r\n",
    "X.T\r\n"
   ],
   "outputs": [
    {
     "output_type": "execute_result",
     "data": {
      "text/plain": [
       "array([[1, 4],\n",
       "       [2, 5],\n",
       "       [3, 6]])"
      ]
     },
     "metadata": {},
     "execution_count": 62
    }
   ],
   "metadata": {}
  },
  {
   "cell_type": "code",
   "execution_count": 65,
   "source": [
    "#엘리먼트 와이즈 프로덕\r\n",
    "#element wise product : 요소간 곱셈 연산\r\n",
    "\r\n",
    "#닷 프로덕, 매트릭스 멀티플라이(행렬의 곱셈)\r\n",
    "#dot product, matrix multiply\r\n",
    "\r\n",
    "x=np.arange(12)\r\n",
    "print(x.reshape(3,4))\r\n",
    "print(\"=\"* 50)\r\n",
    "\r\n",
    "\r\n",
    "x=np.arange(12)\r\n",
    "print(x.reshape(3,-1)) # arange(12에 대한 행은 3행)\r\n",
    "print(\"=\"* 50)\r\n",
    "print(x.reshape(4, -1)) # arange(12에 대한 행은 4행)\r\n",
    "print(\"=\"* 50)\r\n",
    "print(x.reshape(-1, 2)) #열은 2개, 행은 네가 계산해서 알아서 해\r\n",
    "print(\"=\"* 50)"
   ],
   "outputs": [
    {
     "output_type": "stream",
     "name": "stdout",
     "text": [
      "[[ 0  1  2  3]\n",
      " [ 4  5  6  7]\n",
      " [ 8  9 10 11]]\n",
      "==================================================\n",
      "[[ 0  1  2  3]\n",
      " [ 4  5  6  7]\n",
      " [ 8  9 10 11]]\n",
      "==================================================\n",
      "[[ 0  1  2]\n",
      " [ 3  4  5]\n",
      " [ 6  7  8]\n",
      " [ 9 10 11]]\n",
      "==================================================\n",
      "[[ 0  1]\n",
      " [ 2  3]\n",
      " [ 4  5]\n",
      " [ 6  7]\n",
      " [ 8  9]\n",
      " [10 11]]\n",
      "==================================================\n"
     ]
    }
   ],
   "metadata": {}
  },
  {
   "cell_type": "code",
   "execution_count": 67,
   "source": [
    "x=np.arange(24)\r\n",
    "print(x)\r\n",
    "print(\"=\"* 50)\r\n",
    "print(x.reshape(2,3,-1)) # 깊이 2, 3행\r\n",
    "print(\"=\"* 50)\r\n",
    "print(x.reshape(2,-1, 3)) # 깊이 2, ,3열 \r\n",
    "print(\"=\"* 50)"
   ],
   "outputs": [
    {
     "output_type": "stream",
     "name": "stdout",
     "text": [
      "[ 0  1  2  3  4  5  6  7  8  9 10 11 12 13 14 15 16 17 18 19 20 21 22 23]\n",
      "==================================================\n",
      "[[[ 0  1  2  3]\n",
      "  [ 4  5  6  7]\n",
      "  [ 8  9 10 11]]\n",
      "\n",
      " [[12 13 14 15]\n",
      "  [16 17 18 19]\n",
      "  [20 21 22 23]]]\n",
      "==================================================\n",
      "[[[ 0  1  2]\n",
      "  [ 3  4  5]\n",
      "  [ 6  7  8]\n",
      "  [ 9 10 11]]\n",
      "\n",
      " [[12 13 14]\n",
      "  [15 16 17]\n",
      "  [18 19 20]\n",
      "  [21 22 23]]]\n",
      "==================================================\n"
     ]
    }
   ],
   "metadata": {}
  },
  {
   "cell_type": "code",
   "execution_count": 69,
   "source": [
    "#reshape으로 차원을 증가시킬 수 있다\r\n",
    "#ex) reshape함수 : 1차원 배열 -> 다차원 배열\r\n",
    "\r\n",
    "#ex) flatten 또는 ravel함수 : 다차원 배열 -> 1차원 배열\r\n",
    "\r\n",
    "x=x.reshape(2,3,-1)\r\n",
    "print(x.shape)\r\n",
    "print(x.ndim)\r\n",
    "x"
   ],
   "outputs": [
    {
     "output_type": "stream",
     "name": "stdout",
     "text": [
      "(2, 3, 4)\n",
      "3\n"
     ]
    },
    {
     "output_type": "execute_result",
     "data": {
      "text/plain": [
       "array([[[ 0,  1,  2,  3],\n",
       "        [ 4,  5,  6,  7],\n",
       "        [ 8,  9, 10, 11]],\n",
       "\n",
       "       [[12, 13, 14, 15],\n",
       "        [16, 17, 18, 19],\n",
       "        [20, 21, 22, 23]]])"
      ]
     },
     "metadata": {},
     "execution_count": 69
    }
   ],
   "metadata": {}
  },
  {
   "cell_type": "code",
   "execution_count": 70,
   "source": [
    "x.flatten() # 다차원 => 1차원"
   ],
   "outputs": [
    {
     "output_type": "execute_result",
     "data": {
      "text/plain": [
       "array([ 0,  1,  2,  3,  4,  5,  6,  7,  8,  9, 10, 11, 12, 13, 14, 15, 16,\n",
       "       17, 18, 19, 20, 21, 22, 23])"
      ]
     },
     "metadata": {},
     "execution_count": 70
    }
   ],
   "metadata": {}
  },
  {
   "cell_type": "code",
   "execution_count": 71,
   "source": [
    "x.ravel() # 다차원 => 1차원 "
   ],
   "outputs": [
    {
     "output_type": "execute_result",
     "data": {
      "text/plain": [
       "array([ 0,  1,  2,  3,  4,  5,  6,  7,  8,  9, 10, 11, 12, 13, 14, 15, 16,\n",
       "       17, 18, 19, 20, 21, 22, 23])"
      ]
     },
     "metadata": {},
     "execution_count": 71
    }
   ],
   "metadata": {}
  },
  {
   "cell_type": "code",
   "execution_count": 73,
   "source": [
    "# 판다스 \r\n",
    "import pandas as pd\r\n",
    "df=pd.read_csv(\"samsung.csv\")\r\n",
    "df"
   ],
   "outputs": [
    {
     "output_type": "execute_result",
     "data": {
      "text/html": [
       "<div>\n",
       "<style scoped>\n",
       "    .dataframe tbody tr th:only-of-type {\n",
       "        vertical-align: middle;\n",
       "    }\n",
       "\n",
       "    .dataframe tbody tr th {\n",
       "        vertical-align: top;\n",
       "    }\n",
       "\n",
       "    .dataframe thead th {\n",
       "        text-align: right;\n",
       "    }\n",
       "</style>\n",
       "<table border=\"1\" class=\"dataframe\">\n",
       "  <thead>\n",
       "    <tr style=\"text-align: right;\">\n",
       "      <th></th>\n",
       "      <th>Open</th>\n",
       "      <th>High</th>\n",
       "      <th>Low</th>\n",
       "      <th>Close</th>\n",
       "      <th>Adj Close</th>\n",
       "      <th>Volume</th>\n",
       "    </tr>\n",
       "  </thead>\n",
       "  <tbody>\n",
       "    <tr>\n",
       "      <th>0</th>\n",
       "      <td>57000</td>\n",
       "      <td>58800</td>\n",
       "      <td>56400</td>\n",
       "      <td>58600</td>\n",
       "      <td>56560.60547</td>\n",
       "      <td>48431566</td>\n",
       "    </tr>\n",
       "    <tr>\n",
       "      <th>1</th>\n",
       "      <td>60300</td>\n",
       "      <td>60400</td>\n",
       "      <td>58600</td>\n",
       "      <td>59000</td>\n",
       "      <td>56946.68750</td>\n",
       "      <td>36476611</td>\n",
       "    </tr>\n",
       "    <tr>\n",
       "      <th>2</th>\n",
       "      <td>59700</td>\n",
       "      <td>60100</td>\n",
       "      <td>59000</td>\n",
       "      <td>59000</td>\n",
       "      <td>56946.68750</td>\n",
       "      <td>19285354</td>\n",
       "    </tr>\n",
       "    <tr>\n",
       "      <th>3</th>\n",
       "      <td>59500</td>\n",
       "      <td>59600</td>\n",
       "      <td>57700</td>\n",
       "      <td>57900</td>\n",
       "      <td>55884.96875</td>\n",
       "      <td>21943345</td>\n",
       "    </tr>\n",
       "    <tr>\n",
       "      <th>4</th>\n",
       "      <td>57800</td>\n",
       "      <td>57900</td>\n",
       "      <td>56700</td>\n",
       "      <td>56800</td>\n",
       "      <td>54823.25000</td>\n",
       "      <td>21158940</td>\n",
       "    </tr>\n",
       "    <tr>\n",
       "      <th>...</th>\n",
       "      <td>...</td>\n",
       "      <td>...</td>\n",
       "      <td>...</td>\n",
       "      <td>...</td>\n",
       "      <td>...</td>\n",
       "      <td>...</td>\n",
       "    </tr>\n",
       "    <tr>\n",
       "      <th>244</th>\n",
       "      <td>79000</td>\n",
       "      <td>79800</td>\n",
       "      <td>78900</td>\n",
       "      <td>79700</td>\n",
       "      <td>79700.00000</td>\n",
       "      <td>12618790</td>\n",
       "    </tr>\n",
       "    <tr>\n",
       "      <th>245</th>\n",
       "      <td>79700</td>\n",
       "      <td>79900</td>\n",
       "      <td>79200</td>\n",
       "      <td>79300</td>\n",
       "      <td>79300.00000</td>\n",
       "      <td>9098910</td>\n",
       "    </tr>\n",
       "    <tr>\n",
       "      <th>246</th>\n",
       "      <td>79400</td>\n",
       "      <td>79500</td>\n",
       "      <td>78800</td>\n",
       "      <td>78800</td>\n",
       "      <td>78800.00000</td>\n",
       "      <td>10040975</td>\n",
       "    </tr>\n",
       "    <tr>\n",
       "      <th>247</th>\n",
       "      <td>79200</td>\n",
       "      <td>79400</td>\n",
       "      <td>78500</td>\n",
       "      <td>78500</td>\n",
       "      <td>78500.00000</td>\n",
       "      <td>11427693</td>\n",
       "    </tr>\n",
       "    <tr>\n",
       "      <th>248</th>\n",
       "      <td>78300</td>\n",
       "      <td>78900</td>\n",
       "      <td>78100</td>\n",
       "      <td>78300</td>\n",
       "      <td>78300.00000</td>\n",
       "      <td>10204299</td>\n",
       "    </tr>\n",
       "  </tbody>\n",
       "</table>\n",
       "<p>249 rows × 6 columns</p>\n",
       "</div>"
      ],
      "text/plain": [
       "      Open   High    Low  Close    Adj Close    Volume\n",
       "0    57000  58800  56400  58600  56560.60547  48431566\n",
       "1    60300  60400  58600  59000  56946.68750  36476611\n",
       "2    59700  60100  59000  59000  56946.68750  19285354\n",
       "3    59500  59600  57700  57900  55884.96875  21943345\n",
       "4    57800  57900  56700  56800  54823.25000  21158940\n",
       "..     ...    ...    ...    ...          ...       ...\n",
       "244  79000  79800  78900  79700  79700.00000  12618790\n",
       "245  79700  79900  79200  79300  79300.00000   9098910\n",
       "246  79400  79500  78800  78800  78800.00000  10040975\n",
       "247  79200  79400  78500  78500  78500.00000  11427693\n",
       "248  78300  78900  78100  78300  78300.00000  10204299\n",
       "\n",
       "[249 rows x 6 columns]"
      ]
     },
     "metadata": {},
     "execution_count": 73
    }
   ],
   "metadata": {}
  },
  {
   "cell_type": "code",
   "execution_count": 74,
   "source": [
    "samsung=np.loadtxt(\"samsung.csv\", skiprows=1, delimiter=',') # skiprows 옵션 첫번째 줄 스킵\r\n",
    "print(samsung.shape) # 249행 6열 \r\n",
    "samsung\r\n",
    "#samsung 변수에 담긴 배열을 이용하여 오늘 학습한 함수, 열, 행 추출\r\n"
   ],
   "outputs": [
    {
     "output_type": "stream",
     "name": "stdout",
     "text": [
      "(249, 6)\n"
     ]
    },
    {
     "output_type": "execute_result",
     "data": {
      "text/plain": [
       "array([[   57000.     ,    58800.     ,    56400.     ,    58600.     ,\n",
       "           56560.60547, 48431566.     ],\n",
       "       [   60300.     ,    60400.     ,    58600.     ,    59000.     ,\n",
       "           56946.6875 , 36476611.     ],\n",
       "       [   59700.     ,    60100.     ,    59000.     ,    59000.     ,\n",
       "           56946.6875 , 19285354.     ],\n",
       "       ...,\n",
       "       [   79400.     ,    79500.     ,    78800.     ,    78800.     ,\n",
       "           78800.     , 10040975.     ],\n",
       "       [   79200.     ,    79400.     ,    78500.     ,    78500.     ,\n",
       "           78500.     , 11427693.     ],\n",
       "       [   78300.     ,    78900.     ,    78100.     ,    78300.     ,\n",
       "           78300.     , 10204299.     ]])"
      ]
     },
     "metadata": {},
     "execution_count": 74
    }
   ],
   "metadata": {}
  },
  {
   "cell_type": "code",
   "execution_count": 78,
   "source": [
    "df=pd.read_csv(\"train.csv\")\r\n",
    "print(df['Name'])\r\n",
    "print(\"=\"* 50)\r\n",
    "print(df['Name'][0])\r\n",
    "print(\"=\"* 50)\r\n",
    "print(df['Name'][1])\r\n",
    "print(\"=\"* 50)\r\n",
    "print(df['Name'][890])\r\n",
    "print(\"=\"* 50)\r\n",
    "\r\n",
    "print(len(df['Name']))\r\n",
    "print(df['Name'][0])"
   ],
   "outputs": [
    {
     "output_type": "stream",
     "name": "stdout",
     "text": [
      "0                                Braund, Mr. Owen Harris\n",
      "1      Cumings, Mrs. John Bradley (Florence Briggs Th...\n",
      "2                                 Heikkinen, Miss. Laina\n",
      "3           Futrelle, Mrs. Jacques Heath (Lily May Peel)\n",
      "4                               Allen, Mr. William Henry\n",
      "                             ...                        \n",
      "886                                Montvila, Rev. Juozas\n",
      "887                         Graham, Miss. Margaret Edith\n",
      "888             Johnston, Miss. Catherine Helen \"Carrie\"\n",
      "889                                Behr, Mr. Karl Howell\n",
      "890                                  Dooley, Mr. Patrick\n",
      "Name: Name, Length: 891, dtype: object\n",
      "==================================================\n",
      "Braund, Mr. Owen Harris\n",
      "==================================================\n",
      "Cumings, Mrs. John Bradley (Florence Briggs Thayer)\n",
      "==================================================\n",
      "Dooley, Mr. Patrick\n",
      "==================================================\n",
      "891\n",
      "Braund, Mr. Owen Harris\n"
     ]
    }
   ],
   "metadata": {}
  },
  {
   "cell_type": "code",
   "execution_count": null,
   "source": [],
   "outputs": [],
   "metadata": {}
  }
 ],
 "metadata": {
  "orig_nbformat": 4,
  "language_info": {
   "name": "python",
   "version": "3.8.8",
   "mimetype": "text/x-python",
   "codemirror_mode": {
    "name": "ipython",
    "version": 3
   },
   "pygments_lexer": "ipython3",
   "nbconvert_exporter": "python",
   "file_extension": ".py"
  },
  "kernelspec": {
   "name": "python3",
   "display_name": "Python 3.8.8 64-bit ('base': conda)"
  },
  "interpreter": {
   "hash": "74ac2c347abb782a3d2f694c8d9341193b1005c179381ae3abf4a67743d7a946"
  }
 },
 "nbformat": 4,
 "nbformat_minor": 2
}