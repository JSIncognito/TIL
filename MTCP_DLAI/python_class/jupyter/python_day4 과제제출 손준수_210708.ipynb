{
 "cells": [
  {
   "cell_type": "markdown",
   "id": "701cc95a",
   "metadata": {},
   "source": [
    "1.a 리스트에서 중복 숫자를 제거해 보자.\n",
    "a = [1, 1, 1, 2, 2, 3, 3, 3, 4, 4, 5]"
   ]
  },
  {
   "cell_type": "code",
   "execution_count": 7,
   "id": "3ac63d38",
   "metadata": {},
   "outputs": [
    {
     "data": {
      "text/plain": [
       "[1, 2, 3, 4, 5]"
      ]
     },
     "execution_count": 7,
     "metadata": {},
     "output_type": "execute_result"
    }
   ],
   "source": [
    "a = [1, 1, 1, 2, 2, 3, 3, 3, 4, 4, 5]\n",
    "a=list(set(a))\n",
    "a"
   ]
  },
  {
   "cell_type": "markdown",
   "id": "ab5fb4de",
   "metadata": {},
   "source": [
    "2.while문을 사용해 1부터 1000까지의 자연수 중 3의 배수이면서 7의 배수인\n",
    "수의 합을 구해 보자."
   ]
  },
  {
   "cell_type": "code",
   "execution_count": 19,
   "id": "92d62ead",
   "metadata": {},
   "outputs": [
    {
     "name": "stdout",
     "output_type": "stream",
     "text": [
      "23688\n"
     ]
    }
   ],
   "source": [
    "num=0\n",
    "result=0\n",
    "while num<=1000:\n",
    "        num+=1\n",
    "        if num % 21 == 0:\n",
    "            result += num \n",
    "print(result)            \n",
    "            \n",
    "    "
   ]
  },
  {
   "cell_type": "markdown",
   "id": "d653c1ef",
   "metadata": {},
   "source": [
    "3.while문을 사용하여 다음과 같이 별(*)을 표시하는 프로그램을 작성해 보자.\n",
    "*\n",
    "**\n",
    "***\n",
    "****\n",
    "*****"
   ]
  },
  {
   "cell_type": "code",
   "execution_count": 27,
   "id": "d8b5a69b",
   "metadata": {},
   "outputs": [
    {
     "name": "stdout",
     "output_type": "stream",
     "text": [
      "*\n",
      "**\n",
      "***\n",
      "****\n",
      "*****\n"
     ]
    }
   ],
   "source": [
    "cnt = 0\n",
    "while cnt<=4:\n",
    "    cnt+=1\n",
    "    st=\"\"\n",
    "    for i in range(cnt):\n",
    "        st+=\"*\"\n",
    "    print(st)\n"
   ]
  },
  {
   "cell_type": "markdown",
   "id": "89a41fb4",
   "metadata": {},
   "source": [
    "4.for문을 사용해 1부터 100까지의 숫자를 출력해 보자."
   ]
  },
  {
   "cell_type": "code",
   "execution_count": 33,
   "id": "56eebcd5",
   "metadata": {},
   "outputs": [
    {
     "name": "stdout",
     "output_type": "stream",
     "text": [
      "1 2 3 4 5 6 7 8 9 10 11 12 13 14 15 16 17 18 19 20 21 22 23 24 25 26 27 28 29 30 31 32 33 34 35 36 37 38 39 40 41 42 43 44 45 46 47 48 49 50 51 52 53 54 55 56 57 58 59 60 61 62 63 64 65 66 67 68 69 70 71 72 73 74 75 76 77 78 79 80 81 82 83 84 85 86 87 88 89 90 91 92 93 94 95 96 97 98 99 100 \n"
     ]
    }
   ],
   "source": [
    "result = \"\"\n",
    "for i in range(1,101):\n",
    "    result += str(i) + \" \"\n",
    "    \n",
    "print(result)"
   ]
  },
  {
   "cell_type": "markdown",
   "id": "852662c8",
   "metadata": {},
   "source": [
    "5.A 학급에 총 10명의 학생이 있다. 이 학생들의 중간고사 점수는 다음과 같다.\n",
    "[70, 60, 55, 75, 95, 90, 80, 80, 85, 100]\n",
    "for문을 사용하여 A 학급의 평균 점수를 구해 보자."
   ]
  },
  {
   "cell_type": "code",
   "execution_count": 74,
   "id": "561db8ed",
   "metadata": {},
   "outputs": [
    {
     "name": "stdout",
     "output_type": "stream",
     "text": [
      "790\n",
      "평균 : 79.0\n"
     ]
    }
   ],
   "source": [
    "A=[70, 60, 55, 75, 95, 90, 80, 80, 85, 100]\n",
    "ln = len(A)\n",
    "tot=0\n",
    "for a in A:\n",
    "    tot += a\n",
    "print(\"평균 : {0}\".format(tot/ln))\n"
   ]
  },
  {
   "cell_type": "markdown",
   "id": "1571a959",
   "metadata": {},
   "source": [
    "6.자판기(pro, 커피 한 잔에 300원이라 가정, 초기 커피는 10개)\n",
    "돈을 넣어 주세요: 500\n",
    "거스름돈 200를 주고 커피를 줍니다.\n",
    "돈을 넣어 주세요: 300\n",
    "커피를 줍니다.\n",
    "돈을 넣어 주세요: 100\n",
    "돈을 다시 돌려주고 커피를 주지 않습니다.\n",
    "남은 커피의 양은 8개입니다.\n",
    "돈을 넣어 주세요: 0\n",
    "종료합니다"
   ]
  },
  {
   "cell_type": "code",
   "execution_count": 137,
   "id": "b37d1def",
   "metadata": {},
   "outputs": [
    {
     "name": "stdout",
     "output_type": "stream",
     "text": [
      "커피 한 잔에 300원이라 가정, 초기 커피 개수 : 10\n",
      "돈을 넣어 주세요:\n",
      "200\n",
      "돈을 돌려드릴께요. 200 원\n",
      "남은 커피의 양은 10\n",
      "종료합니다.\n"
     ]
    }
   ],
   "source": [
    "coff = 10\n",
    "print(\"커피 한 잔에 300원이라 가정, 초기 커피 개수 : {0}\".format(coff))\n",
    "print(\"돈을 넣어 주세요:\")\n",
    "price = int(input())\n",
    "\n",
    "if price % 300 == 0 and price / 300 != 1: # 넣은 돈이 300원으로 나누어 떨어지고 1개 이상일 경우 \n",
    "    print(\"커피 {0} 잔을 들려요.\".format(int(price/300)))\n",
    "elif price % 300 !=0 and price < 300: # 돈이 적은 경우\n",
    "    print(\"돈을 돌려드릴께요. {0} 원\".format(price))\n",
    "elif price % 300 !=0 and price > 300: # 거스름돈이 있는 경우\n",
    "    print(\"거스름돈 {0} 원과 커피 {1}잔 을 드립니다.\".format(int(price%300), int(price/300)))\n",
    "else:\n",
    "    print(\"받은 돈 {0} 거스름돈 {1} 커피 {2}\".format(price, int(price%300), int(price/300)))\n",
    "    \n",
    "print(\"남은 커피의 양은 {0}\".format(coff-int(price/300)))\n",
    "print(\"종료합니다.\")"
   ]
  }
 ],
 "metadata": {
  "kernelspec": {
   "display_name": "Python 3",
   "language": "python",
   "name": "python3"
  },
  "language_info": {
   "codemirror_mode": {
    "name": "ipython",
    "version": 3
   },
   "file_extension": ".py",
   "mimetype": "text/x-python",
   "name": "python",
   "nbconvert_exporter": "python",
   "pygments_lexer": "ipython3",
   "version": "3.8.8"
  }
 },
 "nbformat": 4,
 "nbformat_minor": 5
}
