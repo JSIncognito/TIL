{
 "cells": [
  {
   "cell_type": "code",
   "execution_count": 2,
   "source": [
    "from bs4 import BeautifulSoup\r\n",
    "import urllib.request as req\r\n",
    "from selenium import webdriver\r\n",
    "import pandas as pd\r\n",
    "import re"
   ],
   "outputs": [],
   "metadata": {}
  },
  {
   "cell_type": "code",
   "execution_count": 3,
   "source": [
    "driver=webdriver.Chrome(\"chromedriver.exe\")\r\n"
   ],
   "outputs": [],
   "metadata": {}
  },
  {
   "cell_type": "code",
   "execution_count": 4,
   "source": [
    "\r\n",
    "url=\"https://www.melon.com/chart/index.htm\"\r\n",
    "# url=\"https://www.naver.com/chart/index.htm\"\r\n",
    "driver.get(url)\r\n",
    "html=driver.page_source"
   ],
   "outputs": [],
   "metadata": {}
  },
  {
   "cell_type": "code",
   "execution_count": 5,
   "source": [
    "soup=BeautifulSoup(html, 'html.parser')\r\n",
    "len(soup.select(\"tr\"))"
   ],
   "outputs": [
    {
     "output_type": "execute_result",
     "data": {
      "text/plain": [
       "101"
      ]
     },
     "metadata": {},
     "execution_count": 5
    }
   ],
   "metadata": {}
  },
  {
   "cell_type": "code",
   "execution_count": 6,
   "source": [
    "songs=soup.select(\"tr\")[1:] #타이틀 제외하고 100곡 저장\r\n",
    "song=songs[0]\r\n",
    "title=song.select(\"a\")\r\n",
    "print(len(title))\r\n",
    "print(title)\r\n",
    "\r\n",
    "len(song.select('span'))\r\n",
    "print(song.select('span > a')[0].string)\r\n",
    "\r\n",
    "len(song.select(\"div\"))\r\n",
    "print(song.select(\"div.ellipsis.rank01 > span > a\")[0].text)\r\n",
    "print(song.select(\"div.ellipsis.rank02 > span > a\")[0].text)"
   ],
   "outputs": [
    {
     "output_type": "stream",
     "name": "stdout",
     "text": [
      "10\n",
      "[<a class=\"image_typeAll\" href=\"javascript:melon.link.goAlbumDetail('10646395');\" title=\"Stay\">\n",
      "<img alt=\"Stay - 페이지 이동\" height=\"60\" onerror=\"WEBPOCIMG.defaultAlbumImg(this);\" src=\"https://cdnimg.melon.co.kr/cm2/album/images/106/46/395/10646395_20210707141710_500.jpg/melon/resize/120/quality/80/optimize\" width=\"60\"/>\n",
      "<span class=\"bg_album_frame\"></span>\n",
      "</a>, <a class=\"btn button_icons type03 song_info\" href=\"javascript:melon.link.goSongDetail('33658563');\" title=\"STAY 곡정보\"><span class=\"none\">곡정보</span></a>, <a href=\"javascript:melon.play.playSong('1000002721',33658563);\" title=\"STAY 재생\">STAY</a>, <a href=\"javascript:melon.link.goArtistDetail('2743730');\" title=\"The Kid LAROI - 페이지 이동\">The Kid LAROI</a>, <a href=\"javascript:melon.link.goArtistDetail('420621');\" title=\"Justin Bieber - 페이지 이동\">Justin Bieber</a>, <a href=\"javascript:melon.link.goArtistDetail('2743730');\" title=\"The Kid LAROI - 페이지 이동\">The Kid LAROI</a>, <a href=\"javascript:melon.link.goArtistDetail('420621');\" title=\"Justin Bieber - 페이지 이동\">Justin Bieber</a>, <a class=\"ellipsis\" href=\"javascript:melon.link.goArtistDetail('2743730');\" title=\"The Kid LAROI 페이지 이동\">The Kid LAROI</a>, <a class=\"ellipsis\" href=\"javascript:melon.link.goArtistDetail('420621');\" title=\"Justin Bieber 페이지 이동\">Justin Bieber</a>, <a href=\"javascript:melon.link.goAlbumDetail('10646395');\" title=\"Stay - 페이지 이동\">Stay</a>]\n",
      "STAY\n",
      "STAY\n",
      "The Kid LAROI\n"
     ]
    }
   ],
   "metadata": {}
  },
  {
   "cell_type": "code",
   "execution_count": 7,
   "source": [
    "# 바라만 본다 - MSG워너비(M.O.M)\r\n",
    "# Next Level - aespa\r\n",
    "# ...\r\n",
    "\r\n",
    "for song in songs[:30]:\r\n",
    "    print(song.select('span > a')[0].string, '-', song.select('div.ellipsis.rank02 > a')[0].string)\r\n"
   ],
   "outputs": [
    {
     "output_type": "stream",
     "name": "stdout",
     "text": [
      "STAY - The Kid LAROI\n",
      "신호등 - 이무진\n",
      "My Universe - Coldplay\n",
      "Permission to Dance - 방탄소년단\n",
      "OHAYO MY NIGHT - 디핵 (D-Hack)\n",
      "Next Level - aespa\n",
      "Butter - 방탄소년단\n",
      "바라만 본다 - MSG워너비(M.O.M)\n",
      "Weekend - 태연 (TAEYEON)\n",
      "낙하 (with 아이유) - AKMU (악뮤)\n",
      "Dynamite - 방탄소년단\n",
      "좋아좋아 - 조정석\n",
      "Peaches (Feat. Daniel Caesar & Giveon) - Justin Bieber\n",
      "Queendom - Red Velvet (레드벨벳)\n",
      "DUMB DUMB - 전소미\n",
      "Bad Habits - Ed Sheeran\n",
      "다정히 내 이름을 부르면 - 경서예지\n",
      "시간을 거슬러 (낮에 뜨는 달 X 케이윌) - 케이윌\n",
      "헤픈 우연 - 헤이즈 (Heize)\n",
      "이제 나만 믿어요 - 임영웅\n",
      "가을 타나 봐 - 이무진\n",
      "Sticker - NCT 127\n",
      "비와 당신 - 이무진\n",
      "롤린 (Rollin') - 브레이브걸스\n",
      "Savage Love (Laxed - Siren Beat) (BTS Remix) - Jawsh 685\n",
      "Dun Dun Dance - 오마이걸 (OH MY GIRL)\n",
      "라일락 - 아이유\n",
      "별빛 같은 나의 사랑아 - 임영웅\n",
      "작은 것들을 위한 시 (Boy With Luv) (Feat. Halsey) - 방탄소년단\n",
      "고백 - 멜로망스\n"
     ]
    }
   ],
   "metadata": {}
  },
  {
   "cell_type": "code",
   "execution_count": 8,
   "source": [
    "###멜론 클롤링 -> 엑셀 저장 -> pandas\r\n",
    "\r\n",
    "driver = webdriver.Chrome('chromedriver.exe')\r\n",
    "url = 'http://www.melon.com/chart/index.htm'\r\n",
    "driver.get(url)     \r\n",
    "\r\n",
    "html = driver.page_source\r\n",
    "soup = BeautifulSoup(html, 'html.parser')  "
   ],
   "outputs": [],
   "metadata": {}
  },
  {
   "cell_type": "code",
   "execution_count": 9,
   "source": [
    "song_data = []\r\n",
    "rank = 1\r\n",
    "\r\n",
    "songs = soup.select('table > tbody > tr')\r\n",
    "for song in songs:                                        \r\n",
    "    title = song.select('div.rank01 > span > a')[0].text\r\n",
    "    singer = song.select('div.rank02 > a')[0].text\r\n",
    "    song_data.append(['Melon', rank, title, singer])\r\n",
    "    rank = rank + 1"
   ],
   "outputs": [],
   "metadata": {}
  },
  {
   "cell_type": "code",
   "execution_count": 10,
   "source": [
    "song_data #리스트의 리스트\r\n",
    "\r\n",
    "# dataframe 저장\r\n",
    "data=pd.DataFrame(song_data, columns=['멜론', '순위', '제목', '가수'])\r\n",
    "print(data.head(10))\r\n",
    "\r\n",
    "data.to_excel(\"melon.xlsx\", index=False)"
   ],
   "outputs": [
    {
     "output_type": "stream",
     "name": "stdout",
     "text": [
      "      멜론  순위                   제목             가수\n",
      "0  Melon   1                 STAY  The Kid LAROI\n",
      "1  Melon   2                  신호등            이무진\n",
      "2  Melon   3          My Universe       Coldplay\n",
      "3  Melon   4  Permission to Dance          방탄소년단\n",
      "4  Melon   5       OHAYO MY NIGHT    디핵 (D-Hack)\n",
      "5  Melon   6           Next Level          aespa\n",
      "6  Melon   7               Butter          방탄소년단\n",
      "7  Melon   8               바라만 본다  MSG워너비(M.O.M)\n",
      "8  Melon   9              Weekend   태연 (TAEYEON)\n",
      "9  Melon  10        낙하 (with 아이유)      AKMU (악뮤)\n"
     ]
    }
   ],
   "metadata": {}
  },
  {
   "cell_type": "code",
   "execution_count": 11,
   "source": [
    "# 유튜브 데이터 추출\r\n",
    "browser=webdriver.Chrome(\"chromedriver.exe\")\r\n",
    "\r\n",
    "## 유투브 랭킹 사이트\r\n",
    "url=\"https://youtube-rank.com/board/bbs/board.php?bo_table=youtube\"\r\n",
    "browser.get(url)\r\n",
    "html=browser.page_source\r\n",
    "soup=BeautifulSoup(html, 'html.parser')\r\n",
    "channelList=soup.select(\"tr\")\r\n",
    "channelList=channelList[1:101] #제목, 사이트 정보 제거하고 \r\n",
    "\r\n",
    "# 순수 랭킹 데이터만 추출하여 저장\r\n",
    "channel=channelList[0]\r\n",
    "len(channelList)\r\n"
   ],
   "outputs": [
    {
     "output_type": "execute_result",
     "data": {
      "text/plain": [
       "100"
      ]
     },
     "metadata": {},
     "execution_count": 11
    }
   ],
   "metadata": {}
  },
  {
   "cell_type": "code",
   "execution_count": 12,
   "source": [
    "category=channel.select(\"p.category\")[0].text.strip()\r\n",
    "title=channel.select(\"h1 > a\")[0].text.strip()\r\n",
    "\r\n",
    "subscriber=channel.select(\".subscriber_cnt\")[0].text\r\n",
    "view=channel.select(\".view_cnt\")[0].text\r\n",
    "video=channel.select(\".video_cnt\")[0].text\r\n",
    "# <td class=\"subscriber_cnt\">6320만</td>\r\n",
    "# <td class=\"view_cnt\">186억2604만</td>\r\n",
    "# <td class=\"video_cnt\">364개</td>\r\n",
    "\r\n",
    "for ch in channelList:\r\n",
    "    category=ch.select(\"p.category\")[0].text.strip()\r\n",
    "    title=ch.select(\"h1 > a\")[0].text.strip()\r\n",
    "    subscriber=ch.select(\".subscriber_cnt\")[0].text\r\n",
    "    view=ch.select(\".view_cnt\")[0].text\r\n",
    "    video=ch.select(\".video_cnt\")[0].text\r\n",
    "    print(title, category, subscriber, view,video)"
   ],
   "outputs": [
    {
     "output_type": "stream",
     "name": "stdout",
     "text": [
      "BLACKPINK [음악/댄스/가수] 6720만 199억1704만 388개\n",
      "HYBE LABELS [음악/댄스/가수] 6150만 193억9727만 671개\n",
      "BANGTANTV [음악/댄스/가수] 5840만 129억4018만 1,609개\n",
      "SMTOWN [음악/댄스/가수] 2880만 222억9875만 3,742개\n",
      "Boram Tube Vlog [보람튜브 브이로그] [키즈/어린이] 2650만 110억5288만 223개\n",
      "1MILLION Dance Studio [음악/댄스/가수] 2430만 67억8025만 3,066개\n",
      "1theK (원더케이) [음악/댄스/가수] 2340만 208억8758만 15,227개\n",
      "JYP Entertainment [음악/댄스/가수] 2210만 141억1101만 1,375개\n",
      "Coldplay [미분류] 2000만 129억4711만 285개\n",
      "Mnet K-POP [음악/댄스/가수] 1860만 134억1184만 26,209개\n",
      "JFlaMusic [음악/댄스/가수] 1730만 34억5075만 279개\n",
      "KBS WORLD TV [TV/방송] 1680만 125억5980만 52,959개\n",
      "officialpsy [음악/댄스/가수] 1510만 87억0061만 91개\n",
      "Jane ASMR 제인 [음식/요리/레시피] 1440만 50억6182만 1,227개\n",
      "BIGBANG [음악/댄스/가수] 1380만 67억3586만 773개\n",
      "TWICE [음악/댄스/가수] 1170만 23억0920만 602개\n",
      "Nao FunFun [키즈/어린이] 1070만 413만 34개\n",
      "Hongyu ASMR 홍유 [음식/요리/레시피] 1050만 29억2858만 397개\n",
      "Stone Music Entertainment [음악/댄스/가수] 1000만 79억9653만 8,074개\n",
      "DuDuPopTOY [키즈/어린이] 994만 44억2393만 1,806개\n",
      "핑크퐁 (인기 동요・동화) [키즈/어린이] 963만 57억9176만 2,272개\n",
      "MBCkpop [TV/방송] 948만 74억6240만 40,913개\n",
      "Larva TUBA [키즈/어린이] 942만 41억0766만 2,914개\n",
      "서은이야기[SeoeunStory] [키즈/어린이] 940만 40억2161만 1,018개\n",
      "Toymong tv 토이몽TV [키즈/어린이] 937만 38억6915만 1,865개\n",
      "The Late Show with Stephen Colbert [미분류] 863만 79억1129만 8,480개\n",
      "Mnet TV [음악/댄스/가수] 844만 93억5530만 18,405개\n",
      "MBCentertainment [뉴스/정치/사회] 842만 145억2793만 86,285개\n",
      "EXO [음악/댄스/가수] 837만 4억8521만 203개\n",
      "iKON [음악/댄스/가수] 836만 21억1799만 468개\n",
      "WIRED [미분류] 828만 26억7465만 3,241개\n",
      "Nintendo [미분류] 809만 27억5869만 5,216개\n",
      "[햄지]Hamzy [음식/요리/레시피] 777만 22억6942만 343개\n",
      "TOMORROW X TOGETHER OFFICIAL [음악/댄스/가수] 776만 4억9884만 779개\n",
      "BBC Radio 1 [미분류] 769만 32억2980만 4,425개\n",
      "M2 [TV/방송] 759만 56억8706만 14,544개\n",
      "MariAndKids [키즈/어린이] 749만 22억9855만 809개\n",
      "Stray Kids [음악/댄스/가수] 744만 11억3661만 502개\n",
      "Serie A [해외] 730만 24억5434만 20,724개\n",
      "SonicToy소닉토이 [키즈/어린이] 720만 29억5906만 164개\n",
      "Travel Thirsty [음식/요리/레시피] 699만 29억6555만 687개\n",
      "SEVENTEEN [음악/댄스/가수] 691만 21억9593만 898개\n",
      "JTBC Entertainment [뉴스/정치/사회] 690만 98억6720만 64,938개\n",
      "이지금 [IU Official] [음악/댄스/가수] 681만 9억9895만 128개\n",
      "Sungha Jung [음악/댄스/가수] 675만 18억7817만 1,268개\n",
      "문복희 Eat with Boki [음식/요리/레시피] 666만 15억1653만 452개\n",
      "쏘영 Ssoyoung [음식/요리/레시피] 663만 9억8483만 574개\n",
      "ALL THE K-POP [음악/댄스/가수] 643만 39억2520만 20,065개\n",
      "YG ENTERTAINMENT [음악/댄스/가수] 643만 16억4195만 389개\n",
      "KBS Kpop [TV/방송] 636만 48억5684만 29,671개\n",
      "MAMAMOO [음악/댄스/가수] 617만 16억7920만 612개\n",
      "GOT7 [음악/댄스/가수] 608만 7억6398만 579개\n",
      "스브스케이팝 / SBS KPOP [TV/방송] 597만 40억0726만 26,568개\n",
      "PONY Syndrome [패션/미용] 586만 3억5711만 192개\n",
      "Samsung [회사/오피셜] 583만 10억6402만 1,576개\n",
      "tvN drama [TV/방송] 581만 56억0236만 35,658개\n",
      "SBS Entertainment [TV/방송] 581만 68억0693만 217,367개\n",
      "PSG - Paris Saint-Germain [미분류] 575만 6억1597만 4,125개\n",
      "ITZY [음악/댄스/가수] 575만 10억1286만 435개\n",
      "스위트티비 SweetTV [키즈/어린이] 562만 26억8143만 506개\n",
      "SBS Drama [TV/방송] 560만 58억8869만 341,112개\n",
      "[장난감티비]TOYTV [키즈/어린이] 550만 26억8473만 1,484개\n",
      "미니특공대TV [키즈/어린이] 549만 30억8597만 1,125개\n",
      "2NE1 [음악/댄스/가수] 533만 19억6546만 321개\n",
      "백종원의 요리비책 Paik's Cuisine [음식/요리/레시피] 518만 5억4518만 346개\n",
      "콩순이 • 시크릿 쥬쥬 [Kongsuni • Secret Jouju] [키즈/어린이] 517만 45억4326만 1,253개\n",
      "[Awesome Haeun]어썸하은 [BJ/인물/연예인] 515만 8억0436만 494개\n",
      "야미보이 Yummyboy [음식/요리/레시피] 508만 18억2523만 866개\n",
      "ToyMart TV [키즈/어린이] 494만 21억4877만 651개\n",
      "starshipTV [음악/댄스/가수] 482만 28억0581만 1,968개\n",
      "베이비버스 -인기 동요・동화 [키즈/어린이] 475만 32억0290만 1,297개\n",
      "BT21 [음악/댄스/가수] 466만 3억7574만 200개\n",
      "SBS NOW / SBS 공식 채널 [뉴스/정치/사회] 465만 46억2828만 20,068개\n",
      "TOY GUMA [키즈/어린이] 464만 15억3978만 306개\n",
      "KBS Entertain [TV/방송] 451만 71억8552만 100,829개\n",
      "떵개떵 [음식/요리/레시피] 451만 25억4571만 4,368개\n",
      "Red Velvet [음악/댄스/가수] 449만 6억5088만 150개\n",
      "ASTRO 아스트로 [음악/댄스/가수] 446만 4억2649만 441개\n",
      "뽀로로(Pororo) [키즈/어린이] 442만 59억5338만 3,630개\n",
      "TREASURE (트레저) [음악/댄스/가수] 439만 8억6261만 256개\n",
      "MBCdrama [TV/방송] 438만 49억5088만 54,265개\n",
      "tzuyang쯔양 [음식/요리/레시피] 436만 5억9003만 255개\n",
      "푸메Fume [음식/요리/레시피] 435만 8억8411만 476개\n",
      "하루한끼 one meal a day [음식/요리/레시피] 433만 4억1676만 166개\n",
      "NCT [음악/댄스/가수] 431만 2억9137만 227개\n",
      "영국남자 Korean Englishman [BJ/인물/연예인] 431만 13억9052만 436개\n",
      "With Kids Playground [위드키즈 놀이터] [키즈/어린이] 428만 16억1102만 404개\n",
      "채널 NCT DAILY [TV/방송] 424만 7억3925만 467개\n",
      "슈슈토이 Shushu ToysReview [키즈/어린이] 424만 15억7633만 598개\n",
      "Cooking tree 쿠킹트리 [음식/요리/레시피] 421만 3억8604만 1,148개\n",
      "Raon Lee [음악/댄스/가수] 421만 9억3291만 296개\n",
      "EA SPORTS FIFA [미분류] 420만 7억9799만 794개\n",
      "SBS TV동물농장x애니멀봐 [애완/반려동물] 416만 38억0327만 3,055개\n",
      "JTBC Drama [TV/방송] 415만 42억5558만 22,693개\n",
      "[Dorothy]도로시 [음식/요리/레시피] 415만 9억9091만 905개\n",
      "까니짱 [ G-NI ] [음식/요리/레시피] 412만 10억5924만 500개\n",
      "로미유 스토리[Romiyu Story] [키즈/어린이] 410만 10억7483만 433개\n",
      "NCT DREAM [음악/댄스/가수] 404만 4억2113만 236개\n",
      "NCT 127 [음악/댄스/가수] 393만 3억6903만 240개\n",
      "JaeYeol ASMR 재열 [취미/라이프] 388만 10억5398만 987개\n"
     ]
    }
   ],
   "metadata": {}
  },
  {
   "cell_type": "markdown",
   "source": [
    "#### URL의 구성요소 및 GET, POST 방식의 차이점 \r\n",
    "* 소스코드를 통해 두가지 방식을 확인해 보았다. 차이점에 대해 정리를 해보면 이렇다.\r\n",
    "\r\n",
    "---\r\n",
    "* <GET 방식>\r\n",
    " * 입력한 데이터를 URL에 붙여서 전송한다. 데이터가 다 보이므로 보안에 취약하다.\r\n",
    " * 전송할 수 있는 데이터는 256바이트를 넘을 수 없다.\r\n",
    " * 전송속도는 POST방식 보다 빠르다.\r\n",
    "* ① URL에 같이 붙여서 넘겨주는 방식\r\n",
    "* ② 데이터의 길이가 한정 되어 있음(255byte)\r\n",
    "* ③ 보안에 취약함(URL에 보임)\r\n",
    "* ④ 기본적으로 한글이 잘 전송됨\r\n",
    "\r\n",
    "---\r\n",
    "*<POST방식>\r\n",
    " * 입력한 데이터를 본문안에 포함해서 전송한다.\r\n",
    " * 입력한 데이터가 URL에 보이지 않으므로 GET방식 보다 보안에 우수하다.\r\n",
    " * 전송할 데이터의 길이에 제한이 없다.\r\n",
    " * 복잡한 형태의 데이터를 전송할 때 유용하다.\r\n",
    "* ​① HTTP 헤더에 붙여서 포장 되어 값이 넘어감\r\n",
    "* ② 데이터를 숨길 수 있음(URL에 보이지 않음)\r\n",
    "* ③ 대용량을 보낼때 사용\r\n",
    "* ④ 기본적으로 한글이 깨짐\r\n",
    "\r\n",
    "---\r\n",
    "* 출처: https://all-record.tistory.com/100 [세상의 모든 기록]\r\n",
    "* 출처: https://all-record.tistory.com/100 [세상의 모든 기록]\r\n",
    "* https://m.blog.naver.com/PostView.naver?isHttpsRedirect=true&blogId=sthox18&logNo=221208268060"
   ],
   "metadata": {}
  },
  {
   "cell_type": "code",
   "execution_count": 13,
   "source": [
    "# page 변경 방법 / Get 방식 파라미터 넘겨주기  \r\n",
    "page=1\r\n",
    "url=\"https://youtube-rank.com/board/bbs/board.php?bo_table=youtube&page={}\".format(page)\r\n",
    "url"
   ],
   "outputs": [
    {
     "output_type": "execute_result",
     "data": {
      "text/plain": [
       "'https://youtube-rank.com/board/bbs/board.php?bo_table=youtube&page=1'"
      ]
     },
     "metadata": {},
     "execution_count": 13
    }
   ],
   "metadata": {}
  },
  {
   "cell_type": "code",
   "execution_count": 14,
   "source": [
    "import time\r\n",
    "\r\n",
    "\r\n",
    "# chromedriver 페이지 이동\r\n",
    "data=[]\r\n",
    "for page in range(1,11):\r\n",
    "    url=\"https://youtube-rank.com/board/bbs/board.php?bo_table=youtube&page={}\".format(page)\r\n",
    "    #print(url)\r\n",
    "    browser.get(url) #서버 접속하여 페이지를 가져옴(2초 이내에)\r\n",
    "    time.sleep(2)\r\n",
    "    #여러 페이지를 읽을때 주의, 인위적으로 delay\r\n",
    "    html=browser.page_source #가져온 페이지의 소스코드를 저장\r\n",
    "    soup=BeautifulSoup(html, 'html.parser')\r\n",
    "    channelList=soup.select(\"tr\")\r\n",
    "    channelList=channelList[1:101] \r\n",
    "    for ch in channelList:\r\n",
    "        category=ch.select(\"p.category\")[0].text.strip()\r\n",
    "        title=ch.select(\"h1 > a\")[0].text.strip()\r\n",
    "        subscriber=ch.select(\".subscriber_cnt\")[0].text\r\n",
    "        view=ch.select(\".view_cnt\")[0].text\r\n",
    "        video=ch.select(\".video_cnt\")[0].text\r\n",
    "        data.append([title, category, subscriber, view, video])\r\n",
    "        #print(title, category, subscriber, view,video)\r\n",
    "        \r\n",
    "    #print(\"-\"*100)    "
   ],
   "outputs": [],
   "metadata": {}
  },
  {
   "cell_type": "code",
   "execution_count": 15,
   "source": [
    "data[999]\r\n",
    "df=pd.DataFrame(data)\r\n",
    "df.columns=['title','category','subscriber','view','video']\r\n",
    "df.to_excel(\"youtube_rank.xlsx\", index=False)"
   ],
   "outputs": [],
   "metadata": {}
  },
  {
   "cell_type": "code",
   "execution_count": 16,
   "source": [
    "#sns data 추출\r\n",
    "#인스타그램\r\n",
    "\r\n",
    "driver=webdriver.Chrome(\"chromedriver.exe\")\r\n",
    "driver.get(\"https://www.instagram.com\")\r\n",
    "time.sleep(2)\r\n",
    "\r\n",
    "email=\"01092293218\"\r\n",
    "inputId=driver.find_elements_by_css_selector(\"#loginForm > div > div > div > label > input\")[0]\r\n",
    "inputId.clear()\r\n",
    "inputId.send_keys(email)\r\n",
    "\r\n",
    "password=\"@thswnstn87\"\r\n",
    "inputPw=driver.find_elements_by_css_selector(\"#loginForm > div > div > div > label > input\")[1]\r\n",
    "inputPw.clear()                               \r\n",
    "inputPw.send_keys(password)\r\n",
    "inputPw.submit()\r\n",
    "time.sleep(2)"
   ],
   "outputs": [],
   "metadata": {}
  },
  {
   "cell_type": "code",
   "execution_count": 20,
   "source": [
    "word=\"울릉도맛집\"\r\n",
    "url=\"https://www.instagram.com/explore/tags/\"+ word\r\n",
    "driver.get(url)\r\n"
   ],
   "outputs": [],
   "metadata": {}
  },
  {
   "cell_type": "code",
   "execution_count": 21,
   "source": [
    "first=driver.find_element_by_css_selector(\"div._9AhH0\")\r\n",
    "first.click()\r\n",
    "time.sleep(2)\r\n",
    "#react-root > section > main > article > div.EZdmt > div > div > div > div > a > div.eLAPa > div._9AhH0\r\n",
    "\r\n",
    "right=driver.find_element_by_css_selector(\"a._65Bje.coreSpriteRightPaginationArrow\")\r\n",
    "right.click()\r\n",
    "time.sleep(2)"
   ],
   "outputs": [],
   "metadata": {}
  },
  {
   "cell_type": "code",
   "execution_count": null,
   "source": [
    "#인스타그램 접속(아이디/비밀번호) -> 검색어 : 칸쿤 맛집 -> \r\n",
    "\r\n",
    "# 첫번째 검색 페이지에서 좋아요, 작성일 추출 -> 출력\r\n",
    "#adv.  5개 페이지에 대해서 동일한 작업 수행"
   ],
   "outputs": [],
   "metadata": {}
  },
  {
   "cell_type": "code",
   "execution_count": 22,
   "source": [
    "def insta_searching(word):    \r\n",
    "    url = 'https://www.instagram.com/explore/tags/' + word\r\n",
    "    return url \r\n",
    "\r\n",
    "def select_first(driver):\r\n",
    "    time.sleep(3)\r\n",
    "    first = driver.find_element_by_css_selector(\"div._9AhH0\")\r\n",
    "    first.click()\r\n",
    "    time.sleep(3)  \r\n"
   ],
   "outputs": [],
   "metadata": {}
  },
  {
   "cell_type": "code",
   "execution_count": 25,
   "source": [
    "word = \"제주도맛집\"\r\n",
    "url = insta_searching(word)\r\n",
    "driver.get(url)\r\n",
    "time.sleep(2)\r\n",
    "\r\n",
    "select_first(driver)"
   ],
   "outputs": [],
   "metadata": {}
  },
  {
   "cell_type": "code",
   "execution_count": 26,
   "source": [
    "#모든 게시물에 대해 공통적으로 작업\r\n",
    "#html페이지 가져오기\r\n",
    "#본문 가져오기\r\n",
    "#해시태그 가져오기\r\n",
    "#작성일자 가져오기\r\n",
    "\r\n",
    "#  샵(#)기호로 시작하는 해시태그를 추출하여 리스트에 저장\r\n",
    "def getContent(driver):\r\n",
    "    html=driver.page_source\r\n",
    "    soup=BeautifulSoup(html, 'html.parser')\r\n",
    "    content=soup.select(\"div.C4VMK\")[0].text\r\n",
    "    tags = re.findall(\"#\\w+\", content)\r\n",
    "    #tags=re.findall(\"[#][ㄱ-힣A-Za-z]+\",content)\r\n",
    "    #tags=re.findall(\"#[\\w]+[ ]*\", content)\r\n",
    "    #print(tags)\r\n",
    "    \r\n",
    "    #print(soup.select(\"time.FH9sR.Nzb55\")[0])\r\n",
    "    #print(soup.select(\"time._1o9PC.Nzb55\")[0].attrs['datetime'][:10])\r\n",
    "    date=soup.select(\"time._1o9PC.Nzb55\")[0]['datetime'][:10]#type:str\r\n",
    "    \r\n",
    "    #print(soup.select(\"div.C4VMK\")[0].text)\r\n",
    "    #print(soup)    \r\n",
    "    data=[content, tags, date]\r\n",
    "    return data #본문,해시태그,작성일자"
   ],
   "outputs": [],
   "metadata": {}
  },
  {
   "cell_type": "code",
   "execution_count": 27,
   "source": [
    "getContent(driver)"
   ],
   "outputs": [
    {
     "output_type": "execute_result",
     "data": {
      "text/plain": [
       "['jejuyogi_.🔥산방산 돗통🔥솥뚜껑에 흑돼지 한번 구어먹어봤어?안먹어 봤으면 말을 말어~~ 완젼 끝내준다니깐!!? 한번 드셔볼텨??주소:제주 서귀포시 안덕면 사계북로 41번길189..#제주맛집 #제주도맛집 #제주공항근처맛집 #제주시맛집 #애월맛집 #중문맛집 #제주공항맛집 #서귀포맛집 #산방산맛집 #신제주맛집 #제주시청맛집 #제주애월맛집 #월정리맛집 #제주여행 #제주핫플10시간',\n",
       " ['#제주맛집',\n",
       "  '#제주도맛집',\n",
       "  '#제주공항근처맛집',\n",
       "  '#제주시맛집',\n",
       "  '#애월맛집',\n",
       "  '#중문맛집',\n",
       "  '#제주공항맛집',\n",
       "  '#서귀포맛집',\n",
       "  '#산방산맛집',\n",
       "  '#신제주맛집',\n",
       "  '#제주시청맛집',\n",
       "  '#제주애월맛집',\n",
       "  '#월정리맛집',\n",
       "  '#제주여행',\n",
       "  '#제주핫플10시간'],\n",
       " '2021-09-25']"
      ]
     },
     "metadata": {},
     "execution_count": 27
    }
   ],
   "metadata": {}
  },
  {
   "cell_type": "code",
   "execution_count": 28,
   "source": [
    "# \r\n",
    "def move_next(driver):\r\n",
    "    right = driver.find_element_by_css_selector ('a.coreSpriteRightPaginationArrow')\r\n",
    "    right.click()\r\n",
    "    time.sleep(3)\r\n",
    "\r\n",
    "move_next(driver)"
   ],
   "outputs": [],
   "metadata": {}
  },
  {
   "cell_type": "code",
   "execution_count": 29,
   "source": [
    "word = \"제주도맛집\"   \r\n",
    "url = insta_searching(word)\r\n",
    "driver.get(url)\r\n",
    "time.sleep(3)\r\n",
    "select_first(driver)\r\n",
    "\r\n",
    "results = [ ]\r\n",
    "target = 50 \r\n",
    "\r\n",
    "for i in range(target):\r\n",
    "    try:\r\n",
    "        data = getContent(driver) #웹페이지 -> 소스코드 읽어오게 됨\r\n",
    "        results.append(data)\r\n",
    "        move_next(driver)\r\n",
    "    except:\r\n",
    "        time.sleep(1) #일단 좀 쉬다가...\r\n",
    "        print(\"예외발생!\")\r\n",
    "        move_next(driver) #그냥 다음 페이지로 이동해\r\n",
    "#다른 외부 요인(ex. 네트워크 문제 등)에 의해 게시글 읽어들이는 과정에서 에러가 발생할 수도 있음\r\n",
    "#이런 경우를 예외상황 이라고 함.\r\n",
    "#예외 처리 : 예외 상황을 미리 예상하여 대처하도록 하는 것\r\n",
    "#try:\r\n",
    "#      예외상황이 발생할 여지가 있는 코드  \r\n",
    "#except:\r\n",
    "#     예외 상황 처리 코드\r\n",
    "print(results[:3])"
   ],
   "outputs": [
    {
     "output_type": "stream",
     "name": "stdout",
     "text": [
      "예외발생!\n",
      "[['jejuyogi_.🔥산방산 돗통🔥솥뚜껑에 흑돼지 한번 구어먹어봤어?안먹어 봤으면 말을 말어~~ 완젼 끝내준다니깐!!? 한번 드셔볼텨??주소:제주 서귀포시 안덕면 사계북로 41번길189..#제주맛집 #제주도맛집 #제주공항근처맛집 #제주시맛집 #애월맛집 #중문맛집 #제주공항맛집 #서귀포맛집 #산방산맛집 #신제주맛집 #제주시청맛집 #제주애월맛집 #월정리맛집 #제주여행 #제주핫플10시간', ['#제주맛집', '#제주도맛집', '#제주공항근처맛집', '#제주시맛집', '#애월맛집', '#중문맛집', '#제주공항맛집', '#서귀포맛집', '#산방산맛집', '#신제주맛집', '#제주시청맛집', '#제주애월맛집', '#월정리맛집', '#제주여행', '#제주핫플10시간'], '2021-09-25'], ['atozzang_g#광고 #함덕 [가성비 끝판왕]은 바로 여기에요?⠀⠀⠀⠀⠀⠀⠀함덕해수욕장에서 딱 3초 거리에 있는 #계절식탁함덕점 입니다영롱한 에메랄드빛 바다를 바라보면 뭘 먹어도 꿀맛이겠지만❝이미 현지인들에게 검증 끝난 맛❞이라고 하니 왠지 믿음직⠀⠀⠀⠀⠀⠀⠀돼지력 만렙인 분들을 위한 ⭐️계절식탁한상⭐️을 주문하면딱새우회+고등어회+뿔소라+전복회+돔베고기+탕(또는 물회)⭐️제주한상⭐️을 주문하면 각종 사시미와 통갈치구이까지전부 맛볼 수 있다니 가성비를 넘은 갓성비의 영역 아닌가요 !⠀⠀⠀⠀⠀⠀⠀아시겠지만 #고등어회 는 무/조/건 제주도에서 드셔야 해요오1️⃣담백하게 구운김 위에 찰진 흑미밥(양념밥)을 즉당히 올리고2️⃣꼬숩한 고등어회를 취향껏 소스에 푹- 담가서 밥 위에 얹고3️⃣알싸한 생마늘과 매콤한 청양고추를 쌈장과 함께 더하거나4️⃣새콤한 백김치까지 곁들이면 천국 갑니다 레알루다가😇♥️+) 비린거 극혐하는데 여긴 고등어회의 새역사를 쓴 곳이에요 !⠀⠀⠀⠀⠀⠀⠀꼬독꼬독한 식감천재 전복회도, 달달한 딱새우회도 ㅠ존맛탱ㅠ야시장에서 세일+떨이하던 것과는 차원이 다른 달달함이었어요쬰득한 살이 입 안에서 솜사탕처럼 사rr 녹아버리는 식감은 덤,,⠀⠀⠀⠀⠀⠀⠀주로 회가 메인이라서 전혀 기대하지 않았던 #돔베고기 도웬만한 전문점 못지않은 맛이라 넋을 놓고 먹었습니다(잡내❌)⠀⠀⠀⠀⠀⠀⠀대낮부터 거국적으로 달리다보니, 탕보단 물회가 땡겼는데양이 흘러넘치다 못해 그릇이 터질것만 같은 저 비줠 좀 보세요살얼음으로 쇼부 보는 집 아닙니다 각종 회로 가득 차있다구여쫄깃한 중면을 써서 약간 냉짬뽕st이라 개운하고~! 시원하고~과음신호 부릉부릉하며 소주를 마구마구 끌어들이는 맛입니다⠀⠀⠀⠀⠀⠀⠀사실 #제주 에서 #함덕해수욕장 예쁜거 모르는 사람 없지만 ,,관광지로 소문난 곳이라 정작 갈만한 식당이 마땅치 않잖아요?맛+비주얼+오션뷰까지 만족할 수 있는 계절식탁 추천드립니다⠀⠀⠀⠀⠀⠀⠀📍제주시 조천읍 조함해안로 510(함덕리 1004-41) 2층☎️ 0507-1432-6577🕰 매일 11:00 - 22:00⠀⠀⠀⠀⠀⠀⠀#아토짱_제주 #제주도맛집 #함덕맛집 #함덕횟집 #함덕술집#고등어회맛집 #제주물회맛집 #함덕맛집추천 #제주갈치맛집#갈치구이맛집 #제주도딱새우 #딱새우맛집 #제주현지인맛집2일', ['#광고', '#함덕', '#계절식탁함덕점', '#고등어회', '#돔베고기', '#제주', '#함덕해수욕장', '#아토짱_제주', '#제주도맛집', '#함덕맛집', '#함덕횟집', '#함덕술집', '#고등어회맛집', '#제주물회맛집', '#함덕맛집추천', '#제주갈치맛집', '#갈치구이맛집', '#제주도딱새우', '#딱새우맛집', '#제주현지인맛집2일'], '2021-09-23'], ['travellerjun제주. 제주시 구좌읍 월정리에 위치한 #구좌상회. since2015. 당근과 견과류를 다져 넣은 촉촉한 시트의 당근케이크. 케이크의 단맛이 적고 담백해서 질리지 않는 맛. 당근 파운드케이크로도 괜찮을 듯. 다른 3단 케이크에 비해 치즈크림이 적은 편인데도 케이크로서 충분한 맛. 분위기 좋은곳에서 맛있게 잘먹고 갑니다. 제 점수는요~ 5점만점에 4점 드릴게요~^^1일', ['#구좌상회'], '2021-09-24']]\n"
     ]
    }
   ],
   "metadata": {}
  },
  {
   "cell_type": "code",
   "execution_count": 30,
   "source": [
    "# 엑셀 파일 저장 \r\n",
    "df=pd.DataFrame(results)\r\n",
    "# df\r\n",
    "df.columns=['content', 'tags', 'date']\r\n",
    "df.to_excel(\"result.xlsx\", index=False)\r\n"
   ],
   "outputs": [],
   "metadata": {}
  },
  {
   "cell_type": "code",
   "execution_count": 33,
   "source": [
    "raw_total=pd.read_excel(\"1_crawling_raw.xlsx\")\r\n",
    "raw_total['tags']\r\n",
    "raw_total['tags'][0]"
   ],
   "outputs": [
    {
     "output_type": "execute_result",
     "data": {
      "text/plain": [
       "\"['#제주핫플레이스', '#제주여행', '#제주여행', '#제주도여행', '#제주가볼만한곳', '#제주도핫플', '#제주여행코스', '#제주공항', '#제주도맛집', '#제주맛집', '#제주스냅', '#제주풍경', '#제주사진', '#제주카페', '#제주도카페', '#산굼부리', '#제주도바다', '#귤체험', '#우도', '#제주관광', '#제주도여향지', '#제주여행중', '#삼육오빠', '#제주앓이']\""
      ]
     },
     "metadata": {},
     "execution_count": 33
    }
   ],
   "metadata": {}
  },
  {
   "cell_type": "code",
   "execution_count": 34,
   "source": [
    "tags_total=[]\r\n",
    "# raw_total['tags'][0]\r\n",
    "# raw_total['tags'][8800]\r\n",
    "# 태그 분류 \r\n",
    "for tags in raw_total['tags']:\r\n",
    "    tagsList=tags[2:-2].split(\"', '\")\r\n",
    "    for tag in tagsList:\r\n",
    "        tags_total.append(tag)\r\n",
    "        \r\n",
    "    #\"['#제주핫플레이스', '#제주여행', '#제주여행', '#제주도여행', '#제주가볼만한곳', '#제주도핫플', '#제주여행코스', '#제주공항', '#제주도맛집', '#제주맛집', '#제주스냅', '#제주풍경', '#제주사진', '#제주카페', '#제주도카페', '#산굼부리', '#제주도바다', '#귤체험', '#우도', '#제주관광', '#제주도여향지', '#제주여행중', '#삼육오빠', '#제주앓이']\"\r\n",
    "#     print(len(tags))\r\n",
    "    #가장 많이 등장한 해시태그?\r\n",
    "    #빈도수 조사"
   ],
   "outputs": [],
   "metadata": {}
  },
  {
   "cell_type": "code",
   "execution_count": 36,
   "source": [
    "from collections import Counter\r\n",
    "print(len(tags_total)) #149495 개 해시태그\r\n",
    "Counter(tags_total)\r\n",
    "Counter(tags_total).most_common(50)\r\n",
    "jejuDf=pd.DataFrame(Counter(tags_total).most_common(50))\r\n",
    "jejuDf.columns=['tags', 'counts']\r\n",
    "jejuDf"
   ],
   "outputs": [
    {
     "output_type": "stream",
     "name": "stdout",
     "text": [
      "149495\n"
     ]
    },
    {
     "output_type": "execute_result",
     "data": {
      "text/html": [
       "<div>\n",
       "<style scoped>\n",
       "    .dataframe tbody tr th:only-of-type {\n",
       "        vertical-align: middle;\n",
       "    }\n",
       "\n",
       "    .dataframe tbody tr th {\n",
       "        vertical-align: top;\n",
       "    }\n",
       "\n",
       "    .dataframe thead th {\n",
       "        text-align: right;\n",
       "    }\n",
       "</style>\n",
       "<table border=\"1\" class=\"dataframe\">\n",
       "  <thead>\n",
       "    <tr style=\"text-align: right;\">\n",
       "      <th></th>\n",
       "      <th>tags</th>\n",
       "      <th>counts</th>\n",
       "    </tr>\n",
       "  </thead>\n",
       "  <tbody>\n",
       "    <tr>\n",
       "      <th>0</th>\n",
       "      <td>#제주맛집</td>\n",
       "      <td>3750</td>\n",
       "    </tr>\n",
       "    <tr>\n",
       "      <th>1</th>\n",
       "      <td>#제주도맛집</td>\n",
       "      <td>3467</td>\n",
       "    </tr>\n",
       "    <tr>\n",
       "      <th>2</th>\n",
       "      <td>#제주여행</td>\n",
       "      <td>3204</td>\n",
       "    </tr>\n",
       "    <tr>\n",
       "      <th>3</th>\n",
       "      <td>#제주관광</td>\n",
       "      <td>2898</td>\n",
       "    </tr>\n",
       "    <tr>\n",
       "      <th>4</th>\n",
       "      <td>#제주도</td>\n",
       "      <td>2096</td>\n",
       "    </tr>\n",
       "    <tr>\n",
       "      <th>5</th>\n",
       "      <td>#제주</td>\n",
       "      <td>1567</td>\n",
       "    </tr>\n",
       "    <tr>\n",
       "      <th>6</th>\n",
       "      <td>#제주도여행</td>\n",
       "      <td>1555</td>\n",
       "    </tr>\n",
       "    <tr>\n",
       "      <th>7</th>\n",
       "      <td>#서귀포맛집</td>\n",
       "      <td>1392</td>\n",
       "    </tr>\n",
       "    <tr>\n",
       "      <th>8</th>\n",
       "      <td>#제주도가볼만한곳</td>\n",
       "      <td>1047</td>\n",
       "    </tr>\n",
       "    <tr>\n",
       "      <th>9</th>\n",
       "      <td>#서귀포</td>\n",
       "      <td>872</td>\n",
       "    </tr>\n",
       "    <tr>\n",
       "      <th>10</th>\n",
       "      <td>#제주핫플레이스</td>\n",
       "      <td>848</td>\n",
       "    </tr>\n",
       "    <tr>\n",
       "      <th>11</th>\n",
       "      <td>#jeju</td>\n",
       "      <td>776</td>\n",
       "    </tr>\n",
       "    <tr>\n",
       "      <th>12</th>\n",
       "      <td>#제주흑돼지맛집</td>\n",
       "      <td>730</td>\n",
       "    </tr>\n",
       "    <tr>\n",
       "      <th>13</th>\n",
       "      <td>#제주맛집추천</td>\n",
       "      <td>728</td>\n",
       "    </tr>\n",
       "    <tr>\n",
       "      <th>14</th>\n",
       "      <td>#일상</td>\n",
       "      <td>717</td>\n",
       "    </tr>\n",
       "    <tr>\n",
       "      <th>15</th>\n",
       "      <td>#제주도흑돼지</td>\n",
       "      <td>713</td>\n",
       "    </tr>\n",
       "    <tr>\n",
       "      <th>16</th>\n",
       "      <td>#제주카페</td>\n",
       "      <td>711</td>\n",
       "    </tr>\n",
       "    <tr>\n",
       "      <th>17</th>\n",
       "      <td>#제주도흑돼지맛집</td>\n",
       "      <td>709</td>\n",
       "    </tr>\n",
       "    <tr>\n",
       "      <th>18</th>\n",
       "      <td>#제주흑돼지</td>\n",
       "      <td>693</td>\n",
       "    </tr>\n",
       "    <tr>\n",
       "      <th>19</th>\n",
       "      <td>#협재맛집</td>\n",
       "      <td>677</td>\n",
       "    </tr>\n",
       "    <tr>\n",
       "      <th>20</th>\n",
       "      <td>#성산일출봉</td>\n",
       "      <td>674</td>\n",
       "    </tr>\n",
       "    <tr>\n",
       "      <th>21</th>\n",
       "      <td>#제주도민</td>\n",
       "      <td>637</td>\n",
       "    </tr>\n",
       "    <tr>\n",
       "      <th>22</th>\n",
       "      <td>#제주도그램</td>\n",
       "      <td>609</td>\n",
       "    </tr>\n",
       "    <tr>\n",
       "      <th>23</th>\n",
       "      <td>#서귀포흑돼지맛집</td>\n",
       "      <td>605</td>\n",
       "    </tr>\n",
       "    <tr>\n",
       "      <th>24</th>\n",
       "      <td></td>\n",
       "      <td>588</td>\n",
       "    </tr>\n",
       "    <tr>\n",
       "      <th>25</th>\n",
       "      <td>#서귀포흑돼지</td>\n",
       "      <td>582</td>\n",
       "    </tr>\n",
       "    <tr>\n",
       "      <th>26</th>\n",
       "      <td>#제주가볼만한곳</td>\n",
       "      <td>580</td>\n",
       "    </tr>\n",
       "    <tr>\n",
       "      <th>27</th>\n",
       "      <td>#성산일출봉맛집</td>\n",
       "      <td>567</td>\n",
       "    </tr>\n",
       "    <tr>\n",
       "      <th>28</th>\n",
       "      <td>#섭지코지</td>\n",
       "      <td>558</td>\n",
       "    </tr>\n",
       "    <tr>\n",
       "      <th>29</th>\n",
       "      <td>#제주도민맛집</td>\n",
       "      <td>542</td>\n",
       "    </tr>\n",
       "    <tr>\n",
       "      <th>30</th>\n",
       "      <td>#제주핫플</td>\n",
       "      <td>530</td>\n",
       "    </tr>\n",
       "    <tr>\n",
       "      <th>31</th>\n",
       "      <td>#선팔</td>\n",
       "      <td>522</td>\n",
       "    </tr>\n",
       "    <tr>\n",
       "      <th>32</th>\n",
       "      <td>#섭지코지맛집</td>\n",
       "      <td>519</td>\n",
       "    </tr>\n",
       "    <tr>\n",
       "      <th>33</th>\n",
       "      <td>#제주살이</td>\n",
       "      <td>516</td>\n",
       "    </tr>\n",
       "    <tr>\n",
       "      <th>34</th>\n",
       "      <td>#여행스타그램</td>\n",
       "      <td>498</td>\n",
       "    </tr>\n",
       "    <tr>\n",
       "      <th>35</th>\n",
       "      <td>#통갈치구이</td>\n",
       "      <td>495</td>\n",
       "    </tr>\n",
       "    <tr>\n",
       "      <th>36</th>\n",
       "      <td>#제주통갈치구이</td>\n",
       "      <td>485</td>\n",
       "    </tr>\n",
       "    <tr>\n",
       "      <th>37</th>\n",
       "      <td>#제주서귀포맛집</td>\n",
       "      <td>479</td>\n",
       "    </tr>\n",
       "    <tr>\n",
       "      <th>38</th>\n",
       "      <td>#제주반영구</td>\n",
       "      <td>478</td>\n",
       "    </tr>\n",
       "    <tr>\n",
       "      <th>39</th>\n",
       "      <td>#중문맛집</td>\n",
       "      <td>472</td>\n",
       "    </tr>\n",
       "    <tr>\n",
       "      <th>40</th>\n",
       "      <td>#제주눈썹문신</td>\n",
       "      <td>472</td>\n",
       "    </tr>\n",
       "    <tr>\n",
       "      <th>41</th>\n",
       "      <td>#제주도관광</td>\n",
       "      <td>471</td>\n",
       "    </tr>\n",
       "    <tr>\n",
       "      <th>42</th>\n",
       "      <td>#서귀포눈썹문신</td>\n",
       "      <td>458</td>\n",
       "    </tr>\n",
       "    <tr>\n",
       "      <th>43</th>\n",
       "      <td>#여행</td>\n",
       "      <td>455</td>\n",
       "    </tr>\n",
       "    <tr>\n",
       "      <th>44</th>\n",
       "      <td>#먹스타그램</td>\n",
       "      <td>453</td>\n",
       "    </tr>\n",
       "    <tr>\n",
       "      <th>45</th>\n",
       "      <td>#제주시</td>\n",
       "      <td>451</td>\n",
       "    </tr>\n",
       "    <tr>\n",
       "      <th>46</th>\n",
       "      <td>#반영구</td>\n",
       "      <td>443</td>\n",
       "    </tr>\n",
       "    <tr>\n",
       "      <th>47</th>\n",
       "      <td>#눈썹문신</td>\n",
       "      <td>443</td>\n",
       "    </tr>\n",
       "    <tr>\n",
       "      <th>48</th>\n",
       "      <td>#제주자연눈썹</td>\n",
       "      <td>435</td>\n",
       "    </tr>\n",
       "    <tr>\n",
       "      <th>49</th>\n",
       "      <td>#제주속눈썹</td>\n",
       "      <td>435</td>\n",
       "    </tr>\n",
       "  </tbody>\n",
       "</table>\n",
       "</div>"
      ],
      "text/plain": [
       "         tags  counts\n",
       "0       #제주맛집    3750\n",
       "1      #제주도맛집    3467\n",
       "2       #제주여행    3204\n",
       "3       #제주관광    2898\n",
       "4        #제주도    2096\n",
       "5         #제주    1567\n",
       "6      #제주도여행    1555\n",
       "7      #서귀포맛집    1392\n",
       "8   #제주도가볼만한곳    1047\n",
       "9        #서귀포     872\n",
       "10   #제주핫플레이스     848\n",
       "11      #jeju     776\n",
       "12   #제주흑돼지맛집     730\n",
       "13    #제주맛집추천     728\n",
       "14        #일상     717\n",
       "15    #제주도흑돼지     713\n",
       "16      #제주카페     711\n",
       "17  #제주도흑돼지맛집     709\n",
       "18     #제주흑돼지     693\n",
       "19      #협재맛집     677\n",
       "20     #성산일출봉     674\n",
       "21      #제주도민     637\n",
       "22     #제주도그램     609\n",
       "23  #서귀포흑돼지맛집     605\n",
       "24                588\n",
       "25    #서귀포흑돼지     582\n",
       "26   #제주가볼만한곳     580\n",
       "27   #성산일출봉맛집     567\n",
       "28      #섭지코지     558\n",
       "29    #제주도민맛집     542\n",
       "30      #제주핫플     530\n",
       "31        #선팔     522\n",
       "32    #섭지코지맛집     519\n",
       "33      #제주살이     516\n",
       "34    #여행스타그램     498\n",
       "35     #통갈치구이     495\n",
       "36   #제주통갈치구이     485\n",
       "37   #제주서귀포맛집     479\n",
       "38     #제주반영구     478\n",
       "39      #중문맛집     472\n",
       "40    #제주눈썹문신     472\n",
       "41     #제주도관광     471\n",
       "42   #서귀포눈썹문신     458\n",
       "43        #여행     455\n",
       "44     #먹스타그램     453\n",
       "45       #제주시     451\n",
       "46       #반영구     443\n",
       "47      #눈썹문신     443\n",
       "48    #제주자연눈썹     435\n",
       "49     #제주속눈썹     435"
      ]
     },
     "metadata": {},
     "execution_count": 36
    }
   ],
   "metadata": {}
  },
  {
   "cell_type": "code",
   "execution_count": 37,
   "source": [
    "# matplotlib pyploy 한글 깨짐 오류 \r\n",
    "import matplotlib.pyplot as plt\r\n",
    "import seaborn as sns\r\n",
    "import matplotlib\r\n",
    "from matplotlib import font_manager, rc\r\n",
    "import platform\r\n",
    "if platform.system()==\"Windows\":\r\n",
    "    font_name=font_manager.FontProperties(fname=\"c:/Windows/Fonts/malgun.ttf\").get_name()\r\n",
    "    rc('font', family=font_name)\r\n",
    "matplotlib.rcParams['axes.unicode_minus']=False\r\n",
    "\r\n",
    "import warnings\r\n",
    "warnings.filterwarnings(\"ignore\")"
   ],
   "outputs": [],
   "metadata": {}
  },
  {
   "cell_type": "code",
   "execution_count": 39,
   "source": [
    "plt.figure(figsize=(10,8))\r\n",
    "sns.barplot(x='counts', y='tags',data=jejuDf)"
   ],
   "outputs": [
    {
     "output_type": "execute_result",
     "data": {
      "text/plain": [
       "<AxesSubplot:xlabel='counts', ylabel='tags'>"
      ]
     },
     "metadata": {},
     "execution_count": 39
    },
    {
     "output_type": "display_data",
     "data": {
      "image/png": "[encoded data removed]",
      "text/plain": [
       "<Figure size 720x576 with 1 Axes>"
      ]
     },
     "metadata": {
      "needs_background": "light"
     }
    }
   ],
   "metadata": {}
  },
  {
   "cell_type": "code",
   "execution_count": 44,
   "source": [
    "#= day 5 스타벅스\r\n",
    "\r\n",
    "driver=webdriver.Chrome(\"chromedriver.exe\")\r\n",
    "url=\"https://www.starbucks.co.kr/store/store_map.do?disp=locale\"\r\n",
    "driver.get(url)\r\n"
   ],
   "outputs": [],
   "metadata": {}
  },
  {
   "cell_type": "code",
   "execution_count": 45,
   "source": [
    "\r\n",
    "seoulBtn=\"#container > div > form > fieldset > div > section > article.find_store_cont > article > article > div.loca_step1 > div.loca_step1_cont > ul > li > a\"\r\n",
    "driver.find_element_by_css_selector(seoulBtn).click()"
   ],
   "outputs": [],
   "metadata": {}
  },
  {
   "cell_type": "code",
   "execution_count": 46,
   "source": [
    "\r\n",
    "allBtn=\"#mCSB_2_container > ul > li:nth-child(1) > a\"\r\n",
    "driver.find_element_by_css_selector(allBtn).click()\r\n"
   ],
   "outputs": [],
   "metadata": {}
  },
  {
   "cell_type": "code",
   "execution_count": 47,
   "source": [
    "html=driver.page_source\r\n",
    "soup=BeautifulSoup(html, 'html.parser')\r\n",
    "\r\n",
    "starbucksSoupList=soup.select(\"li.quickResultLstCon\")"
   ],
   "outputs": [],
   "metadata": {}
  },
  {
   "cell_type": "code",
   "execution_count": 48,
   "source": [
    "starBucksStore=starbucksSoupList[0]\r\n",
    "starBucksStore\r\n",
    "\r\n",
    "#매장이름\r\n",
    "name=starBucksStore.select('strong')[0].text.strip()\r\n",
    "#name\r\n",
    "#위,경도\r\n",
    "lat=starBucksStore['data-lat']\r\n",
    "lon=starBucksStore['data-long']\r\n",
    "#매장타입\r\n",
    "storeType=starBucksStore.select(\"i\")[0].text\r\n",
    "\r\n",
    "#주소, 전화번호\r\n",
    "#starBucksStore.select(\"p.result_details\")[0].text\r\n",
    "\r\n",
    "import re\r\n",
    "\r\n",
    "# data =starbucksSoupList[0].select_one('p.result_details').text\r\n",
    "# num = re.findall('[0-9]{4}-[0-9]{4}',data)\r\n",
    "# add = re.sub(num[0],'',data)\r\n",
    "# print(add)\r\n",
    "\r\n",
    "#re.match(\"(\\w+)(\\d{4}-\\d{4})\", \r\n",
    "\r\n",
    "# sb_store = {}\r\n",
    "# sb_store[\"address\"], sb_store[\"tel\"] = re.match(\"(\\w+)(\\d{4}-\\d{4})\", starbucksSoupList[0].select_one(\"p.result_details\").text)\r\n",
    "\r\n",
    "\r\n",
    "# 주소 \r\n",
    "re.findall('[ㄱ-힣]+시 [ㄱ-힣]+구 [ㄱ-힣]+로 [0-9]{3,4}', soup.select('li.quickResultLstCon > p.result_details')[0].text.strip())\r\n",
    "# 전화번호\r\n",
    "re.findall('[0-9]{4}-[0-9]{4}', soup.select('li.quickResultLstCon > p.result_details')[0].text.strip())\r\n",
    "\r\n",
    "\r\n"
   ],
   "outputs": [
    {
     "output_type": "execute_result",
     "data": {
      "text/plain": [
       "['1522-3232']"
      ]
     },
     "metadata": {},
     "execution_count": 48
    }
   ],
   "metadata": {}
  },
  {
   "cell_type": "code",
   "execution_count": 49,
   "source": [
    "#매장이름\r\n",
    "#위도\r\n",
    "#경도\r\n",
    "#매장타입\r\n",
    "#주소\r\n",
    "#전화번호.\r\n",
    "\r\n",
    "\r\n",
    "starBucksStore=starbucksSoupList[0]\r\n",
    "print(starBucksStore)\r\n",
    "\r\n",
    "#매장이름\r\n",
    "name=starBucksStore.select('strong')[0].text.strip()\r\n",
    "#name\r\n",
    "#위,경도\r\n",
    "lat=starBucksStore['data-lat']\r\n",
    "lon=starBucksStore['data-long']\r\n",
    "#매장타입\r\n",
    "storeType=starBucksStore.select(\"i\")[0].text\r\n"
   ],
   "outputs": [
    {
     "output_type": "stream",
     "name": "stdout",
     "text": [
      "<li class=\"quickResultLstCon\" data-code=\"3762\" data-hlytag=\"null\" data-index=\"0\" data-lat=\"37.501087\" data-long=\"127.043069\" data-name=\"역삼아레나빌딩\" data-storecd=\"1509\" style=\"background:#fff\"> <strong data-my_siren_order_store_yn=\"N\" data-name=\"역삼아레나빌딩\" data-store=\"1509\" data-yn=\"N\">역삼아레나빌딩  </strong> <p class=\"result_details\">서울특별시 강남구 언주로 425 (역삼동)<br/>1522-3232</p> <i class=\"pin_general\">리저브 매장 2번</i></li>\n"
     ]
    }
   ],
   "metadata": {}
  },
  {
   "cell_type": "code",
   "execution_count": 50,
   "source": [
    "type(starBucksStore.select(\"p.result_details\")[0])\r\n",
    "#type(starBucksStore.select(\"p.result_details\")[0])\r\n",
    "\r\n",
    "type(str(starBucksStore.select(\"p.result_details\")[0]))\r\n",
    "\r\n",
    "str(starBucksStore.select(\"p.result_details\")[0]).split(\"<br/>\")\r\n",
    "\r\n",
    "address=str(starBucksStore.select(\"p.result_details\")[0]).split(\"<br/>\")[0].split(\">\")[1]\r\n",
    "\r\n",
    "#str(starBucksStore.select(\"p.result_details\")[0]).split(\"<br/>\")[1]\r\n",
    "tel=str(starBucksStore.select(\"p.result_details\")[0]).split(\"<br/>\")[1].split(\"<\")[0]"
   ],
   "outputs": [],
   "metadata": {}
  },
  {
   "cell_type": "code",
   "execution_count": 51,
   "source": [
    "starbucksList=[]\r\n",
    "for item in starbucksSoupList:\r\n",
    "    #매장이름\r\n",
    "    name=item.select('strong')[0].text.strip()\r\n",
    "    #name\r\n",
    "    #위,경도\r\n",
    "    lat=item['data-lat']\r\n",
    "    lon=item['data-long']\r\n",
    "    #매장타입\r\n",
    "    storeType=item.select(\"i\")[0].text\r\n",
    "    #전화번호, 주소\r\n",
    "    address=str(item.select(\"p.result_details\")[0]).split(\"<br/>\")[0].split(\">\")[1]\r\n",
    "    tel=str(item.select(\"p.result_details\")[0]).split(\"<br/>\")[1].split(\"<\")[0]\r\n",
    "    starbucksList.append([name, lat, lon, storeType, address, tel])"
   ],
   "outputs": [],
   "metadata": {}
  },
  {
   "cell_type": "code",
   "execution_count": 52,
   "source": [
    "import numpy as np\r\n",
    "# starbucksList[555]\r\n",
    "np.shape(starbucksList)\r\n",
    "\r\n",
    "len(starbucksList)\r\n",
    "len(starbucksList[0])"
   ],
   "outputs": [
    {
     "output_type": "execute_result",
     "data": {
      "text/plain": [
       "6"
      ]
     },
     "metadata": {},
     "execution_count": 52
    }
   ],
   "metadata": {}
  },
  {
   "cell_type": "code",
   "execution_count": 53,
   "source": [
    "#파이썬의 리스트는 데이터 분석에 적합하지 않은 자료구조\r\n",
    "\r\n",
    "df=pd.DataFrame(starbucksList, \r\n",
    "                columns=['매장명','위도','경도','타입','주소','전화번호'])\r\n",
    "df.to_excel(\"seoul_starbucks_list.xlsx\", index=False)"
   ],
   "outputs": [],
   "metadata": {}
  },
  {
   "cell_type": "code",
   "execution_count": null,
   "source": [],
   "outputs": [],
   "metadata": {}
  },
  {
   "cell_type": "code",
   "execution_count": 55,
   "source": [
    "sgg_pop_df=pd.read_csv(\"report.txt\", sep=\"\\t\", header=2)\r\n",
    "#csv(comma seperated values)파일 읽을때 사용되는 함수\r\n",
    "#csv가 아닌 형식의 파일도 읽을 수 있음\r\n"
   ],
   "outputs": [],
   "metadata": {}
  },
  {
   "cell_type": "code",
   "execution_count": 56,
   "source": [
    "\r\n",
    "cols = {\r\n",
    "    '기간': 'GIGAN',\r\n",
    "    '자치구': 'JACHIGU',\r\n",
    "    '계': 'GYE_1',\r\n",
    "    '계.1': 'GYE_2',\r\n",
    "    '계.2': 'GYE_3',\r\n",
    "    '남자': 'NAMJA_1',\r\n",
    "    '남자.1': 'NAMJA_2',\r\n",
    "    '남자.2': 'NAMJA_3',\r\n",
    "    '여자': 'YEOJA_1',\r\n",
    "    '여자.1': 'YEOJA_2',\r\n",
    "    '여자.2': 'YEOJA_3',\r\n",
    "    '세대': 'SEDAE',\r\n",
    "    '세대당인구': 'SEDAEDANGINGU',\r\n",
    "    '65세이상고령자': 'N_65SEISANGGORYEONGJA'\r\n",
    "}\r\n",
    "\r\n"
   ],
   "outputs": [],
   "metadata": {}
  },
  {
   "cell_type": "code",
   "execution_count": 57,
   "source": [
    "sgg_pop_df.columns\r\n",
    "sgg_pop_df.rename(columns=cols, inplace=True)\r\n",
    "# cols딕셔너리의 키('기간')에 해당되는 이름을 sgg_pop_df컬럼에서 찾아 해당 cols\r\n",
    "# 딕셔너리('GIGAN')의 값으로 변경\r\n",
    "sgg_pop_df\r\n",
    "\r\n",
    "sgg_pop_df.info()"
   ],
   "outputs": [
    {
     "output_type": "stream",
     "name": "stdout",
     "text": [
      "<class 'pandas.core.frame.DataFrame'>\n",
      "RangeIndex: 26 entries, 0 to 25\n",
      "Data columns (total 14 columns):\n",
      " #   Column                 Non-Null Count  Dtype  \n",
      "---  ------                 --------------  -----  \n",
      " 0   GIGAN                  26 non-null     object \n",
      " 1   JACHIGU                26 non-null     object \n",
      " 2   SEDAE                  26 non-null     object \n",
      " 3   GYE_1                  26 non-null     object \n",
      " 4   NAMJA_1                26 non-null     object \n",
      " 5   YEOJA_1                26 non-null     object \n",
      " 6   GYE_2                  26 non-null     object \n",
      " 7   NAMJA_2                26 non-null     object \n",
      " 8   YEOJA_2                26 non-null     object \n",
      " 9   GYE_3                  26 non-null     object \n",
      " 10  NAMJA_3                26 non-null     object \n",
      " 11  YEOJA_3                26 non-null     object \n",
      " 12  SEDAEDANGINGU          26 non-null     float64\n",
      " 13  N_65SEISANGGORYEONGJA  26 non-null     object \n",
      "dtypes: float64(1), object(13)\n",
      "memory usage: 3.0+ KB\n"
     ]
    }
   ],
   "metadata": {}
  },
  {
   "cell_type": "code",
   "execution_count": 58,
   "source": [
    "sgg_pop_df['JACHIGU'] #JACHIGU 열 추출\r\n",
    "\r\n",
    "#벡터화 연산:for문 없이 일괄적으로 연산(매우 빠름)\r\n",
    "cond=sgg_pop_df['JACHIGU']!='합계' #JACHIGU 열 값이 합계와 다르면 True, 같으면 False\r\n",
    "\r\n",
    "cond\r\n",
    "sgg_pop_df[cond] #cond에 저장된 값이 True인 데이터만 출력\r\n",
    "#불린참조 : 값이 True인 데이터만 출력\r\n",
    "\r\n",
    "sgg_pop_df_selected=sgg_pop_df[sgg_pop_df['JACHIGU']!='합계']\r\n",
    "\r\n",
    "sgg_pop_df_selected\r\n",
    "sgg_pop_df_selected.info() #r에서는 str함수가 info()와 같음\r\n",
    "\r\n",
    "sgg_pop_df_selected\r\n",
    "#추출 대상 열이 2개 이상인 경우에는 반드시 대괄호로 묶어서 표현\r\n",
    "sgg_pop_df_final=sgg_pop_df_selected[['JACHIGU','GYE_1']]\r\n",
    "\r\n",
    "sgg_pop_df_final.columns=['시군구명', '주민등록인구']\r\n",
    "sgg_pop_df_final.to_excel(\"sgg_pop.xlsx\", index=False)"
   ],
   "outputs": [
    {
     "output_type": "stream",
     "name": "stdout",
     "text": [
      "<class 'pandas.core.frame.DataFrame'>\n",
      "Int64Index: 25 entries, 1 to 25\n",
      "Data columns (total 14 columns):\n",
      " #   Column                 Non-Null Count  Dtype  \n",
      "---  ------                 --------------  -----  \n",
      " 0   GIGAN                  25 non-null     object \n",
      " 1   JACHIGU                25 non-null     object \n",
      " 2   SEDAE                  25 non-null     object \n",
      " 3   GYE_1                  25 non-null     object \n",
      " 4   NAMJA_1                25 non-null     object \n",
      " 5   YEOJA_1                25 non-null     object \n",
      " 6   GYE_2                  25 non-null     object \n",
      " 7   NAMJA_2                25 non-null     object \n",
      " 8   YEOJA_2                25 non-null     object \n",
      " 9   GYE_3                  25 non-null     object \n",
      " 10  NAMJA_3                25 non-null     object \n",
      " 11  YEOJA_3                25 non-null     object \n",
      " 12  SEDAEDANGINGU          25 non-null     float64\n",
      " 13  N_65SEISANGGORYEONGJA  25 non-null     object \n",
      "dtypes: float64(1), object(13)\n",
      "memory usage: 2.9+ KB\n"
     ]
    }
   ],
   "metadata": {}
  },
  {
   "cell_type": "code",
   "execution_count": 59,
   "source": [
    "sgg_pop_df_final"
   ],
   "outputs": [
    {
     "output_type": "execute_result",
     "data": {
      "text/html": [
       "<div>\n",
       "<style scoped>\n",
       "    .dataframe tbody tr th:only-of-type {\n",
       "        vertical-align: middle;\n",
       "    }\n",
       "\n",
       "    .dataframe tbody tr th {\n",
       "        vertical-align: top;\n",
       "    }\n",
       "\n",
       "    .dataframe thead th {\n",
       "        text-align: right;\n",
       "    }\n",
       "</style>\n",
       "<table border=\"1\" class=\"dataframe\">\n",
       "  <thead>\n",
       "    <tr style=\"text-align: right;\">\n",
       "      <th></th>\n",
       "      <th>시군구명</th>\n",
       "      <th>주민등록인구</th>\n",
       "    </tr>\n",
       "  </thead>\n",
       "  <tbody>\n",
       "    <tr>\n",
       "      <th>1</th>\n",
       "      <td>종로구</td>\n",
       "      <td>159,842</td>\n",
       "    </tr>\n",
       "    <tr>\n",
       "      <th>2</th>\n",
       "      <td>중구</td>\n",
       "      <td>135,321</td>\n",
       "    </tr>\n",
       "    <tr>\n",
       "      <th>3</th>\n",
       "      <td>용산구</td>\n",
       "      <td>244,953</td>\n",
       "    </tr>\n",
       "    <tr>\n",
       "      <th>4</th>\n",
       "      <td>성동구</td>\n",
       "      <td>302,695</td>\n",
       "    </tr>\n",
       "    <tr>\n",
       "      <th>5</th>\n",
       "      <td>광진구</td>\n",
       "      <td>361,923</td>\n",
       "    </tr>\n",
       "    <tr>\n",
       "      <th>6</th>\n",
       "      <td>동대문구</td>\n",
       "      <td>358,679</td>\n",
       "    </tr>\n",
       "    <tr>\n",
       "      <th>7</th>\n",
       "      <td>중랑구</td>\n",
       "      <td>400,989</td>\n",
       "    </tr>\n",
       "    <tr>\n",
       "      <th>8</th>\n",
       "      <td>성북구</td>\n",
       "      <td>449,871</td>\n",
       "    </tr>\n",
       "    <tr>\n",
       "      <th>9</th>\n",
       "      <td>강북구</td>\n",
       "      <td>313,550</td>\n",
       "    </tr>\n",
       "    <tr>\n",
       "      <th>10</th>\n",
       "      <td>도봉구</td>\n",
       "      <td>329,300</td>\n",
       "    </tr>\n",
       "    <tr>\n",
       "      <th>11</th>\n",
       "      <td>노원구</td>\n",
       "      <td>529,532</td>\n",
       "    </tr>\n",
       "    <tr>\n",
       "      <th>12</th>\n",
       "      <td>은평구</td>\n",
       "      <td>485,842</td>\n",
       "    </tr>\n",
       "    <tr>\n",
       "      <th>13</th>\n",
       "      <td>서대문구</td>\n",
       "      <td>323,860</td>\n",
       "    </tr>\n",
       "    <tr>\n",
       "      <th>14</th>\n",
       "      <td>마포구</td>\n",
       "      <td>383,494</td>\n",
       "    </tr>\n",
       "    <tr>\n",
       "      <th>15</th>\n",
       "      <td>양천구</td>\n",
       "      <td>460,048</td>\n",
       "    </tr>\n",
       "    <tr>\n",
       "      <th>16</th>\n",
       "      <td>강서구</td>\n",
       "      <td>589,536</td>\n",
       "    </tr>\n",
       "    <tr>\n",
       "      <th>17</th>\n",
       "      <td>구로구</td>\n",
       "      <td>435,751</td>\n",
       "    </tr>\n",
       "    <tr>\n",
       "      <th>18</th>\n",
       "      <td>금천구</td>\n",
       "      <td>249,641</td>\n",
       "    </tr>\n",
       "    <tr>\n",
       "      <th>19</th>\n",
       "      <td>영등포구</td>\n",
       "      <td>405,982</td>\n",
       "    </tr>\n",
       "    <tr>\n",
       "      <th>20</th>\n",
       "      <td>동작구</td>\n",
       "      <td>404,617</td>\n",
       "    </tr>\n",
       "    <tr>\n",
       "      <th>21</th>\n",
       "      <td>관악구</td>\n",
       "      <td>514,555</td>\n",
       "    </tr>\n",
       "    <tr>\n",
       "      <th>22</th>\n",
       "      <td>서초구</td>\n",
       "      <td>429,995</td>\n",
       "    </tr>\n",
       "    <tr>\n",
       "      <th>23</th>\n",
       "      <td>강남구</td>\n",
       "      <td>544,085</td>\n",
       "    </tr>\n",
       "    <tr>\n",
       "      <th>24</th>\n",
       "      <td>송파구</td>\n",
       "      <td>676,673</td>\n",
       "    </tr>\n",
       "    <tr>\n",
       "      <th>25</th>\n",
       "      <td>강동구</td>\n",
       "      <td>462,275</td>\n",
       "    </tr>\n",
       "  </tbody>\n",
       "</table>\n",
       "</div>"
      ],
      "text/plain": [
       "    시군구명   주민등록인구\n",
       "1    종로구  159,842\n",
       "2     중구  135,321\n",
       "3    용산구  244,953\n",
       "4    성동구  302,695\n",
       "5    광진구  361,923\n",
       "6   동대문구  358,679\n",
       "7    중랑구  400,989\n",
       "8    성북구  449,871\n",
       "9    강북구  313,550\n",
       "10   도봉구  329,300\n",
       "11   노원구  529,532\n",
       "12   은평구  485,842\n",
       "13  서대문구  323,860\n",
       "14   마포구  383,494\n",
       "15   양천구  460,048\n",
       "16   강서구  589,536\n",
       "17   구로구  435,751\n",
       "18   금천구  249,641\n",
       "19  영등포구  405,982\n",
       "20   동작구  404,617\n",
       "21   관악구  514,555\n",
       "22   서초구  429,995\n",
       "23   강남구  544,085\n",
       "24   송파구  676,673\n",
       "25   강동구  462,275"
      ]
     },
     "metadata": {},
     "execution_count": 59
    }
   ],
   "metadata": {}
  },
  {
   "cell_type": "code",
   "execution_count": 60,
   "source": [
    "## day6 문법\r\n",
    "#  \r\n",
    "\r\n",
    "test=\"(()((())()))\" #정상\r\n",
    "test2=\"())(()\" #비정상\r\n",
    "\r\n",
    "\r\n",
    "cnt=0\r\n",
    "for i in range(len(test2)):\r\n",
    "    if cnt==-1:\r\n",
    "        #print(\"비정상\")\r\n",
    "        break\r\n",
    "    if test2[i]=='(': #여는 괄호를 만나면 cnt 증가\r\n",
    "        cnt+=1\r\n",
    "    elif test2[i]==')':#여는 괄호를 만나면 cnt 감소\r\n",
    "        cnt-=1\r\n",
    "if cnt==0:\r\n",
    "    print(\"정상\")\r\n",
    "else:\r\n",
    "    print(\"비정상\")\r\n",
    "        "
   ],
   "outputs": [
    {
     "output_type": "stream",
     "name": "stdout",
     "text": [
      "비정상\n"
     ]
    }
   ],
   "metadata": {}
  },
  {
   "cell_type": "code",
   "execution_count": 61,
   "source": [
    "a={'k':50}\r\n",
    "b=\"korea\"\r\n",
    "print(b[0])\r\n",
    "\r\n",
    "print(a[b[0]]) #합성함수             g(f(x))"
   ],
   "outputs": [
    {
     "output_type": "stream",
     "name": "stdout",
     "text": [
      "k\n",
      "50\n"
     ]
    }
   ],
   "metadata": {}
  },
  {
   "cell_type": "code",
   "execution_count": 63,
   "source": [
    "# 스타벅스 \r\n",
    "seoulStarbucks=pd.read_excel(\"seoul_starbucks_list.xlsx\")\r\n",
    "seoulStarbucks.head()\r\n"
   ],
   "outputs": [
    {
     "output_type": "execute_result",
     "data": {
      "text/html": [
       "<div>\n",
       "<style scoped>\n",
       "    .dataframe tbody tr th:only-of-type {\n",
       "        vertical-align: middle;\n",
       "    }\n",
       "\n",
       "    .dataframe tbody tr th {\n",
       "        vertical-align: top;\n",
       "    }\n",
       "\n",
       "    .dataframe thead th {\n",
       "        text-align: right;\n",
       "    }\n",
       "</style>\n",
       "<table border=\"1\" class=\"dataframe\">\n",
       "  <thead>\n",
       "    <tr style=\"text-align: right;\">\n",
       "      <th></th>\n",
       "      <th>매장명</th>\n",
       "      <th>위도</th>\n",
       "      <th>경도</th>\n",
       "      <th>타입</th>\n",
       "      <th>주소</th>\n",
       "      <th>전화번호</th>\n",
       "    </tr>\n",
       "  </thead>\n",
       "  <tbody>\n",
       "    <tr>\n",
       "      <th>0</th>\n",
       "      <td>역삼아레나빌딩</td>\n",
       "      <td>37.501087</td>\n",
       "      <td>127.043069</td>\n",
       "      <td>리저브 매장 2번</td>\n",
       "      <td>서울특별시 강남구 언주로 425 (역삼동)</td>\n",
       "      <td>1522-3232</td>\n",
       "    </tr>\n",
       "    <tr>\n",
       "      <th>1</th>\n",
       "      <td>논현역사거리</td>\n",
       "      <td>37.510178</td>\n",
       "      <td>127.022223</td>\n",
       "      <td>리저브 매장 2번</td>\n",
       "      <td>서울특별시 강남구 강남대로 538 (논현동)</td>\n",
       "      <td>1522-3232</td>\n",
       "    </tr>\n",
       "    <tr>\n",
       "      <th>2</th>\n",
       "      <td>신사역성일빌딩</td>\n",
       "      <td>37.514132</td>\n",
       "      <td>127.020563</td>\n",
       "      <td>리저브 매장 2번</td>\n",
       "      <td>서울특별시 강남구 강남대로 584 (논현동)</td>\n",
       "      <td>1522-3232</td>\n",
       "    </tr>\n",
       "    <tr>\n",
       "      <th>3</th>\n",
       "      <td>국기원사거리</td>\n",
       "      <td>37.499517</td>\n",
       "      <td>127.031495</td>\n",
       "      <td>리저브 매장 2번</td>\n",
       "      <td>서울특별시 강남구 테헤란로 125 (역삼동)</td>\n",
       "      <td>1522-3232</td>\n",
       "    </tr>\n",
       "    <tr>\n",
       "      <th>4</th>\n",
       "      <td>스탈릿대치R</td>\n",
       "      <td>37.494668</td>\n",
       "      <td>127.062583</td>\n",
       "      <td>리저브 매장 2번</td>\n",
       "      <td>서울특별시 강남구 남부순환로 2947 (대치동)</td>\n",
       "      <td>1522-3232</td>\n",
       "    </tr>\n",
       "  </tbody>\n",
       "</table>\n",
       "</div>"
      ],
      "text/plain": [
       "       매장명         위도          경도         타입                          주소  \\\n",
       "0  역삼아레나빌딩  37.501087  127.043069  리저브 매장 2번     서울특별시 강남구 언주로 425 (역삼동)   \n",
       "1   논현역사거리  37.510178  127.022223  리저브 매장 2번    서울특별시 강남구 강남대로 538 (논현동)   \n",
       "2  신사역성일빌딩  37.514132  127.020563  리저브 매장 2번    서울특별시 강남구 강남대로 584 (논현동)   \n",
       "3   국기원사거리  37.499517  127.031495  리저브 매장 2번    서울특별시 강남구 테헤란로 125 (역삼동)   \n",
       "4   스탈릿대치R  37.494668  127.062583  리저브 매장 2번  서울특별시 강남구 남부순환로 2947 (대치동)   \n",
       "\n",
       "        전화번호  \n",
       "0  1522-3232  \n",
       "1  1522-3232  \n",
       "2  1522-3232  \n",
       "3  1522-3232  \n",
       "4  1522-3232  "
      ]
     },
     "metadata": {},
     "execution_count": 63
    }
   ],
   "metadata": {}
  },
  {
   "cell_type": "code",
   "execution_count": 64,
   "source": [
    "m=folium.Map(location=[37, 127])\r\n",
    "# m\r\n",
    "\r\n",
    "m.save(\"index.html\")\r\n",
    "folium.Map(location=[37, 127], zoom_start=13)"
   ],
   "outputs": [
    {
     "output_type": "error",
     "ename": "NameError",
     "evalue": "name 'folium' is not defined",
     "traceback": [
      "\u001b[1;31m---------------------------------------------------------------------------\u001b[0m",
      "\u001b[1;31mNameError\u001b[0m                                 Traceback (most recent call last)",
      "\u001b[1;32m<ipython-input-64-4b005d6ef42f>\u001b[0m in \u001b[0;36m<module>\u001b[1;34m\u001b[0m\n\u001b[1;32m----> 1\u001b[1;33m \u001b[0mm\u001b[0m\u001b[1;33m=\u001b[0m\u001b[0mfolium\u001b[0m\u001b[1;33m.\u001b[0m\u001b[0mMap\u001b[0m\u001b[1;33m(\u001b[0m\u001b[0mlocation\u001b[0m\u001b[1;33m=\u001b[0m\u001b[1;33m[\u001b[0m\u001b[1;36m37\u001b[0m\u001b[1;33m,\u001b[0m \u001b[1;36m127\u001b[0m\u001b[1;33m]\u001b[0m\u001b[1;33m)\u001b[0m\u001b[1;33m\u001b[0m\u001b[1;33m\u001b[0m\u001b[0m\n\u001b[0m\u001b[0;32m      2\u001b[0m \u001b[1;31m# m\u001b[0m\u001b[1;33m\u001b[0m\u001b[1;33m\u001b[0m\u001b[1;33m\u001b[0m\u001b[0m\n\u001b[0;32m      3\u001b[0m \u001b[1;33m\u001b[0m\u001b[0m\n\u001b[0;32m      4\u001b[0m \u001b[0mm\u001b[0m\u001b[1;33m.\u001b[0m\u001b[0msave\u001b[0m\u001b[1;33m(\u001b[0m\u001b[1;34m\"index.html\"\u001b[0m\u001b[1;33m)\u001b[0m\u001b[1;33m\u001b[0m\u001b[1;33m\u001b[0m\u001b[0m\n\u001b[0;32m      5\u001b[0m \u001b[0mfolium\u001b[0m\u001b[1;33m.\u001b[0m\u001b[0mMap\u001b[0m\u001b[1;33m(\u001b[0m\u001b[0mlocation\u001b[0m\u001b[1;33m=\u001b[0m\u001b[1;33m[\u001b[0m\u001b[1;36m37\u001b[0m\u001b[1;33m,\u001b[0m \u001b[1;36m127\u001b[0m\u001b[1;33m]\u001b[0m\u001b[1;33m,\u001b[0m \u001b[0mzoom_start\u001b[0m\u001b[1;33m=\u001b[0m\u001b[1;36m13\u001b[0m\u001b[1;33m)\u001b[0m\u001b[1;33m\u001b[0m\u001b[1;33m\u001b[0m\u001b[0m\n",
      "\u001b[1;31mNameError\u001b[0m: name 'folium' is not defined"
     ]
    }
   ],
   "metadata": {}
  },
  {
   "cell_type": "code",
   "execution_count": null,
   "source": [
    "\r\n"
   ],
   "outputs": [],
   "metadata": {}
  },
  {
   "cell_type": "code",
   "execution_count": null,
   "source": [
    "\r\n",
    "test = {'경도' : [127.061026,127.047883,127.899220,128.980455,127.104071,127.102490,127.088387,126.809957,127.010861,126.836078\r\n",
    "                ,127.014217,126.886859,127.031702,126.880898,127.028726,126.897710,126.910288,127.043189,127.071184,127.076812\r\n",
    "                ,127.045022,126.982419,126.840285,127.115873,126.885320,127.078464,127.057100,127.020945,129.068324,129.059574\r\n",
    "                ,126.927655,127.034302,129.106330,126.980242,126.945099,129.034599,127.054649,127.019556,127.053198,127.031005\r\n",
    "                ,127.058560,127.078519,127.056141,129.034605,126.888485,129.070117,127.057746,126.929288,127.054163,129.060972],     \r\n",
    "        '위도' : [37.493922,37.505675,37.471711,35.159774,37.500249,37.515149,37.549245,37.562013,37.552153,37.538927,37.492388\r\n",
    "              ,37.480390,37.588485,37.504067,37.608392,37.503693,37.579029,37.580073,37.552103,37.545461,37.580196,37.562274\r\n",
    "              ,37.535419,37.527477,37.526139,37.648247,37.512939,37.517574,35.202902,35.144776,37.499229,35.150069,35.141176\r\n",
    "              ,37.479403,37.512569,35.123196,37.546718,37.553668,37.488742,37.493653,37.498462,37.556602,37.544180,35.111532\r\n",
    "              ,37.508058,35.085777,37.546103,37.483899,37.489299,35.143421],\r\n",
    "     '구분' : ['음식','음식','음식','음식','생활서비스','음식','음식','음식','음식','음식','음식','음식','음식','음식','음식'\r\n",
    "             ,'음식','음식','소매','음식','음식','음식','음식','소매','음식','소매','음식','음식','음식','음식','음식','음식'\r\n",
    "             ,'음식','음식','음식','음식','소매','음식','음식','의료','음식','음식','음식','소매','음식','음식','음식','음식'\r\n",
    "             ,'음식','음식','음식']}"
   ],
   "outputs": [],
   "metadata": {}
  },
  {
   "cell_type": "code",
   "execution_count": null,
   "source": [
    "#pd.DataFrame() : 데이터프레임 생성\r\n",
    "#딕셔너리로 데이터프레임 생성 결과 확인하면, 키->열이름, 값들은 해당 열의 데이터로 저장\r\n",
    "\r\n",
    "df=pd.DataFrame(test)\r\n",
    "df\r\n",
    "\r\n",
    "latAvg=df['위도'].mean()\r\n",
    "longAvg=df['경도'].mean()\r\n"
   ],
   "outputs": [],
   "metadata": {}
  },
  {
   "cell_type": "code",
   "execution_count": null,
   "source": [
    "# wlw\r\n",
    "m=folium.Map([latAvg, longAvg], zoom_start=9)\r\n",
    "# m\r\n",
    "\r\n",
    "for i in df.index:\r\n",
    "    lat=df.loc[i,'위도']\r\n",
    "    lon=df.loc[i,'경도']\r\n",
    "    title=df.loc[i,'구분']\r\n",
    "    folium.Marker([lat,lon], tooltip=title).add_to(m)"
   ],
   "outputs": [],
   "metadata": {}
  }
 ],
 "metadata": {
  "orig_nbformat": 4,
  "language_info": {
   "name": "python",
   "version": "3.8.8",
   "mimetype": "text/x-python",
   "codemirror_mode": {
    "name": "ipython",
    "version": 3
   },
   "pygments_lexer": "ipython3",
   "nbconvert_exporter": "python",
   "file_extension": ".py"
  },
  "kernelspec": {
   "name": "python3",
   "display_name": "Python 3.8.8 64-bit ('base': conda)"
  },
  "interpreter": {
   "hash": "74ac2c347abb782a3d2f694c8d9341193b1005c179381ae3abf4a67743d7a946"
  }
 },
 "nbformat": 4,
 "nbformat_minor": 2
}