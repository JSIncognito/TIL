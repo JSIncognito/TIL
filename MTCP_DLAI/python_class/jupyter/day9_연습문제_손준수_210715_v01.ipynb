{
 "cells": [
  {
   "cell_type": "markdown",
   "id": "027e8ada",
   "metadata": {},
   "source": [
    "1. 평균값 구하기\n",
    "다음과 같이 총 10줄로 이루어진 sample.txt 파일이 있다. sample.txt 파일의 숫자 값을 모두 읽어 총합과 평균 값을 구한 후 \n",
    "평균 값을 result.txt 파일에 쓰는 프로그램을 작성하시오.\n",
    "70\n",
    "60\n",
    "55\n",
    "75\n",
    "95\n",
    "90\n",
    "80\n",
    "80\n",
    "85\n",
    "100"
   ]
  },
  {
   "cell_type": "code",
   "execution_count": 5,
   "id": "952f64f5",
   "metadata": {},
   "outputs": [],
   "source": [
    "with open(\"sample.txt\", \"w\") as f:\n",
    "    f.write(\"70 60 55 75 95 90 80 80 85 100\")"
   ]
  },
  {
   "cell_type": "code",
   "execution_count": 7,
   "id": "bafa9e9f",
   "metadata": {},
   "outputs": [
    {
     "name": "stdout",
     "output_type": "stream",
     "text": [
      "70 60 55 75 95 90 80 80 85 100\n"
     ]
    }
   ],
   "source": [
    "with open(\"sample.txt\", \"r\") as f:\n",
    "    data = f.read()\n",
    "    print(data)"
   ]
  },
  {
   "cell_type": "code",
   "execution_count": 27,
   "id": "6937ec7f",
   "metadata": {},
   "outputs": [
    {
     "name": "stdout",
     "output_type": "stream",
     "text": [
      "70 60 55 75 95 90 80 80 85 100\n",
      "총합 : 790/ 총 개수 : 10\n",
      "평균 : 79.0\n"
     ]
    }
   ],
   "source": [
    "file_list = data.split(\" \")\n",
    "# print(sum(file_list))\n",
    "# [int(strNm) for strNm in file_list]\n",
    "\n",
    "result = sum([int(strNm) for strNm in file_list])/len(file_list)\n",
    "\n",
    "with open(\"result.txt\", \"w\") as f:\n",
    "    f.write(data + \"\\n\")\n",
    "    f.write(\"총합 : \" + str(sum([int(strNm) for strNm in file_list])))\n",
    "    f.write(\"/ 총 개수 : \" + str(len(file_list)) + \"\\n\")\n",
    "    f.write(\"평균 : \" + str(result))\n",
    "\n",
    "with open(\"result.txt\", \"r\") as f:\n",
    "    data2 = f.read()\n",
    "    print(data2)"
   ]
  },
  {
   "cell_type": "markdown",
   "id": "31263d02",
   "metadata": {},
   "source": [
    "2.패턴식을 정의하고 테스트 하시오\n",
    "* emails = ['python@mail.example.com', 'python+kr@example.com',              # 올바른 형식\n",
    "*           'python-lang@example.co.kr', 'python_10@example.info',         # 올바른 형식\n",
    "*           'python.lang@e-xample.com',                                    # 올바른 형식\n",
    "*           '@example.com', 'python@example', 'python@example-com']          # 잘못된 형식"
   ]
  },
  {
   "cell_type": "code",
   "execution_count": 151,
   "id": "50daeec2",
   "metadata": {},
   "outputs": [
    {
     "name": "stdout",
     "output_type": "stream",
     "text": [
      "올바른 형식 python@mail.example.com\n",
      "올바른 형식 python+kr@example.com\n",
      "올바른 형식 python-lang@example.co.kr\n",
      "올바른 형식 python_10@example.info\n",
      "올바른 형식 python.lang@e-xample.com\n",
      "잘못된 형식 @example.com\n",
      "잘못된 형식 python@example\n",
      "잘못된 형식 python@example-com\n"
     ]
    }
   ],
   "source": [
    "import re\n",
    "\n",
    "emails = ['python@mail.example.com', 'python+kr@example.com',              # 올바른 형식\n",
    "          'python-lang@example.co.kr', 'python_10@example.info',         # 올바른 형식\n",
    "          'python.lang@e-xample.com',                                    # 올바른 형식\n",
    "          '@example.com', 'python@example', 'python@example-com']          # 잘못된 형식\n",
    "\n",
    "for email in emails: \n",
    "    if re.match(\"[a-z0-9+._-]+@?[a-z-]+\\.+[a-z]+.+[a-z]$\", email) == None:\n",
    "        print(\"잘못된 형식\", email)\n",
    "    else :\n",
    "        print(\"올바른 형식\", email)"
   ]
  },
  {
   "cell_type": "markdown",
   "id": "0563c017",
   "metadata": {},
   "source": [
    "3. 뉴스 기사에서 온도 및 강수량을 추출하여 출력하는 정규식 작성"
   ]
  },
  {
   "cell_type": "code",
   "execution_count": 149,
   "id": "de924942",
   "metadata": {},
   "outputs": [
    {
     "name": "stdout",
     "output_type": "stream",
     "text": [
      "온도: ['34.5도', '37.2도', '37.7도'] / 강수량 : ['50mm', '100mm']\n"
     ]
    }
   ],
   "source": [
    "news=\"\"\"\n",
    "뜨거운 열기가 계속 쌓여만 가는 느낌인데요.\n",
    "\n",
    "현재 서울 기온은 34.5도까지 치솟으며 하루 만에 올여름 최고 기온을 경신했습니다.\n",
    "\n",
    "특히 비공식 기온이지만 서울 강북구 수유동은 무려 37.2도까지 치솟으며 사람 체온을 웃돌고 있습니다.\n",
    "\n",
    "반면, 대기 불안정으로 동쪽 지방은 호우특보 속에 요란한 소나기가 쏟아지고 있는데요.\n",
    "\n",
    "시설물 관리와 안전사고에 주의하셔야겠습니다.\n",
    "\n",
    "전국 대부분 지역에 폭염특보가 계속되는 가운데, 현재 전국에서 가장 더운 곳은 경기도 안성으로, 양성면의 기온이 37.7도까지 치솟았는데요.\n",
    "\n",
    "서울도 체감 35도 안팎의 찜통더위가 계속되고 있습니다.\n",
    "\n",
    "찌는 듯한 더위 속에 대기 불안정이 심해지면서 동쪽 내륙을 중심으로는 강한 소나기 구름이 발달하고 있는데요.\n",
    "\n",
    "강원 남부 내륙과 전북 동부에 호우특보가 내려진 가운데, 내일 새벽까지 돌풍과 벼락을 동반한 시간당 50mm 이상의 장대비가 쏟아지며, 100mm 이상의 강우량을 기록하는 곳도 있겠습니다.\n",
    "\n",
    "피해 없도록 주변 점검 철저히 해주시기 바랍니다.\n",
    "\n",
    "내일과 모레도 무더위 속에 기습적인 소나기가 지나겠고요, 일요일 전국에 비가 내린 뒤 다음 주에는 더 심한 더위가 찾아오겠습니다.\n",
    "\n",
    "연일 계속되는 무더위에 온열 질환에 걸릴 가능성도 커지고 있습니다.\n",
    "\n",
    "볕이 강한 오후 2~5시 사이 장시간의 야외 활동은 자제하시는 게 좋겠습니다.\n",
    "\n",
    "YTN 신미림입니다.\n",
    "\"\"\"\n",
    "tprt_list=re.findall(\"[0-9]+\\.+[0-9]+[도$]\", news)\n",
    "rif_list =re.findall(\"[0-9]+mm\", news)\n",
    "print(\"온도:\", tprt_list, \"/ 강수량 :\",rif_list)"
   ]
  }
 ],
 "metadata": {
  "kernelspec": {
   "display_name": "Python 3",
   "language": "python",
   "name": "python3"
  },
  "language_info": {
   "codemirror_mode": {
    "name": "ipython",
    "version": 3
   },
   "file_extension": ".py",
   "mimetype": "text/x-python",
   "name": "python",
   "nbconvert_exporter": "python",
   "pygments_lexer": "ipython3",
   "version": "3.8.8"
  }
 },
 "nbformat": 4,
 "nbformat_minor": 5
}
