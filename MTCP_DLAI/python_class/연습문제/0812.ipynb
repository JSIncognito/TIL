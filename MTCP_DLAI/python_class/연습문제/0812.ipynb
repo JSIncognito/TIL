{
 "cells": [
  {
   "cell_type": "code",
   "execution_count": null,
   "id": "6350da30",
   "metadata": {},
   "outputs": [],
   "source": [
    "# 추천시스템\n",
    "\n",
    "# 컴퓨터공학과(학부) -> 대학원(인공지능전공-머신러닝,딥러닝,...전문가시스템,온톨로지,추천시스템, 석사)\n",
    "\n",
    "# 추천시스템 : 컨텐츠 기반 필터링 추천시스템, 협업 필터링 추천시스템\n",
    "#     => ~2010년대까지 인기가 있었음\n",
    "#     => 잠재 요인 기반 필터링 추천시스템(행렬 분해)이 등장하면서 인기가 줄어듬\n",
    "#협업 필터링 = KNN(K최근접이웃) + 잠재 요인 기법\n",
    "#KNN(K최근접이웃) = 사용자 기반 + 아이템 기반 기법\n",
    "\n",
    "Collaborative Filtering(협업필터링, CF) = 사용자 기반 + 아이템 기반 기법\n",
    "\n",
    "\n",
    "\n",
    "\n",
    "#     4*5 행렬 = \n",
    "    \n",
    "    \n",
    "# 블랙위도우(1)    = 장르*0.2+배우*0.1+시간여유*0.05+...+돈*0.1\n",
    "# 람보(0)     = 장르*0.2+배우*0.1+시간여유*0.05+...+돈*0.1\n",
    "    \n",
    "#컨텐츠 기반 필터링 추천시스템 : 재밌게 본 영화와 컨텐츠가 비슷한 영화를 추천\n",
    "\n",
    "    "
   ]
  },
  {
   "cell_type": "code",
   "execution_count": null,
   "id": "b1b998be",
   "metadata": {},
   "outputs": [],
   "source": [
    "사용자 기반 협업필터링 \n",
    "우주소녀가 부여한 평점과 가장 유사한 사용자를 검색"
   ]
  },
  {
   "cell_type": "code",
   "execution_count": 43,
   "id": "80993e87",
   "metadata": {},
   "outputs": [],
   "source": [
    "critics={\n",
    "    'BTS':{'암수살인':5, '바울':4, '할로윈':1.5},\n",
    "    '손흥민':{'바울':5, '할로윈':2 }, #손흥민이가 암수살인을 본다면 평점은?\n",
    "    '레드벨벳':{'암수살인':2.5, '바울':2, '할로윈':1},\n",
    "    '트와이스':{'암수살인':3.5, '바울':4, '할로윈':5}\n",
    "}"
   ]
  },
  {
   "cell_type": "code",
   "execution_count": 11,
   "id": "583c77be",
   "metadata": {},
   "outputs": [
    {
     "data": {
      "text/plain": [
       "5"
      ]
     },
     "execution_count": 11,
     "metadata": {},
     "output_type": "execute_result"
    }
   ],
   "source": [
    "critics['손흥민']\n",
    "critics.get('손흥민')\n",
    "critics['손흥민']['바울']\n",
    "critics.get('손흥민').get('바울')"
   ]
  },
  {
   "cell_type": "code",
   "execution_count": 15,
   "id": "027ba731",
   "metadata": {},
   "outputs": [],
   "source": [
    "#손흥민과 BTS사이의 거리 =((5-4)**2 + (2-1.5)**2) **0.5=1.118"
   ]
  },
  {
   "cell_type": "code",
   "execution_count": 16,
   "id": "050c15d0",
   "metadata": {},
   "outputs": [],
   "source": [
    "from math import sqrt"
   ]
  },
  {
   "cell_type": "code",
   "execution_count": 19,
   "id": "f278ff93",
   "metadata": {},
   "outputs": [
    {
     "data": {
      "text/plain": [
       "1.118033988749895"
      ]
     },
     "execution_count": 19,
     "metadata": {},
     "output_type": "execute_result"
    }
   ],
   "source": [
    "#손흥민과 BTS사이의 거리 =sqrt(pow(5-4, 2)+pow(2-1.5, 2))"
   ]
  },
  {
   "cell_type": "code",
   "execution_count": 20,
   "id": "09941e58",
   "metadata": {},
   "outputs": [],
   "source": [
    "def dist(i,j): #거리를 구하는 함수\n",
    "    return sqrt(pow(i,2)+pow(j,2))    \n",
    "#i에는 바울에 대한 손흥민평점 - BTS 평점\n",
    "#j에는 할로윈에 대한 손흥민평점 - BTS 평점"
   ]
  },
  {
   "cell_type": "code",
   "execution_count": 27,
   "id": "df67b6e7",
   "metadata": {},
   "outputs": [
    {
     "name": "stdout",
     "output_type": "stream",
     "text": [
      "1.118033988749895\n"
     ]
    }
   ],
   "source": [
    "# v1=critics['손흥민']['바울']-critics['BTS']['바울'] #밑변의 길이\n",
    "# v2=critics['손흥민']['할로윈']-critics['BTS']['할로윈'] #높이\n",
    "# print(dist(v1,v2)) #빗변의 길이"
   ]
  },
  {
   "cell_type": "code",
   "execution_count": 30,
   "id": "820c3239",
   "metadata": {},
   "outputs": [
    {
     "name": "stdout",
     "output_type": "stream",
     "text": [
      "BTS 와의 거리 : 1.118033988749895\n",
      "레드벨벳 와의 거리 : 3.1622776601683795\n",
      "트와이스 와의 거리 : 3.1622776601683795\n"
     ]
    }
   ],
   "source": [
    "for data in critics:\n",
    "    if data != '손흥민':\n",
    "        v1=critics['손흥민']['바울']-critics[data]['바울'] #밑변의 길이\n",
    "        v2=critics['손흥민']['할로윈']-critics[data]['할로윈'] #높이\n",
    "        print(data,\"와의 거리 :\",dist(v1,v2)) #빗변의 길이"
   ]
  },
  {
   "cell_type": "code",
   "execution_count": 33,
   "id": "12e93814",
   "metadata": {},
   "outputs": [
    {
     "name": "stdout",
     "output_type": "stream",
     "text": [
      "암수살인 5\n"
     ]
    }
   ],
   "source": [
    "#BTS가 본 영화중에서 손흥민이가 안 본 영화 제목과 평점 출력?\n",
    "for dt in critics['BTS']:\n",
    "    if dt not in critics['손흥민']:\n",
    "        print(dt, critics['BTS'][dt])"
   ]
  },
  {
   "cell_type": "code",
   "execution_count": 44,
   "id": "47851bbc",
   "metadata": {},
   "outputs": [],
   "source": [
    "# movies = critics['BTS'].keys()-critics['손흥민'].keys()\n",
    "# [(k, critics['BTS'][k]) for k in movies]\n",
    "\n",
    "\n",
    "# for i in critics['BTS'] :\n",
    "#     if i in critics['손흥민']:\n",
    "#         pass\n",
    "#     else : \n",
    "#         print(i,critics['BTS'][i])\n",
    "\n",
    "critics={\n",
    "    'BTS':{'암수살인':5, '바울':4, '할로윈':1.5},\n",
    "    '손흥민':{'바울':5, '할로윈':2 }, #손흥민이가 암수살인을 본다면 평점은?\n",
    "    '레드벨벳':{'암수살인':2.5, '바울':2, '할로윈':1},\n",
    "    '트와이스':{'암수살인':3.5, '바울':4, '할로윈':5}\n",
    "}\n",
    "\n",
    "for data in critics['손흥민']:\n",
    "    del critics['BTS'][data]"
   ]
  },
  {
   "cell_type": "code",
   "execution_count": 45,
   "id": "9f7dd669",
   "metadata": {},
   "outputs": [
    {
     "data": {
      "text/plain": [
       "{'암수살인': 5}"
      ]
     },
     "execution_count": 45,
     "metadata": {},
     "output_type": "execute_result"
    }
   ],
   "source": [
    "critics['BTS']"
   ]
  },
  {
   "cell_type": "code",
   "execution_count": 46,
   "id": "6eb537f8",
   "metadata": {},
   "outputs": [
    {
     "name": "stdout",
     "output_type": "stream",
     "text": [
      "암수살인 5\n"
     ]
    }
   ],
   "source": [
    "for key, value in critics['BTS'].items():\n",
    "    if key not in critics['손흥민']:\n",
    "        print(key,value)\n"
   ]
  },
  {
   "cell_type": "code",
   "execution_count": null,
   "id": "a04f7ddc",
   "metadata": {},
   "outputs": [],
   "source": []
  },
  {
   "cell_type": "code",
   "execution_count": 47,
   "id": "1f68a280",
   "metadata": {},
   "outputs": [],
   "source": [
    "critics = {\n",
    "\n",
    "\n",
    "'레드벨벳': {\n",
    "\n",
    "\n",
    "\n",
    "'택시운전사': 2.5,\n",
    "\n",
    "\n",
    "\n",
    "'겨울왕국': 3.5,\n",
    "\n",
    "\n",
    "\n",
    "'리빙라스베가스': 3.0,\n",
    "\n",
    "\n",
    "\n",
    "'넘버3': 3.5,\n",
    "\n",
    "\n",
    "\n",
    "'사랑과전쟁': 2.5,\n",
    "\n",
    "\n",
    "\n",
    "'세계대전': 3.0,\n",
    "\n",
    "\n",
    "\n",
    "},\n",
    "\n",
    "\n",
    "\n",
    "'BTS': {\n",
    "\n",
    "\n",
    "\n",
    "'택시운전사': 1.0,\n",
    "\n",
    "\n",
    "\n",
    "'겨울왕국': 4.5,\n",
    "\n",
    "\n",
    "\n",
    "'리빙라스베가스': 0.5,\n",
    "\n",
    "\n",
    "\n",
    "'넘버3': 1.5,\n",
    "\n",
    "\n",
    "\n",
    "'사랑과전쟁': 4.5,\n",
    "\n",
    "\n",
    "\n",
    "'세계대전': 5.0,\n",
    "\n",
    "\n",
    "\n",
    "},\n",
    "\n",
    "'블랙핑크': {\n",
    "\n",
    "'택시운전사': 3.0,\n",
    "\n",
    "'겨울왕국': 3.5,\n",
    "\n",
    "'리빙라스베가스': 1.5,\n",
    "\n",
    "'넘버3': 5.0,\n",
    "\n",
    "'세계대전': 3.0,\n",
    "\n",
    "'사랑과전쟁': 3.5,\n",
    "\n",
    "},\n",
    "\n",
    "'소녀시대': {\n",
    "\n",
    "'택시운전사': 2.5,\n",
    "\n",
    "'겨울왕국': 3.0,\n",
    "\n",
    "'넘버3': 3.5,\n",
    "\n",
    "'세계대전': 4.0,\n",
    "\n",
    "},\n",
    "\n",
    "'마마무': {\n",
    "\n",
    "'겨울왕국': 3.5,\n",
    "\n",
    "'리빙라스베가스': 3.0,\n",
    "\n",
    "'세계대전': 4.5,\n",
    "\n",
    "'넘버3': 4.0,\n",
    "'사랑과전쟁': 2.5,\n",
    "},\n",
    "'오마이걸': {\n",
    "'택시운전사': 3.0,\n",
    "'겨울왕국': 4.0,\n",
    "\n",
    "'리빙라스베가스': 2.0,\n",
    "'넘버3': 3.0,\n",
    "'세계대전': 3.5,\n",
    "'사랑과전쟁': 2.0,\n",
    "},\n",
    "\n",
    "\n",
    "'모모랜드': {\n",
    "            '택시운전사': 3.0,\n",
    "            '겨울왕국': 4.0,\n",
    "            '세계대전': 3.0,\n",
    "            '넘버3': 5.0,\n",
    "            '사랑과전쟁': 3.5,\n",
    "            },\n",
    "'우주소녀': {'겨울왕국': 4.5,\n",
    "             '사랑과전쟁': 1.0,\n",
    "            '넘버3': 4.0},\n",
    "            }\n"
   ]
  },
  {
   "cell_type": "code",
   "execution_count": 48,
   "id": "3464b698",
   "metadata": {},
   "outputs": [
    {
     "data": {
      "text/plain": [
       "{'레드벨벳': {'택시운전사': 2.5,\n",
       "  '겨울왕국': 3.5,\n",
       "  '리빙라스베가스': 3.0,\n",
       "  '넘버3': 3.5,\n",
       "  '사랑과전쟁': 2.5,\n",
       "  '세계대전': 3.0},\n",
       " 'BTS': {'택시운전사': 1.0,\n",
       "  '겨울왕국': 4.5,\n",
       "  '리빙라스베가스': 0.5,\n",
       "  '넘버3': 1.5,\n",
       "  '사랑과전쟁': 4.5,\n",
       "  '세계대전': 5.0},\n",
       " '블랙핑크': {'택시운전사': 3.0,\n",
       "  '겨울왕국': 3.5,\n",
       "  '리빙라스베가스': 1.5,\n",
       "  '넘버3': 5.0,\n",
       "  '세계대전': 3.0,\n",
       "  '사랑과전쟁': 3.5},\n",
       " '소녀시대': {'택시운전사': 2.5, '겨울왕국': 3.0, '넘버3': 3.5, '세계대전': 4.0},\n",
       " '마마무': {'겨울왕국': 3.5, '리빙라스베가스': 3.0, '세계대전': 4.5, '넘버3': 4.0, '사랑과전쟁': 2.5},\n",
       " '오마이걸': {'택시운전사': 3.0,\n",
       "  '겨울왕국': 4.0,\n",
       "  '리빙라스베가스': 2.0,\n",
       "  '넘버3': 3.0,\n",
       "  '세계대전': 3.5,\n",
       "  '사랑과전쟁': 2.0},\n",
       " '모모랜드': {'택시운전사': 3.0, '겨울왕국': 4.0, '세계대전': 3.0, '넘버3': 5.0, '사랑과전쟁': 3.5},\n",
       " '우주소녀': {'겨울왕국': 4.5, '사랑과전쟁': 1.0, '넘버3': 4.0}}"
      ]
     },
     "execution_count": 48,
     "metadata": {},
     "output_type": "execute_result"
    }
   ],
   "source": [
    "critics"
   ]
  },
  {
   "cell_type": "code",
   "execution_count": 49,
   "id": "ee4ff7b5",
   "metadata": {},
   "outputs": [],
   "source": [
    "#우주소녀에게 어떤 영화를 추천할까?"
   ]
  },
  {
   "cell_type": "code",
   "execution_count": 65,
   "id": "c3854247",
   "metadata": {},
   "outputs": [],
   "source": [
    "#우주소녀와 모모랜드 사이의 유클리디안 거리를 구해보자\n",
    "def dist(name1, name2):\n",
    "    sum=0\n",
    "    for i in critics[name1]: #i는 우주소녀가 본 영화제목\n",
    "        if i in critics[name2]: # 우주소녀가 본 영화(i)가  모모랜드가 본 영화목록에 있다면\n",
    "            sum+=pow(critics[name1][i]-critics[name2][i],2)\n",
    "    return sqrt(sum)                "
   ]
  },
  {
   "cell_type": "code",
   "execution_count": 73,
   "id": "8e17e0e0",
   "metadata": {},
   "outputs": [],
   "source": [
    "def topN(name, n=2, distfunc=dist):\n",
    "    m_dist=[]\n",
    "    for i in critics:\n",
    "        if name != i : #우주소녀를 뺀 나머지\n",
    "            m_dist.append((distfunc(name, i),i))\n",
    "    m_dist.sort()\n",
    "    print(m_dist[:n])           \n",
    "    \n",
    "    #거리를 정렬\n",
    "    #return 거리가가장가까운N명"
   ]
  },
  {
   "cell_type": "code",
   "execution_count": 74,
   "id": "a94ed40d",
   "metadata": {},
   "outputs": [
    {
     "name": "stdout",
     "output_type": "stream",
     "text": [
      "[(1.5, '오마이걸'), (1.5811388300841898, '소녀시대')]\n",
      "None\n"
     ]
    }
   ],
   "source": [
    "topN('우주소녀', 2) #우주소녀와 평점을 가장 비슷하게 준 n명 출력"
   ]
  },
  {
   "cell_type": "code",
   "execution_count": null,
   "id": "8632c962",
   "metadata": {},
   "outputs": [],
   "source": []
  },
  {
   "cell_type": "code",
   "execution_count": null,
   "id": "75e08da3",
   "metadata": {},
   "outputs": [],
   "source": []
  },
  {
   "cell_type": "code",
   "execution_count": 66,
   "id": "785e9ee4",
   "metadata": {
    "scrolled": true
   },
   "outputs": [
    {
     "name": "stdout",
     "output_type": "stream",
     "text": [
      "1.8708286933869707\n",
      "4.301162633521313\n",
      "2.8722813232690143\n",
      "1.5811388300841898\n",
      "1.8027756377319946\n",
      "1.5\n",
      "2.7386127875258306\n",
      "0.0\n"
     ]
    }
   ],
   "source": [
    "# for i in critics:    \n",
    "#     print(dist('우주소녀', i)) #유클리디안 거리 출력"
   ]
  },
  {
   "cell_type": "code",
   "execution_count": null,
   "id": "f736cd2c",
   "metadata": {},
   "outputs": [],
   "source": []
  },
  {
   "cell_type": "code",
   "execution_count": null,
   "id": "95e5651b",
   "metadata": {},
   "outputs": [],
   "source": [
    "선형관계? 두 변수 사이의 직선적 관계를 의미\n",
    "독립변수의 값에 기울기를 곱한 다음 숫자 상수를 더한 값으로 종속변수 값을 표현\n",
    "ex) 키와 몸무게\n",
    "\n",
    "독립변수(x)의 값에 따라 종속변수(y)의 값이 결정됨\n",
    "(공부시간(x)에 따라 점수(y)가 결정됨)\n",
    "\n",
    "점수=공부시간*10+20(기본점수)\n",
    "10은 기울기, 20은 y절편\n",
    "\n",
    "y=x*10+20\n",
    "\n",
    "길동이는 5시간, 기본점수 20점\n",
    "\n",
    "길동이 점수= 5*10+20 = 70점"
   ]
  },
  {
   "cell_type": "code",
   "execution_count": null,
   "id": "a45952df",
   "metadata": {},
   "outputs": [],
   "source": []
  },
  {
   "cell_type": "code",
   "execution_count": null,
   "id": "fa037469",
   "metadata": {},
   "outputs": [],
   "source": []
  },
  {
   "cell_type": "code",
   "execution_count": null,
   "id": "99722e39",
   "metadata": {},
   "outputs": [],
   "source": [
    "pandas.corr(데이터프레임)\n",
    "#corr():데이터프레임 구성하는 모든 열들 간의 상관계수행렬"
   ]
  },
  {
   "cell_type": "code",
   "execution_count": 75,
   "id": "b50f5e59",
   "metadata": {},
   "outputs": [],
   "source": [
    "import seaborn as sns"
   ]
  },
  {
   "cell_type": "code",
   "execution_count": 77,
   "id": "b596a59e",
   "metadata": {},
   "outputs": [],
   "source": [
    "iris=sns.load_dataset(\"iris\")"
   ]
  },
  {
   "cell_type": "code",
   "execution_count": 79,
   "id": "9a7ffd3f",
   "metadata": {},
   "outputs": [
    {
     "data": {
      "text/html": [
       "<div>\n",
       "<style scoped>\n",
       "    .dataframe tbody tr th:only-of-type {\n",
       "        vertical-align: middle;\n",
       "    }\n",
       "\n",
       "    .dataframe tbody tr th {\n",
       "        vertical-align: top;\n",
       "    }\n",
       "\n",
       "    .dataframe thead th {\n",
       "        text-align: right;\n",
       "    }\n",
       "</style>\n",
       "<table border=\"1\" class=\"dataframe\">\n",
       "  <thead>\n",
       "    <tr style=\"text-align: right;\">\n",
       "      <th></th>\n",
       "      <th>sepal_length</th>\n",
       "      <th>sepal_width</th>\n",
       "      <th>petal_length</th>\n",
       "      <th>petal_width</th>\n",
       "    </tr>\n",
       "  </thead>\n",
       "  <tbody>\n",
       "    <tr>\n",
       "      <th>sepal_length</th>\n",
       "      <td>1.000000</td>\n",
       "      <td>-0.117570</td>\n",
       "      <td>0.871754</td>\n",
       "      <td>0.817941</td>\n",
       "    </tr>\n",
       "    <tr>\n",
       "      <th>sepal_width</th>\n",
       "      <td>-0.117570</td>\n",
       "      <td>1.000000</td>\n",
       "      <td>-0.428440</td>\n",
       "      <td>-0.366126</td>\n",
       "    </tr>\n",
       "    <tr>\n",
       "      <th>petal_length</th>\n",
       "      <td>0.871754</td>\n",
       "      <td>-0.428440</td>\n",
       "      <td>1.000000</td>\n",
       "      <td>0.962865</td>\n",
       "    </tr>\n",
       "    <tr>\n",
       "      <th>petal_width</th>\n",
       "      <td>0.817941</td>\n",
       "      <td>-0.366126</td>\n",
       "      <td>0.962865</td>\n",
       "      <td>1.000000</td>\n",
       "    </tr>\n",
       "  </tbody>\n",
       "</table>\n",
       "</div>"
      ],
      "text/plain": [
       "              sepal_length  sepal_width  petal_length  petal_width\n",
       "sepal_length      1.000000    -0.117570      0.871754     0.817941\n",
       "sepal_width      -0.117570     1.000000     -0.428440    -0.366126\n",
       "petal_length      0.871754    -0.428440      1.000000     0.962865\n",
       "petal_width       0.817941    -0.366126      0.962865     1.000000"
      ]
     },
     "execution_count": 79,
     "metadata": {},
     "output_type": "execute_result"
    }
   ],
   "source": [
    "iris.corr()"
   ]
  },
  {
   "cell_type": "code",
   "execution_count": 80,
   "id": "a9e2d4e7",
   "metadata": {},
   "outputs": [
    {
     "data": {
      "text/html": [
       "<div>\n",
       "<style scoped>\n",
       "    .dataframe tbody tr th:only-of-type {\n",
       "        vertical-align: middle;\n",
       "    }\n",
       "\n",
       "    .dataframe tbody tr th {\n",
       "        vertical-align: top;\n",
       "    }\n",
       "\n",
       "    .dataframe thead th {\n",
       "        text-align: right;\n",
       "    }\n",
       "</style>\n",
       "<table border=\"1\" class=\"dataframe\">\n",
       "  <thead>\n",
       "    <tr style=\"text-align: right;\">\n",
       "      <th></th>\n",
       "      <th>sepal_length</th>\n",
       "      <th>sepal_width</th>\n",
       "      <th>petal_length</th>\n",
       "      <th>petal_width</th>\n",
       "      <th>species</th>\n",
       "    </tr>\n",
       "  </thead>\n",
       "  <tbody>\n",
       "    <tr>\n",
       "      <th>0</th>\n",
       "      <td>5.1</td>\n",
       "      <td>3.5</td>\n",
       "      <td>1.4</td>\n",
       "      <td>0.2</td>\n",
       "      <td>setosa</td>\n",
       "    </tr>\n",
       "    <tr>\n",
       "      <th>1</th>\n",
       "      <td>4.9</td>\n",
       "      <td>3.0</td>\n",
       "      <td>1.4</td>\n",
       "      <td>0.2</td>\n",
       "      <td>setosa</td>\n",
       "    </tr>\n",
       "    <tr>\n",
       "      <th>2</th>\n",
       "      <td>4.7</td>\n",
       "      <td>3.2</td>\n",
       "      <td>1.3</td>\n",
       "      <td>0.2</td>\n",
       "      <td>setosa</td>\n",
       "    </tr>\n",
       "    <tr>\n",
       "      <th>3</th>\n",
       "      <td>4.6</td>\n",
       "      <td>3.1</td>\n",
       "      <td>1.5</td>\n",
       "      <td>0.2</td>\n",
       "      <td>setosa</td>\n",
       "    </tr>\n",
       "    <tr>\n",
       "      <th>4</th>\n",
       "      <td>5.0</td>\n",
       "      <td>3.6</td>\n",
       "      <td>1.4</td>\n",
       "      <td>0.2</td>\n",
       "      <td>setosa</td>\n",
       "    </tr>\n",
       "    <tr>\n",
       "      <th>...</th>\n",
       "      <td>...</td>\n",
       "      <td>...</td>\n",
       "      <td>...</td>\n",
       "      <td>...</td>\n",
       "      <td>...</td>\n",
       "    </tr>\n",
       "    <tr>\n",
       "      <th>145</th>\n",
       "      <td>6.7</td>\n",
       "      <td>3.0</td>\n",
       "      <td>5.2</td>\n",
       "      <td>2.3</td>\n",
       "      <td>virginica</td>\n",
       "    </tr>\n",
       "    <tr>\n",
       "      <th>146</th>\n",
       "      <td>6.3</td>\n",
       "      <td>2.5</td>\n",
       "      <td>5.0</td>\n",
       "      <td>1.9</td>\n",
       "      <td>virginica</td>\n",
       "    </tr>\n",
       "    <tr>\n",
       "      <th>147</th>\n",
       "      <td>6.5</td>\n",
       "      <td>3.0</td>\n",
       "      <td>5.2</td>\n",
       "      <td>2.0</td>\n",
       "      <td>virginica</td>\n",
       "    </tr>\n",
       "    <tr>\n",
       "      <th>148</th>\n",
       "      <td>6.2</td>\n",
       "      <td>3.4</td>\n",
       "      <td>5.4</td>\n",
       "      <td>2.3</td>\n",
       "      <td>virginica</td>\n",
       "    </tr>\n",
       "    <tr>\n",
       "      <th>149</th>\n",
       "      <td>5.9</td>\n",
       "      <td>3.0</td>\n",
       "      <td>5.1</td>\n",
       "      <td>1.8</td>\n",
       "      <td>virginica</td>\n",
       "    </tr>\n",
       "  </tbody>\n",
       "</table>\n",
       "<p>150 rows × 5 columns</p>\n",
       "</div>"
      ],
      "text/plain": [
       "     sepal_length  sepal_width  petal_length  petal_width    species\n",
       "0             5.1          3.5           1.4          0.2     setosa\n",
       "1             4.9          3.0           1.4          0.2     setosa\n",
       "2             4.7          3.2           1.3          0.2     setosa\n",
       "3             4.6          3.1           1.5          0.2     setosa\n",
       "4             5.0          3.6           1.4          0.2     setosa\n",
       "..            ...          ...           ...          ...        ...\n",
       "145           6.7          3.0           5.2          2.3  virginica\n",
       "146           6.3          2.5           5.0          1.9  virginica\n",
       "147           6.5          3.0           5.2          2.0  virginica\n",
       "148           6.2          3.4           5.4          2.3  virginica\n",
       "149           5.9          3.0           5.1          1.8  virginica\n",
       "\n",
       "[150 rows x 5 columns]"
      ]
     },
     "execution_count": 80,
     "metadata": {},
     "output_type": "execute_result"
    }
   ],
   "source": [
    "iris"
   ]
  },
  {
   "cell_type": "code",
   "execution_count": null,
   "id": "29ad6a7a",
   "metadata": {},
   "outputs": [],
   "source": []
  }
 ],
 "metadata": {
  "kernelspec": {
   "display_name": "Python 3",
   "language": "python",
   "name": "python3"
  },
  "language_info": {
   "codemirror_mode": {
    "name": "ipython",
    "version": 3
   },
   "file_extension": ".py",
   "mimetype": "text/x-python",
   "name": "python",
   "nbconvert_exporter": "python",
   "pygments_lexer": "ipython3",
   "version": "3.8.8"
  }
 },
 "nbformat": 4,
 "nbformat_minor": 5
}
