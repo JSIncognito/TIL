{
 "cells": [
  {
   "cell_type": "markdown",
   "id": "cd5e4741",
   "metadata": {},
   "source": [
    "1.리스트에 있는 숫자들의 최빈값(mode)을 구하는 프로그램(함수)을 만들어라.\n",
    "* [12, 17, 19, 17, 23] = 17\n",
    "* [26, 37, 26, 37, 91] = 26, 37\n",
    "* [28, 30, 32, 34, 144] = 없다\n",
    "\n",
    "*최빈값 : 자료의 값 중에서 가장 많이 나타난 값 \n",
    "*① 자료의 값이 모두 같거나 모두 다르면 최빈값은 없다."
   ]
  },
  {
   "cell_type": "code",
   "execution_count": 99,
   "id": "b83dacba",
   "metadata": {},
   "outputs": [
    {
     "name": "stdout",
     "output_type": "stream",
     "text": [
      "[(17, 2)]\n",
      "[(26, 2), (37, 2)]\n",
      "없다\n"
     ]
    }
   ],
   "source": [
    "sample_data = [[12, 17, 19, 17, 23], [26, 37, 26, 37, 91],[28, 30, 32, 34, 144]]\n",
    "# dt1=[12, 17, 19, 17, 23]\n",
    "# dt2=[26, 37, 26, 37, 91]\n",
    "# dt3=[28, 30, 32, 34, 144]\n",
    "\n",
    "def custom_mode(arg_list):\n",
    "    tmpCnt=0\n",
    "    li=[]\n",
    "    tuple_list=[]\n",
    "    for i in range(len(arg_list)):\n",
    "        cnt = arg_list.count(arg_list[i])\n",
    "        if tmpCnt <= cnt and cnt > 1:\n",
    "            tmpCnt = cnt\n",
    "            li.append([arg_list[i], cnt])\n",
    "        \n",
    "    if len(li) > 1:\n",
    "        tuple_list = [tuple(i)for i in li] # list 안에 list 에서 유일한 list 값을 추출 하기\n",
    "                                            # 그냥 set 함수를 실행했을때, unhashable type : list 라는 error 이 발생\n",
    "                                            # hashable 하기 위해서는 immutable 값이 어야한다. tuple 로 변경 이유\n",
    "    elif len(li) == 0 : \n",
    "        return print(\"없다\")\n",
    "    \n",
    "    return print(list(set(tuple_list)))\n",
    "\n",
    "def mode_main():\n",
    "    for dt in sample_data:\n",
    "        result = custom_mode(dt)\n",
    "\n",
    "mode_main()\n",
    "                \n",
    "# sample = [1, 2, 3, 1, 4, 5]\n",
    "# sample.count(1)"
   ]
  },
  {
   "cell_type": "markdown",
   "id": "9a461565",
   "metadata": {},
   "source": [
    "2.빗변 길이 구하기\n",
    "*직각삼각형의 밑변이 x, 높이가 y일 때 남은 변(대각선)의 길이를 구하는 함수를 만들어주세요."
   ]
  },
  {
   "cell_type": "code",
   "execution_count": 111,
   "id": "f4ddb9f8",
   "metadata": {},
   "outputs": [
    {
     "data": {
      "text/plain": [
       "5"
      ]
     },
     "execution_count": 111,
     "metadata": {},
     "output_type": "execute_result"
    }
   ],
   "source": [
    "# import math\n",
    "\n",
    "def hypo_function(arg_x, arg_y):\n",
    "#     return int(math.sqrt(arg_x**2 + arg_y**2))\n",
    "    return int((arg_x**2 + arg_y**2)**(1/2))\n",
    "\n",
    "hypo_function(3, 4) "
   ]
  },
  {
   "cell_type": "markdown",
   "id": "a353717d",
   "metadata": {},
   "source": [
    "3.숫자를 입력받으면 그에 해당하는 자릿수를 출력하는 코드를 작성하라.\n",
    "*입력 : 156 \n",
    "*출력 : 100의자리수\n",
    "\n",
    "*입력 : 18961 \n",
    "*출력 : 10000의자릿수"
   ]
  },
  {
   "cell_type": "code",
   "execution_count": 145,
   "id": "63434a32",
   "metadata": {},
   "outputs": [
    {
     "name": "stdout",
     "output_type": "stream",
     "text": [
      "입력:  156\n",
      "출력:  100 의 자릿수\n",
      "-----------------------\n",
      "입력:  18961\n",
      "출력:  10000 의 자릿수\n",
      "-----------------------\n"
     ]
    }
   ],
   "source": [
    "def digit_func(arg_num):\n",
    "    print(\"입력: \", arg_num)\n",
    "    digit = 10**(len(str(arg_num))-1)\n",
    "    return print(\"출력: \", digit,\"의 자릿수\")\n",
    "\n",
    "def digit_main():\n",
    "    for num in num_list:\n",
    "        digit_func(num)\n",
    "        print(\"-----------------------\")\n",
    "\n",
    "num_list = [156, 18961]\n",
    "digit_main()"
   ]
  },
  {
   "cell_type": "markdown",
   "id": "d68ee950",
   "metadata": {},
   "source": [
    "4.리스트에 있는 숫자들의 중앙값(중위수, median)을 구하는 프로그램을 만들어라.\n",
    "\n",
    "* [7, 9, 14] = 9\n",
    "* [24, 31, 35, 49] = 33\n",
    "* [17, 37, 37, 47, 57] = 37\n",
    "\n",
    "* 중앙값 : 자료를 작은 값에서부터 크기순으로 나열할 때 중앙에 위치한 값\n",
    "* ① 자료의 개수가 홀수이면 가운데 위치한 값이 중앙값이다.\n",
    "* ② 자료의 개수가 짝수이면 가운데 위치한 두 값의 평균이 중앙값이다."
   ]
  },
  {
   "cell_type": "code",
   "execution_count": 179,
   "id": "581e0f39",
   "metadata": {},
   "outputs": [
    {
     "name": "stdout",
     "output_type": "stream",
     "text": [
      "중앙 값 : 9\n",
      "---------------\n",
      "중앙 값 : 33\n",
      "---------------\n",
      "중앙 값 : 37\n",
      "---------------\n"
     ]
    }
   ],
   "source": [
    "median_data = [[7, 9, 14], [24, 31, 35, 49], [17, 37, 37, 47, 57]]\n",
    "\n",
    "# mdd1=[7, 9, 14]\n",
    "# mdd2=[24, 31, 35, 49]\n",
    "# mdd3=[17, 37, 37, 47, 57]\n",
    "# mdd4=[24, 31, 35, 47, 49, 57]\n",
    "def custom_median(arg_dt):\n",
    "    \n",
    "    if len(arg_dt)%2 != 0:\n",
    "        loca = int(len(arg_dt)/2)\n",
    "        return print(\"중앙 값 :\", arg_dt[loca])\n",
    "    else: \n",
    "        loca1 = int(len(arg_dt)/2) \n",
    "        loca2 = int(len(arg_dt)/2)-1\n",
    "        nmMean = int((arg_dt[loca1] + arg_dt[loca2]) / 2)        \n",
    "        return print(\"중앙 값 :\", nmMean)\n",
    "\n",
    "def median_main():\n",
    "    for md in median_data:\n",
    "        custom_median(md)\n",
    "        print(\"---------------\")\n",
    "\n",
    "median_main()"
   ]
  },
  {
   "cell_type": "markdown",
   "id": "7d0432e9",
   "metadata": {},
   "source": [
    "5.숫자가 아닌 문자가 같이 입력되었을 때 문자만 제거하고 숫자를 반환하는 함수를 작성하시오.\n",
    "*입력 : 1w627r00o00p00 \n",
    "*출력 : 1627000000 "
   ]
  },
  {
   "cell_type": "code",
   "execution_count": 185,
   "id": "8e720948",
   "metadata": {},
   "outputs": [
    {
     "name": "stdout",
     "output_type": "stream",
     "text": [
      "출력 : 1627000000\n"
     ]
    }
   ],
   "source": [
    "import re\n",
    "inData = \"1w627r00o00p00\"\n",
    "# \"\".join(re.findall(\"[0-9]+\", inData))\n",
    "def nmExtract_func(arg_str):\n",
    "    pattern = \"[0-9]+\"\n",
    "    result = re.findall(pattern, arg_str)\n",
    "    return print(\"출력 :\", \"\".join(result))\n",
    "\n",
    "nmExtract_func(inData)"
   ]
  },
  {
   "cell_type": "markdown",
   "id": "cc77e7be",
   "metadata": {},
   "source": [
    "6.아래와 같은 결과를 출력하는 function을 구현하라\n",
    "*OneEditApart(\"cat\", \"dog\") = false  // \n",
    "*OneEditApart(\"cat\", \"cats\") = true  // 동일\n",
    "*OneEditApart(\"cat\", \"cut\") = true   // 변환\n",
    "*OneEditApart(\"cat\", \"cast\") = true  // 제거\n",
    "*OneEditApart(\"cat\", \"at\") = true    // 삽입\n",
    "*OneEditApart(\"cat\", \"acts\") = false // 삽입?\n",
    "*한 개의 문자를 삽입, 제거, 변환 했을때 두 문자열이 동일한지를 판별하는 OneEditApart 함수를 작성하시오."
   ]
  },
  {
   "cell_type": "code",
   "execution_count": 307,
   "id": "4de8bd1d",
   "metadata": {},
   "outputs": [
    {
     "name": "stdout",
     "output_type": "stream",
     "text": [
      "False\n",
      "True\n",
      "True\n",
      "True\n",
      "True\n",
      "False\n"
     ]
    }
   ],
   "source": [
    "import re\n",
    "oneEditData=[[\"cat\", \"dog\"], [\"cat\", \"cats\"], [\"cat\", \"cut\"],[\"cat\", \"cast\"],[\"cat\", \"at\"],[\"cat\", \"acts\"]]\n",
    "\n",
    "def make_pattern(arg_li):\n",
    "    pt_list = []\n",
    "    for s in range(len(arg_li)):\n",
    "        li = arg_li.copy()\n",
    "        li[s] = '.'\n",
    "        pt_list.append(\"\".join(li))\n",
    "    return pt_list    \n",
    "    \n",
    "def OneEditApart(arg_str1, arg_str2):\n",
    "    # 비교 문자열을 리스트로 나눈다.\n",
    "    stCh_li = [s1 for s1 in arg_str1]\n",
    "    \n",
    "    # 비교 문자열 패턴을 리스트로 생성\n",
    "    pt_list = make_pattern(stCh_li) \n",
    "\n",
    "    # 'at' 비교 대상 문자열 길이가 적은 경우 앞과 뒤에 임의의 문자 'a' 를 삽입\n",
    "    if len(arg_str1) > len(arg_str2):\n",
    "        arg_str2=\"a\" + arg_str2 + \"a\"\n",
    "        \n",
    "    for pt in pt_list:\n",
    "        if len(re.findall(pt,arg_str2)): # 동일한 문자열이 있는 경우 true \n",
    "            return True\n",
    "    return False # 동일한 문자열이 없었으면 flase\n",
    "\n",
    "def oeaMain():\n",
    "    for oed in oneEditData:        \n",
    "        print(OneEditApart(oed[0], oed[1]))\n",
    "        \n",
    "oeaMain()"
   ]
  },
  {
   "cell_type": "markdown",
   "id": "f2e36ec2",
   "metadata": {},
   "source": [
    "7.a = [1, 3, 5, 7, 9, 0, 2, 4, 6, 8]\n",
    "*# 앞쪽 절반을 출력해 보세요.\n",
    "*# 뒤쪽 절반을 출력해 보세요.\n",
    "*# 거꾸로 출력해 보세요.\n",
    "*# 거꾸로 짝수 번째만 출력해 보세요.\n",
    "*# 거꾸로 홀수 번째만 출력해 보세요."
   ]
  },
  {
   "cell_type": "code",
   "execution_count": 327,
   "id": "383b2efb",
   "metadata": {},
   "outputs": [
    {
     "name": "stdout",
     "output_type": "stream",
     "text": [
      "[1, 3, 5, 7, 9]\n",
      "[0, 2, 4, 6, 8]\n",
      "[8, 6, 4, 2, 0, 9, 7, 5, 3, 1]\n",
      "[3, 7, 0, 4, 8]\n",
      "[1, 5, 9, 2, 6]\n"
     ]
    }
   ],
   "source": [
    "a = [1, 3, 5, 7, 9, 0, 2, 4, 6, 8]\n",
    "num = int(len(a)/2)\n",
    "print(a[:num]) # 앞쪽 절반\n",
    "print(a[num:]) # 뒤쪽 절반\n",
    "print(a[::-1]) # 거꾸로 출력\n",
    "print(a[1::2]) # 짝수번재\n",
    "print(a[::2])  # 홀수번째"
   ]
  },
  {
   "cell_type": "markdown",
   "id": "4e19abc9",
   "metadata": {},
   "source": [
    "8.10~1000까지 각 숫자 분해하여 곱하기의 전체 합 구하기\n",
    "*예로, 10~15까지의 각 숫자 분해하여 곱하기의 전체 합은 다음과 같다.\n",
    "\n",
    "*10 = 1 * 0 = 0\n",
    "*11 = 1 * 1 = 1\n",
    "*12 = 1 * 2 = 2\n",
    "*13 = 1 * 3 = 3\n",
    "*14 = 1 * 4 = 4\n",
    "*15 = 1 * 5 = 5\n",
    "\n",
    "*그러므로, 이 경우의 답은 0+1+2+3+4+5 = 15"
   ]
  },
  {
   "cell_type": "code",
   "execution_count": 409,
   "id": "88b5d862",
   "metadata": {},
   "outputs": [
    {
     "name": "stdout",
     "output_type": "stream",
     "text": [
      "93150\n",
      "93150\n"
     ]
    }
   ],
   "source": [
    "from functools import reduce\n",
    "# 방법 1\n",
    "tot = 0\n",
    "for i in range(10,1001):\n",
    "    li_nm=1\n",
    "    for li in list(str(i)):\n",
    "        li_nm *= int(li)\n",
    "    tot += li_nm    \n",
    "print(tot)\n",
    "\n",
    "# 방법 2\n",
    "tot = 0\n",
    "for i in range(10, 1001):\n",
    "    li = list(str(i))\n",
    "    tot += reduce(lambda x, y:  int(x) * int(y), li)    \n",
    "print(tot)"
   ]
  },
  {
   "cell_type": "markdown",
   "id": "6d70a584",
   "metadata": {},
   "source": [
    "<어려움>\n",
    "9.당신은 A 인터넷 카페 운영자이다.\n",
    "*당신의 인터넷 카페에는 휴대폰 번호 게시가 금지되어 있다.\n",
    "*하지만 일부 회원들이 편법을 동원하여 휴대폰 번호를 게시 후 불법 거래를 시도한다.\n",
    "*이를 체크하여 자동 삭제를 할 수 있도록 휴대폰 번호 검사 알고리즘을 작성하시오.\n",
    "*(011~019 는 10자리 또는 11자리 휴대폰 번호이다. 010은 반드시 11자리여야만 한다.)\n",
    "\n",
    "*Input\n",
    "\n",
    "*영일영-구구칠8-일구팔사\n",
    "*0일영.칠칠칠팔.이삼사\n",
    "*영 일 칠 삼 칠 오 팔 이 팔 이\n",
    "*영일일 34구구 4 오 9 이\n",
    "\n",
    "*Output\n",
    "\n",
    "*01099781984 true\n",
    "*0107778234 false\n",
    "*0173758282 true\n",
    "*01134994592 true"
   ]
  },
  {
   "cell_type": "code",
   "execution_count": null,
   "id": "90a42eaf",
   "metadata": {},
   "outputs": [],
   "source": []
  },
  {
   "cell_type": "markdown",
   "id": "1937833d",
   "metadata": {},
   "source": [
    "<어려움>\n",
    "10.카프리카 수\n",
    "*카프리카 수란 인도의 수학자 D.R.카프리카의 의해 정의한 수이다.\n",
    "*어떤 수의 제곱수를 두 부분으로 나누어 더하였을 때 다시 원래의 수가 되는 수들을 의미한다.\n",
    "*예를 들어 45는 카프리카 수인데, 45² = 2025이고, 20+25 = 45이기 때문이다.\n",
    "\n",
    "*어떤 수를 입력 받고 그 수가 카프리카 수인지 아닌지를 출력하는 함수를 만드시오.\n",
    "\n",
    "*입력 (유형 1)\n",
    "\n",
    "*print(kaprekar_number(1))  # 1² =1, 1 = 1\n",
    "*print(kaprekar_number(45))\n",
    "*print(kaprekar_number(297))   #297의 제곱 = 88209 => 88+209 = 297\n",
    "*print(kaprekar_number(3213))\n",
    "*출력 (유형 1)\n",
    "\n",
    "*True\n",
    "*True\n",
    "*True\n",
    "*False"
   ]
  },
  {
   "cell_type": "markdown",
   "id": "ae678684",
   "metadata": {},
   "source": [
    "11.토지 원고 데이터를 읽고 다음 작업을 수행하시오\n",
    "*1) 제목 추출 (제목 형식 : 제?편 제목명)\n",
    "*2) 큰 따옴표로 묶인 내용을 추출하여 리스트에 저장하는 정규식 작성\n"
   ]
  },
  {
   "cell_type": "code",
   "execution_count": null,
   "id": "9b75fb7f",
   "metadata": {},
   "outputs": [],
   "source": [
    "# 토지 \n",
    "# with open(\"toji.txt\", \"rt\", encoding='utf-16') as f:\n",
    "#     data = f.read()\n",
    "# print(data)"
   ]
  }
 ],
 "metadata": {
  "kernelspec": {
   "display_name": "Python 3",
   "language": "python",
   "name": "python3"
  },
  "language_info": {
   "codemirror_mode": {
    "name": "ipython",
    "version": 3
   },
   "file_extension": ".py",
   "mimetype": "text/x-python",
   "name": "python",
   "nbconvert_exporter": "python",
   "pygments_lexer": "ipython3",
   "version": "3.8.8"
  }
 },
 "nbformat": 4,
 "nbformat_minor": 5
}
